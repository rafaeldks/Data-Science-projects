{
 "cells": [
  {
   "cell_type": "markdown",
   "metadata": {
    "toc": true
   },
   "source": [
    "<h1>Содержание<span class=\"tocSkip\"></span></h1>\n",
    "<div class=\"toc\"><ul class=\"toc-item\"><li><span><a href=\"#Подготовка-данных\" data-toc-modified-id=\"Подготовка-данных-1\"><span class=\"toc-item-num\">1&nbsp;&nbsp;</span>Подготовка данных</a></span><ul class=\"toc-item\"><li><span><a href=\"#Предобработка-данных\" data-toc-modified-id=\"Предобработка-данных-1.1\"><span class=\"toc-item-num\">1.1&nbsp;&nbsp;</span>Предобработка данных</a></span></li><li><span><a href=\"#Кодирование-категориальных-переменных\" data-toc-modified-id=\"Кодирование-категориальных-переменных-1.2\"><span class=\"toc-item-num\">1.2&nbsp;&nbsp;</span>Кодирование категориальных переменных</a></span></li><li><span><a href=\"#Разделение-на-обучающую,-валидационную-и-тестовую-выборки\" data-toc-modified-id=\"Разделение-на-обучающую,-валидационную-и-тестовую-выборки-1.3\"><span class=\"toc-item-num\">1.3&nbsp;&nbsp;</span>Разделение на обучающую, валидационную и тестовую выборки</a></span></li><li><span><a href=\"#Масштабирование-признаков\" data-toc-modified-id=\"Масштабирование-признаков-1.4\"><span class=\"toc-item-num\">1.4&nbsp;&nbsp;</span>Масштабирование признаков</a></span></li></ul></li><li><span><a href=\"#Исследование-задачи\" data-toc-modified-id=\"Исследование-задачи-2\"><span class=\"toc-item-num\">2&nbsp;&nbsp;</span>Исследование задачи</a></span></li><li><span><a href=\"#Борьба-с-дисбалансом\" data-toc-modified-id=\"Борьба-с-дисбалансом-3\"><span class=\"toc-item-num\">3&nbsp;&nbsp;</span>Борьба с дисбалансом</a></span><ul class=\"toc-item\"><li><span><a href=\"#Взвешивание-классов\" data-toc-modified-id=\"Взвешивание-классов-3.1\"><span class=\"toc-item-num\">3.1&nbsp;&nbsp;</span>Взвешивание классов</a></span></li><li><span><a href=\"#Upsampling\" data-toc-modified-id=\"Upsampling-3.2\"><span class=\"toc-item-num\">3.2&nbsp;&nbsp;</span>Upsampling</a></span></li><li><span><a href=\"#Downsampling\" data-toc-modified-id=\"Downsampling-3.3\"><span class=\"toc-item-num\">3.3&nbsp;&nbsp;</span>Downsampling</a></span></li><li><span><a href=\"#Сравнение-с-другим-алгоритмом\" data-toc-modified-id=\"Сравнение-с-другим-алгоритмом-3.4\"><span class=\"toc-item-num\">3.4&nbsp;&nbsp;</span>Сравнение с другим алгоритмом</a></span></li></ul></li><li><span><a href=\"#Тестирование-модели\" data-toc-modified-id=\"Тестирование-модели-4\"><span class=\"toc-item-num\">4&nbsp;&nbsp;</span>Тестирование модели</a></span></li><li><span><a href=\"#Чек-лист-готовности-проекта\" data-toc-modified-id=\"Чек-лист-готовности-проекта-5\"><span class=\"toc-item-num\">5&nbsp;&nbsp;</span>Чек-лист готовности проекта</a></span></li></ul></div>"
   ]
  },
  {
   "cell_type": "markdown",
   "metadata": {},
   "source": [
    "# Отток клиентов"
   ]
  },
  {
   "cell_type": "markdown",
   "metadata": {},
   "source": [
    "Из «Бета-Банка» стали уходить клиенты. Каждый месяц. Немного, но заметно. Банковские маркетологи посчитали: сохранять текущих клиентов дешевле, чем привлекать новых.\n",
    "\n",
    "Нужно спрогнозировать, уйдёт клиент из банка в ближайшее время или нет. Нам предоставлены исторические данные о поведении клиентов и расторжении договоров с банком. \n",
    "\n",
    "Постройте модель с предельно большим значением *F1*-меры. Проверьте *F1*-меру на тестовой выборке самостоятельно.\n",
    "\n",
    "Дополнительно будем измерять *AUC-ROC*, сравнивать её значение с *F1*-мерой.\n",
    "\n",
    "Источник данных: [https://www.kaggle.com/barelydedicated/bank-customer-churn-modeling](https://www.kaggle.com/barelydedicated/bank-customer-churn-modeling)"
   ]
  },
  {
   "cell_type": "markdown",
   "metadata": {},
   "source": [
    "## Подготовка данных"
   ]
  },
  {
   "cell_type": "code",
   "execution_count": 1,
   "metadata": {},
   "outputs": [],
   "source": [
    "import pandas as pd\n",
    "from sklearn.preprocessing import OrdinalEncoder, StandardScaler\n",
    "from sklearn.model_selection import train_test_split\n",
    "from sklearn.linear_model import LogisticRegression\n",
    "from sklearn.ensemble import RandomForestClassifier\n",
    "from sklearn.metrics import f1_score, roc_auc_score, plot_roc_curve\n",
    "from sklearn.utils import shuffle"
   ]
  },
  {
   "cell_type": "code",
   "execution_count": 2,
   "metadata": {},
   "outputs": [],
   "source": [
    "data = pd.read_csv('datasets/Churn.csv')"
   ]
  },
  {
   "cell_type": "code",
   "execution_count": 3,
   "metadata": {
    "scrolled": true
   },
   "outputs": [
    {
     "data": {
      "text/html": [
       "<div>\n",
       "<style scoped>\n",
       "    .dataframe tbody tr th:only-of-type {\n",
       "        vertical-align: middle;\n",
       "    }\n",
       "\n",
       "    .dataframe tbody tr th {\n",
       "        vertical-align: top;\n",
       "    }\n",
       "\n",
       "    .dataframe thead th {\n",
       "        text-align: right;\n",
       "    }\n",
       "</style>\n",
       "<table border=\"1\" class=\"dataframe\">\n",
       "  <thead>\n",
       "    <tr style=\"text-align: right;\">\n",
       "      <th></th>\n",
       "      <th>RowNumber</th>\n",
       "      <th>CustomerId</th>\n",
       "      <th>Surname</th>\n",
       "      <th>CreditScore</th>\n",
       "      <th>Geography</th>\n",
       "      <th>Gender</th>\n",
       "      <th>Age</th>\n",
       "      <th>Tenure</th>\n",
       "      <th>Balance</th>\n",
       "      <th>NumOfProducts</th>\n",
       "      <th>HasCrCard</th>\n",
       "      <th>IsActiveMember</th>\n",
       "      <th>EstimatedSalary</th>\n",
       "      <th>Exited</th>\n",
       "    </tr>\n",
       "  </thead>\n",
       "  <tbody>\n",
       "    <tr>\n",
       "      <th>0</th>\n",
       "      <td>1</td>\n",
       "      <td>15634602</td>\n",
       "      <td>Hargrave</td>\n",
       "      <td>619</td>\n",
       "      <td>France</td>\n",
       "      <td>Female</td>\n",
       "      <td>42</td>\n",
       "      <td>2.0</td>\n",
       "      <td>0.00</td>\n",
       "      <td>1</td>\n",
       "      <td>1</td>\n",
       "      <td>1</td>\n",
       "      <td>101348.88</td>\n",
       "      <td>1</td>\n",
       "    </tr>\n",
       "    <tr>\n",
       "      <th>1</th>\n",
       "      <td>2</td>\n",
       "      <td>15647311</td>\n",
       "      <td>Hill</td>\n",
       "      <td>608</td>\n",
       "      <td>Spain</td>\n",
       "      <td>Female</td>\n",
       "      <td>41</td>\n",
       "      <td>1.0</td>\n",
       "      <td>83807.86</td>\n",
       "      <td>1</td>\n",
       "      <td>0</td>\n",
       "      <td>1</td>\n",
       "      <td>112542.58</td>\n",
       "      <td>0</td>\n",
       "    </tr>\n",
       "    <tr>\n",
       "      <th>2</th>\n",
       "      <td>3</td>\n",
       "      <td>15619304</td>\n",
       "      <td>Onio</td>\n",
       "      <td>502</td>\n",
       "      <td>France</td>\n",
       "      <td>Female</td>\n",
       "      <td>42</td>\n",
       "      <td>8.0</td>\n",
       "      <td>159660.80</td>\n",
       "      <td>3</td>\n",
       "      <td>1</td>\n",
       "      <td>0</td>\n",
       "      <td>113931.57</td>\n",
       "      <td>1</td>\n",
       "    </tr>\n",
       "    <tr>\n",
       "      <th>3</th>\n",
       "      <td>4</td>\n",
       "      <td>15701354</td>\n",
       "      <td>Boni</td>\n",
       "      <td>699</td>\n",
       "      <td>France</td>\n",
       "      <td>Female</td>\n",
       "      <td>39</td>\n",
       "      <td>1.0</td>\n",
       "      <td>0.00</td>\n",
       "      <td>2</td>\n",
       "      <td>0</td>\n",
       "      <td>0</td>\n",
       "      <td>93826.63</td>\n",
       "      <td>0</td>\n",
       "    </tr>\n",
       "    <tr>\n",
       "      <th>4</th>\n",
       "      <td>5</td>\n",
       "      <td>15737888</td>\n",
       "      <td>Mitchell</td>\n",
       "      <td>850</td>\n",
       "      <td>Spain</td>\n",
       "      <td>Female</td>\n",
       "      <td>43</td>\n",
       "      <td>2.0</td>\n",
       "      <td>125510.82</td>\n",
       "      <td>1</td>\n",
       "      <td>1</td>\n",
       "      <td>1</td>\n",
       "      <td>79084.10</td>\n",
       "      <td>0</td>\n",
       "    </tr>\n",
       "  </tbody>\n",
       "</table>\n",
       "</div>"
      ],
      "text/plain": [
       "   RowNumber  CustomerId   Surname  CreditScore Geography  Gender  Age  \\\n",
       "0          1    15634602  Hargrave          619    France  Female   42   \n",
       "1          2    15647311      Hill          608     Spain  Female   41   \n",
       "2          3    15619304      Onio          502    France  Female   42   \n",
       "3          4    15701354      Boni          699    France  Female   39   \n",
       "4          5    15737888  Mitchell          850     Spain  Female   43   \n",
       "\n",
       "   Tenure    Balance  NumOfProducts  HasCrCard  IsActiveMember  \\\n",
       "0     2.0       0.00              1          1               1   \n",
       "1     1.0   83807.86              1          0               1   \n",
       "2     8.0  159660.80              3          1               0   \n",
       "3     1.0       0.00              2          0               0   \n",
       "4     2.0  125510.82              1          1               1   \n",
       "\n",
       "   EstimatedSalary  Exited  \n",
       "0        101348.88       1  \n",
       "1        112542.58       0  \n",
       "2        113931.57       1  \n",
       "3         93826.63       0  \n",
       "4         79084.10       0  "
      ]
     },
     "execution_count": 3,
     "metadata": {},
     "output_type": "execute_result"
    }
   ],
   "source": [
    "data.head()"
   ]
  },
  {
   "cell_type": "markdown",
   "metadata": {},
   "source": [
    "Выведем общую информацию о датасете:"
   ]
  },
  {
   "cell_type": "code",
   "execution_count": 4,
   "metadata": {},
   "outputs": [
    {
     "name": "stdout",
     "output_type": "stream",
     "text": [
      "<class 'pandas.core.frame.DataFrame'>\n",
      "RangeIndex: 10000 entries, 0 to 9999\n",
      "Data columns (total 14 columns):\n",
      " #   Column           Non-Null Count  Dtype  \n",
      "---  ------           --------------  -----  \n",
      " 0   RowNumber        10000 non-null  int64  \n",
      " 1   CustomerId       10000 non-null  int64  \n",
      " 2   Surname          10000 non-null  object \n",
      " 3   CreditScore      10000 non-null  int64  \n",
      " 4   Geography        10000 non-null  object \n",
      " 5   Gender           10000 non-null  object \n",
      " 6   Age              10000 non-null  int64  \n",
      " 7   Tenure           9091 non-null   float64\n",
      " 8   Balance          10000 non-null  float64\n",
      " 9   NumOfProducts    10000 non-null  int64  \n",
      " 10  HasCrCard        10000 non-null  int64  \n",
      " 11  IsActiveMember   10000 non-null  int64  \n",
      " 12  EstimatedSalary  10000 non-null  float64\n",
      " 13  Exited           10000 non-null  int64  \n",
      "dtypes: float64(3), int64(8), object(3)\n",
      "memory usage: 1.1+ MB\n"
     ]
    }
   ],
   "source": [
    "data.info()"
   ]
  },
  {
   "cell_type": "markdown",
   "metadata": {},
   "source": [
    "### Предобработка данных"
   ]
  },
  {
   "cell_type": "markdown",
   "metadata": {},
   "source": [
    "Переименуем столбцы:"
   ]
  },
  {
   "cell_type": "code",
   "execution_count": 5,
   "metadata": {},
   "outputs": [],
   "source": [
    "data.columns = ['row_number', 'customer_id', 'surname', 'credit_score', 'geography',\\\n",
    "                'gender' , 'age', 'tenure', 'balance', 'number_of_products', 'has_credit_card',\\\n",
    "                'is_active_member', 'estimated_salary', 'exited']"
   ]
  },
  {
   "cell_type": "markdown",
   "metadata": {},
   "source": [
    "И удалим первый столбец с индексом строки в данных:"
   ]
  },
  {
   "cell_type": "code",
   "execution_count": 6,
   "metadata": {},
   "outputs": [],
   "source": [
    "data = data.drop('row_number', axis=1)"
   ]
  },
  {
   "cell_type": "markdown",
   "metadata": {},
   "source": [
    "Приведём столбец 'tenure' к целочисленному типу, так как в нём хранятся только целые значения:"
   ]
  },
  {
   "cell_type": "code",
   "execution_count": 7,
   "metadata": {},
   "outputs": [
    {
     "data": {
      "text/plain": [
       "[2.0, 1.0, 8.0, 7.0, 4.0, 6.0, 3.0, 10.0, 5.0, 9.0, 0.0, nan]"
      ]
     },
     "execution_count": 7,
     "metadata": {},
     "output_type": "execute_result"
    }
   ],
   "source": [
    "# Посмотрим на уникальные значения столбца 'tenure'\n",
    "list(data['tenure'].unique())"
   ]
  },
  {
   "cell_type": "code",
   "execution_count": 8,
   "metadata": {},
   "outputs": [],
   "source": [
    "# Приводим к нужному типу\n",
    "data['tenure'] = data['tenure'].astype('Int64')"
   ]
  },
  {
   "cell_type": "markdown",
   "metadata": {},
   "source": [
    "Посмотрим на пропуски в данных:"
   ]
  },
  {
   "cell_type": "code",
   "execution_count": 9,
   "metadata": {},
   "outputs": [
    {
     "data": {
      "text/plain": [
       "customer_id             0\n",
       "surname                 0\n",
       "credit_score            0\n",
       "geography               0\n",
       "gender                  0\n",
       "age                     0\n",
       "tenure                909\n",
       "balance                 0\n",
       "number_of_products      0\n",
       "has_credit_card         0\n",
       "is_active_member        0\n",
       "estimated_salary        0\n",
       "exited                  0\n",
       "dtype: int64"
      ]
     },
     "execution_count": 9,
     "metadata": {},
     "output_type": "execute_result"
    }
   ],
   "source": [
    "data.isna().sum()"
   ]
  },
  {
   "cell_type": "markdown",
   "metadata": {},
   "source": [
    "Пропуски в столбце \"tenure\" мы можем заменить на медианное значение по столбцу \"tenure\":"
   ]
  },
  {
   "cell_type": "code",
   "execution_count": 10,
   "metadata": {},
   "outputs": [
    {
     "data": {
      "text/plain": [
       "5.0"
      ]
     },
     "execution_count": 10,
     "metadata": {},
     "output_type": "execute_result"
    }
   ],
   "source": [
    "data['tenure'].median()"
   ]
  },
  {
   "cell_type": "code",
   "execution_count": 11,
   "metadata": {},
   "outputs": [],
   "source": [
    "data.loc[(data['tenure'].isna()) , 'tenure'] = int(data['tenure'].median())"
   ]
  },
  {
   "cell_type": "markdown",
   "metadata": {},
   "source": [
    "### Кодирование категориальных переменных"
   ]
  },
  {
   "cell_type": "markdown",
   "metadata": {},
   "source": [
    "В датасете есть несколько категориальных столбцов-переменных (geography, gender, has_credit_card, is_active_member), однако последние две уже представлены в виде булевых переменных."
   ]
  },
  {
   "cell_type": "markdown",
   "metadata": {},
   "source": [
    "Для обучения моделей нам следует преобразовать столбец \"gender\" в дамми-переменную (при этом откинув первый столбец, так как по оставшейся переменной можно однозначно восстановить пол):"
   ]
  },
  {
   "cell_type": "code",
   "execution_count": 12,
   "metadata": {},
   "outputs": [],
   "source": [
    "data['gender'] = pd.get_dummies(data['gender'], drop_first=True)"
   ]
  },
  {
   "cell_type": "code",
   "execution_count": 13,
   "metadata": {
    "scrolled": true
   },
   "outputs": [
    {
     "data": {
      "text/html": [
       "<div>\n",
       "<style scoped>\n",
       "    .dataframe tbody tr th:only-of-type {\n",
       "        vertical-align: middle;\n",
       "    }\n",
       "\n",
       "    .dataframe tbody tr th {\n",
       "        vertical-align: top;\n",
       "    }\n",
       "\n",
       "    .dataframe thead th {\n",
       "        text-align: right;\n",
       "    }\n",
       "</style>\n",
       "<table border=\"1\" class=\"dataframe\">\n",
       "  <thead>\n",
       "    <tr style=\"text-align: right;\">\n",
       "      <th></th>\n",
       "      <th>customer_id</th>\n",
       "      <th>surname</th>\n",
       "      <th>credit_score</th>\n",
       "      <th>geography</th>\n",
       "      <th>gender</th>\n",
       "      <th>age</th>\n",
       "      <th>tenure</th>\n",
       "      <th>balance</th>\n",
       "      <th>number_of_products</th>\n",
       "      <th>has_credit_card</th>\n",
       "      <th>is_active_member</th>\n",
       "      <th>estimated_salary</th>\n",
       "      <th>exited</th>\n",
       "    </tr>\n",
       "  </thead>\n",
       "  <tbody>\n",
       "    <tr>\n",
       "      <th>0</th>\n",
       "      <td>15634602</td>\n",
       "      <td>Hargrave</td>\n",
       "      <td>619</td>\n",
       "      <td>France</td>\n",
       "      <td>0</td>\n",
       "      <td>42</td>\n",
       "      <td>2</td>\n",
       "      <td>0.00</td>\n",
       "      <td>1</td>\n",
       "      <td>1</td>\n",
       "      <td>1</td>\n",
       "      <td>101348.88</td>\n",
       "      <td>1</td>\n",
       "    </tr>\n",
       "    <tr>\n",
       "      <th>1</th>\n",
       "      <td>15647311</td>\n",
       "      <td>Hill</td>\n",
       "      <td>608</td>\n",
       "      <td>Spain</td>\n",
       "      <td>0</td>\n",
       "      <td>41</td>\n",
       "      <td>1</td>\n",
       "      <td>83807.86</td>\n",
       "      <td>1</td>\n",
       "      <td>0</td>\n",
       "      <td>1</td>\n",
       "      <td>112542.58</td>\n",
       "      <td>0</td>\n",
       "    </tr>\n",
       "    <tr>\n",
       "      <th>2</th>\n",
       "      <td>15619304</td>\n",
       "      <td>Onio</td>\n",
       "      <td>502</td>\n",
       "      <td>France</td>\n",
       "      <td>0</td>\n",
       "      <td>42</td>\n",
       "      <td>8</td>\n",
       "      <td>159660.80</td>\n",
       "      <td>3</td>\n",
       "      <td>1</td>\n",
       "      <td>0</td>\n",
       "      <td>113931.57</td>\n",
       "      <td>1</td>\n",
       "    </tr>\n",
       "    <tr>\n",
       "      <th>3</th>\n",
       "      <td>15701354</td>\n",
       "      <td>Boni</td>\n",
       "      <td>699</td>\n",
       "      <td>France</td>\n",
       "      <td>0</td>\n",
       "      <td>39</td>\n",
       "      <td>1</td>\n",
       "      <td>0.00</td>\n",
       "      <td>2</td>\n",
       "      <td>0</td>\n",
       "      <td>0</td>\n",
       "      <td>93826.63</td>\n",
       "      <td>0</td>\n",
       "    </tr>\n",
       "    <tr>\n",
       "      <th>4</th>\n",
       "      <td>15737888</td>\n",
       "      <td>Mitchell</td>\n",
       "      <td>850</td>\n",
       "      <td>Spain</td>\n",
       "      <td>0</td>\n",
       "      <td>43</td>\n",
       "      <td>2</td>\n",
       "      <td>125510.82</td>\n",
       "      <td>1</td>\n",
       "      <td>1</td>\n",
       "      <td>1</td>\n",
       "      <td>79084.10</td>\n",
       "      <td>0</td>\n",
       "    </tr>\n",
       "    <tr>\n",
       "      <th>5</th>\n",
       "      <td>15574012</td>\n",
       "      <td>Chu</td>\n",
       "      <td>645</td>\n",
       "      <td>Spain</td>\n",
       "      <td>1</td>\n",
       "      <td>44</td>\n",
       "      <td>8</td>\n",
       "      <td>113755.78</td>\n",
       "      <td>2</td>\n",
       "      <td>1</td>\n",
       "      <td>0</td>\n",
       "      <td>149756.71</td>\n",
       "      <td>1</td>\n",
       "    </tr>\n",
       "    <tr>\n",
       "      <th>6</th>\n",
       "      <td>15592531</td>\n",
       "      <td>Bartlett</td>\n",
       "      <td>822</td>\n",
       "      <td>France</td>\n",
       "      <td>1</td>\n",
       "      <td>50</td>\n",
       "      <td>7</td>\n",
       "      <td>0.00</td>\n",
       "      <td>2</td>\n",
       "      <td>1</td>\n",
       "      <td>1</td>\n",
       "      <td>10062.80</td>\n",
       "      <td>0</td>\n",
       "    </tr>\n",
       "    <tr>\n",
       "      <th>7</th>\n",
       "      <td>15656148</td>\n",
       "      <td>Obinna</td>\n",
       "      <td>376</td>\n",
       "      <td>Germany</td>\n",
       "      <td>0</td>\n",
       "      <td>29</td>\n",
       "      <td>4</td>\n",
       "      <td>115046.74</td>\n",
       "      <td>4</td>\n",
       "      <td>1</td>\n",
       "      <td>0</td>\n",
       "      <td>119346.88</td>\n",
       "      <td>1</td>\n",
       "    </tr>\n",
       "    <tr>\n",
       "      <th>8</th>\n",
       "      <td>15792365</td>\n",
       "      <td>He</td>\n",
       "      <td>501</td>\n",
       "      <td>France</td>\n",
       "      <td>1</td>\n",
       "      <td>44</td>\n",
       "      <td>4</td>\n",
       "      <td>142051.07</td>\n",
       "      <td>2</td>\n",
       "      <td>0</td>\n",
       "      <td>1</td>\n",
       "      <td>74940.50</td>\n",
       "      <td>0</td>\n",
       "    </tr>\n",
       "    <tr>\n",
       "      <th>9</th>\n",
       "      <td>15592389</td>\n",
       "      <td>H?</td>\n",
       "      <td>684</td>\n",
       "      <td>France</td>\n",
       "      <td>1</td>\n",
       "      <td>27</td>\n",
       "      <td>2</td>\n",
       "      <td>134603.88</td>\n",
       "      <td>1</td>\n",
       "      <td>1</td>\n",
       "      <td>1</td>\n",
       "      <td>71725.73</td>\n",
       "      <td>0</td>\n",
       "    </tr>\n",
       "  </tbody>\n",
       "</table>\n",
       "</div>"
      ],
      "text/plain": [
       "   customer_id   surname  credit_score geography  gender  age  tenure  \\\n",
       "0     15634602  Hargrave           619    France       0   42       2   \n",
       "1     15647311      Hill           608     Spain       0   41       1   \n",
       "2     15619304      Onio           502    France       0   42       8   \n",
       "3     15701354      Boni           699    France       0   39       1   \n",
       "4     15737888  Mitchell           850     Spain       0   43       2   \n",
       "5     15574012       Chu           645     Spain       1   44       8   \n",
       "6     15592531  Bartlett           822    France       1   50       7   \n",
       "7     15656148    Obinna           376   Germany       0   29       4   \n",
       "8     15792365        He           501    France       1   44       4   \n",
       "9     15592389        H?           684    France       1   27       2   \n",
       "\n",
       "     balance  number_of_products  has_credit_card  is_active_member  \\\n",
       "0       0.00                   1                1                 1   \n",
       "1   83807.86                   1                0                 1   \n",
       "2  159660.80                   3                1                 0   \n",
       "3       0.00                   2                0                 0   \n",
       "4  125510.82                   1                1                 1   \n",
       "5  113755.78                   2                1                 0   \n",
       "6       0.00                   2                1                 1   \n",
       "7  115046.74                   4                1                 0   \n",
       "8  142051.07                   2                0                 1   \n",
       "9  134603.88                   1                1                 1   \n",
       "\n",
       "   estimated_salary  exited  \n",
       "0         101348.88       1  \n",
       "1         112542.58       0  \n",
       "2         113931.57       1  \n",
       "3          93826.63       0  \n",
       "4          79084.10       0  \n",
       "5         149756.71       1  \n",
       "6          10062.80       0  \n",
       "7         119346.88       1  \n",
       "8          74940.50       0  \n",
       "9          71725.73       0  "
      ]
     },
     "execution_count": 13,
     "metadata": {},
     "output_type": "execute_result"
    }
   ],
   "source": [
    "data.head(10)"
   ]
  },
  {
   "cell_type": "markdown",
   "metadata": {},
   "source": [
    "Аналогично поступим со столбцом \"geography\":"
   ]
  },
  {
   "cell_type": "code",
   "execution_count": 14,
   "metadata": {},
   "outputs": [],
   "source": [
    "data = data.drop('geography', axis=1).join(pd.get_dummies(data['geography']))"
   ]
  },
  {
   "cell_type": "code",
   "execution_count": 15,
   "metadata": {
    "scrolled": false
   },
   "outputs": [
    {
     "data": {
      "text/html": [
       "<div>\n",
       "<style scoped>\n",
       "    .dataframe tbody tr th:only-of-type {\n",
       "        vertical-align: middle;\n",
       "    }\n",
       "\n",
       "    .dataframe tbody tr th {\n",
       "        vertical-align: top;\n",
       "    }\n",
       "\n",
       "    .dataframe thead th {\n",
       "        text-align: right;\n",
       "    }\n",
       "</style>\n",
       "<table border=\"1\" class=\"dataframe\">\n",
       "  <thead>\n",
       "    <tr style=\"text-align: right;\">\n",
       "      <th></th>\n",
       "      <th>customer_id</th>\n",
       "      <th>surname</th>\n",
       "      <th>credit_score</th>\n",
       "      <th>gender</th>\n",
       "      <th>age</th>\n",
       "      <th>tenure</th>\n",
       "      <th>balance</th>\n",
       "      <th>number_of_products</th>\n",
       "      <th>has_credit_card</th>\n",
       "      <th>is_active_member</th>\n",
       "      <th>estimated_salary</th>\n",
       "      <th>exited</th>\n",
       "      <th>France</th>\n",
       "      <th>Germany</th>\n",
       "      <th>Spain</th>\n",
       "    </tr>\n",
       "  </thead>\n",
       "  <tbody>\n",
       "    <tr>\n",
       "      <th>0</th>\n",
       "      <td>15634602</td>\n",
       "      <td>Hargrave</td>\n",
       "      <td>619</td>\n",
       "      <td>0</td>\n",
       "      <td>42</td>\n",
       "      <td>2</td>\n",
       "      <td>0.00</td>\n",
       "      <td>1</td>\n",
       "      <td>1</td>\n",
       "      <td>1</td>\n",
       "      <td>101348.88</td>\n",
       "      <td>1</td>\n",
       "      <td>1</td>\n",
       "      <td>0</td>\n",
       "      <td>0</td>\n",
       "    </tr>\n",
       "    <tr>\n",
       "      <th>1</th>\n",
       "      <td>15647311</td>\n",
       "      <td>Hill</td>\n",
       "      <td>608</td>\n",
       "      <td>0</td>\n",
       "      <td>41</td>\n",
       "      <td>1</td>\n",
       "      <td>83807.86</td>\n",
       "      <td>1</td>\n",
       "      <td>0</td>\n",
       "      <td>1</td>\n",
       "      <td>112542.58</td>\n",
       "      <td>0</td>\n",
       "      <td>0</td>\n",
       "      <td>0</td>\n",
       "      <td>1</td>\n",
       "    </tr>\n",
       "    <tr>\n",
       "      <th>2</th>\n",
       "      <td>15619304</td>\n",
       "      <td>Onio</td>\n",
       "      <td>502</td>\n",
       "      <td>0</td>\n",
       "      <td>42</td>\n",
       "      <td>8</td>\n",
       "      <td>159660.80</td>\n",
       "      <td>3</td>\n",
       "      <td>1</td>\n",
       "      <td>0</td>\n",
       "      <td>113931.57</td>\n",
       "      <td>1</td>\n",
       "      <td>1</td>\n",
       "      <td>0</td>\n",
       "      <td>0</td>\n",
       "    </tr>\n",
       "    <tr>\n",
       "      <th>3</th>\n",
       "      <td>15701354</td>\n",
       "      <td>Boni</td>\n",
       "      <td>699</td>\n",
       "      <td>0</td>\n",
       "      <td>39</td>\n",
       "      <td>1</td>\n",
       "      <td>0.00</td>\n",
       "      <td>2</td>\n",
       "      <td>0</td>\n",
       "      <td>0</td>\n",
       "      <td>93826.63</td>\n",
       "      <td>0</td>\n",
       "      <td>1</td>\n",
       "      <td>0</td>\n",
       "      <td>0</td>\n",
       "    </tr>\n",
       "    <tr>\n",
       "      <th>4</th>\n",
       "      <td>15737888</td>\n",
       "      <td>Mitchell</td>\n",
       "      <td>850</td>\n",
       "      <td>0</td>\n",
       "      <td>43</td>\n",
       "      <td>2</td>\n",
       "      <td>125510.82</td>\n",
       "      <td>1</td>\n",
       "      <td>1</td>\n",
       "      <td>1</td>\n",
       "      <td>79084.10</td>\n",
       "      <td>0</td>\n",
       "      <td>0</td>\n",
       "      <td>0</td>\n",
       "      <td>1</td>\n",
       "    </tr>\n",
       "  </tbody>\n",
       "</table>\n",
       "</div>"
      ],
      "text/plain": [
       "   customer_id   surname  credit_score  gender  age  tenure    balance  \\\n",
       "0     15634602  Hargrave           619       0   42       2       0.00   \n",
       "1     15647311      Hill           608       0   41       1   83807.86   \n",
       "2     15619304      Onio           502       0   42       8  159660.80   \n",
       "3     15701354      Boni           699       0   39       1       0.00   \n",
       "4     15737888  Mitchell           850       0   43       2  125510.82   \n",
       "\n",
       "   number_of_products  has_credit_card  is_active_member  estimated_salary  \\\n",
       "0                   1                1                 1         101348.88   \n",
       "1                   1                0                 1         112542.58   \n",
       "2                   3                1                 0         113931.57   \n",
       "3                   2                0                 0          93826.63   \n",
       "4                   1                1                 1          79084.10   \n",
       "\n",
       "   exited  France  Germany  Spain  \n",
       "0       1       1        0      0  \n",
       "1       0       0        0      1  \n",
       "2       1       1        0      0  \n",
       "3       0       1        0      0  \n",
       "4       0       0        0      1  "
      ]
     },
     "execution_count": 15,
     "metadata": {},
     "output_type": "execute_result"
    }
   ],
   "source": [
    "data.head()"
   ]
  },
  {
   "cell_type": "markdown",
   "metadata": {},
   "source": [
    "### Разделение на обучающую, валидационную и тестовую выборки"
   ]
  },
  {
   "cell_type": "markdown",
   "metadata": {},
   "source": [
    "Разделим данные на обучающую, валидационную и тестовую выборку в соотношении 50/25/25:"
   ]
  },
  {
   "cell_type": "code",
   "execution_count": 16,
   "metadata": {},
   "outputs": [],
   "source": [
    "features = data.drop(['exited', 'surname', 'customer_id'], axis=1)\n",
    "target = data['exited']"
   ]
  },
  {
   "cell_type": "code",
   "execution_count": 17,
   "metadata": {},
   "outputs": [],
   "source": [
    "features_train, features_valid, target_train, target_valid = train_test_split(features, target,\n",
    "                                                                              test_size=0.5, random_state=12345)"
   ]
  },
  {
   "cell_type": "code",
   "execution_count": 18,
   "metadata": {},
   "outputs": [],
   "source": [
    "features_valid, features_test, target_valid, target_test = train_test_split(features_valid, target_valid,\n",
    "                                                                              test_size=0.5, random_state=12345)"
   ]
  },
  {
   "cell_type": "markdown",
   "metadata": {},
   "source": [
    "Проверим размеры выборок:"
   ]
  },
  {
   "cell_type": "code",
   "execution_count": 19,
   "metadata": {},
   "outputs": [
    {
     "name": "stdout",
     "output_type": "stream",
     "text": [
      "Обучающая выборка: (5000, 12)\n",
      "Валидационная выборка: (2500, 12)\n",
      "Тестовая выборка: (2500, 12)\n"
     ]
    }
   ],
   "source": [
    "print(\"Обучающая выборка:\", features_train.shape)\n",
    "print(\"Валидационная выборка:\", features_valid.shape)\n",
    "print(\"Тестовая выборка:\", features_test.shape)"
   ]
  },
  {
   "cell_type": "markdown",
   "metadata": {},
   "source": [
    "### Масштабирование признаков"
   ]
  },
  {
   "cell_type": "markdown",
   "metadata": {},
   "source": [
    "Масштабируем наши признаки:"
   ]
  },
  {
   "cell_type": "code",
   "execution_count": 20,
   "metadata": {},
   "outputs": [],
   "source": [
    "numeric = ['credit_score', 'age', 'tenure', 'balance', 'number_of_products', 'estimated_salary']"
   ]
  },
  {
   "cell_type": "code",
   "execution_count": 21,
   "metadata": {
    "scrolled": true
   },
   "outputs": [
    {
     "data": {
      "text/plain": [
       "StandardScaler()"
      ]
     },
     "execution_count": 21,
     "metadata": {},
     "output_type": "execute_result"
    }
   ],
   "source": [
    "scaler = StandardScaler()\n",
    "scaler.fit(features_train[numeric])"
   ]
  },
  {
   "cell_type": "code",
   "execution_count": 22,
   "metadata": {},
   "outputs": [],
   "source": [
    "pd.options.mode.chained_assignment = None\n",
    "features_train[numeric] = scaler.transform(features_train[numeric])\n",
    "features_valid[numeric] = scaler.transform(features_valid[numeric])\n",
    "features_test[numeric] = scaler.transform(features_test[numeric])"
   ]
  },
  {
   "cell_type": "markdown",
   "metadata": {},
   "source": [
    "## Исследование задачи"
   ]
  },
  {
   "cell_type": "markdown",
   "metadata": {},
   "source": [
    "Посмотрим, как распределены классы, т.е. значения в столбце \"exited\":"
   ]
  },
  {
   "cell_type": "code",
   "execution_count": 23,
   "metadata": {},
   "outputs": [
    {
     "data": {
      "text/plain": [
       "0    7963\n",
       "1    2037\n",
       "Name: exited, dtype: int64"
      ]
     },
     "execution_count": 23,
     "metadata": {},
     "output_type": "execute_result"
    }
   ],
   "source": [
    "target.value_counts()"
   ]
  },
  {
   "cell_type": "code",
   "execution_count": 24,
   "metadata": {},
   "outputs": [
    {
     "data": {
      "image/png": "[encoded data removed]",
      "text/plain": [
       "<Figure size 432x288 with 1 Axes>"
      ]
     },
     "metadata": {
      "needs_background": "light"
     },
     "output_type": "display_data"
    }
   ],
   "source": [
    "target.value_counts(normalize=True).plot(kind='bar');"
   ]
  },
  {
   "cell_type": "markdown",
   "metadata": {},
   "source": [
    "Таким образом, **преобладает отрицательный класс**. Примерное соотношение классов - 80% на 20%"
   ]
  },
  {
   "cell_type": "markdown",
   "metadata": {},
   "source": [
    "Подберём и обучим наилучшую модель случайного леса без учёта дисбаланса классов:"
   ]
  },
  {
   "cell_type": "code",
   "execution_count": 25,
   "metadata": {},
   "outputs": [
    {
     "name": "stdout",
     "output_type": "stream",
     "text": [
      "CPU times: user 48.7 s, sys: 864 ms, total: 49.6 s\n",
      "Wall time: 50.6 s\n"
     ]
    }
   ],
   "source": [
    "%%time\n",
    "\n",
    "best_model = None\n",
    "max_score = -1\n",
    "for depth in range(1,15):\n",
    "    for estimators in range(5,100,5):\n",
    "        model = RandomForestClassifier(n_estimators = estimators, max_depth = depth, random_state=12345)\n",
    "        model.fit(features_train, target_train)\n",
    "        score = f1_score(target_valid, model.predict(features_valid))\n",
    "        if score> max_score:\n",
    "            max_score = score\n",
    "            best_model = model"
   ]
  },
  {
   "cell_type": "markdown",
   "metadata": {},
   "source": [
    "Посмотрим на параметры наилучшей модели:"
   ]
  },
  {
   "cell_type": "code",
   "execution_count": 26,
   "metadata": {},
   "outputs": [
    {
     "name": "stdout",
     "output_type": "stream",
     "text": [
      "Наибольшая глубина дерева: 13\n",
      "Количество деревьев: 65\n",
      "F1-score: 0.5732009925558313\n"
     ]
    }
   ],
   "source": [
    "print(\"Наибольшая глубина дерева:\", best_model.max_depth)\n",
    "print(\"Количество деревьев:\", best_model.n_estimators)\n",
    "print(\"F1-score:\", max_score)"
   ]
  },
  {
   "cell_type": "markdown",
   "metadata": {},
   "source": [
    "Посмотрим также на метрику AUC-ROC:"
   ]
  },
  {
   "cell_type": "code",
   "execution_count": 27,
   "metadata": {},
   "outputs": [
    {
     "name": "stdout",
     "output_type": "stream",
     "text": [
      "AUC-ROC score: 0.8324755715776493\n"
     ]
    }
   ],
   "source": [
    "probabilities_valid = best_model.predict_proba(features_valid)\n",
    "probabilities_one_valid = probabilities_valid[:, 1]\n",
    "\n",
    "auc_roc = roc_auc_score(target_valid, probabilities_one_valid)\n",
    "print(\"AUC-ROC score:\", auc_roc)"
   ]
  },
  {
   "cell_type": "code",
   "execution_count": 28,
   "metadata": {},
   "outputs": [
    {
     "name": "stderr",
     "output_type": "stream",
     "text": [
      "/opt/anaconda3/lib/python3.9/site-packages/sklearn/utils/deprecation.py:87: FutureWarning: Function plot_roc_curve is deprecated; Function :func:`plot_roc_curve` is deprecated in 1.0 and will be removed in 1.2. Use one of the class methods: :meth:`sklearn.metric.RocCurveDisplay.from_predictions` or :meth:`sklearn.metric.RocCurveDisplay.from_estimator`.\n",
      "  warnings.warn(msg, category=FutureWarning)\n"
     ]
    },
    {
     "data": {
      "image/png": "[encoded data removed]",
      "text/plain": [
       "<Figure size 432x288 with 1 Axes>"
      ]
     },
     "metadata": {
      "needs_background": "light"
     },
     "output_type": "display_data"
    }
   ],
   "source": [
    "plot_roc_curve(best_model, features_valid, target_valid);"
   ]
  },
  {
   "cell_type": "markdown",
   "metadata": {},
   "source": [
    "Как известно, AUC-ROC для случайной модели составляет 0,5. В нашем же случае, AUC-ROC значительно выше, что говорит о том, что наша модель имеет место быть."
   ]
  },
  {
   "cell_type": "markdown",
   "metadata": {},
   "source": [
    "Таким образом, присутствует дисбаланс классов. Следовательно, при upsampling'e потребуется увеличить размер примеров \"положительного\" класса в ~4 раза. При downsampling'е же, наоборот, потребуется уменьшить размер примеров отрицательного класса в 4 раза."
   ]
  },
  {
   "cell_type": "markdown",
   "metadata": {},
   "source": [
    "## Борьба с дисбалансом"
   ]
  },
  {
   "cell_type": "markdown",
   "metadata": {},
   "source": [
    "### Взвешивание классов"
   ]
  },
  {
   "cell_type": "markdown",
   "metadata": {},
   "source": [
    "Попробуем повысить значение метрики F1 за счёт **взвешивания классов**. Для этого всё так же будем обучать модель случайного леса, но уже с параметром class_weight='balanced'"
   ]
  },
  {
   "cell_type": "code",
   "execution_count": 29,
   "metadata": {},
   "outputs": [
    {
     "name": "stdout",
     "output_type": "stream",
     "text": [
      "CPU times: user 49.2 s, sys: 961 ms, total: 50.2 s\n",
      "Wall time: 50.9 s\n"
     ]
    }
   ],
   "source": [
    "%%time\n",
    "\n",
    "best_model = None\n",
    "max_score = -1\n",
    "for depth in range(1,15):\n",
    "    for estimators in range(5,100,5):\n",
    "        model = RandomForestClassifier(n_estimators = estimators, max_depth = depth, random_state=12345,\n",
    "                                      class_weight = 'balanced')\n",
    "        model.fit(features_train, target_train)\n",
    "        score = f1_score(target_valid, model.predict(features_valid))\n",
    "        if score> max_score:\n",
    "            max_score = score\n",
    "            best_model = model"
   ]
  },
  {
   "cell_type": "markdown",
   "metadata": {},
   "source": [
    "И снова посмотрим на параметры самой лучшей обученной модели:"
   ]
  },
  {
   "cell_type": "code",
   "execution_count": 30,
   "metadata": {
    "scrolled": true
   },
   "outputs": [
    {
     "name": "stdout",
     "output_type": "stream",
     "text": [
      "Наибольшая глубина дерева: 10\n",
      "Количество деревьев: 65\n",
      "F1-score: 0.5951417004048583\n"
     ]
    }
   ],
   "source": [
    "print(\"Наибольшая глубина дерева:\", best_model.max_depth)\n",
    "print(\"Количество деревьев:\", best_model.n_estimators)\n",
    "print(\"F1-score:\", max_score)"
   ]
  },
  {
   "cell_type": "code",
   "execution_count": 31,
   "metadata": {},
   "outputs": [
    {
     "name": "stderr",
     "output_type": "stream",
     "text": [
      "/opt/anaconda3/lib/python3.9/site-packages/sklearn/utils/deprecation.py:87: FutureWarning: Function plot_roc_curve is deprecated; Function :func:`plot_roc_curve` is deprecated in 1.0 and will be removed in 1.2. Use one of the class methods: :meth:`sklearn.metric.RocCurveDisplay.from_predictions` or :meth:`sklearn.metric.RocCurveDisplay.from_estimator`.\n",
      "  warnings.warn(msg, category=FutureWarning)\n"
     ]
    },
    {
     "data": {
      "image/png": "[encoded data removed]",
      "text/plain": [
       "<Figure size 432x288 with 1 Axes>"
      ]
     },
     "metadata": {
      "needs_background": "light"
     },
     "output_type": "display_data"
    }
   ],
   "source": [
    "plot_roc_curve(best_model, features_valid, target_valid);"
   ]
  },
  {
   "cell_type": "markdown",
   "metadata": {},
   "source": [
    "Значения метрик вполне неплохие, однако всё же попробуем применить и другие методы борьбы с дисбалансом классов:"
   ]
  },
  {
   "cell_type": "markdown",
   "metadata": {},
   "source": [
    "### Upsampling"
   ]
  },
  {
   "cell_type": "markdown",
   "metadata": {},
   "source": [
    "Напишем функцию для увеличения размера положительного класса:"
   ]
  },
  {
   "cell_type": "code",
   "execution_count": 32,
   "metadata": {},
   "outputs": [],
   "source": [
    "def upsample(features, target, repeat):\n",
    "    features_zeros = features[target == 0]\n",
    "    features_ones = features[target == 1]\n",
    "    target_zeros = target[target == 0]\n",
    "    target_ones = target[target == 1]\n",
    "\n",
    "    features_upsampled = pd.concat([features_zeros] + [features_ones] * repeat)\n",
    "    target_upsampled = pd.concat([target_zeros] + [target_ones] * repeat)\n",
    "    \n",
    "    features_upsampled, target_upsampled = shuffle(\n",
    "        features_upsampled, target_upsampled, random_state=12345)\n",
    "    \n",
    "    return features_upsampled, target_upsampled"
   ]
  },
  {
   "cell_type": "markdown",
   "metadata": {},
   "source": [
    "Преобразуем наши обучающие данные:"
   ]
  },
  {
   "cell_type": "code",
   "execution_count": 33,
   "metadata": {},
   "outputs": [],
   "source": [
    "features_upsampled, target_upsampled = upsample(features_train, target_train, 4)"
   ]
  },
  {
   "cell_type": "markdown",
   "metadata": {},
   "source": [
    "Подберём оптимальные параметры модели:"
   ]
  },
  {
   "cell_type": "code",
   "execution_count": 34,
   "metadata": {},
   "outputs": [
    {
     "name": "stdout",
     "output_type": "stream",
     "text": [
      "CPU times: user 1min 2s, sys: 903 ms, total: 1min 3s\n",
      "Wall time: 1min 4s\n"
     ]
    }
   ],
   "source": [
    "%%time\n",
    "\n",
    "best_model = None\n",
    "max_score = -1\n",
    "for depth in range(1,15):\n",
    "    for estimators in range(5,100,5):\n",
    "        model = RandomForestClassifier(n_estimators = estimators, max_depth = depth, random_state=12345)\n",
    "        model.fit(features_upsampled, target_upsampled)\n",
    "        score = f1_score(target_valid, model.predict(features_valid))\n",
    "        if score> max_score:\n",
    "            max_score = score\n",
    "            best_model = model"
   ]
  },
  {
   "cell_type": "code",
   "execution_count": 35,
   "metadata": {},
   "outputs": [
    {
     "name": "stdout",
     "output_type": "stream",
     "text": [
      "Наибольшая глубина дерева: 14\n",
      "Количество деревьев: 35\n",
      "F1-score: 0.5917753259779338\n"
     ]
    }
   ],
   "source": [
    "print(\"Наибольшая глубина дерева:\", best_model.max_depth)\n",
    "print(\"Количество деревьев:\", best_model.n_estimators)\n",
    "print(\"F1-score:\", max_score)"
   ]
  },
  {
   "cell_type": "code",
   "execution_count": 36,
   "metadata": {
    "scrolled": true
   },
   "outputs": [
    {
     "name": "stderr",
     "output_type": "stream",
     "text": [
      "/opt/anaconda3/lib/python3.9/site-packages/sklearn/utils/deprecation.py:87: FutureWarning: Function plot_roc_curve is deprecated; Function :func:`plot_roc_curve` is deprecated in 1.0 and will be removed in 1.2. Use one of the class methods: :meth:`sklearn.metric.RocCurveDisplay.from_predictions` or :meth:`sklearn.metric.RocCurveDisplay.from_estimator`.\n",
      "  warnings.warn(msg, category=FutureWarning)\n"
     ]
    },
    {
     "data": {
      "image/png": "[encoded data removed]",
      "text/plain": [
       "<Figure size 432x288 with 1 Axes>"
      ]
     },
     "metadata": {
      "needs_background": "light"
     },
     "output_type": "display_data"
    }
   ],
   "source": [
    "plot_roc_curve(best_model, features_valid, target_valid);"
   ]
  },
  {
   "cell_type": "markdown",
   "metadata": {},
   "source": [
    "Вышло совсем чуть хуже, чем при взвешивании классов (это подтверждает и AUC-ROC)"
   ]
  },
  {
   "cell_type": "markdown",
   "metadata": {},
   "source": [
    "### Downsampling"
   ]
  },
  {
   "cell_type": "markdown",
   "metadata": {},
   "source": [
    "Напишем функцию для уменьшения размера отрицательного класса:"
   ]
  },
  {
   "cell_type": "code",
   "execution_count": 37,
   "metadata": {},
   "outputs": [],
   "source": [
    "def downsample(features, target, fraction):\n",
    "    features_zeros = features[target == 0]\n",
    "    features_ones = features[target == 1]\n",
    "    target_zeros = target[target == 0]\n",
    "    target_ones = target[target == 1]\n",
    "\n",
    "    features_downsampled = pd.concat(\n",
    "        [features_zeros.sample(frac=fraction, random_state=12345)] + [features_ones])\n",
    "    target_downsampled = pd.concat(\n",
    "        [target_zeros.sample(frac=fraction, random_state=12345)] + [target_ones])\n",
    "    \n",
    "    features_downsampled, target_downsampled = shuffle(\n",
    "        features_downsampled, target_downsampled, random_state=12345)\n",
    "    \n",
    "    return features_downsampled, target_downsampled"
   ]
  },
  {
   "cell_type": "markdown",
   "metadata": {},
   "source": [
    "Преобразуем наши обучающие данные:"
   ]
  },
  {
   "cell_type": "code",
   "execution_count": 38,
   "metadata": {},
   "outputs": [],
   "source": [
    "features_downsampled, target_downsampled = downsample(features_train, target_train, 0.33)"
   ]
  },
  {
   "cell_type": "markdown",
   "metadata": {},
   "source": [
    "Подберём оптимальные параметры модели:"
   ]
  },
  {
   "cell_type": "code",
   "execution_count": 39,
   "metadata": {},
   "outputs": [
    {
     "name": "stdout",
     "output_type": "stream",
     "text": [
      "CPU times: user 31.5 s, sys: 355 ms, total: 31.8 s\n",
      "Wall time: 32.4 s\n"
     ]
    }
   ],
   "source": [
    "%%time\n",
    "\n",
    "best_model = None\n",
    "max_score = -1\n",
    "for depth in range(1,15):\n",
    "    for estimators in range(5,100,5):\n",
    "        model = RandomForestClassifier(n_estimators = estimators, max_depth = depth, random_state=12345)\n",
    "        model.fit(features_downsampled, target_downsampled)\n",
    "        score = f1_score(target_valid, model.predict(features_valid))\n",
    "        if score> max_score:\n",
    "            max_score = score\n",
    "            best_model = model"
   ]
  },
  {
   "cell_type": "code",
   "execution_count": 40,
   "metadata": {},
   "outputs": [
    {
     "name": "stdout",
     "output_type": "stream",
     "text": [
      "Наибольшая глубина дерева: 14\n",
      "Количество деревьев: 50\n",
      "F1-score: 0.588235294117647\n"
     ]
    }
   ],
   "source": [
    "print(\"Наибольшая глубина дерева:\", best_model.max_depth)\n",
    "print(\"Количество деревьев:\", best_model.n_estimators)\n",
    "print(\"F1-score:\", max_score)"
   ]
  },
  {
   "cell_type": "code",
   "execution_count": 41,
   "metadata": {
    "scrolled": true
   },
   "outputs": [
    {
     "name": "stderr",
     "output_type": "stream",
     "text": [
      "/opt/anaconda3/lib/python3.9/site-packages/sklearn/utils/deprecation.py:87: FutureWarning: Function plot_roc_curve is deprecated; Function :func:`plot_roc_curve` is deprecated in 1.0 and will be removed in 1.2. Use one of the class methods: :meth:`sklearn.metric.RocCurveDisplay.from_predictions` or :meth:`sklearn.metric.RocCurveDisplay.from_estimator`.\n",
      "  warnings.warn(msg, category=FutureWarning)\n"
     ]
    },
    {
     "data": {
      "image/png": "[encoded data removed]",
      "text/plain": [
       "<Figure size 432x288 with 1 Axes>"
      ]
     },
     "metadata": {
      "needs_background": "light"
     },
     "output_type": "display_data"
    }
   ],
   "source": [
    "plot_roc_curve(best_model, features_valid, target_valid);"
   ]
  },
  {
   "cell_type": "markdown",
   "metadata": {},
   "source": [
    "Качество такой модели немного ниже, чем при upsampling'е и при взвешивании классов."
   ]
  },
  {
   "cell_type": "markdown",
   "metadata": {},
   "source": [
    "### Сравнение с другим алгоритмом"
   ]
  },
  {
   "cell_type": "markdown",
   "metadata": {},
   "source": [
    "Для сравнения также обучим модель логистической регрессии с взвешиванием классов:"
   ]
  },
  {
   "cell_type": "code",
   "execution_count": 42,
   "metadata": {
    "scrolled": true
   },
   "outputs": [
    {
     "data": {
      "text/plain": [
       "LogisticRegression(class_weight='balanced', solver='liblinear')"
      ]
     },
     "execution_count": 42,
     "metadata": {},
     "output_type": "execute_result"
    }
   ],
   "source": [
    "model = LogisticRegression(solver='liblinear', class_weight='balanced')\n",
    "model.fit(features_train, target_train)"
   ]
  },
  {
   "cell_type": "markdown",
   "metadata": {},
   "source": [
    "Проверим значение F1 метрики на валидационной выборке:"
   ]
  },
  {
   "cell_type": "code",
   "execution_count": 43,
   "metadata": {},
   "outputs": [
    {
     "data": {
      "text/plain": [
       "0.45611610228058047"
      ]
     },
     "execution_count": 43,
     "metadata": {},
     "output_type": "execute_result"
    }
   ],
   "source": [
    "f1_score(target_valid, model.predict(features_valid))"
   ]
  },
  {
   "cell_type": "markdown",
   "metadata": {},
   "source": [
    "И посмотрим на AUC-ROC:"
   ]
  },
  {
   "cell_type": "code",
   "execution_count": 44,
   "metadata": {},
   "outputs": [
    {
     "name": "stderr",
     "output_type": "stream",
     "text": [
      "/opt/anaconda3/lib/python3.9/site-packages/sklearn/utils/deprecation.py:87: FutureWarning: Function plot_roc_curve is deprecated; Function :func:`plot_roc_curve` is deprecated in 1.0 and will be removed in 1.2. Use one of the class methods: :meth:`sklearn.metric.RocCurveDisplay.from_predictions` or :meth:`sklearn.metric.RocCurveDisplay.from_estimator`.\n",
      "  warnings.warn(msg, category=FutureWarning)\n"
     ]
    },
    {
     "data": {
      "image/png": "[encoded data removed]",
      "text/plain": [
       "<Figure size 432x288 with 1 Axes>"
      ]
     },
     "metadata": {
      "needs_background": "light"
     },
     "output_type": "display_data"
    }
   ],
   "source": [
    "plot_roc_curve(model, features_valid, target_valid);"
   ]
  },
  {
   "cell_type": "markdown",
   "metadata": {},
   "source": [
    "Получилось значительно хуже, чем у случайного леса, поэтому такую модель можно отбросить."
   ]
  },
  {
   "cell_type": "markdown",
   "metadata": {},
   "source": [
    "К слову, если убрать параметр class_weight и не использовать взвешивание классов, то F1 метрика упадёт почти в 1,5 раза."
   ]
  },
  {
   "cell_type": "markdown",
   "metadata": {},
   "source": [
    "## Тестирование модели"
   ]
  },
  {
   "cell_type": "markdown",
   "metadata": {},
   "source": [
    "Наилучшей оказалась модель случайного леса с максимальной глубиной дерева, равной 9, и количеством деревьев, равным 45. При этом следует использовать взвешивание классов:"
   ]
  },
  {
   "cell_type": "code",
   "execution_count": 45,
   "metadata": {},
   "outputs": [
    {
     "data": {
      "text/plain": [
       "RandomForestClassifier(class_weight='balanced', max_depth=9, n_estimators=45,\n",
       "                       random_state=12345)"
      ]
     },
     "execution_count": 45,
     "metadata": {},
     "output_type": "execute_result"
    }
   ],
   "source": [
    "best_model = RandomForestClassifier(n_estimators = 45, max_depth = 9, random_state=12345,\n",
    "                                    class_weight='balanced')\n",
    "best_model.fit(features_train, target_train)"
   ]
  },
  {
   "cell_type": "code",
   "execution_count": 46,
   "metadata": {},
   "outputs": [
    {
     "data": {
      "text/plain": [
       "0.6307837582625119"
      ]
     },
     "execution_count": 46,
     "metadata": {},
     "output_type": "execute_result"
    }
   ],
   "source": [
    "f1_score(target_test, best_model.predict(features_test))"
   ]
  },
  {
   "cell_type": "code",
   "execution_count": 47,
   "metadata": {},
   "outputs": [
    {
     "name": "stderr",
     "output_type": "stream",
     "text": [
      "/opt/anaconda3/lib/python3.9/site-packages/sklearn/utils/deprecation.py:87: FutureWarning: Function plot_roc_curve is deprecated; Function :func:`plot_roc_curve` is deprecated in 1.0 and will be removed in 1.2. Use one of the class methods: :meth:`sklearn.metric.RocCurveDisplay.from_predictions` or :meth:`sklearn.metric.RocCurveDisplay.from_estimator`.\n",
      "  warnings.warn(msg, category=FutureWarning)\n"
     ]
    },
    {
     "data": {
      "image/png": "[encoded data removed]",
      "text/plain": [
       "<Figure size 432x288 with 1 Axes>"
      ]
     },
     "metadata": {
      "needs_background": "light"
     },
     "output_type": "display_data"
    }
   ],
   "source": [
    "plot_roc_curve(best_model, features_valid, target_valid);"
   ]
  },
  {
   "cell_type": "markdown",
   "metadata": {},
   "source": [
    "Значение метрики F1 на тестовой выборке составило **~63.6%**, что выше требуемого порога в 59%."
   ]
  },
  {
   "cell_type": "markdown",
   "metadata": {},
   "source": [
    "Значение площади под ROC-кривой составило примерно 0.83, что говорит о том, что наша модель работает значительно лучше \"случайной модели\"."
   ]
  },
  {
   "cell_type": "markdown",
   "metadata": {},
   "source": [
    "Таким образом, полученная модель может использоваться для прогнозирования факта того, что клиент с определёнными признаками уйдёт"
   ]
  },
  {
   "cell_type": "markdown",
   "metadata": {},
   "source": [
    "## Чек-лист готовности проекта"
   ]
  },
  {
   "cell_type": "markdown",
   "metadata": {},
   "source": [
    "Поставьте 'x' в выполненных пунктах. Далее нажмите Shift+Enter."
   ]
  },
  {
   "cell_type": "markdown",
   "metadata": {},
   "source": [
    "- [x]  Jupyter Notebook открыт\n",
    "- [x]  Весь код выполняется без ошибок\n",
    "- [x]  Ячейки с кодом расположены в порядке исполнения\n",
    "- [x]  Выполнен шаг 1: данные подготовлены\n",
    "- [x]  Выполнен шаг 2: задача исследована\n",
    "    - [x]  Исследован баланс классов\n",
    "    - [x]  Изучены модели без учёта дисбаланса\n",
    "    - [x]  Написаны выводы по результатам исследования\n",
    "- [x]  Выполнен шаг 3: учтён дисбаланс\n",
    "    - [x]  Применено несколько способов борьбы с дисбалансом\n",
    "    - [x]  Написаны выводы по результатам исследования\n",
    "- [x]  Выполнен шаг 4: проведено тестирование\n",
    "- [x]  Удалось достичь *F1*-меры не менее 0.59\n",
    "- [x]  Исследована метрика *AUC-ROC*"
   ]
  }
 ],
 "metadata": {
  "ExecuteTimeLog": [
   {
    "duration": 49,
    "start_time": "2023-01-04T19:10:37.519Z"
   },
   {
    "duration": 387,
    "start_time": "2023-01-04T19:10:39.382Z"
   },
   {
    "duration": 159,
    "start_time": "2023-01-04T19:10:39.771Z"
   },
   {
    "duration": 19,
    "start_time": "2023-01-04T19:10:40.103Z"
   },
   {
    "duration": 4,
    "start_time": "2023-01-04T19:11:03.784Z"
   },
   {
    "duration": 4,
    "start_time": "2023-01-04T19:11:10.716Z"
   },
   {
    "duration": 3,
    "start_time": "2023-01-04T19:11:14.970Z"
   },
   {
    "duration": 16,
    "start_time": "2023-01-04T19:11:23.922Z"
   },
   {
    "duration": 7,
    "start_time": "2023-01-04T19:13:48.970Z"
   },
   {
    "duration": 3,
    "start_time": "2023-01-04T19:19:05.363Z"
   },
   {
    "duration": 14,
    "start_time": "2023-01-04T19:19:11.560Z"
   },
   {
    "duration": 35,
    "start_time": "2023-01-04T20:12:56.103Z"
   },
   {
    "duration": 6,
    "start_time": "2023-01-04T20:13:04.071Z"
   },
   {
    "duration": 12,
    "start_time": "2023-01-04T20:13:18.630Z"
   },
   {
    "duration": 350,
    "start_time": "2023-01-04T20:13:26.125Z"
   },
   {
    "duration": 41,
    "start_time": "2023-01-04T20:13:26.477Z"
   },
   {
    "duration": 20,
    "start_time": "2023-01-04T20:13:26.519Z"
   },
   {
    "duration": 13,
    "start_time": "2023-01-04T20:13:26.541Z"
   },
   {
    "duration": 3,
    "start_time": "2023-01-04T20:13:26.556Z"
   },
   {
    "duration": 6,
    "start_time": "2023-01-04T20:13:26.561Z"
   },
   {
    "duration": 20,
    "start_time": "2023-01-04T20:13:26.569Z"
   },
   {
    "duration": 5,
    "start_time": "2023-01-04T20:25:12.973Z"
   },
   {
    "duration": 4,
    "start_time": "2023-01-04T20:25:27.322Z"
   },
   {
    "duration": 65,
    "start_time": "2023-01-04T20:26:18.725Z"
   },
   {
    "duration": 5,
    "start_time": "2023-01-04T20:26:23.613Z"
   },
   {
    "duration": 71,
    "start_time": "2023-01-04T20:26:28.049Z"
   },
   {
    "duration": 5,
    "start_time": "2023-01-04T20:26:32.292Z"
   },
   {
    "duration": 70,
    "start_time": "2023-01-04T20:26:36.400Z"
   },
   {
    "duration": 5,
    "start_time": "2023-01-04T20:26:40.979Z"
   },
   {
    "duration": 4,
    "start_time": "2023-01-04T20:26:45.138Z"
   },
   {
    "duration": 4,
    "start_time": "2023-01-04T20:26:48.058Z"
   },
   {
    "duration": 3,
    "start_time": "2023-01-04T20:27:41.253Z"
   },
   {
    "duration": 12,
    "start_time": "2023-01-04T20:27:47.127Z"
   },
   {
    "duration": 65,
    "start_time": "2023-01-04T20:28:55.867Z"
   },
   {
    "duration": 4,
    "start_time": "2023-01-04T20:29:21.175Z"
   },
   {
    "duration": 332,
    "start_time": "2023-01-04T20:29:24.232Z"
   },
   {
    "duration": 40,
    "start_time": "2023-01-04T20:29:24.566Z"
   },
   {
    "duration": 18,
    "start_time": "2023-01-04T20:29:24.607Z"
   },
   {
    "duration": 24,
    "start_time": "2023-01-04T20:29:24.626Z"
   },
   {
    "duration": 25,
    "start_time": "2023-01-04T20:29:24.652Z"
   },
   {
    "duration": 21,
    "start_time": "2023-01-04T20:29:24.678Z"
   },
   {
    "duration": 22,
    "start_time": "2023-01-04T20:29:24.701Z"
   },
   {
    "duration": 9,
    "start_time": "2023-01-04T20:29:24.725Z"
   },
   {
    "duration": 35,
    "start_time": "2023-01-04T20:29:24.735Z"
   },
   {
    "duration": 8,
    "start_time": "2023-01-04T20:30:11.155Z"
   },
   {
    "duration": 6,
    "start_time": "2023-01-04T21:08:27.356Z"
   },
   {
    "duration": 67,
    "start_time": "2023-01-04T21:08:53.662Z"
   },
   {
    "duration": 500,
    "start_time": "2023-01-04T21:09:01.913Z"
   },
   {
    "duration": 382,
    "start_time": "2023-01-04T21:10:02.801Z"
   },
   {
    "duration": 45,
    "start_time": "2023-01-04T21:10:03.184Z"
   },
   {
    "duration": 18,
    "start_time": "2023-01-04T21:10:03.231Z"
   },
   {
    "duration": 12,
    "start_time": "2023-01-04T21:10:03.250Z"
   },
   {
    "duration": 3,
    "start_time": "2023-01-04T21:10:03.263Z"
   },
   {
    "duration": 7,
    "start_time": "2023-01-04T21:10:03.267Z"
   },
   {
    "duration": 16,
    "start_time": "2023-01-04T21:10:03.275Z"
   },
   {
    "duration": 8,
    "start_time": "2023-01-04T21:10:03.292Z"
   },
   {
    "duration": 15,
    "start_time": "2023-01-04T21:10:03.302Z"
   },
   {
    "duration": 9,
    "start_time": "2023-01-04T21:10:03.319Z"
   },
   {
    "duration": 378,
    "start_time": "2023-01-04T21:10:03.330Z"
   },
   {
    "duration": 9,
    "start_time": "2023-01-04T21:41:33.420Z"
   },
   {
    "duration": 9,
    "start_time": "2023-01-04T21:41:45.176Z"
   },
   {
    "duration": 4,
    "start_time": "2023-01-04T21:47:46.571Z"
   },
   {
    "duration": 11,
    "start_time": "2023-01-04T21:47:55.259Z"
   },
   {
    "duration": 4,
    "start_time": "2023-01-04T21:49:06.977Z"
   },
   {
    "duration": 13,
    "start_time": "2023-01-04T21:49:11.407Z"
   },
   {
    "duration": 12,
    "start_time": "2023-01-04T21:49:20.900Z"
   },
   {
    "duration": 13,
    "start_time": "2023-01-04T21:49:27.298Z"
   },
   {
    "duration": 350,
    "start_time": "2023-01-04T21:49:32.210Z"
   },
   {
    "duration": 39,
    "start_time": "2023-01-04T21:49:32.562Z"
   },
   {
    "duration": 18,
    "start_time": "2023-01-04T21:49:32.603Z"
   },
   {
    "duration": 13,
    "start_time": "2023-01-04T21:49:32.622Z"
   },
   {
    "duration": 3,
    "start_time": "2023-01-04T21:49:32.636Z"
   },
   {
    "duration": 10,
    "start_time": "2023-01-04T21:49:32.641Z"
   },
   {
    "duration": 9,
    "start_time": "2023-01-04T21:49:32.652Z"
   },
   {
    "duration": 7,
    "start_time": "2023-01-04T21:49:32.663Z"
   },
   {
    "duration": 15,
    "start_time": "2023-01-04T21:49:32.677Z"
   },
   {
    "duration": 11,
    "start_time": "2023-01-04T21:49:32.693Z"
   },
   {
    "duration": 16,
    "start_time": "2023-01-04T21:49:32.705Z"
   },
   {
    "duration": 7,
    "start_time": "2023-01-04T21:49:32.723Z"
   },
   {
    "duration": 15,
    "start_time": "2023-01-04T21:49:32.731Z"
   },
   {
    "duration": 8,
    "start_time": "2023-01-04T21:49:32.748Z"
   },
   {
    "duration": 342,
    "start_time": "2023-01-04T21:49:32.757Z"
   },
   {
    "duration": 1027,
    "start_time": "2023-01-04T21:50:25.041Z"
   },
   {
    "duration": 39,
    "start_time": "2023-01-04T21:50:26.070Z"
   },
   {
    "duration": 19,
    "start_time": "2023-01-04T21:50:26.111Z"
   },
   {
    "duration": 12,
    "start_time": "2023-01-04T21:50:26.132Z"
   },
   {
    "duration": 3,
    "start_time": "2023-01-04T21:50:26.146Z"
   },
   {
    "duration": 8,
    "start_time": "2023-01-04T21:50:26.150Z"
   },
   {
    "duration": 19,
    "start_time": "2023-01-04T21:50:26.159Z"
   },
   {
    "duration": 14,
    "start_time": "2023-01-04T21:50:26.181Z"
   },
   {
    "duration": 10,
    "start_time": "2023-01-04T21:50:26.197Z"
   },
   {
    "duration": 6,
    "start_time": "2023-01-04T21:50:26.209Z"
   },
   {
    "duration": 14,
    "start_time": "2023-01-04T21:50:26.217Z"
   },
   {
    "duration": 5,
    "start_time": "2023-01-04T21:50:26.233Z"
   },
   {
    "duration": 13,
    "start_time": "2023-01-04T21:50:26.240Z"
   },
   {
    "duration": 26,
    "start_time": "2023-01-04T21:50:26.255Z"
   },
   {
    "duration": 371,
    "start_time": "2023-01-04T21:50:26.283Z"
   },
   {
    "duration": 103,
    "start_time": "2023-01-04T21:52:03.676Z"
   },
   {
    "duration": 17,
    "start_time": "2023-01-04T21:52:14.785Z"
   },
   {
    "duration": 1017,
    "start_time": "2023-01-04T21:53:17.024Z"
   },
   {
    "duration": 42,
    "start_time": "2023-01-04T21:53:18.043Z"
   },
   {
    "duration": 20,
    "start_time": "2023-01-04T21:53:18.086Z"
   },
   {
    "duration": 33,
    "start_time": "2023-01-04T21:53:18.108Z"
   },
   {
    "duration": 5,
    "start_time": "2023-01-04T21:53:18.143Z"
   },
   {
    "duration": 18,
    "start_time": "2023-01-04T21:53:18.149Z"
   },
   {
    "duration": 33,
    "start_time": "2023-01-04T21:53:18.168Z"
   },
   {
    "duration": 27,
    "start_time": "2023-01-04T21:53:18.203Z"
   },
   {
    "duration": 27,
    "start_time": "2023-01-04T21:53:18.232Z"
   },
   {
    "duration": 10,
    "start_time": "2023-01-04T21:53:18.263Z"
   },
   {
    "duration": 31,
    "start_time": "2023-01-04T21:53:18.275Z"
   },
   {
    "duration": 108,
    "start_time": "2023-01-04T21:53:18.308Z"
   },
   {
    "duration": 0,
    "start_time": "2023-01-04T21:53:18.418Z"
   },
   {
    "duration": 0,
    "start_time": "2023-01-04T21:53:18.419Z"
   },
   {
    "duration": 0,
    "start_time": "2023-01-04T21:53:18.420Z"
   },
   {
    "duration": 0,
    "start_time": "2023-01-04T21:53:18.421Z"
   },
   {
    "duration": 20,
    "start_time": "2023-01-04T21:53:49.217Z"
   },
   {
    "duration": 22,
    "start_time": "2023-01-04T21:58:25.075Z"
   },
   {
    "duration": 10,
    "start_time": "2023-01-04T21:58:41.239Z"
   },
   {
    "duration": 13,
    "start_time": "2023-01-04T21:58:50.928Z"
   },
   {
    "duration": 1166,
    "start_time": "2023-01-04T21:59:10.964Z"
   },
   {
    "duration": 41,
    "start_time": "2023-01-04T21:59:12.132Z"
   },
   {
    "duration": 34,
    "start_time": "2023-01-04T21:59:12.175Z"
   },
   {
    "duration": 20,
    "start_time": "2023-01-04T21:59:12.213Z"
   },
   {
    "duration": 4,
    "start_time": "2023-01-04T21:59:12.235Z"
   },
   {
    "duration": 9,
    "start_time": "2023-01-04T21:59:12.241Z"
   },
   {
    "duration": 8,
    "start_time": "2023-01-04T21:59:12.252Z"
   },
   {
    "duration": 24,
    "start_time": "2023-01-04T21:59:12.263Z"
   },
   {
    "duration": 14,
    "start_time": "2023-01-04T21:59:12.290Z"
   },
   {
    "duration": 123,
    "start_time": "2023-01-04T21:59:12.306Z"
   },
   {
    "duration": 0,
    "start_time": "2023-01-04T21:59:12.430Z"
   },
   {
    "duration": 0,
    "start_time": "2023-01-04T21:59:12.432Z"
   },
   {
    "duration": 0,
    "start_time": "2023-01-04T21:59:12.433Z"
   },
   {
    "duration": 0,
    "start_time": "2023-01-04T21:59:12.435Z"
   },
   {
    "duration": 0,
    "start_time": "2023-01-04T21:59:12.436Z"
   },
   {
    "duration": 0,
    "start_time": "2023-01-04T21:59:12.437Z"
   },
   {
    "duration": 0,
    "start_time": "2023-01-04T21:59:12.439Z"
   },
   {
    "duration": 14,
    "start_time": "2023-01-04T21:59:22.225Z"
   },
   {
    "duration": 13,
    "start_time": "2023-01-04T21:59:43.411Z"
   },
   {
    "duration": 14,
    "start_time": "2023-01-04T21:59:47.148Z"
   },
   {
    "duration": 18,
    "start_time": "2023-01-04T22:00:00.366Z"
   },
   {
    "duration": 9,
    "start_time": "2023-01-04T22:00:04.770Z"
   },
   {
    "duration": 1164,
    "start_time": "2023-01-04T22:00:12.456Z"
   },
   {
    "duration": 41,
    "start_time": "2023-01-04T22:00:13.624Z"
   },
   {
    "duration": 26,
    "start_time": "2023-01-04T22:00:13.666Z"
   },
   {
    "duration": 18,
    "start_time": "2023-01-04T22:00:13.702Z"
   },
   {
    "duration": 7,
    "start_time": "2023-01-04T22:00:13.722Z"
   },
   {
    "duration": 29,
    "start_time": "2023-01-04T22:00:13.731Z"
   },
   {
    "duration": 10,
    "start_time": "2023-01-04T22:00:13.762Z"
   },
   {
    "duration": 43,
    "start_time": "2023-01-04T22:00:13.773Z"
   },
   {
    "duration": 14,
    "start_time": "2023-01-04T22:00:13.818Z"
   },
   {
    "duration": 107,
    "start_time": "2023-01-04T22:00:13.834Z"
   },
   {
    "duration": 0,
    "start_time": "2023-01-04T22:00:13.944Z"
   },
   {
    "duration": 0,
    "start_time": "2023-01-04T22:00:13.945Z"
   },
   {
    "duration": 0,
    "start_time": "2023-01-04T22:00:13.947Z"
   },
   {
    "duration": 0,
    "start_time": "2023-01-04T22:00:13.948Z"
   },
   {
    "duration": 0,
    "start_time": "2023-01-04T22:00:13.949Z"
   },
   {
    "duration": 0,
    "start_time": "2023-01-04T22:00:13.950Z"
   },
   {
    "duration": 0,
    "start_time": "2023-01-04T22:00:13.952Z"
   },
   {
    "duration": 10,
    "start_time": "2023-01-04T22:00:20.103Z"
   },
   {
    "duration": 7,
    "start_time": "2023-01-04T22:00:22.419Z"
   },
   {
    "duration": 6,
    "start_time": "2023-01-04T22:01:49.195Z"
   },
   {
    "duration": 21,
    "start_time": "2023-01-04T22:01:53.272Z"
   },
   {
    "duration": 8,
    "start_time": "2023-01-04T22:02:04.497Z"
   },
   {
    "duration": 1045,
    "start_time": "2023-01-04T22:02:25.095Z"
   },
   {
    "duration": 48,
    "start_time": "2023-01-04T22:02:26.141Z"
   },
   {
    "duration": 19,
    "start_time": "2023-01-04T22:02:26.190Z"
   },
   {
    "duration": 12,
    "start_time": "2023-01-04T22:02:26.211Z"
   },
   {
    "duration": 2,
    "start_time": "2023-01-04T22:02:26.225Z"
   },
   {
    "duration": 9,
    "start_time": "2023-01-04T22:02:26.229Z"
   },
   {
    "duration": 9,
    "start_time": "2023-01-04T22:02:26.239Z"
   },
   {
    "duration": 6,
    "start_time": "2023-01-04T22:02:26.250Z"
   },
   {
    "duration": 7,
    "start_time": "2023-01-04T22:02:26.258Z"
   },
   {
    "duration": 20,
    "start_time": "2023-01-04T22:02:26.267Z"
   },
   {
    "duration": 13,
    "start_time": "2023-01-04T22:02:26.288Z"
   },
   {
    "duration": 7,
    "start_time": "2023-01-04T22:02:26.303Z"
   },
   {
    "duration": 4,
    "start_time": "2023-01-04T22:02:26.312Z"
   },
   {
    "duration": 14,
    "start_time": "2023-01-04T22:02:26.318Z"
   },
   {
    "duration": 33,
    "start_time": "2023-01-04T22:02:26.334Z"
   },
   {
    "duration": 98,
    "start_time": "2023-01-04T22:02:26.368Z"
   },
   {
    "duration": 0,
    "start_time": "2023-01-04T22:02:26.468Z"
   },
   {
    "duration": 0,
    "start_time": "2023-01-04T22:02:26.469Z"
   },
   {
    "duration": 0,
    "start_time": "2023-01-04T22:02:26.470Z"
   },
   {
    "duration": 1056,
    "start_time": "2023-01-04T22:03:38.229Z"
   },
   {
    "duration": 43,
    "start_time": "2023-01-04T22:03:39.288Z"
   },
   {
    "duration": 20,
    "start_time": "2023-01-04T22:03:39.332Z"
   },
   {
    "duration": 12,
    "start_time": "2023-01-04T22:03:39.354Z"
   },
   {
    "duration": 3,
    "start_time": "2023-01-04T22:03:39.368Z"
   },
   {
    "duration": 24,
    "start_time": "2023-01-04T22:03:39.373Z"
   },
   {
    "duration": 10,
    "start_time": "2023-01-04T22:03:39.399Z"
   },
   {
    "duration": 5,
    "start_time": "2023-01-04T22:03:39.411Z"
   },
   {
    "duration": 8,
    "start_time": "2023-01-04T22:03:39.417Z"
   },
   {
    "duration": 6,
    "start_time": "2023-01-04T22:03:39.428Z"
   },
   {
    "duration": 5,
    "start_time": "2023-01-04T22:03:39.436Z"
   },
   {
    "duration": 6,
    "start_time": "2023-01-04T22:03:39.442Z"
   },
   {
    "duration": 44,
    "start_time": "2023-01-04T22:03:39.450Z"
   },
   {
    "duration": 36,
    "start_time": "2023-01-04T22:03:39.495Z"
   },
   {
    "duration": 113,
    "start_time": "2023-01-04T22:03:39.533Z"
   },
   {
    "duration": 0,
    "start_time": "2023-01-04T22:03:39.647Z"
   },
   {
    "duration": 0,
    "start_time": "2023-01-04T22:03:39.649Z"
   },
   {
    "duration": 0,
    "start_time": "2023-01-04T22:03:39.650Z"
   },
   {
    "duration": 1045,
    "start_time": "2023-01-04T22:03:49.393Z"
   },
   {
    "duration": 48,
    "start_time": "2023-01-04T22:03:50.440Z"
   },
   {
    "duration": 20,
    "start_time": "2023-01-04T22:03:50.489Z"
   },
   {
    "duration": 12,
    "start_time": "2023-01-04T22:03:50.510Z"
   },
   {
    "duration": 3,
    "start_time": "2023-01-04T22:03:50.524Z"
   },
   {
    "duration": 10,
    "start_time": "2023-01-04T22:03:50.528Z"
   },
   {
    "duration": 6,
    "start_time": "2023-01-04T22:03:50.540Z"
   },
   {
    "duration": 8,
    "start_time": "2023-01-04T22:03:50.548Z"
   },
   {
    "duration": 10,
    "start_time": "2023-01-04T22:03:50.558Z"
   },
   {
    "duration": 21,
    "start_time": "2023-01-04T22:03:50.570Z"
   },
   {
    "duration": 8,
    "start_time": "2023-01-04T22:03:50.593Z"
   },
   {
    "duration": 7,
    "start_time": "2023-01-04T22:03:50.603Z"
   },
   {
    "duration": 23,
    "start_time": "2023-01-04T22:03:50.612Z"
   },
   {
    "duration": 38,
    "start_time": "2023-01-04T22:03:50.637Z"
   },
   {
    "duration": 18,
    "start_time": "2023-01-04T22:03:50.676Z"
   },
   {
    "duration": 8,
    "start_time": "2023-01-04T22:03:50.696Z"
   },
   {
    "duration": 368,
    "start_time": "2023-01-04T22:03:50.705Z"
   },
   {
    "duration": 21,
    "start_time": "2023-01-04T22:03:58.802Z"
   },
   {
    "duration": 1033,
    "start_time": "2023-01-04T22:09:42.564Z"
   },
   {
    "duration": 42,
    "start_time": "2023-01-04T22:09:43.599Z"
   },
   {
    "duration": 19,
    "start_time": "2023-01-04T22:09:43.643Z"
   },
   {
    "duration": 13,
    "start_time": "2023-01-04T22:09:43.663Z"
   },
   {
    "duration": 3,
    "start_time": "2023-01-04T22:09:43.679Z"
   },
   {
    "duration": 5,
    "start_time": "2023-01-04T22:09:43.684Z"
   },
   {
    "duration": 6,
    "start_time": "2023-01-04T22:09:43.691Z"
   },
   {
    "duration": 4,
    "start_time": "2023-01-04T22:09:43.699Z"
   },
   {
    "duration": 7,
    "start_time": "2023-01-04T22:09:43.705Z"
   },
   {
    "duration": 5,
    "start_time": "2023-01-04T22:09:43.714Z"
   },
   {
    "duration": 5,
    "start_time": "2023-01-04T22:09:43.721Z"
   },
   {
    "duration": 5,
    "start_time": "2023-01-04T22:09:43.728Z"
   },
   {
    "duration": 53,
    "start_time": "2023-01-04T22:09:43.734Z"
   },
   {
    "duration": 31,
    "start_time": "2023-01-04T22:09:43.790Z"
   },
   {
    "duration": 107,
    "start_time": "2023-01-04T22:09:43.823Z"
   },
   {
    "duration": 0,
    "start_time": "2023-01-04T22:09:43.932Z"
   },
   {
    "duration": 0,
    "start_time": "2023-01-04T22:09:43.934Z"
   },
   {
    "duration": 1005,
    "start_time": "2023-01-04T22:10:40.419Z"
   },
   {
    "duration": 40,
    "start_time": "2023-01-04T22:10:41.426Z"
   },
   {
    "duration": 19,
    "start_time": "2023-01-04T22:10:41.468Z"
   },
   {
    "duration": 55,
    "start_time": "2023-01-04T22:10:41.489Z"
   },
   {
    "duration": 53,
    "start_time": "2023-01-04T22:10:41.546Z"
   },
   {
    "duration": 34,
    "start_time": "2023-01-04T22:10:41.601Z"
   },
   {
    "duration": 65,
    "start_time": "2023-01-04T22:10:41.637Z"
   },
   {
    "duration": 43,
    "start_time": "2023-01-04T22:10:41.704Z"
   },
   {
    "duration": 51,
    "start_time": "2023-01-04T22:10:41.749Z"
   },
   {
    "duration": 29,
    "start_time": "2023-01-04T22:10:41.803Z"
   },
   {
    "duration": 45,
    "start_time": "2023-01-04T22:10:41.833Z"
   },
   {
    "duration": 28,
    "start_time": "2023-01-04T22:10:41.880Z"
   },
   {
    "duration": 45,
    "start_time": "2023-01-04T22:10:41.910Z"
   },
   {
    "duration": 63,
    "start_time": "2023-01-04T22:10:41.956Z"
   },
   {
    "duration": 19,
    "start_time": "2023-01-04T22:10:42.021Z"
   },
   {
    "duration": 22,
    "start_time": "2023-01-04T22:10:42.042Z"
   },
   {
    "duration": 388,
    "start_time": "2023-01-04T22:10:42.066Z"
   },
   {
    "duration": 1076,
    "start_time": "2023-01-04T22:11:33.152Z"
   },
   {
    "duration": 39,
    "start_time": "2023-01-04T22:11:34.230Z"
   },
   {
    "duration": 18,
    "start_time": "2023-01-04T22:11:34.270Z"
   },
   {
    "duration": 11,
    "start_time": "2023-01-04T22:11:34.290Z"
   },
   {
    "duration": 2,
    "start_time": "2023-01-04T22:11:34.303Z"
   },
   {
    "duration": 9,
    "start_time": "2023-01-04T22:11:34.306Z"
   },
   {
    "duration": 7,
    "start_time": "2023-01-04T22:11:34.317Z"
   },
   {
    "duration": 6,
    "start_time": "2023-01-04T22:11:34.325Z"
   },
   {
    "duration": 7,
    "start_time": "2023-01-04T22:11:34.333Z"
   },
   {
    "duration": 9,
    "start_time": "2023-01-04T22:11:34.342Z"
   },
   {
    "duration": 26,
    "start_time": "2023-01-04T22:11:34.352Z"
   },
   {
    "duration": 5,
    "start_time": "2023-01-04T22:11:34.379Z"
   },
   {
    "duration": 15,
    "start_time": "2023-01-04T22:11:34.385Z"
   },
   {
    "duration": 100,
    "start_time": "2023-01-04T22:11:34.401Z"
   },
   {
    "duration": 0,
    "start_time": "2023-01-04T22:11:34.502Z"
   },
   {
    "duration": 0,
    "start_time": "2023-01-04T22:11:34.504Z"
   },
   {
    "duration": 0,
    "start_time": "2023-01-04T22:11:34.504Z"
   },
   {
    "duration": 1025,
    "start_time": "2023-01-04T22:17:41.501Z"
   },
   {
    "duration": 42,
    "start_time": "2023-01-04T22:17:42.528Z"
   },
   {
    "duration": 22,
    "start_time": "2023-01-04T22:17:42.571Z"
   },
   {
    "duration": 15,
    "start_time": "2023-01-04T22:17:42.594Z"
   },
   {
    "duration": 3,
    "start_time": "2023-01-04T22:17:42.611Z"
   },
   {
    "duration": 6,
    "start_time": "2023-01-04T22:17:42.616Z"
   },
   {
    "duration": 7,
    "start_time": "2023-01-04T22:17:42.623Z"
   },
   {
    "duration": 7,
    "start_time": "2023-01-04T22:17:42.631Z"
   },
   {
    "duration": 10,
    "start_time": "2023-01-04T22:17:42.640Z"
   },
   {
    "duration": 27,
    "start_time": "2023-01-04T22:17:42.652Z"
   },
   {
    "duration": 7,
    "start_time": "2023-01-04T22:17:42.681Z"
   },
   {
    "duration": 7,
    "start_time": "2023-01-04T22:17:42.689Z"
   },
   {
    "duration": 13,
    "start_time": "2023-01-04T22:17:42.698Z"
   },
   {
    "duration": 8,
    "start_time": "2023-01-04T22:17:42.712Z"
   },
   {
    "duration": 98,
    "start_time": "2023-01-04T22:17:42.722Z"
   },
   {
    "duration": 0,
    "start_time": "2023-01-04T22:17:42.821Z"
   },
   {
    "duration": 0,
    "start_time": "2023-01-04T22:17:42.822Z"
   },
   {
    "duration": 0,
    "start_time": "2023-01-04T22:17:42.822Z"
   },
   {
    "duration": 0,
    "start_time": "2023-01-04T22:17:42.824Z"
   },
   {
    "duration": 11,
    "start_time": "2023-01-04T22:17:53.209Z"
   },
   {
    "duration": 5,
    "start_time": "2023-01-04T22:18:05.855Z"
   },
   {
    "duration": 11,
    "start_time": "2023-01-04T22:18:06.416Z"
   },
   {
    "duration": 1015,
    "start_time": "2023-01-04T22:18:14.996Z"
   },
   {
    "duration": 39,
    "start_time": "2023-01-04T22:18:16.013Z"
   },
   {
    "duration": 19,
    "start_time": "2023-01-04T22:18:16.054Z"
   },
   {
    "duration": 12,
    "start_time": "2023-01-04T22:18:16.075Z"
   },
   {
    "duration": 4,
    "start_time": "2023-01-04T22:18:16.088Z"
   },
   {
    "duration": 7,
    "start_time": "2023-01-04T22:18:16.093Z"
   },
   {
    "duration": 7,
    "start_time": "2023-01-04T22:18:16.102Z"
   },
   {
    "duration": 6,
    "start_time": "2023-01-04T22:18:16.110Z"
   },
   {
    "duration": 8,
    "start_time": "2023-01-04T22:18:16.117Z"
   },
   {
    "duration": 6,
    "start_time": "2023-01-04T22:18:16.127Z"
   },
   {
    "duration": 5,
    "start_time": "2023-01-04T22:18:16.134Z"
   },
   {
    "duration": 5,
    "start_time": "2023-01-04T22:18:16.141Z"
   },
   {
    "duration": 42,
    "start_time": "2023-01-04T22:18:16.147Z"
   },
   {
    "duration": 8,
    "start_time": "2023-01-04T22:18:16.190Z"
   },
   {
    "duration": 14,
    "start_time": "2023-01-04T22:18:16.199Z"
   },
   {
    "duration": 96,
    "start_time": "2023-01-04T22:18:16.214Z"
   },
   {
    "duration": 0,
    "start_time": "2023-01-04T22:18:16.311Z"
   },
   {
    "duration": 0,
    "start_time": "2023-01-04T22:18:16.312Z"
   },
   {
    "duration": 0,
    "start_time": "2023-01-04T22:18:16.313Z"
   },
   {
    "duration": 0,
    "start_time": "2023-01-04T22:18:16.314Z"
   },
   {
    "duration": 9,
    "start_time": "2023-01-04T22:20:38.181Z"
   },
   {
    "duration": 19,
    "start_time": "2023-01-04T22:22:13.656Z"
   },
   {
    "duration": 24,
    "start_time": "2023-01-04T22:22:29.203Z"
   },
   {
    "duration": 1045,
    "start_time": "2023-01-04T22:22:32.600Z"
   },
   {
    "duration": 40,
    "start_time": "2023-01-04T22:22:33.647Z"
   },
   {
    "duration": 18,
    "start_time": "2023-01-04T22:22:33.689Z"
   },
   {
    "duration": 13,
    "start_time": "2023-01-04T22:22:33.708Z"
   },
   {
    "duration": 10,
    "start_time": "2023-01-04T22:22:33.723Z"
   },
   {
    "duration": 14,
    "start_time": "2023-01-04T22:22:33.734Z"
   },
   {
    "duration": 7,
    "start_time": "2023-01-04T22:22:33.750Z"
   },
   {
    "duration": 21,
    "start_time": "2023-01-04T22:22:33.758Z"
   },
   {
    "duration": 9,
    "start_time": "2023-01-04T22:22:33.780Z"
   },
   {
    "duration": 5,
    "start_time": "2023-01-04T22:22:33.792Z"
   },
   {
    "duration": 12,
    "start_time": "2023-01-04T22:22:33.799Z"
   },
   {
    "duration": 6,
    "start_time": "2023-01-04T22:22:33.813Z"
   },
   {
    "duration": 13,
    "start_time": "2023-01-04T22:22:33.820Z"
   },
   {
    "duration": 44,
    "start_time": "2023-01-04T22:22:33.835Z"
   },
   {
    "duration": 17,
    "start_time": "2023-01-04T22:22:33.881Z"
   },
   {
    "duration": 118,
    "start_time": "2023-01-04T22:22:33.899Z"
   },
   {
    "duration": 0,
    "start_time": "2023-01-04T22:22:34.019Z"
   },
   {
    "duration": 0,
    "start_time": "2023-01-04T22:22:34.021Z"
   },
   {
    "duration": 0,
    "start_time": "2023-01-04T22:22:34.023Z"
   },
   {
    "duration": 0,
    "start_time": "2023-01-04T22:22:34.024Z"
   },
   {
    "duration": 1028,
    "start_time": "2023-01-04T22:22:47.959Z"
   },
   {
    "duration": 39,
    "start_time": "2023-01-04T22:22:48.988Z"
   },
   {
    "duration": 20,
    "start_time": "2023-01-04T22:22:49.029Z"
   },
   {
    "duration": 13,
    "start_time": "2023-01-04T22:22:49.052Z"
   },
   {
    "duration": 3,
    "start_time": "2023-01-04T22:22:49.066Z"
   },
   {
    "duration": 8,
    "start_time": "2023-01-04T22:22:49.071Z"
   },
   {
    "duration": 14,
    "start_time": "2023-01-04T22:22:49.080Z"
   },
   {
    "duration": 7,
    "start_time": "2023-01-04T22:22:49.096Z"
   },
   {
    "duration": 11,
    "start_time": "2023-01-04T22:22:49.105Z"
   },
   {
    "duration": 8,
    "start_time": "2023-01-04T22:22:49.118Z"
   },
   {
    "duration": 8,
    "start_time": "2023-01-04T22:22:49.127Z"
   },
   {
    "duration": 9,
    "start_time": "2023-01-04T22:22:49.136Z"
   },
   {
    "duration": 34,
    "start_time": "2023-01-04T22:22:49.147Z"
   },
   {
    "duration": 11,
    "start_time": "2023-01-04T22:22:49.182Z"
   },
   {
    "duration": 12,
    "start_time": "2023-01-04T22:22:49.194Z"
   },
   {
    "duration": 100,
    "start_time": "2023-01-04T22:22:49.208Z"
   },
   {
    "duration": 0,
    "start_time": "2023-01-04T22:22:49.310Z"
   },
   {
    "duration": 0,
    "start_time": "2023-01-04T22:22:49.311Z"
   },
   {
    "duration": 0,
    "start_time": "2023-01-04T22:22:49.312Z"
   },
   {
    "duration": 0,
    "start_time": "2023-01-04T22:22:49.314Z"
   },
   {
    "duration": 983,
    "start_time": "2023-01-04T22:24:19.809Z"
   },
   {
    "duration": 39,
    "start_time": "2023-01-04T22:24:20.794Z"
   },
   {
    "duration": 19,
    "start_time": "2023-01-04T22:24:20.834Z"
   },
   {
    "duration": 12,
    "start_time": "2023-01-04T22:24:20.856Z"
   },
   {
    "duration": 3,
    "start_time": "2023-01-04T22:24:20.870Z"
   },
   {
    "duration": 8,
    "start_time": "2023-01-04T22:24:20.875Z"
   },
   {
    "duration": 6,
    "start_time": "2023-01-04T22:24:20.884Z"
   },
   {
    "duration": 6,
    "start_time": "2023-01-04T22:24:20.891Z"
   },
   {
    "duration": 9,
    "start_time": "2023-01-04T22:24:20.898Z"
   },
   {
    "duration": 4,
    "start_time": "2023-01-04T22:24:20.909Z"
   },
   {
    "duration": 5,
    "start_time": "2023-01-04T22:24:20.914Z"
   },
   {
    "duration": 8,
    "start_time": "2023-01-04T22:24:20.921Z"
   },
   {
    "duration": 17,
    "start_time": "2023-01-04T22:24:20.930Z"
   },
   {
    "duration": 35,
    "start_time": "2023-01-04T22:24:20.949Z"
   },
   {
    "duration": 13,
    "start_time": "2023-01-04T22:24:20.985Z"
   },
   {
    "duration": 9,
    "start_time": "2023-01-04T22:24:20.999Z"
   },
   {
    "duration": 364,
    "start_time": "2023-01-04T22:24:21.010Z"
   },
   {
    "duration": 1012,
    "start_time": "2023-01-04T22:24:52.390Z"
   },
   {
    "duration": 38,
    "start_time": "2023-01-04T22:24:53.404Z"
   },
   {
    "duration": 17,
    "start_time": "2023-01-04T22:24:53.444Z"
   },
   {
    "duration": 16,
    "start_time": "2023-01-04T22:24:53.463Z"
   },
   {
    "duration": 6,
    "start_time": "2023-01-04T22:24:53.481Z"
   },
   {
    "duration": 7,
    "start_time": "2023-01-04T22:24:53.488Z"
   },
   {
    "duration": 10,
    "start_time": "2023-01-04T22:24:53.496Z"
   },
   {
    "duration": 10,
    "start_time": "2023-01-04T22:24:53.508Z"
   },
   {
    "duration": 8,
    "start_time": "2023-01-04T22:24:53.519Z"
   },
   {
    "duration": 8,
    "start_time": "2023-01-04T22:24:53.528Z"
   },
   {
    "duration": 5,
    "start_time": "2023-01-04T22:24:53.537Z"
   },
   {
    "duration": 5,
    "start_time": "2023-01-04T22:24:53.544Z"
   },
   {
    "duration": 6,
    "start_time": "2023-01-04T22:24:53.550Z"
   },
   {
    "duration": 29,
    "start_time": "2023-01-04T22:24:53.558Z"
   },
   {
    "duration": 8,
    "start_time": "2023-01-04T22:24:53.588Z"
   },
   {
    "duration": 11,
    "start_time": "2023-01-04T22:24:53.597Z"
   },
   {
    "duration": 16,
    "start_time": "2023-01-04T22:24:53.609Z"
   },
   {
    "duration": 366,
    "start_time": "2023-01-04T22:24:53.627Z"
   },
   {
    "duration": 6,
    "start_time": "2023-01-04T22:26:11.842Z"
   },
   {
    "duration": 5,
    "start_time": "2023-01-04T23:01:24.720Z"
   },
   {
    "duration": 1041,
    "start_time": "2023-01-04T23:01:41.225Z"
   },
   {
    "duration": 0,
    "start_time": "2023-01-04T23:01:42.268Z"
   },
   {
    "duration": 0,
    "start_time": "2023-01-04T23:01:42.269Z"
   },
   {
    "duration": 0,
    "start_time": "2023-01-04T23:01:42.270Z"
   },
   {
    "duration": 0,
    "start_time": "2023-01-04T23:01:42.271Z"
   },
   {
    "duration": 0,
    "start_time": "2023-01-04T23:01:42.272Z"
   },
   {
    "duration": 0,
    "start_time": "2023-01-04T23:01:42.273Z"
   },
   {
    "duration": 0,
    "start_time": "2023-01-04T23:01:42.278Z"
   },
   {
    "duration": 0,
    "start_time": "2023-01-04T23:01:42.279Z"
   },
   {
    "duration": 0,
    "start_time": "2023-01-04T23:01:42.280Z"
   },
   {
    "duration": 0,
    "start_time": "2023-01-04T23:01:42.281Z"
   },
   {
    "duration": 0,
    "start_time": "2023-01-04T23:01:42.282Z"
   },
   {
    "duration": 0,
    "start_time": "2023-01-04T23:01:42.283Z"
   },
   {
    "duration": 0,
    "start_time": "2023-01-04T23:01:42.284Z"
   },
   {
    "duration": 0,
    "start_time": "2023-01-04T23:01:42.284Z"
   },
   {
    "duration": 0,
    "start_time": "2023-01-04T23:01:42.285Z"
   },
   {
    "duration": 0,
    "start_time": "2023-01-04T23:01:42.287Z"
   },
   {
    "duration": 0,
    "start_time": "2023-01-04T23:01:42.288Z"
   },
   {
    "duration": 0,
    "start_time": "2023-01-04T23:01:42.289Z"
   },
   {
    "duration": 1047,
    "start_time": "2023-01-04T23:02:22.586Z"
   },
   {
    "duration": 39,
    "start_time": "2023-01-04T23:02:23.635Z"
   },
   {
    "duration": 30,
    "start_time": "2023-01-04T23:02:23.676Z"
   },
   {
    "duration": 14,
    "start_time": "2023-01-04T23:02:23.709Z"
   },
   {
    "duration": 4,
    "start_time": "2023-01-04T23:02:23.725Z"
   },
   {
    "duration": 8,
    "start_time": "2023-01-04T23:02:23.731Z"
   },
   {
    "duration": 10,
    "start_time": "2023-01-04T23:02:23.740Z"
   },
   {
    "duration": 5,
    "start_time": "2023-01-04T23:02:23.779Z"
   },
   {
    "duration": 13,
    "start_time": "2023-01-04T23:02:23.786Z"
   },
   {
    "duration": 6,
    "start_time": "2023-01-04T23:02:23.803Z"
   },
   {
    "duration": 6,
    "start_time": "2023-01-04T23:02:23.811Z"
   },
   {
    "duration": 5,
    "start_time": "2023-01-04T23:02:23.819Z"
   },
   {
    "duration": 8,
    "start_time": "2023-01-04T23:02:23.826Z"
   },
   {
    "duration": 59,
    "start_time": "2023-01-04T23:02:23.836Z"
   },
   {
    "duration": 17,
    "start_time": "2023-01-04T23:02:23.897Z"
   },
   {
    "duration": 26,
    "start_time": "2023-01-04T23:02:23.916Z"
   },
   {
    "duration": 19,
    "start_time": "2023-01-04T23:02:23.944Z"
   },
   {
    "duration": 12,
    "start_time": "2023-01-04T23:02:23.965Z"
   },
   {
    "duration": 399,
    "start_time": "2023-01-04T23:02:23.979Z"
   },
   {
    "duration": 5,
    "start_time": "2023-01-04T23:04:08.392Z"
   },
   {
    "duration": 11,
    "start_time": "2023-01-04T23:04:16.164Z"
   },
   {
    "duration": 5,
    "start_time": "2023-01-04T23:04:34.592Z"
   },
   {
    "duration": 1015,
    "start_time": "2023-01-04T23:07:13.713Z"
   },
   {
    "duration": 41,
    "start_time": "2023-01-04T23:07:14.729Z"
   },
   {
    "duration": 22,
    "start_time": "2023-01-04T23:07:14.772Z"
   },
   {
    "duration": 13,
    "start_time": "2023-01-04T23:07:14.795Z"
   },
   {
    "duration": 3,
    "start_time": "2023-01-04T23:07:14.810Z"
   },
   {
    "duration": 7,
    "start_time": "2023-01-04T23:07:14.815Z"
   },
   {
    "duration": 9,
    "start_time": "2023-01-04T23:07:14.824Z"
   },
   {
    "duration": 5,
    "start_time": "2023-01-04T23:07:14.834Z"
   },
   {
    "duration": 8,
    "start_time": "2023-01-04T23:07:14.841Z"
   },
   {
    "duration": 32,
    "start_time": "2023-01-04T23:07:14.851Z"
   },
   {
    "duration": 8,
    "start_time": "2023-01-04T23:07:14.885Z"
   },
   {
    "duration": 6,
    "start_time": "2023-01-04T23:07:14.895Z"
   },
   {
    "duration": 7,
    "start_time": "2023-01-04T23:07:14.902Z"
   },
   {
    "duration": 22,
    "start_time": "2023-01-04T23:07:14.911Z"
   },
   {
    "duration": 15,
    "start_time": "2023-01-04T23:07:14.936Z"
   },
   {
    "duration": 28,
    "start_time": "2023-01-04T23:07:14.953Z"
   },
   {
    "duration": 11,
    "start_time": "2023-01-04T23:07:14.982Z"
   },
   {
    "duration": 7,
    "start_time": "2023-01-04T23:07:14.995Z"
   },
   {
    "duration": 29,
    "start_time": "2023-01-04T23:07:15.003Z"
   },
   {
    "duration": 13,
    "start_time": "2023-01-04T23:07:15.034Z"
   },
   {
    "duration": 6,
    "start_time": "2023-01-04T23:07:15.049Z"
   },
   {
    "duration": 347,
    "start_time": "2023-01-04T23:07:15.056Z"
   },
   {
    "duration": 100,
    "start_time": "2023-01-04T23:07:23.821Z"
   },
   {
    "duration": 4,
    "start_time": "2023-01-04T23:07:36.465Z"
   },
   {
    "duration": 1101,
    "start_time": "2023-01-04T23:12:10.258Z"
   },
   {
    "duration": 43,
    "start_time": "2023-01-04T23:12:11.361Z"
   },
   {
    "duration": 23,
    "start_time": "2023-01-04T23:12:11.406Z"
   },
   {
    "duration": 14,
    "start_time": "2023-01-04T23:12:11.431Z"
   },
   {
    "duration": 3,
    "start_time": "2023-01-04T23:12:11.447Z"
   },
   {
    "duration": 9,
    "start_time": "2023-01-04T23:12:11.452Z"
   },
   {
    "duration": 17,
    "start_time": "2023-01-04T23:12:11.463Z"
   },
   {
    "duration": 5,
    "start_time": "2023-01-04T23:12:11.483Z"
   },
   {
    "duration": 10,
    "start_time": "2023-01-04T23:12:11.490Z"
   },
   {
    "duration": 6,
    "start_time": "2023-01-04T23:12:11.504Z"
   },
   {
    "duration": 7,
    "start_time": "2023-01-04T23:12:11.512Z"
   },
   {
    "duration": 6,
    "start_time": "2023-01-04T23:12:11.520Z"
   },
   {
    "duration": 51,
    "start_time": "2023-01-04T23:12:11.528Z"
   },
   {
    "duration": 15,
    "start_time": "2023-01-04T23:12:11.581Z"
   },
   {
    "duration": 11,
    "start_time": "2023-01-04T23:12:11.598Z"
   },
   {
    "duration": 15,
    "start_time": "2023-01-04T23:12:11.610Z"
   },
   {
    "duration": 8,
    "start_time": "2023-01-04T23:12:11.627Z"
   },
   {
    "duration": 43,
    "start_time": "2023-01-04T23:12:11.637Z"
   },
   {
    "duration": 3,
    "start_time": "2023-01-04T23:12:11.682Z"
   },
   {
    "duration": 16,
    "start_time": "2023-01-04T23:12:11.687Z"
   },
   {
    "duration": 40,
    "start_time": "2023-01-04T23:12:11.704Z"
   },
   {
    "duration": 6,
    "start_time": "2023-01-04T23:12:11.745Z"
   },
   {
    "duration": 432,
    "start_time": "2023-01-04T23:12:11.779Z"
   },
   {
    "duration": 1023,
    "start_time": "2023-01-04T23:12:30.225Z"
   },
   {
    "duration": 46,
    "start_time": "2023-01-04T23:12:31.250Z"
   },
   {
    "duration": 19,
    "start_time": "2023-01-04T23:12:31.298Z"
   },
   {
    "duration": 15,
    "start_time": "2023-01-04T23:12:31.319Z"
   },
   {
    "duration": 12,
    "start_time": "2023-01-04T23:12:31.337Z"
   },
   {
    "duration": 13,
    "start_time": "2023-01-04T23:12:31.350Z"
   },
   {
    "duration": 17,
    "start_time": "2023-01-04T23:12:31.365Z"
   },
   {
    "duration": 10,
    "start_time": "2023-01-04T23:12:31.384Z"
   },
   {
    "duration": 8,
    "start_time": "2023-01-04T23:12:31.396Z"
   },
   {
    "duration": 8,
    "start_time": "2023-01-04T23:12:31.405Z"
   },
   {
    "duration": 13,
    "start_time": "2023-01-04T23:12:31.414Z"
   },
   {
    "duration": 11,
    "start_time": "2023-01-04T23:12:31.428Z"
   },
   {
    "duration": 9,
    "start_time": "2023-01-04T23:12:31.441Z"
   },
   {
    "duration": 26,
    "start_time": "2023-01-04T23:12:31.453Z"
   },
   {
    "duration": 18,
    "start_time": "2023-01-04T23:12:31.481Z"
   },
   {
    "duration": 23,
    "start_time": "2023-01-04T23:12:31.500Z"
   },
   {
    "duration": 13,
    "start_time": "2023-01-04T23:12:31.524Z"
   },
   {
    "duration": 27,
    "start_time": "2023-01-04T23:12:31.539Z"
   },
   {
    "duration": 5,
    "start_time": "2023-01-04T23:12:31.568Z"
   },
   {
    "duration": 14,
    "start_time": "2023-01-04T23:12:31.574Z"
   },
   {
    "duration": 35,
    "start_time": "2023-01-04T23:12:31.590Z"
   },
   {
    "duration": 5,
    "start_time": "2023-01-04T23:12:31.626Z"
   },
   {
    "duration": 361,
    "start_time": "2023-01-04T23:12:31.633Z"
   },
   {
    "duration": 13,
    "start_time": "2023-01-04T23:12:44.179Z"
   },
   {
    "duration": 1073,
    "start_time": "2023-01-04T23:14:04.945Z"
   },
   {
    "duration": 41,
    "start_time": "2023-01-04T23:14:06.020Z"
   },
   {
    "duration": 17,
    "start_time": "2023-01-04T23:14:06.063Z"
   },
   {
    "duration": 45,
    "start_time": "2023-01-04T23:14:06.081Z"
   },
   {
    "duration": 24,
    "start_time": "2023-01-04T23:14:06.128Z"
   },
   {
    "duration": 41,
    "start_time": "2023-01-04T23:14:06.153Z"
   },
   {
    "duration": 21,
    "start_time": "2023-01-04T23:14:06.196Z"
   },
   {
    "duration": 45,
    "start_time": "2023-01-04T23:14:06.219Z"
   },
   {
    "duration": 16,
    "start_time": "2023-01-04T23:14:06.266Z"
   },
   {
    "duration": 5,
    "start_time": "2023-01-04T23:14:06.283Z"
   },
   {
    "duration": 7,
    "start_time": "2023-01-04T23:14:06.289Z"
   },
   {
    "duration": 6,
    "start_time": "2023-01-04T23:14:06.297Z"
   },
   {
    "duration": 5,
    "start_time": "2023-01-04T23:14:06.305Z"
   },
   {
    "duration": 14,
    "start_time": "2023-01-04T23:14:06.312Z"
   },
   {
    "duration": 12,
    "start_time": "2023-01-04T23:14:06.328Z"
   },
   {
    "duration": 12,
    "start_time": "2023-01-04T23:14:06.341Z"
   },
   {
    "duration": 27,
    "start_time": "2023-01-04T23:14:06.354Z"
   },
   {
    "duration": 12,
    "start_time": "2023-01-04T23:14:06.383Z"
   },
   {
    "duration": 5,
    "start_time": "2023-01-04T23:14:06.396Z"
   },
   {
    "duration": 11,
    "start_time": "2023-01-04T23:14:06.403Z"
   },
   {
    "duration": 20,
    "start_time": "2023-01-04T23:14:06.415Z"
   },
   {
    "duration": 11,
    "start_time": "2023-01-04T23:14:06.436Z"
   },
   {
    "duration": 10,
    "start_time": "2023-01-04T23:14:06.449Z"
   },
   {
    "duration": 366,
    "start_time": "2023-01-04T23:14:06.478Z"
   },
   {
    "duration": 4,
    "start_time": "2023-01-04T23:14:46.420Z"
   },
   {
    "duration": 1037,
    "start_time": "2023-01-04T23:15:07.090Z"
   },
   {
    "duration": 39,
    "start_time": "2023-01-04T23:15:08.129Z"
   },
   {
    "duration": 19,
    "start_time": "2023-01-04T23:15:08.170Z"
   },
   {
    "duration": 11,
    "start_time": "2023-01-04T23:15:08.191Z"
   },
   {
    "duration": 6,
    "start_time": "2023-01-04T23:15:08.204Z"
   },
   {
    "duration": 8,
    "start_time": "2023-01-04T23:15:08.211Z"
   },
   {
    "duration": 7,
    "start_time": "2023-01-04T23:15:08.220Z"
   },
   {
    "duration": 6,
    "start_time": "2023-01-04T23:15:08.229Z"
   },
   {
    "duration": 8,
    "start_time": "2023-01-04T23:15:08.236Z"
   },
   {
    "duration": 31,
    "start_time": "2023-01-04T23:15:08.247Z"
   },
   {
    "duration": 4,
    "start_time": "2023-01-04T23:15:08.280Z"
   },
   {
    "duration": 5,
    "start_time": "2023-01-04T23:15:08.286Z"
   },
   {
    "duration": 6,
    "start_time": "2023-01-04T23:15:08.292Z"
   },
   {
    "duration": 15,
    "start_time": "2023-01-04T23:15:08.299Z"
   },
   {
    "duration": 13,
    "start_time": "2023-01-04T23:15:08.315Z"
   },
   {
    "duration": 11,
    "start_time": "2023-01-04T23:15:08.330Z"
   },
   {
    "duration": 35,
    "start_time": "2023-01-04T23:15:08.343Z"
   },
   {
    "duration": 6,
    "start_time": "2023-01-04T23:15:08.380Z"
   },
   {
    "duration": 4,
    "start_time": "2023-01-04T23:15:08.388Z"
   },
   {
    "duration": 12,
    "start_time": "2023-01-04T23:15:08.393Z"
   },
   {
    "duration": 21,
    "start_time": "2023-01-04T23:15:08.406Z"
   },
   {
    "duration": 4,
    "start_time": "2023-01-04T23:15:08.429Z"
   },
   {
    "duration": 377,
    "start_time": "2023-01-04T23:15:08.435Z"
   },
   {
    "duration": 7,
    "start_time": "2023-01-04T23:15:33.073Z"
   },
   {
    "duration": 1026,
    "start_time": "2023-01-04T23:15:41.910Z"
   },
   {
    "duration": 40,
    "start_time": "2023-01-04T23:15:42.938Z"
   },
   {
    "duration": 19,
    "start_time": "2023-01-04T23:15:42.980Z"
   },
   {
    "duration": 12,
    "start_time": "2023-01-04T23:15:43.000Z"
   },
   {
    "duration": 2,
    "start_time": "2023-01-04T23:15:43.014Z"
   },
   {
    "duration": 6,
    "start_time": "2023-01-04T23:15:43.018Z"
   },
   {
    "duration": 6,
    "start_time": "2023-01-04T23:15:43.026Z"
   },
   {
    "duration": 4,
    "start_time": "2023-01-04T23:15:43.034Z"
   },
   {
    "duration": 39,
    "start_time": "2023-01-04T23:15:43.040Z"
   },
   {
    "duration": 7,
    "start_time": "2023-01-04T23:15:43.081Z"
   },
   {
    "duration": 5,
    "start_time": "2023-01-04T23:15:43.090Z"
   },
   {
    "duration": 6,
    "start_time": "2023-01-04T23:15:43.097Z"
   },
   {
    "duration": 7,
    "start_time": "2023-01-04T23:15:43.105Z"
   },
   {
    "duration": 14,
    "start_time": "2023-01-04T23:15:43.116Z"
   },
   {
    "duration": 13,
    "start_time": "2023-01-04T23:15:43.132Z"
   },
   {
    "duration": 19,
    "start_time": "2023-01-04T23:15:43.179Z"
   },
   {
    "duration": 7,
    "start_time": "2023-01-04T23:15:43.200Z"
   },
   {
    "duration": 9,
    "start_time": "2023-01-04T23:15:43.208Z"
   },
   {
    "duration": 6,
    "start_time": "2023-01-04T23:15:43.218Z"
   },
   {
    "duration": 12,
    "start_time": "2023-01-04T23:15:43.226Z"
   },
   {
    "duration": 42,
    "start_time": "2023-01-04T23:15:43.239Z"
   },
   {
    "duration": 6,
    "start_time": "2023-01-04T23:15:43.282Z"
   },
   {
    "duration": 342,
    "start_time": "2023-01-04T23:15:43.289Z"
   },
   {
    "duration": 94,
    "start_time": "2023-01-04T23:21:05.458Z"
   },
   {
    "duration": 1068,
    "start_time": "2023-01-04T23:21:10.413Z"
   },
   {
    "duration": 41,
    "start_time": "2023-01-04T23:21:11.483Z"
   },
   {
    "duration": 22,
    "start_time": "2023-01-04T23:21:11.526Z"
   },
   {
    "duration": 14,
    "start_time": "2023-01-04T23:21:11.550Z"
   },
   {
    "duration": 3,
    "start_time": "2023-01-04T23:21:11.567Z"
   },
   {
    "duration": 11,
    "start_time": "2023-01-04T23:21:11.572Z"
   },
   {
    "duration": 6,
    "start_time": "2023-01-04T23:21:11.585Z"
   },
   {
    "duration": 6,
    "start_time": "2023-01-04T23:21:11.594Z"
   },
   {
    "duration": 9,
    "start_time": "2023-01-04T23:21:11.602Z"
   },
   {
    "duration": 6,
    "start_time": "2023-01-04T23:21:11.613Z"
   },
   {
    "duration": 5,
    "start_time": "2023-01-04T23:21:11.621Z"
   },
   {
    "duration": 7,
    "start_time": "2023-01-04T23:21:11.628Z"
   },
   {
    "duration": 45,
    "start_time": "2023-01-04T23:21:11.636Z"
   },
   {
    "duration": 15,
    "start_time": "2023-01-04T23:21:11.684Z"
   },
   {
    "duration": 11,
    "start_time": "2023-01-04T23:21:11.701Z"
   },
   {
    "duration": 14,
    "start_time": "2023-01-04T23:21:11.714Z"
   },
   {
    "duration": 8,
    "start_time": "2023-01-04T23:21:11.729Z"
   },
   {
    "duration": 39,
    "start_time": "2023-01-04T23:21:11.739Z"
   },
   {
    "duration": 3,
    "start_time": "2023-01-04T23:21:11.780Z"
   },
   {
    "duration": 14,
    "start_time": "2023-01-04T23:21:11.784Z"
   },
   {
    "duration": 25,
    "start_time": "2023-01-04T23:21:11.800Z"
   },
   {
    "duration": 5,
    "start_time": "2023-01-04T23:21:11.827Z"
   },
   {
    "duration": 417,
    "start_time": "2023-01-04T23:21:11.834Z"
   },
   {
    "duration": 3,
    "start_time": "2023-01-04T23:21:12.253Z"
   },
   {
    "duration": 26,
    "start_time": "2023-01-04T23:21:12.257Z"
   },
   {
    "duration": 14,
    "start_time": "2023-01-04T23:21:29.930Z"
   },
   {
    "duration": 9,
    "start_time": "2023-01-04T23:21:49.577Z"
   },
   {
    "duration": 7,
    "start_time": "2023-01-04T23:21:56.196Z"
   },
   {
    "duration": 1076,
    "start_time": "2023-01-04T23:24:01.753Z"
   },
   {
    "duration": 39,
    "start_time": "2023-01-04T23:24:02.831Z"
   },
   {
    "duration": 20,
    "start_time": "2023-01-04T23:24:02.872Z"
   },
   {
    "duration": 14,
    "start_time": "2023-01-04T23:24:02.893Z"
   },
   {
    "duration": 10,
    "start_time": "2023-01-04T23:24:02.909Z"
   },
   {
    "duration": 10,
    "start_time": "2023-01-04T23:24:02.920Z"
   },
   {
    "duration": 46,
    "start_time": "2023-01-04T23:24:02.931Z"
   },
   {
    "duration": 47,
    "start_time": "2023-01-04T23:24:02.978Z"
   },
   {
    "duration": 40,
    "start_time": "2023-01-04T23:24:03.027Z"
   },
   {
    "duration": 15,
    "start_time": "2023-01-04T23:24:03.068Z"
   },
   {
    "duration": 30,
    "start_time": "2023-01-04T23:24:03.084Z"
   },
   {
    "duration": 53,
    "start_time": "2023-01-04T23:24:03.116Z"
   },
   {
    "duration": 26,
    "start_time": "2023-01-04T23:24:03.171Z"
   },
   {
    "duration": 51,
    "start_time": "2023-01-04T23:24:03.199Z"
   },
   {
    "duration": 23,
    "start_time": "2023-01-04T23:24:03.252Z"
   },
   {
    "duration": 27,
    "start_time": "2023-01-04T23:24:03.277Z"
   },
   {
    "duration": 26,
    "start_time": "2023-01-04T23:24:03.306Z"
   },
   {
    "duration": 17,
    "start_time": "2023-01-04T23:24:03.333Z"
   },
   {
    "duration": 32,
    "start_time": "2023-01-04T23:24:03.351Z"
   },
   {
    "duration": 29,
    "start_time": "2023-01-04T23:24:03.384Z"
   },
   {
    "duration": 26,
    "start_time": "2023-01-04T23:24:03.415Z"
   },
   {
    "duration": 22,
    "start_time": "2023-01-04T23:24:03.443Z"
   },
   {
    "duration": 354,
    "start_time": "2023-01-04T23:24:03.467Z"
   },
   {
    "duration": 3,
    "start_time": "2023-01-04T23:24:03.822Z"
   },
   {
    "duration": 25,
    "start_time": "2023-01-04T23:24:03.826Z"
   },
   {
    "duration": 120,
    "start_time": "2023-01-04T23:24:03.853Z"
   },
   {
    "duration": 0,
    "start_time": "2023-01-04T23:24:03.974Z"
   },
   {
    "duration": 1040,
    "start_time": "2023-01-04T23:24:35.411Z"
   },
   {
    "duration": 40,
    "start_time": "2023-01-04T23:24:36.453Z"
   },
   {
    "duration": 19,
    "start_time": "2023-01-04T23:24:36.495Z"
   },
   {
    "duration": 13,
    "start_time": "2023-01-04T23:24:36.516Z"
   },
   {
    "duration": 3,
    "start_time": "2023-01-04T23:24:36.530Z"
   },
   {
    "duration": 11,
    "start_time": "2023-01-04T23:24:36.535Z"
   },
   {
    "duration": 23,
    "start_time": "2023-01-04T23:24:36.547Z"
   },
   {
    "duration": 22,
    "start_time": "2023-01-04T23:24:36.579Z"
   },
   {
    "duration": 18,
    "start_time": "2023-01-04T23:24:36.603Z"
   },
   {
    "duration": 22,
    "start_time": "2023-01-04T23:24:36.624Z"
   },
   {
    "duration": 27,
    "start_time": "2023-01-04T23:24:36.648Z"
   },
   {
    "duration": 17,
    "start_time": "2023-01-04T23:24:36.677Z"
   },
   {
    "duration": 17,
    "start_time": "2023-01-04T23:24:36.696Z"
   },
   {
    "duration": 22,
    "start_time": "2023-01-04T23:24:36.714Z"
   },
   {
    "duration": 24,
    "start_time": "2023-01-04T23:24:36.738Z"
   },
   {
    "duration": 16,
    "start_time": "2023-01-04T23:24:36.764Z"
   },
   {
    "duration": 20,
    "start_time": "2023-01-04T23:24:36.782Z"
   },
   {
    "duration": 11,
    "start_time": "2023-01-04T23:24:36.804Z"
   },
   {
    "duration": 7,
    "start_time": "2023-01-04T23:24:36.817Z"
   },
   {
    "duration": 23,
    "start_time": "2023-01-04T23:24:36.825Z"
   },
   {
    "duration": 28,
    "start_time": "2023-01-04T23:24:36.850Z"
   },
   {
    "duration": 13,
    "start_time": "2023-01-04T23:24:36.880Z"
   },
   {
    "duration": 411,
    "start_time": "2023-01-04T23:24:36.894Z"
   },
   {
    "duration": 3,
    "start_time": "2023-01-04T23:24:37.307Z"
   },
   {
    "duration": 26,
    "start_time": "2023-01-04T23:24:37.312Z"
   },
   {
    "duration": 40,
    "start_time": "2023-01-04T23:24:37.340Z"
   },
   {
    "duration": 102,
    "start_time": "2023-01-04T23:24:37.381Z"
   },
   {
    "duration": 6,
    "start_time": "2023-01-04T23:25:07.079Z"
   },
   {
    "duration": 1046,
    "start_time": "2023-01-04T23:25:12.789Z"
   },
   {
    "duration": 39,
    "start_time": "2023-01-04T23:25:13.836Z"
   },
   {
    "duration": 23,
    "start_time": "2023-01-04T23:25:13.877Z"
   },
   {
    "duration": 15,
    "start_time": "2023-01-04T23:25:13.902Z"
   },
   {
    "duration": 3,
    "start_time": "2023-01-04T23:25:13.920Z"
   },
   {
    "duration": 12,
    "start_time": "2023-01-04T23:25:13.925Z"
   },
   {
    "duration": 9,
    "start_time": "2023-01-04T23:25:13.939Z"
   },
   {
    "duration": 30,
    "start_time": "2023-01-04T23:25:13.950Z"
   },
   {
    "duration": 14,
    "start_time": "2023-01-04T23:25:13.983Z"
   },
   {
    "duration": 6,
    "start_time": "2023-01-04T23:25:13.999Z"
   },
   {
    "duration": 7,
    "start_time": "2023-01-04T23:25:14.007Z"
   },
   {
    "duration": 9,
    "start_time": "2023-01-04T23:25:14.016Z"
   },
   {
    "duration": 19,
    "start_time": "2023-01-04T23:25:14.028Z"
   },
   {
    "duration": 15,
    "start_time": "2023-01-04T23:25:14.050Z"
   },
   {
    "duration": 8,
    "start_time": "2023-01-04T23:25:14.078Z"
   },
   {
    "duration": 11,
    "start_time": "2023-01-04T23:25:14.087Z"
   },
   {
    "duration": 7,
    "start_time": "2023-01-04T23:25:14.100Z"
   },
   {
    "duration": 15,
    "start_time": "2023-01-04T23:25:14.109Z"
   },
   {
    "duration": 6,
    "start_time": "2023-01-04T23:25:14.126Z"
   },
   {
    "duration": 13,
    "start_time": "2023-01-04T23:25:14.133Z"
   },
   {
    "duration": 34,
    "start_time": "2023-01-04T23:25:14.147Z"
   },
   {
    "duration": 5,
    "start_time": "2023-01-04T23:25:14.182Z"
   },
   {
    "duration": 347,
    "start_time": "2023-01-04T23:25:14.188Z"
   },
   {
    "duration": 3,
    "start_time": "2023-01-04T23:25:14.537Z"
   },
   {
    "duration": 17,
    "start_time": "2023-01-04T23:25:14.542Z"
   },
   {
    "duration": 17,
    "start_time": "2023-01-04T23:25:14.561Z"
   },
   {
    "duration": 105,
    "start_time": "2023-01-04T23:25:14.580Z"
   },
   {
    "duration": 1066,
    "start_time": "2023-01-04T23:25:24.357Z"
   },
   {
    "duration": 40,
    "start_time": "2023-01-04T23:25:25.425Z"
   },
   {
    "duration": 18,
    "start_time": "2023-01-04T23:25:25.466Z"
   },
   {
    "duration": 17,
    "start_time": "2023-01-04T23:25:25.485Z"
   },
   {
    "duration": 3,
    "start_time": "2023-01-04T23:25:25.504Z"
   },
   {
    "duration": 22,
    "start_time": "2023-01-04T23:25:25.508Z"
   },
   {
    "duration": 15,
    "start_time": "2023-01-04T23:25:25.531Z"
   },
   {
    "duration": 12,
    "start_time": "2023-01-04T23:25:25.547Z"
   },
   {
    "duration": 16,
    "start_time": "2023-01-04T23:25:25.560Z"
   },
   {
    "duration": 9,
    "start_time": "2023-01-04T23:25:25.578Z"
   },
   {
    "duration": 16,
    "start_time": "2023-01-04T23:25:25.588Z"
   },
   {
    "duration": 5,
    "start_time": "2023-01-04T23:25:25.606Z"
   },
   {
    "duration": 16,
    "start_time": "2023-01-04T23:25:25.613Z"
   },
   {
    "duration": 17,
    "start_time": "2023-01-04T23:25:25.632Z"
   },
   {
    "duration": 25,
    "start_time": "2023-01-04T23:25:25.650Z"
   },
   {
    "duration": 14,
    "start_time": "2023-01-04T23:25:25.677Z"
   },
   {
    "duration": 17,
    "start_time": "2023-01-04T23:25:25.693Z"
   },
   {
    "duration": 32,
    "start_time": "2023-01-04T23:25:25.712Z"
   },
   {
    "duration": 25,
    "start_time": "2023-01-04T23:25:25.746Z"
   },
   {
    "duration": 24,
    "start_time": "2023-01-04T23:25:25.773Z"
   },
   {
    "duration": 20,
    "start_time": "2023-01-04T23:25:25.798Z"
   },
   {
    "duration": 9,
    "start_time": "2023-01-04T23:25:25.820Z"
   },
   {
    "duration": 341,
    "start_time": "2023-01-04T23:25:25.831Z"
   },
   {
    "duration": 4,
    "start_time": "2023-01-04T23:25:26.174Z"
   },
   {
    "duration": 22,
    "start_time": "2023-01-04T23:25:26.180Z"
   },
   {
    "duration": 12,
    "start_time": "2023-01-04T23:25:26.204Z"
   },
   {
    "duration": 165,
    "start_time": "2023-01-04T23:25:26.217Z"
   },
   {
    "duration": 3,
    "start_time": "2023-01-04T23:26:14.053Z"
   },
   {
    "duration": 8,
    "start_time": "2023-01-04T23:26:25.390Z"
   },
   {
    "duration": 1017,
    "start_time": "2023-01-04T23:26:30.814Z"
   },
   {
    "duration": 49,
    "start_time": "2023-01-04T23:26:31.832Z"
   },
   {
    "duration": 17,
    "start_time": "2023-01-04T23:26:31.883Z"
   },
   {
    "duration": 12,
    "start_time": "2023-01-04T23:26:31.902Z"
   },
   {
    "duration": 3,
    "start_time": "2023-01-04T23:26:31.915Z"
   },
   {
    "duration": 12,
    "start_time": "2023-01-04T23:26:31.920Z"
   },
   {
    "duration": 15,
    "start_time": "2023-01-04T23:26:31.934Z"
   },
   {
    "duration": 28,
    "start_time": "2023-01-04T23:26:31.950Z"
   },
   {
    "duration": 17,
    "start_time": "2023-01-04T23:26:31.979Z"
   },
   {
    "duration": 22,
    "start_time": "2023-01-04T23:26:31.998Z"
   },
   {
    "duration": 17,
    "start_time": "2023-01-04T23:26:32.022Z"
   },
   {
    "duration": 25,
    "start_time": "2023-01-04T23:26:32.040Z"
   },
   {
    "duration": 19,
    "start_time": "2023-01-04T23:26:32.067Z"
   },
   {
    "duration": 35,
    "start_time": "2023-01-04T23:26:32.088Z"
   },
   {
    "duration": 30,
    "start_time": "2023-01-04T23:26:32.124Z"
   },
   {
    "duration": 24,
    "start_time": "2023-01-04T23:26:32.155Z"
   },
   {
    "duration": 33,
    "start_time": "2023-01-04T23:26:32.180Z"
   },
   {
    "duration": 15,
    "start_time": "2023-01-04T23:26:32.214Z"
   },
   {
    "duration": 25,
    "start_time": "2023-01-04T23:26:32.231Z"
   },
   {
    "duration": 31,
    "start_time": "2023-01-04T23:26:32.257Z"
   },
   {
    "duration": 41,
    "start_time": "2023-01-04T23:26:32.289Z"
   },
   {
    "duration": 17,
    "start_time": "2023-01-04T23:26:32.332Z"
   },
   {
    "duration": 375,
    "start_time": "2023-01-04T23:26:32.351Z"
   },
   {
    "duration": 2,
    "start_time": "2023-01-04T23:26:32.728Z"
   },
   {
    "duration": 31,
    "start_time": "2023-01-04T23:26:32.732Z"
   },
   {
    "duration": 13,
    "start_time": "2023-01-04T23:26:32.765Z"
   },
   {
    "duration": 104,
    "start_time": "2023-01-04T23:26:32.779Z"
   },
   {
    "duration": 99,
    "start_time": "2023-01-04T23:26:32.886Z"
   },
   {
    "duration": 14,
    "start_time": "2023-01-04T23:26:32.987Z"
   },
   {
    "duration": 4,
    "start_time": "2023-01-04T23:27:44.074Z"
   },
   {
    "duration": 105,
    "start_time": "2023-01-04T23:27:44.279Z"
   },
   {
    "duration": 1033,
    "start_time": "2023-01-04T23:27:57.443Z"
   },
   {
    "duration": 39,
    "start_time": "2023-01-04T23:27:58.478Z"
   },
   {
    "duration": 19,
    "start_time": "2023-01-04T23:27:58.518Z"
   },
   {
    "duration": 12,
    "start_time": "2023-01-04T23:27:58.540Z"
   },
   {
    "duration": 3,
    "start_time": "2023-01-04T23:27:58.554Z"
   },
   {
    "duration": 5,
    "start_time": "2023-01-04T23:27:58.559Z"
   },
   {
    "duration": 13,
    "start_time": "2023-01-04T23:27:58.565Z"
   },
   {
    "duration": 5,
    "start_time": "2023-01-04T23:27:58.580Z"
   },
   {
    "duration": 9,
    "start_time": "2023-01-04T23:27:58.587Z"
   },
   {
    "duration": 6,
    "start_time": "2023-01-04T23:27:58.598Z"
   },
   {
    "duration": 5,
    "start_time": "2023-01-04T23:27:58.606Z"
   },
   {
    "duration": 5,
    "start_time": "2023-01-04T23:27:58.612Z"
   },
   {
    "duration": 6,
    "start_time": "2023-01-04T23:27:58.618Z"
   },
   {
    "duration": 13,
    "start_time": "2023-01-04T23:27:58.626Z"
   },
   {
    "duration": 41,
    "start_time": "2023-01-04T23:27:58.641Z"
   },
   {
    "duration": 11,
    "start_time": "2023-01-04T23:27:58.684Z"
   },
   {
    "duration": 9,
    "start_time": "2023-01-04T23:27:58.696Z"
   },
   {
    "duration": 6,
    "start_time": "2023-01-04T23:27:58.706Z"
   },
   {
    "duration": 5,
    "start_time": "2023-01-04T23:27:58.714Z"
   },
   {
    "duration": 13,
    "start_time": "2023-01-04T23:27:58.720Z"
   },
   {
    "duration": 20,
    "start_time": "2023-01-04T23:27:58.734Z"
   },
   {
    "duration": 25,
    "start_time": "2023-01-04T23:27:58.756Z"
   },
   {
    "duration": 348,
    "start_time": "2023-01-04T23:27:58.783Z"
   },
   {
    "duration": 2,
    "start_time": "2023-01-04T23:27:59.132Z"
   },
   {
    "duration": 17,
    "start_time": "2023-01-04T23:27:59.136Z"
   },
   {
    "duration": 25,
    "start_time": "2023-01-04T23:27:59.155Z"
   },
   {
    "duration": 103,
    "start_time": "2023-01-04T23:27:59.182Z"
   },
   {
    "duration": 3,
    "start_time": "2023-01-04T23:27:59.290Z"
   },
   {
    "duration": 85,
    "start_time": "2023-01-04T23:27:59.294Z"
   },
   {
    "duration": 93,
    "start_time": "2023-01-04T23:28:20.481Z"
   },
   {
    "duration": 4,
    "start_time": "2023-01-04T23:28:24.787Z"
   },
   {
    "duration": 2,
    "start_time": "2023-01-04T23:28:36.720Z"
   },
   {
    "duration": 8,
    "start_time": "2023-01-04T23:28:37.109Z"
   },
   {
    "duration": 1089,
    "start_time": "2023-01-04T23:30:06.058Z"
   },
   {
    "duration": 41,
    "start_time": "2023-01-04T23:30:07.149Z"
   },
   {
    "duration": 19,
    "start_time": "2023-01-04T23:30:07.194Z"
   },
   {
    "duration": 13,
    "start_time": "2023-01-04T23:30:07.215Z"
   },
   {
    "duration": 3,
    "start_time": "2023-01-04T23:30:07.230Z"
   },
   {
    "duration": 8,
    "start_time": "2023-01-04T23:30:07.235Z"
   },
   {
    "duration": 9,
    "start_time": "2023-01-04T23:30:07.245Z"
   },
   {
    "duration": 24,
    "start_time": "2023-01-04T23:30:07.255Z"
   },
   {
    "duration": 8,
    "start_time": "2023-01-04T23:30:07.281Z"
   },
   {
    "duration": 5,
    "start_time": "2023-01-04T23:30:07.291Z"
   },
   {
    "duration": 5,
    "start_time": "2023-01-04T23:30:07.298Z"
   },
   {
    "duration": 7,
    "start_time": "2023-01-04T23:30:07.305Z"
   },
   {
    "duration": 5,
    "start_time": "2023-01-04T23:30:07.314Z"
   },
   {
    "duration": 15,
    "start_time": "2023-01-04T23:30:07.321Z"
   },
   {
    "duration": 41,
    "start_time": "2023-01-04T23:30:07.337Z"
   },
   {
    "duration": 11,
    "start_time": "2023-01-04T23:30:07.380Z"
   },
   {
    "duration": 8,
    "start_time": "2023-01-04T23:30:07.393Z"
   },
   {
    "duration": 6,
    "start_time": "2023-01-04T23:30:07.402Z"
   },
   {
    "duration": 3,
    "start_time": "2023-01-04T23:30:07.410Z"
   },
   {
    "duration": 11,
    "start_time": "2023-01-04T23:30:07.415Z"
   },
   {
    "duration": 21,
    "start_time": "2023-01-04T23:30:07.428Z"
   },
   {
    "duration": 29,
    "start_time": "2023-01-04T23:30:07.450Z"
   },
   {
    "duration": 345,
    "start_time": "2023-01-04T23:30:07.480Z"
   },
   {
    "duration": 3,
    "start_time": "2023-01-04T23:30:07.826Z"
   },
   {
    "duration": 17,
    "start_time": "2023-01-04T23:30:07.831Z"
   },
   {
    "duration": 36,
    "start_time": "2023-01-04T23:30:07.849Z"
   },
   {
    "duration": 106,
    "start_time": "2023-01-04T23:30:07.887Z"
   },
   {
    "duration": 96,
    "start_time": "2023-01-04T23:35:34.952Z"
   },
   {
    "duration": 1075,
    "start_time": "2023-01-04T23:35:40.390Z"
   },
   {
    "duration": 40,
    "start_time": "2023-01-04T23:35:41.467Z"
   },
   {
    "duration": 18,
    "start_time": "2023-01-04T23:35:41.508Z"
   },
   {
    "duration": 11,
    "start_time": "2023-01-04T23:35:41.528Z"
   },
   {
    "duration": 3,
    "start_time": "2023-01-04T23:35:41.541Z"
   },
   {
    "duration": 10,
    "start_time": "2023-01-04T23:35:41.546Z"
   },
   {
    "duration": 6,
    "start_time": "2023-01-04T23:35:41.557Z"
   },
   {
    "duration": 8,
    "start_time": "2023-01-04T23:35:41.564Z"
   },
   {
    "duration": 12,
    "start_time": "2023-01-04T23:35:41.574Z"
   },
   {
    "duration": 11,
    "start_time": "2023-01-04T23:35:41.587Z"
   },
   {
    "duration": 8,
    "start_time": "2023-01-04T23:35:41.599Z"
   },
   {
    "duration": 8,
    "start_time": "2023-01-04T23:35:41.608Z"
   },
   {
    "duration": 6,
    "start_time": "2023-01-04T23:35:41.617Z"
   },
   {
    "duration": 15,
    "start_time": "2023-01-04T23:35:41.625Z"
   },
   {
    "duration": 13,
    "start_time": "2023-01-04T23:35:41.641Z"
   },
   {
    "duration": 28,
    "start_time": "2023-01-04T23:35:41.656Z"
   },
   {
    "duration": 9,
    "start_time": "2023-01-04T23:35:41.685Z"
   },
   {
    "duration": 9,
    "start_time": "2023-01-04T23:35:41.696Z"
   },
   {
    "duration": 4,
    "start_time": "2023-01-04T23:35:41.706Z"
   },
   {
    "duration": 11,
    "start_time": "2023-01-04T23:35:41.712Z"
   },
   {
    "duration": 21,
    "start_time": "2023-01-04T23:35:41.724Z"
   },
   {
    "duration": 5,
    "start_time": "2023-01-04T23:35:41.746Z"
   },
   {
    "duration": 369,
    "start_time": "2023-01-04T23:35:41.752Z"
   },
   {
    "duration": 2,
    "start_time": "2023-01-04T23:35:42.122Z"
   },
   {
    "duration": 529,
    "start_time": "2023-01-04T23:35:42.125Z"
   },
   {
    "duration": 90,
    "start_time": "2023-01-04T23:35:42.656Z"
   },
   {
    "duration": 5,
    "start_time": "2023-01-04T23:35:42.748Z"
   },
   {
    "duration": 103,
    "start_time": "2023-01-04T23:36:18.626Z"
   },
   {
    "duration": 7,
    "start_time": "2023-01-04T23:36:25.482Z"
   },
   {
    "duration": 9,
    "start_time": "2023-01-04T23:36:43.281Z"
   },
   {
    "duration": 1092,
    "start_time": "2023-01-04T23:38:04.054Z"
   },
   {
    "duration": 39,
    "start_time": "2023-01-04T23:38:05.148Z"
   },
   {
    "duration": 19,
    "start_time": "2023-01-04T23:38:05.189Z"
   },
   {
    "duration": 13,
    "start_time": "2023-01-04T23:38:05.210Z"
   },
   {
    "duration": 4,
    "start_time": "2023-01-04T23:38:05.224Z"
   },
   {
    "duration": 9,
    "start_time": "2023-01-04T23:38:05.229Z"
   },
   {
    "duration": 7,
    "start_time": "2023-01-04T23:38:05.239Z"
   },
   {
    "duration": 8,
    "start_time": "2023-01-04T23:38:05.247Z"
   },
   {
    "duration": 26,
    "start_time": "2023-01-04T23:38:05.257Z"
   },
   {
    "duration": 5,
    "start_time": "2023-01-04T23:38:05.285Z"
   },
   {
    "duration": 6,
    "start_time": "2023-01-04T23:38:05.292Z"
   },
   {
    "duration": 11,
    "start_time": "2023-01-04T23:38:05.299Z"
   },
   {
    "duration": 6,
    "start_time": "2023-01-04T23:38:05.311Z"
   },
   {
    "duration": 15,
    "start_time": "2023-01-04T23:38:05.319Z"
   },
   {
    "duration": 10,
    "start_time": "2023-01-04T23:38:05.336Z"
   },
   {
    "duration": 31,
    "start_time": "2023-01-04T23:38:05.348Z"
   },
   {
    "duration": 6,
    "start_time": "2023-01-04T23:38:05.381Z"
   },
   {
    "duration": 6,
    "start_time": "2023-01-04T23:38:05.388Z"
   },
   {
    "duration": 4,
    "start_time": "2023-01-04T23:38:05.396Z"
   },
   {
    "duration": 13,
    "start_time": "2023-01-04T23:38:05.401Z"
   },
   {
    "duration": 20,
    "start_time": "2023-01-04T23:38:05.416Z"
   },
   {
    "duration": 4,
    "start_time": "2023-01-04T23:38:05.437Z"
   },
   {
    "duration": 392,
    "start_time": "2023-01-04T23:38:05.443Z"
   },
   {
    "duration": 2,
    "start_time": "2023-01-04T23:38:05.837Z"
   },
   {
    "duration": 492,
    "start_time": "2023-01-04T23:38:05.841Z"
   },
   {
    "duration": 89,
    "start_time": "2023-01-04T23:38:06.335Z"
   },
   {
    "duration": 6,
    "start_time": "2023-01-04T23:38:06.425Z"
   },
   {
    "duration": 44,
    "start_time": "2023-01-06T01:18:37.161Z"
   },
   {
    "duration": 1072,
    "start_time": "2023-01-06T01:18:43.891Z"
   },
   {
    "duration": 87,
    "start_time": "2023-01-06T01:18:44.965Z"
   },
   {
    "duration": 19,
    "start_time": "2023-01-06T01:18:45.054Z"
   },
   {
    "duration": 17,
    "start_time": "2023-01-06T01:18:45.074Z"
   },
   {
    "duration": 16,
    "start_time": "2023-01-06T01:18:45.094Z"
   },
   {
    "duration": 20,
    "start_time": "2023-01-06T01:18:45.111Z"
   },
   {
    "duration": 7,
    "start_time": "2023-01-06T01:18:45.132Z"
   },
   {
    "duration": 5,
    "start_time": "2023-01-06T01:18:45.141Z"
   },
   {
    "duration": 10,
    "start_time": "2023-01-06T01:18:45.147Z"
   },
   {
    "duration": 5,
    "start_time": "2023-01-06T01:18:45.159Z"
   },
   {
    "duration": 4,
    "start_time": "2023-01-06T01:18:45.166Z"
   },
   {
    "duration": 5,
    "start_time": "2023-01-06T01:18:45.172Z"
   },
   {
    "duration": 5,
    "start_time": "2023-01-06T01:18:45.178Z"
   },
   {
    "duration": 29,
    "start_time": "2023-01-06T01:18:45.186Z"
   },
   {
    "duration": 8,
    "start_time": "2023-01-06T01:18:45.217Z"
   },
   {
    "duration": 11,
    "start_time": "2023-01-06T01:18:45.226Z"
   },
   {
    "duration": 6,
    "start_time": "2023-01-06T01:18:45.239Z"
   },
   {
    "duration": 6,
    "start_time": "2023-01-06T01:18:45.247Z"
   },
   {
    "duration": 2,
    "start_time": "2023-01-06T01:18:45.255Z"
   },
   {
    "duration": 13,
    "start_time": "2023-01-06T01:18:45.259Z"
   },
   {
    "duration": 53,
    "start_time": "2023-01-06T01:18:45.274Z"
   },
   {
    "duration": 5,
    "start_time": "2023-01-06T01:18:45.329Z"
   },
   {
    "duration": 482,
    "start_time": "2023-01-06T01:18:45.335Z"
   },
   {
    "duration": 53875,
    "start_time": "2023-01-06T01:18:45.820Z"
   },
   {
    "duration": 4,
    "start_time": "2023-01-06T01:19:39.697Z"
   },
   {
    "duration": 530,
    "start_time": "2023-01-06T01:19:39.703Z"
   },
   {
    "duration": 84,
    "start_time": "2023-01-06T01:19:40.235Z"
   },
   {
    "duration": 8,
    "start_time": "2023-01-06T01:19:40.320Z"
   },
   {
    "duration": 27,
    "start_time": "2023-01-06T01:20:03.544Z"
   },
   {
    "duration": 4,
    "start_time": "2023-01-06T01:20:18.476Z"
   },
   {
    "duration": 79454,
    "start_time": "2023-01-06T01:20:36.174Z"
   },
   {
    "duration": 4,
    "start_time": "2023-01-06T01:21:59.508Z"
   },
   {
    "duration": 26,
    "start_time": "2023-01-06T01:22:11.776Z"
   },
   {
    "duration": 12,
    "start_time": "2023-01-06T01:27:16.342Z"
   },
   {
    "duration": 4,
    "start_time": "2023-01-06T01:28:16.704Z"
   },
   {
    "duration": 4,
    "start_time": "2023-01-06T01:28:26.984Z"
   },
   {
    "duration": 3,
    "start_time": "2023-01-06T01:29:17.163Z"
   },
   {
    "duration": 1052,
    "start_time": "2023-01-06T01:29:55.118Z"
   },
   {
    "duration": 48,
    "start_time": "2023-01-06T01:29:56.172Z"
   },
   {
    "duration": 25,
    "start_time": "2023-01-06T01:29:56.222Z"
   },
   {
    "duration": 14,
    "start_time": "2023-01-06T01:29:56.249Z"
   },
   {
    "duration": 3,
    "start_time": "2023-01-06T01:29:56.266Z"
   },
   {
    "duration": 11,
    "start_time": "2023-01-06T01:29:56.270Z"
   },
   {
    "duration": 15,
    "start_time": "2023-01-06T01:29:56.282Z"
   },
   {
    "duration": 19,
    "start_time": "2023-01-06T01:29:56.298Z"
   },
   {
    "duration": 9,
    "start_time": "2023-01-06T01:29:56.319Z"
   },
   {
    "duration": 7,
    "start_time": "2023-01-06T01:29:56.330Z"
   },
   {
    "duration": 11,
    "start_time": "2023-01-06T01:29:56.339Z"
   },
   {
    "duration": 10,
    "start_time": "2023-01-06T01:29:56.351Z"
   },
   {
    "duration": 9,
    "start_time": "2023-01-06T01:29:56.362Z"
   },
   {
    "duration": 18,
    "start_time": "2023-01-06T01:29:56.374Z"
   },
   {
    "duration": 27,
    "start_time": "2023-01-06T01:29:56.394Z"
   },
   {
    "duration": 11,
    "start_time": "2023-01-06T01:29:56.423Z"
   },
   {
    "duration": 6,
    "start_time": "2023-01-06T01:29:56.436Z"
   },
   {
    "duration": 7,
    "start_time": "2023-01-06T01:29:56.443Z"
   },
   {
    "duration": 4,
    "start_time": "2023-01-06T01:29:56.451Z"
   },
   {
    "duration": 10,
    "start_time": "2023-01-06T01:29:56.457Z"
   },
   {
    "duration": 19,
    "start_time": "2023-01-06T01:29:56.468Z"
   },
   {
    "duration": 28,
    "start_time": "2023-01-06T01:29:56.488Z"
   },
   {
    "duration": 310,
    "start_time": "2023-01-06T01:29:56.517Z"
   },
   {
    "duration": 51986,
    "start_time": "2023-01-06T01:29:56.829Z"
   },
   {
    "duration": 3,
    "start_time": "2023-01-06T01:30:48.817Z"
   },
   {
    "duration": 52938,
    "start_time": "2023-01-06T01:33:03.004Z"
   },
   {
    "duration": 4,
    "start_time": "2023-01-06T01:34:20.866Z"
   },
   {
    "duration": 123,
    "start_time": "2023-01-06T01:42:38.748Z"
   },
   {
    "duration": 3,
    "start_time": "2023-01-06T01:42:51.276Z"
   },
   {
    "duration": 37,
    "start_time": "2023-01-06T01:42:55.153Z"
   },
   {
    "duration": 35,
    "start_time": "2023-01-06T01:43:09.277Z"
   },
   {
    "duration": 3,
    "start_time": "2023-01-06T01:44:49.075Z"
   },
   {
    "duration": 163,
    "start_time": "2023-01-06T01:45:19.210Z"
   },
   {
    "duration": 139,
    "start_time": "2023-01-06T01:45:36.830Z"
   },
   {
    "duration": 986,
    "start_time": "2023-01-06T01:46:11.078Z"
   },
   {
    "duration": 42,
    "start_time": "2023-01-06T01:46:12.066Z"
   },
   {
    "duration": 17,
    "start_time": "2023-01-06T01:46:12.110Z"
   },
   {
    "duration": 15,
    "start_time": "2023-01-06T01:46:12.128Z"
   },
   {
    "duration": 3,
    "start_time": "2023-01-06T01:46:12.144Z"
   },
   {
    "duration": 6,
    "start_time": "2023-01-06T01:46:12.149Z"
   },
   {
    "duration": 8,
    "start_time": "2023-01-06T01:46:12.156Z"
   },
   {
    "duration": 6,
    "start_time": "2023-01-06T01:46:12.165Z"
   },
   {
    "duration": 8,
    "start_time": "2023-01-06T01:46:12.172Z"
   },
   {
    "duration": 5,
    "start_time": "2023-01-06T01:46:12.181Z"
   },
   {
    "duration": 7,
    "start_time": "2023-01-06T01:46:12.187Z"
   },
   {
    "duration": 23,
    "start_time": "2023-01-06T01:46:12.195Z"
   },
   {
    "duration": 6,
    "start_time": "2023-01-06T01:46:12.219Z"
   },
   {
    "duration": 11,
    "start_time": "2023-01-06T01:46:12.227Z"
   },
   {
    "duration": 9,
    "start_time": "2023-01-06T01:46:12.239Z"
   },
   {
    "duration": 13,
    "start_time": "2023-01-06T01:46:12.249Z"
   },
   {
    "duration": 6,
    "start_time": "2023-01-06T01:46:12.263Z"
   },
   {
    "duration": 6,
    "start_time": "2023-01-06T01:46:12.270Z"
   },
   {
    "duration": 3,
    "start_time": "2023-01-06T01:46:12.277Z"
   },
   {
    "duration": 42,
    "start_time": "2023-01-06T01:46:12.281Z"
   },
   {
    "duration": 19,
    "start_time": "2023-01-06T01:46:12.325Z"
   },
   {
    "duration": 4,
    "start_time": "2023-01-06T01:46:12.346Z"
   },
   {
    "duration": 334,
    "start_time": "2023-01-06T01:46:12.351Z"
   },
   {
    "duration": 52028,
    "start_time": "2023-01-06T01:46:12.687Z"
   },
   {
    "duration": 3,
    "start_time": "2023-01-06T01:47:04.717Z"
   },
   {
    "duration": 27,
    "start_time": "2023-01-06T01:47:04.722Z"
   },
   {
    "duration": 146,
    "start_time": "2023-01-06T01:47:04.751Z"
   },
   {
    "duration": 1016,
    "start_time": "2023-01-06T01:51:39.981Z"
   },
   {
    "duration": 41,
    "start_time": "2023-01-06T01:51:40.999Z"
   },
   {
    "duration": 16,
    "start_time": "2023-01-06T01:51:41.042Z"
   },
   {
    "duration": 11,
    "start_time": "2023-01-06T01:51:41.059Z"
   },
   {
    "duration": 3,
    "start_time": "2023-01-06T01:51:41.072Z"
   },
   {
    "duration": 8,
    "start_time": "2023-01-06T01:51:41.076Z"
   },
   {
    "duration": 6,
    "start_time": "2023-01-06T01:51:41.085Z"
   },
   {
    "duration": 5,
    "start_time": "2023-01-06T01:51:41.092Z"
   },
   {
    "duration": 18,
    "start_time": "2023-01-06T01:51:41.098Z"
   },
   {
    "duration": 4,
    "start_time": "2023-01-06T01:51:41.117Z"
   },
   {
    "duration": 10,
    "start_time": "2023-01-06T01:51:41.122Z"
   },
   {
    "duration": 7,
    "start_time": "2023-01-06T01:51:41.133Z"
   },
   {
    "duration": 4,
    "start_time": "2023-01-06T01:51:41.141Z"
   },
   {
    "duration": 11,
    "start_time": "2023-01-06T01:51:41.148Z"
   },
   {
    "duration": 15,
    "start_time": "2023-01-06T01:51:41.160Z"
   },
   {
    "duration": 12,
    "start_time": "2023-01-06T01:51:41.177Z"
   },
   {
    "duration": 24,
    "start_time": "2023-01-06T01:51:41.191Z"
   },
   {
    "duration": 6,
    "start_time": "2023-01-06T01:51:41.217Z"
   },
   {
    "duration": 6,
    "start_time": "2023-01-06T01:51:41.225Z"
   },
   {
    "duration": 2,
    "start_time": "2023-01-06T01:51:41.232Z"
   },
   {
    "duration": 11,
    "start_time": "2023-01-06T01:51:41.236Z"
   },
   {
    "duration": 23,
    "start_time": "2023-01-06T01:51:41.248Z"
   },
   {
    "duration": 4,
    "start_time": "2023-01-06T01:51:41.273Z"
   },
   {
    "duration": 339,
    "start_time": "2023-01-06T01:51:41.278Z"
   },
   {
    "duration": 49361,
    "start_time": "2023-01-06T01:51:41.619Z"
   },
   {
    "duration": 4,
    "start_time": "2023-01-06T01:52:30.981Z"
   },
   {
    "duration": 70,
    "start_time": "2023-01-06T01:52:30.986Z"
   },
   {
    "duration": 146,
    "start_time": "2023-01-06T01:52:31.057Z"
   },
   {
    "duration": 4,
    "start_time": "2023-01-06T01:52:58.210Z"
   },
   {
    "duration": 5,
    "start_time": "2023-01-06T01:53:06.199Z"
   },
   {
    "duration": 50168,
    "start_time": "2023-01-06T01:55:55.051Z"
   },
   {
    "duration": 5,
    "start_time": "2023-01-06T01:56:58.251Z"
   },
   {
    "duration": 50,
    "start_time": "2023-01-06T01:57:51.809Z"
   },
   {
    "duration": 4,
    "start_time": "2023-01-06T01:59:00.419Z"
   },
   {
    "duration": 108,
    "start_time": "2023-01-06T01:59:37.160Z"
   },
   {
    "duration": 3,
    "start_time": "2023-01-06T01:59:53.736Z"
   },
   {
    "duration": 14,
    "start_time": "2023-01-06T02:00:00.895Z"
   },
   {
    "duration": 5547,
    "start_time": "2023-01-06T02:00:31.976Z"
   },
   {
    "duration": 86225,
    "start_time": "2023-01-06T02:00:44.176Z"
   },
   {
    "duration": 3,
    "start_time": "2023-01-06T02:02:13.871Z"
   },
   {
    "duration": 153,
    "start_time": "2023-01-06T02:02:52.692Z"
   },
   {
    "duration": 157,
    "start_time": "2023-01-06T02:03:17.151Z"
   },
   {
    "duration": 1120,
    "start_time": "2023-01-06T02:03:55.617Z"
   },
   {
    "duration": 41,
    "start_time": "2023-01-06T02:03:56.739Z"
   },
   {
    "duration": 18,
    "start_time": "2023-01-06T02:03:56.782Z"
   },
   {
    "duration": 12,
    "start_time": "2023-01-06T02:03:56.801Z"
   },
   {
    "duration": 3,
    "start_time": "2023-01-06T02:03:56.815Z"
   },
   {
    "duration": 6,
    "start_time": "2023-01-06T02:03:56.819Z"
   },
   {
    "duration": 6,
    "start_time": "2023-01-06T02:03:56.827Z"
   },
   {
    "duration": 5,
    "start_time": "2023-01-06T02:03:56.834Z"
   },
   {
    "duration": 9,
    "start_time": "2023-01-06T02:03:56.840Z"
   },
   {
    "duration": 5,
    "start_time": "2023-01-06T02:03:56.850Z"
   },
   {
    "duration": 4,
    "start_time": "2023-01-06T02:03:56.857Z"
   },
   {
    "duration": 4,
    "start_time": "2023-01-06T02:03:56.863Z"
   },
   {
    "duration": 6,
    "start_time": "2023-01-06T02:03:56.869Z"
   },
   {
    "duration": 42,
    "start_time": "2023-01-06T02:03:56.877Z"
   },
   {
    "duration": 9,
    "start_time": "2023-01-06T02:03:56.921Z"
   },
   {
    "duration": 12,
    "start_time": "2023-01-06T02:03:56.931Z"
   },
   {
    "duration": 6,
    "start_time": "2023-01-06T02:03:56.945Z"
   },
   {
    "duration": 6,
    "start_time": "2023-01-06T02:03:56.952Z"
   },
   {
    "duration": 8,
    "start_time": "2023-01-06T02:03:56.960Z"
   },
   {
    "duration": 3,
    "start_time": "2023-01-06T02:03:56.969Z"
   },
   {
    "duration": 10,
    "start_time": "2023-01-06T02:03:56.974Z"
   },
   {
    "duration": 25,
    "start_time": "2023-01-06T02:03:57.015Z"
   },
   {
    "duration": 5,
    "start_time": "2023-01-06T02:03:57.042Z"
   },
   {
    "duration": 340,
    "start_time": "2023-01-06T02:03:57.048Z"
   },
   {
    "duration": 50483,
    "start_time": "2023-01-06T02:03:57.390Z"
   },
   {
    "duration": 4,
    "start_time": "2023-01-06T02:04:47.875Z"
   },
   {
    "duration": 107,
    "start_time": "2023-01-06T02:04:47.881Z"
   },
   {
    "duration": 0,
    "start_time": "2023-01-06T02:04:47.989Z"
   },
   {
    "duration": 0,
    "start_time": "2023-01-06T02:04:47.991Z"
   },
   {
    "duration": 0,
    "start_time": "2023-01-06T02:04:47.991Z"
   },
   {
    "duration": 0,
    "start_time": "2023-01-06T02:04:47.993Z"
   },
   {
    "duration": 0,
    "start_time": "2023-01-06T02:04:47.993Z"
   },
   {
    "duration": 0,
    "start_time": "2023-01-06T02:04:47.995Z"
   },
   {
    "duration": 0,
    "start_time": "2023-01-06T02:04:47.996Z"
   },
   {
    "duration": 0,
    "start_time": "2023-01-06T02:04:47.997Z"
   },
   {
    "duration": 0,
    "start_time": "2023-01-06T02:04:47.997Z"
   },
   {
    "duration": 0,
    "start_time": "2023-01-06T02:04:48.015Z"
   },
   {
    "duration": 0,
    "start_time": "2023-01-06T02:04:48.016Z"
   },
   {
    "duration": 1024,
    "start_time": "2023-01-06T02:06:01.669Z"
   },
   {
    "duration": 42,
    "start_time": "2023-01-06T02:06:02.695Z"
   },
   {
    "duration": 18,
    "start_time": "2023-01-06T02:06:02.742Z"
   },
   {
    "duration": 12,
    "start_time": "2023-01-06T02:06:02.762Z"
   },
   {
    "duration": 2,
    "start_time": "2023-01-06T02:06:02.776Z"
   },
   {
    "duration": 11,
    "start_time": "2023-01-06T02:06:02.780Z"
   },
   {
    "duration": 31,
    "start_time": "2023-01-06T02:06:02.793Z"
   },
   {
    "duration": 6,
    "start_time": "2023-01-06T02:06:02.825Z"
   },
   {
    "duration": 11,
    "start_time": "2023-01-06T02:06:02.833Z"
   },
   {
    "duration": 6,
    "start_time": "2023-01-06T02:06:02.845Z"
   },
   {
    "duration": 5,
    "start_time": "2023-01-06T02:06:02.852Z"
   },
   {
    "duration": 12,
    "start_time": "2023-01-06T02:06:02.858Z"
   },
   {
    "duration": 13,
    "start_time": "2023-01-06T02:06:02.871Z"
   },
   {
    "duration": 15,
    "start_time": "2023-01-06T02:06:02.886Z"
   },
   {
    "duration": 19,
    "start_time": "2023-01-06T02:06:02.903Z"
   },
   {
    "duration": 12,
    "start_time": "2023-01-06T02:06:02.923Z"
   },
   {
    "duration": 7,
    "start_time": "2023-01-06T02:06:02.936Z"
   },
   {
    "duration": 8,
    "start_time": "2023-01-06T02:06:02.945Z"
   },
   {
    "duration": 6,
    "start_time": "2023-01-06T02:06:02.956Z"
   },
   {
    "duration": 3,
    "start_time": "2023-01-06T02:06:02.964Z"
   },
   {
    "duration": 46,
    "start_time": "2023-01-06T02:06:02.969Z"
   },
   {
    "duration": 26,
    "start_time": "2023-01-06T02:06:03.017Z"
   },
   {
    "duration": 5,
    "start_time": "2023-01-06T02:06:03.045Z"
   },
   {
    "duration": 341,
    "start_time": "2023-01-06T02:06:03.052Z"
   },
   {
    "duration": 49813,
    "start_time": "2023-01-06T02:06:03.395Z"
   },
   {
    "duration": 7,
    "start_time": "2023-01-06T02:06:53.210Z"
   },
   {
    "duration": 41,
    "start_time": "2023-01-06T02:06:53.219Z"
   },
   {
    "duration": 150,
    "start_time": "2023-01-06T02:06:53.261Z"
   },
   {
    "duration": 49846,
    "start_time": "2023-01-06T02:06:53.415Z"
   },
   {
    "duration": 4,
    "start_time": "2023-01-06T02:07:43.262Z"
   },
   {
    "duration": 136,
    "start_time": "2023-01-06T02:07:43.267Z"
   },
   {
    "duration": 3,
    "start_time": "2023-01-06T02:07:43.405Z"
   },
   {
    "duration": 15,
    "start_time": "2023-01-06T02:07:43.415Z"
   },
   {
    "duration": 1081,
    "start_time": "2023-01-06T02:07:47.784Z"
   },
   {
    "duration": 41,
    "start_time": "2023-01-06T02:07:48.866Z"
   },
   {
    "duration": 17,
    "start_time": "2023-01-06T02:07:48.908Z"
   },
   {
    "duration": 13,
    "start_time": "2023-01-06T02:07:48.926Z"
   },
   {
    "duration": 3,
    "start_time": "2023-01-06T02:07:48.942Z"
   },
   {
    "duration": 11,
    "start_time": "2023-01-06T02:07:48.947Z"
   },
   {
    "duration": 7,
    "start_time": "2023-01-06T02:07:48.960Z"
   },
   {
    "duration": 16,
    "start_time": "2023-01-06T02:07:48.968Z"
   },
   {
    "duration": 12,
    "start_time": "2023-01-06T02:07:48.985Z"
   },
   {
    "duration": 17,
    "start_time": "2023-01-06T02:07:48.999Z"
   },
   {
    "duration": 5,
    "start_time": "2023-01-06T02:07:49.018Z"
   },
   {
    "duration": 8,
    "start_time": "2023-01-06T02:07:49.025Z"
   },
   {
    "duration": 6,
    "start_time": "2023-01-06T02:07:49.034Z"
   },
   {
    "duration": 13,
    "start_time": "2023-01-06T02:07:49.043Z"
   },
   {
    "duration": 13,
    "start_time": "2023-01-06T02:07:49.058Z"
   },
   {
    "duration": 13,
    "start_time": "2023-01-06T02:07:49.072Z"
   },
   {
    "duration": 33,
    "start_time": "2023-01-06T02:07:49.086Z"
   },
   {
    "duration": 6,
    "start_time": "2023-01-06T02:07:49.120Z"
   },
   {
    "duration": 5,
    "start_time": "2023-01-06T02:07:49.128Z"
   },
   {
    "duration": 3,
    "start_time": "2023-01-06T02:07:49.134Z"
   },
   {
    "duration": 10,
    "start_time": "2023-01-06T02:07:49.139Z"
   },
   {
    "duration": 27,
    "start_time": "2023-01-06T02:07:49.150Z"
   },
   {
    "duration": 4,
    "start_time": "2023-01-06T02:07:49.179Z"
   },
   {
    "duration": 335,
    "start_time": "2023-01-06T02:07:49.184Z"
   },
   {
    "duration": 49568,
    "start_time": "2023-01-06T02:07:49.521Z"
   },
   {
    "duration": 4,
    "start_time": "2023-01-06T02:08:39.090Z"
   },
   {
    "duration": 44,
    "start_time": "2023-01-06T02:08:39.095Z"
   },
   {
    "duration": 146,
    "start_time": "2023-01-06T02:08:39.140Z"
   },
   {
    "duration": 50021,
    "start_time": "2023-01-06T02:08:39.288Z"
   },
   {
    "duration": 6,
    "start_time": "2023-01-06T02:09:29.311Z"
   },
   {
    "duration": 139,
    "start_time": "2023-01-06T02:09:29.318Z"
   },
   {
    "duration": 3,
    "start_time": "2023-01-06T02:09:29.459Z"
   },
   {
    "duration": 17,
    "start_time": "2023-01-06T02:09:29.464Z"
   },
   {
    "duration": 86084,
    "start_time": "2023-01-06T02:09:29.483Z"
   },
   {
    "duration": 3,
    "start_time": "2023-01-06T02:10:55.569Z"
   },
   {
    "duration": 156,
    "start_time": "2023-01-06T02:10:55.573Z"
   },
   {
    "duration": 3,
    "start_time": "2023-01-06T02:10:55.731Z"
   },
   {
    "duration": 10,
    "start_time": "2023-01-06T02:10:55.736Z"
   },
   {
    "duration": 27025,
    "start_time": "2023-01-06T02:10:55.748Z"
   },
   {
    "duration": 45,
    "start_time": "2023-01-06T02:11:22.774Z"
   },
   {
    "duration": 3,
    "start_time": "2023-01-06T02:11:55.523Z"
   },
   {
    "duration": 120,
    "start_time": "2023-01-06T02:12:07.803Z"
   },
   {
    "duration": 4,
    "start_time": "2023-01-06T02:14:05.812Z"
   },
   {
    "duration": 10,
    "start_time": "2023-01-06T02:14:06.610Z"
   },
   {
    "duration": 32739,
    "start_time": "2023-01-06T02:14:08.604Z"
   },
   {
    "duration": 3,
    "start_time": "2023-01-06T02:14:58.996Z"
   },
   {
    "duration": 136,
    "start_time": "2023-01-06T02:15:05.843Z"
   },
   {
    "duration": 4,
    "start_time": "2023-01-06T02:16:35.085Z"
   },
   {
    "duration": 11,
    "start_time": "2023-01-06T02:16:35.726Z"
   },
   {
    "duration": 64764,
    "start_time": "2023-01-06T02:16:36.274Z"
   },
   {
    "duration": 4,
    "start_time": "2023-01-06T02:17:41.040Z"
   },
   {
    "duration": 142,
    "start_time": "2023-01-06T02:17:41.045Z"
   },
   {
    "duration": 4,
    "start_time": "2023-01-06T02:18:37.103Z"
   },
   {
    "duration": 9,
    "start_time": "2023-01-06T02:18:38.242Z"
   },
   {
    "duration": 31144,
    "start_time": "2023-01-06T02:18:39.088Z"
   },
   {
    "duration": 4,
    "start_time": "2023-01-06T02:19:10.233Z"
   },
   {
    "duration": 140,
    "start_time": "2023-01-06T02:19:10.239Z"
   },
   {
    "duration": 9,
    "start_time": "2023-01-06T02:19:23.033Z"
   },
   {
    "duration": 33384,
    "start_time": "2023-01-06T02:19:23.829Z"
   },
   {
    "duration": 4,
    "start_time": "2023-01-06T02:19:57.215Z"
   },
   {
    "duration": 153,
    "start_time": "2023-01-06T02:19:57.220Z"
   },
   {
    "duration": 3,
    "start_time": "2023-01-06T02:23:54.233Z"
   },
   {
    "duration": 48,
    "start_time": "2023-01-06T02:23:55.220Z"
   },
   {
    "duration": 100,
    "start_time": "2023-01-06T02:24:13.205Z"
   },
   {
    "duration": 189,
    "start_time": "2023-01-06T02:24:26.243Z"
   },
   {
    "duration": 24,
    "start_time": "2023-01-06T02:24:28.477Z"
   },
   {
    "duration": 215,
    "start_time": "2023-01-06T02:24:56.594Z"
   },
   {
    "duration": 23,
    "start_time": "2023-01-06T02:24:59.004Z"
   },
   {
    "duration": 106,
    "start_time": "2023-01-06T02:26:40.467Z"
   },
   {
    "duration": 23,
    "start_time": "2023-01-06T02:26:41.617Z"
   },
   {
    "duration": 167,
    "start_time": "2023-01-06T02:26:53.294Z"
   },
   {
    "duration": 24,
    "start_time": "2023-01-06T02:26:53.597Z"
   },
   {
    "duration": 129,
    "start_time": "2023-01-06T02:27:14.820Z"
   },
   {
    "duration": 1031,
    "start_time": "2023-01-06T02:36:19.044Z"
   },
   {
    "duration": 78,
    "start_time": "2023-01-06T02:36:20.077Z"
   },
   {
    "duration": 30,
    "start_time": "2023-01-06T02:36:20.157Z"
   },
   {
    "duration": 11,
    "start_time": "2023-01-06T02:36:20.189Z"
   },
   {
    "duration": 15,
    "start_time": "2023-01-06T02:36:20.202Z"
   },
   {
    "duration": 16,
    "start_time": "2023-01-06T02:36:20.218Z"
   },
   {
    "duration": 6,
    "start_time": "2023-01-06T02:36:20.235Z"
   },
   {
    "duration": 6,
    "start_time": "2023-01-06T02:36:20.242Z"
   },
   {
    "duration": 10,
    "start_time": "2023-01-06T02:36:20.249Z"
   },
   {
    "duration": 5,
    "start_time": "2023-01-06T02:36:20.260Z"
   },
   {
    "duration": 4,
    "start_time": "2023-01-06T02:36:20.267Z"
   },
   {
    "duration": 7,
    "start_time": "2023-01-06T02:36:20.273Z"
   },
   {
    "duration": 5,
    "start_time": "2023-01-06T02:36:20.281Z"
   },
   {
    "duration": 27,
    "start_time": "2023-01-06T02:36:20.289Z"
   },
   {
    "duration": 8,
    "start_time": "2023-01-06T02:36:20.317Z"
   },
   {
    "duration": 11,
    "start_time": "2023-01-06T02:36:20.327Z"
   },
   {
    "duration": 6,
    "start_time": "2023-01-06T02:36:20.339Z"
   },
   {
    "duration": 5,
    "start_time": "2023-01-06T02:36:20.346Z"
   },
   {
    "duration": 4,
    "start_time": "2023-01-06T02:36:20.353Z"
   },
   {
    "duration": 2,
    "start_time": "2023-01-06T02:36:20.359Z"
   },
   {
    "duration": 11,
    "start_time": "2023-01-06T02:36:20.363Z"
   },
   {
    "duration": 61,
    "start_time": "2023-01-06T02:36:20.375Z"
   },
   {
    "duration": 5,
    "start_time": "2023-01-06T02:36:20.437Z"
   },
   {
    "duration": 492,
    "start_time": "2023-01-06T02:36:20.444Z"
   },
   {
    "duration": 49795,
    "start_time": "2023-01-06T02:36:20.938Z"
   },
   {
    "duration": 4,
    "start_time": "2023-01-06T02:37:10.735Z"
   },
   {
    "duration": 38,
    "start_time": "2023-01-06T02:37:10.740Z"
   },
   {
    "duration": 157,
    "start_time": "2023-01-06T02:37:10.780Z"
   },
   {
    "duration": 49579,
    "start_time": "2023-01-06T02:37:10.938Z"
   },
   {
    "duration": 4,
    "start_time": "2023-01-06T02:38:00.519Z"
   },
   {
    "duration": 168,
    "start_time": "2023-01-06T02:38:00.525Z"
   },
   {
    "duration": 3,
    "start_time": "2023-01-06T02:38:00.695Z"
   },
   {
    "duration": 47,
    "start_time": "2023-01-06T02:38:00.700Z"
   },
   {
    "duration": 63932,
    "start_time": "2023-01-06T02:38:00.749Z"
   },
   {
    "duration": 5,
    "start_time": "2023-01-06T02:39:04.682Z"
   },
   {
    "duration": 151,
    "start_time": "2023-01-06T02:39:04.689Z"
   },
   {
    "duration": 4,
    "start_time": "2023-01-06T02:39:04.842Z"
   },
   {
    "duration": 12,
    "start_time": "2023-01-06T02:39:04.848Z"
   },
   {
    "duration": 33273,
    "start_time": "2023-01-06T02:39:04.861Z"
   },
   {
    "duration": 4,
    "start_time": "2023-01-06T02:39:38.135Z"
   },
   {
    "duration": 148,
    "start_time": "2023-01-06T02:39:38.142Z"
   },
   {
    "duration": 172,
    "start_time": "2023-01-06T02:39:38.291Z"
   },
   {
    "duration": 23,
    "start_time": "2023-01-06T02:39:38.465Z"
   },
   {
    "duration": 142,
    "start_time": "2023-01-06T02:39:38.489Z"
   },
   {
    "duration": 1035,
    "start_time": "2023-01-06T02:44:44.484Z"
   },
   {
    "duration": 40,
    "start_time": "2023-01-06T02:44:45.521Z"
   },
   {
    "duration": 18,
    "start_time": "2023-01-06T02:44:45.562Z"
   },
   {
    "duration": 10,
    "start_time": "2023-01-06T02:44:45.582Z"
   },
   {
    "duration": 3,
    "start_time": "2023-01-06T02:44:45.593Z"
   },
   {
    "duration": 8,
    "start_time": "2023-01-06T02:44:45.598Z"
   },
   {
    "duration": 6,
    "start_time": "2023-01-06T02:44:45.607Z"
   },
   {
    "duration": 6,
    "start_time": "2023-01-06T02:44:45.614Z"
   },
   {
    "duration": 9,
    "start_time": "2023-01-06T02:44:45.622Z"
   },
   {
    "duration": 4,
    "start_time": "2023-01-06T02:44:45.633Z"
   },
   {
    "duration": 5,
    "start_time": "2023-01-06T02:44:45.639Z"
   },
   {
    "duration": 7,
    "start_time": "2023-01-06T02:44:45.645Z"
   },
   {
    "duration": 14,
    "start_time": "2023-01-06T02:44:45.653Z"
   },
   {
    "duration": 9,
    "start_time": "2023-01-06T02:44:45.669Z"
   },
   {
    "duration": 10,
    "start_time": "2023-01-06T02:44:45.679Z"
   },
   {
    "duration": 25,
    "start_time": "2023-01-06T02:44:45.690Z"
   },
   {
    "duration": 5,
    "start_time": "2023-01-06T02:44:45.717Z"
   },
   {
    "duration": 4,
    "start_time": "2023-01-06T02:44:45.724Z"
   },
   {
    "duration": 3,
    "start_time": "2023-01-06T02:44:45.730Z"
   },
   {
    "duration": 10,
    "start_time": "2023-01-06T02:44:45.734Z"
   },
   {
    "duration": 23,
    "start_time": "2023-01-06T02:44:45.745Z"
   },
   {
    "duration": 4,
    "start_time": "2023-01-06T02:44:45.769Z"
   },
   {
    "duration": 347,
    "start_time": "2023-01-06T02:44:45.774Z"
   },
   {
    "duration": 49180,
    "start_time": "2023-01-06T02:44:46.122Z"
   },
   {
    "duration": 3,
    "start_time": "2023-01-06T02:45:35.304Z"
   },
   {
    "duration": 45,
    "start_time": "2023-01-06T02:45:35.308Z"
   },
   {
    "duration": 148,
    "start_time": "2023-01-06T02:45:35.355Z"
   },
   {
    "duration": 49670,
    "start_time": "2023-01-06T02:45:35.506Z"
   },
   {
    "duration": 3,
    "start_time": "2023-01-06T02:46:25.178Z"
   },
   {
    "duration": 142,
    "start_time": "2023-01-06T02:46:25.182Z"
   },
   {
    "duration": 4,
    "start_time": "2023-01-06T02:46:25.325Z"
   },
   {
    "duration": 12,
    "start_time": "2023-01-06T02:46:25.330Z"
   },
   {
    "duration": 63680,
    "start_time": "2023-01-06T02:46:25.343Z"
   },
   {
    "duration": 4,
    "start_time": "2023-01-06T02:47:29.024Z"
   },
   {
    "duration": 143,
    "start_time": "2023-01-06T02:47:29.030Z"
   },
   {
    "duration": 5,
    "start_time": "2023-01-06T02:47:29.175Z"
   },
   {
    "duration": 13,
    "start_time": "2023-01-06T02:47:29.181Z"
   },
   {
    "duration": 33199,
    "start_time": "2023-01-06T02:47:29.195Z"
   },
   {
    "duration": 3,
    "start_time": "2023-01-06T02:48:02.396Z"
   },
   {
    "duration": 151,
    "start_time": "2023-01-06T02:48:02.400Z"
   },
   {
    "duration": 178,
    "start_time": "2023-01-06T02:48:02.552Z"
   },
   {
    "duration": 23,
    "start_time": "2023-01-06T02:48:02.732Z"
   },
   {
    "duration": 143,
    "start_time": "2023-01-06T02:48:02.756Z"
   },
   {
    "duration": 1122,
    "start_time": "2023-01-06T05:16:44.763Z"
   },
   {
    "duration": 91,
    "start_time": "2023-01-06T05:16:46.360Z"
   },
   {
    "duration": 18,
    "start_time": "2023-01-06T05:16:49.660Z"
   },
   {
    "duration": 14,
    "start_time": "2023-01-06T05:17:16.304Z"
   },
   {
    "duration": 5,
    "start_time": "2023-01-06T05:17:40.555Z"
   },
   {
    "duration": 4,
    "start_time": "2023-01-06T05:17:42.301Z"
   },
   {
    "duration": 5,
    "start_time": "2023-01-06T05:18:11.820Z"
   },
   {
    "duration": 5,
    "start_time": "2023-01-06T05:18:30.943Z"
   },
   {
    "duration": 4,
    "start_time": "2023-01-06T05:18:31.544Z"
   },
   {
    "duration": 7,
    "start_time": "2023-01-06T05:18:55.153Z"
   },
   {
    "duration": 5,
    "start_time": "2023-01-06T05:19:00.177Z"
   },
   {
    "duration": 4,
    "start_time": "2023-01-06T05:19:07.256Z"
   },
   {
    "duration": 8,
    "start_time": "2023-01-06T05:19:44.212Z"
   },
   {
    "duration": 5,
    "start_time": "2023-01-06T05:19:49.576Z"
   },
   {
    "duration": 12,
    "start_time": "2023-01-06T05:19:51.158Z"
   },
   {
    "duration": 9,
    "start_time": "2023-01-06T05:20:06.852Z"
   },
   {
    "duration": 11,
    "start_time": "2023-01-06T05:20:07.470Z"
   },
   {
    "duration": 3,
    "start_time": "2023-01-06T05:20:23.802Z"
   },
   {
    "duration": 50,
    "start_time": "2023-01-06T05:20:23.807Z"
   },
   {
    "duration": 11,
    "start_time": "2023-01-06T05:20:23.858Z"
   },
   {
    "duration": 13,
    "start_time": "2023-01-06T05:20:23.871Z"
   },
   {
    "duration": 2,
    "start_time": "2023-01-06T05:20:23.886Z"
   },
   {
    "duration": 6,
    "start_time": "2023-01-06T05:20:23.889Z"
   },
   {
    "duration": 10,
    "start_time": "2023-01-06T05:20:23.896Z"
   },
   {
    "duration": 8,
    "start_time": "2023-01-06T05:20:23.907Z"
   },
   {
    "duration": 11,
    "start_time": "2023-01-06T05:20:23.916Z"
   },
   {
    "duration": 4,
    "start_time": "2023-01-06T05:20:23.928Z"
   },
   {
    "duration": 7,
    "start_time": "2023-01-06T05:20:23.934Z"
   },
   {
    "duration": 6,
    "start_time": "2023-01-06T05:20:23.942Z"
   },
   {
    "duration": 15,
    "start_time": "2023-01-06T05:20:23.950Z"
   },
   {
    "duration": 8,
    "start_time": "2023-01-06T05:20:45.885Z"
   },
   {
    "duration": 11,
    "start_time": "2023-01-06T05:20:46.600Z"
   },
   {
    "duration": 5,
    "start_time": "2023-01-06T05:23:34.917Z"
   },
   {
    "duration": 6,
    "start_time": "2023-01-06T05:23:41.137Z"
   },
   {
    "duration": 6,
    "start_time": "2023-01-06T05:23:43.757Z"
   },
   {
    "duration": 2,
    "start_time": "2023-01-06T05:24:04.011Z"
   },
   {
    "duration": 9,
    "start_time": "2023-01-06T05:24:07.964Z"
   },
   {
    "duration": 25,
    "start_time": "2023-01-06T05:24:08.634Z"
   },
   {
    "duration": 23,
    "start_time": "2023-01-06T05:24:22.135Z"
   },
   {
    "duration": 56,
    "start_time": "2023-01-06T05:24:38.416Z"
   },
   {
    "duration": 5,
    "start_time": "2023-01-06T05:25:42.099Z"
   },
   {
    "duration": 471,
    "start_time": "2023-01-06T05:25:43.643Z"
   },
   {
    "duration": 50139,
    "start_time": "2023-01-06T05:26:33.044Z"
   },
   {
    "duration": 4,
    "start_time": "2023-01-06T05:27:30.073Z"
   },
   {
    "duration": 39,
    "start_time": "2023-01-06T05:27:31.433Z"
   },
   {
    "duration": 150,
    "start_time": "2023-01-06T05:27:35.743Z"
   },
   {
    "duration": 40,
    "start_time": "2023-01-06T05:28:03.295Z"
   },
   {
    "duration": 37,
    "start_time": "2023-01-06T05:28:08.614Z"
   },
   {
    "duration": 146,
    "start_time": "2023-01-06T05:28:10.183Z"
   },
   {
    "duration": 50389,
    "start_time": "2023-01-06T05:31:33.711Z"
   },
   {
    "duration": 4,
    "start_time": "2023-01-06T05:32:24.102Z"
   },
   {
    "duration": 135,
    "start_time": "2023-01-06T05:32:24.116Z"
   },
   {
    "duration": 4,
    "start_time": "2023-01-06T05:32:38.023Z"
   },
   {
    "duration": 11,
    "start_time": "2023-01-06T05:32:38.813Z"
   },
   {
    "duration": 64344,
    "start_time": "2023-01-06T05:32:42.000Z"
   },
   {
    "duration": 5,
    "start_time": "2023-01-06T05:33:46.346Z"
   },
   {
    "duration": 157,
    "start_time": "2023-01-06T05:33:46.352Z"
   },
   {
    "duration": 4,
    "start_time": "2023-01-06T05:34:00.330Z"
   },
   {
    "duration": 10,
    "start_time": "2023-01-06T05:34:01.854Z"
   },
   {
    "duration": 33545,
    "start_time": "2023-01-06T05:34:04.758Z"
   },
   {
    "duration": 3,
    "start_time": "2023-01-06T05:34:38.306Z"
   },
   {
    "duration": 143,
    "start_time": "2023-01-06T05:34:38.310Z"
   },
   {
    "duration": 177,
    "start_time": "2023-01-06T05:36:33.519Z"
   },
   {
    "duration": 26,
    "start_time": "2023-01-06T05:36:34.390Z"
   },
   {
    "duration": 138,
    "start_time": "2023-01-06T05:36:35.978Z"
   },
   {
    "duration": 174,
    "start_time": "2023-01-06T05:36:40.674Z"
   },
   {
    "duration": 25,
    "start_time": "2023-01-06T05:36:40.908Z"
   },
   {
    "duration": 126,
    "start_time": "2023-01-06T05:36:41.849Z"
   },
   {
    "duration": 1099,
    "start_time": "2023-01-07T02:00:26.984Z"
   },
   {
    "duration": 80,
    "start_time": "2023-01-07T02:00:28.085Z"
   },
   {
    "duration": 21,
    "start_time": "2023-01-07T02:00:28.167Z"
   },
   {
    "duration": 13,
    "start_time": "2023-01-07T02:00:28.190Z"
   },
   {
    "duration": 5,
    "start_time": "2023-01-07T02:00:28.206Z"
   },
   {
    "duration": 9,
    "start_time": "2023-01-07T02:00:28.212Z"
   },
   {
    "duration": 6,
    "start_time": "2023-01-07T02:00:28.223Z"
   },
   {
    "duration": 11,
    "start_time": "2023-01-07T02:00:28.231Z"
   },
   {
    "duration": 9,
    "start_time": "2023-01-07T02:00:28.243Z"
   },
   {
    "duration": 9,
    "start_time": "2023-01-07T02:00:28.254Z"
   },
   {
    "duration": 16,
    "start_time": "2023-01-07T02:00:28.265Z"
   },
   {
    "duration": 7,
    "start_time": "2023-01-07T02:00:28.283Z"
   },
   {
    "duration": 22,
    "start_time": "2023-01-07T02:00:28.291Z"
   },
   {
    "duration": 14,
    "start_time": "2023-01-07T02:00:28.317Z"
   },
   {
    "duration": 14,
    "start_time": "2023-01-07T02:00:28.333Z"
   },
   {
    "duration": 11,
    "start_time": "2023-01-07T02:00:28.348Z"
   },
   {
    "duration": 15,
    "start_time": "2023-01-07T02:00:28.360Z"
   },
   {
    "duration": 9,
    "start_time": "2023-01-07T02:00:28.377Z"
   },
   {
    "duration": 8,
    "start_time": "2023-01-07T02:00:28.388Z"
   },
   {
    "duration": 6,
    "start_time": "2023-01-07T02:00:28.398Z"
   },
   {
    "duration": 19,
    "start_time": "2023-01-07T02:00:28.405Z"
   },
   {
    "duration": 29,
    "start_time": "2023-01-07T02:00:28.426Z"
   },
   {
    "duration": 6,
    "start_time": "2023-01-07T02:00:28.457Z"
   },
   {
    "duration": 539,
    "start_time": "2023-01-07T02:00:28.465Z"
   },
   {
    "duration": 28075,
    "start_time": "2023-01-07T02:00:29.006Z"
   },
   {
    "duration": 4,
    "start_time": "2023-01-07T02:00:57.082Z"
   },
   {
    "duration": 42,
    "start_time": "2023-01-07T02:00:57.087Z"
   },
   {
    "duration": 141,
    "start_time": "2023-01-07T02:00:57.131Z"
   },
   {
    "duration": 1096,
    "start_time": "2023-01-07T02:01:05.991Z"
   },
   {
    "duration": 40,
    "start_time": "2023-01-07T02:01:07.090Z"
   },
   {
    "duration": 21,
    "start_time": "2023-01-07T02:01:07.131Z"
   },
   {
    "duration": 14,
    "start_time": "2023-01-07T02:01:07.155Z"
   },
   {
    "duration": 3,
    "start_time": "2023-01-07T02:01:07.171Z"
   },
   {
    "duration": 13,
    "start_time": "2023-01-07T02:01:07.176Z"
   },
   {
    "duration": 12,
    "start_time": "2023-01-07T02:01:07.190Z"
   },
   {
    "duration": 3,
    "start_time": "2023-01-07T02:01:07.212Z"
   },
   {
    "duration": 13,
    "start_time": "2023-01-07T02:01:07.217Z"
   },
   {
    "duration": 5,
    "start_time": "2023-01-07T02:01:07.232Z"
   },
   {
    "duration": 23,
    "start_time": "2023-01-07T02:01:07.238Z"
   },
   {
    "duration": 12,
    "start_time": "2023-01-07T02:01:07.262Z"
   },
   {
    "duration": 15,
    "start_time": "2023-01-07T02:01:07.276Z"
   },
   {
    "duration": 10,
    "start_time": "2023-01-07T02:01:07.292Z"
   },
   {
    "duration": 17,
    "start_time": "2023-01-07T02:01:07.303Z"
   },
   {
    "duration": 13,
    "start_time": "2023-01-07T02:01:07.322Z"
   },
   {
    "duration": 12,
    "start_time": "2023-01-07T02:01:07.336Z"
   },
   {
    "duration": 9,
    "start_time": "2023-01-07T02:01:07.349Z"
   },
   {
    "duration": 5,
    "start_time": "2023-01-07T02:01:07.359Z"
   },
   {
    "duration": 7,
    "start_time": "2023-01-07T02:01:07.365Z"
   },
   {
    "duration": 16,
    "start_time": "2023-01-07T02:01:07.373Z"
   },
   {
    "duration": 33,
    "start_time": "2023-01-07T02:01:07.391Z"
   },
   {
    "duration": 5,
    "start_time": "2023-01-07T02:01:07.426Z"
   },
   {
    "duration": 330,
    "start_time": "2023-01-07T02:01:07.432Z"
   },
   {
    "duration": 51104,
    "start_time": "2023-01-07T02:01:07.763Z"
   },
   {
    "duration": 4,
    "start_time": "2023-01-07T02:01:58.869Z"
   },
   {
    "duration": 50,
    "start_time": "2023-01-07T02:01:58.875Z"
   },
   {
    "duration": 167,
    "start_time": "2023-01-07T02:01:58.929Z"
   },
   {
    "duration": 51994,
    "start_time": "2023-01-07T02:01:59.097Z"
   },
   {
    "duration": 5,
    "start_time": "2023-01-07T02:02:51.093Z"
   },
   {
    "duration": 155,
    "start_time": "2023-01-07T02:02:51.100Z"
   },
   {
    "duration": 5,
    "start_time": "2023-01-07T02:02:51.257Z"
   },
   {
    "duration": 24,
    "start_time": "2023-01-07T02:02:51.263Z"
   },
   {
    "duration": 1044,
    "start_time": "2023-01-07T02:03:55.461Z"
   },
   {
    "duration": 39,
    "start_time": "2023-01-07T02:03:56.508Z"
   },
   {
    "duration": 19,
    "start_time": "2023-01-07T02:03:56.549Z"
   },
   {
    "duration": 13,
    "start_time": "2023-01-07T02:03:56.570Z"
   },
   {
    "duration": 3,
    "start_time": "2023-01-07T02:03:56.585Z"
   },
   {
    "duration": 7,
    "start_time": "2023-01-07T02:03:56.590Z"
   },
   {
    "duration": 24,
    "start_time": "2023-01-07T02:03:56.598Z"
   },
   {
    "duration": 7,
    "start_time": "2023-01-07T02:03:56.624Z"
   },
   {
    "duration": 10,
    "start_time": "2023-01-07T02:03:56.632Z"
   },
   {
    "duration": 18,
    "start_time": "2023-01-07T02:03:56.644Z"
   },
   {
    "duration": 16,
    "start_time": "2023-01-07T02:03:56.664Z"
   },
   {
    "duration": 9,
    "start_time": "2023-01-07T02:03:56.683Z"
   },
   {
    "duration": 21,
    "start_time": "2023-01-07T02:03:56.694Z"
   },
   {
    "duration": 13,
    "start_time": "2023-01-07T02:03:56.717Z"
   },
   {
    "duration": 16,
    "start_time": "2023-01-07T02:03:56.732Z"
   },
   {
    "duration": 9,
    "start_time": "2023-01-07T02:03:56.750Z"
   },
   {
    "duration": 11,
    "start_time": "2023-01-07T02:03:56.762Z"
   },
   {
    "duration": 17,
    "start_time": "2023-01-07T02:03:56.775Z"
   },
   {
    "duration": 18,
    "start_time": "2023-01-07T02:03:56.794Z"
   },
   {
    "duration": 9,
    "start_time": "2023-01-07T02:03:56.813Z"
   },
   {
    "duration": 13,
    "start_time": "2023-01-07T02:03:56.824Z"
   },
   {
    "duration": 31,
    "start_time": "2023-01-07T02:03:56.838Z"
   },
   {
    "duration": 5,
    "start_time": "2023-01-07T02:03:56.871Z"
   },
   {
    "duration": 369,
    "start_time": "2023-01-07T02:03:56.878Z"
   },
   {
    "duration": 52287,
    "start_time": "2023-01-07T02:03:57.249Z"
   },
   {
    "duration": 4,
    "start_time": "2023-01-07T02:04:49.538Z"
   },
   {
    "duration": 48,
    "start_time": "2023-01-07T02:04:49.543Z"
   },
   {
    "duration": 158,
    "start_time": "2023-01-07T02:04:49.594Z"
   },
   {
    "duration": 50800,
    "start_time": "2023-01-07T02:04:49.753Z"
   },
   {
    "duration": 4,
    "start_time": "2023-01-07T02:05:40.555Z"
   },
   {
    "duration": 161,
    "start_time": "2023-01-07T02:05:40.561Z"
   },
   {
    "duration": 4,
    "start_time": "2023-01-07T02:05:40.724Z"
   },
   {
    "duration": 19,
    "start_time": "2023-01-07T02:05:40.729Z"
   },
   {
    "duration": 66416,
    "start_time": "2023-01-07T02:05:40.750Z"
   },
   {
    "duration": 5,
    "start_time": "2023-01-07T02:06:47.167Z"
   },
   {
    "duration": 221,
    "start_time": "2023-01-07T02:06:47.173Z"
   },
   {
    "duration": 7,
    "start_time": "2023-01-07T02:06:47.396Z"
   },
   {
    "duration": 11,
    "start_time": "2023-01-07T02:06:47.413Z"
   },
   {
    "duration": 35912,
    "start_time": "2023-01-07T02:06:47.426Z"
   },
   {
    "duration": 4,
    "start_time": "2023-01-07T02:07:23.340Z"
   },
   {
    "duration": 152,
    "start_time": "2023-01-07T02:07:23.346Z"
   },
   {
    "duration": 192,
    "start_time": "2023-01-07T02:07:23.500Z"
   },
   {
    "duration": 33,
    "start_time": "2023-01-07T02:07:23.694Z"
   },
   {
    "duration": 157,
    "start_time": "2023-01-07T02:07:23.728Z"
   },
   {
    "duration": 174,
    "start_time": "2023-01-07T02:08:01.049Z"
   },
   {
    "duration": 27,
    "start_time": "2023-01-07T02:08:04.386Z"
   },
   {
    "duration": 196,
    "start_time": "2023-01-07T02:08:09.639Z"
   },
   {
    "duration": 33,
    "start_time": "2023-01-07T02:08:10.943Z"
   },
   {
    "duration": 102,
    "start_time": "2023-01-07T02:11:49.179Z"
   },
   {
    "duration": 15,
    "start_time": "2023-01-07T02:12:24.498Z"
   },
   {
    "duration": 14,
    "start_time": "2023-01-07T02:12:27.063Z"
   },
   {
    "duration": 14,
    "start_time": "2023-01-07T02:12:34.097Z"
   },
   {
    "duration": 10,
    "start_time": "2023-01-07T02:12:34.639Z"
   },
   {
    "duration": 14,
    "start_time": "2023-01-07T02:12:37.699Z"
   },
   {
    "duration": 8,
    "start_time": "2023-01-07T02:12:38.391Z"
   },
   {
    "duration": 294,
    "start_time": "2023-01-07T02:13:24.536Z"
   },
   {
    "duration": 998,
    "start_time": "2023-01-07T02:14:52.662Z"
   },
   {
    "duration": 39,
    "start_time": "2023-01-07T02:14:53.661Z"
   },
   {
    "duration": 20,
    "start_time": "2023-01-07T02:14:53.702Z"
   },
   {
    "duration": 11,
    "start_time": "2023-01-07T02:14:53.724Z"
   },
   {
    "duration": 15,
    "start_time": "2023-01-07T02:14:53.736Z"
   },
   {
    "duration": 9,
    "start_time": "2023-01-07T02:14:53.753Z"
   },
   {
    "duration": 8,
    "start_time": "2023-01-07T02:14:53.763Z"
   },
   {
    "duration": 10,
    "start_time": "2023-01-07T02:14:53.773Z"
   },
   {
    "duration": 8,
    "start_time": "2023-01-07T02:14:53.785Z"
   },
   {
    "duration": 5,
    "start_time": "2023-01-07T02:14:53.796Z"
   },
   {
    "duration": 10,
    "start_time": "2023-01-07T02:14:53.802Z"
   },
   {
    "duration": 5,
    "start_time": "2023-01-07T02:14:53.813Z"
   },
   {
    "duration": 18,
    "start_time": "2023-01-07T02:14:53.819Z"
   },
   {
    "duration": 10,
    "start_time": "2023-01-07T02:14:53.838Z"
   },
   {
    "duration": 10,
    "start_time": "2023-01-07T02:14:53.849Z"
   },
   {
    "duration": 7,
    "start_time": "2023-01-07T02:14:53.861Z"
   },
   {
    "duration": 7,
    "start_time": "2023-01-07T02:14:53.869Z"
   },
   {
    "duration": 6,
    "start_time": "2023-01-07T02:14:53.877Z"
   },
   {
    "duration": 29,
    "start_time": "2023-01-07T02:14:53.885Z"
   },
   {
    "duration": 4,
    "start_time": "2023-01-07T02:14:53.916Z"
   },
   {
    "duration": 15,
    "start_time": "2023-01-07T02:14:53.921Z"
   },
   {
    "duration": 24,
    "start_time": "2023-01-07T02:14:53.937Z"
   },
   {
    "duration": 4,
    "start_time": "2023-01-07T02:14:53.963Z"
   },
   {
    "duration": 361,
    "start_time": "2023-01-07T02:14:53.968Z"
   },
   {
    "duration": 52453,
    "start_time": "2023-01-07T02:14:54.331Z"
   },
   {
    "duration": 5,
    "start_time": "2023-01-07T02:15:46.786Z"
   },
   {
    "duration": 56,
    "start_time": "2023-01-07T02:15:46.793Z"
   },
   {
    "duration": 192,
    "start_time": "2023-01-07T02:15:46.853Z"
   },
   {
    "duration": 53842,
    "start_time": "2023-01-07T02:15:47.047Z"
   },
   {
    "duration": 4,
    "start_time": "2023-01-07T02:16:40.891Z"
   },
   {
    "duration": 157,
    "start_time": "2023-01-07T02:16:40.897Z"
   },
   {
    "duration": 4,
    "start_time": "2023-01-07T02:16:41.056Z"
   },
   {
    "duration": 16,
    "start_time": "2023-01-07T02:16:41.062Z"
   },
   {
    "duration": 68172,
    "start_time": "2023-01-07T02:16:41.080Z"
   },
   {
    "duration": 4,
    "start_time": "2023-01-07T02:17:49.255Z"
   },
   {
    "duration": 182,
    "start_time": "2023-01-07T02:17:49.261Z"
   },
   {
    "duration": 4,
    "start_time": "2023-01-07T02:17:49.444Z"
   },
   {
    "duration": 12,
    "start_time": "2023-01-07T02:17:49.450Z"
   },
   {
    "duration": 35097,
    "start_time": "2023-01-07T02:17:49.464Z"
   },
   {
    "duration": 4,
    "start_time": "2023-01-07T02:18:24.563Z"
   },
   {
    "duration": 164,
    "start_time": "2023-01-07T02:18:24.568Z"
   },
   {
    "duration": 15,
    "start_time": "2023-01-07T02:18:24.734Z"
   },
   {
    "duration": 10,
    "start_time": "2023-01-07T02:18:24.751Z"
   },
   {
    "duration": 301,
    "start_time": "2023-01-07T02:18:24.813Z"
   },
   {
    "duration": 190,
    "start_time": "2023-01-07T02:18:25.115Z"
   },
   {
    "duration": 28,
    "start_time": "2023-01-07T02:18:25.312Z"
   },
   {
    "duration": 154,
    "start_time": "2023-01-07T02:18:25.341Z"
   }
  ],
  "kernelspec": {
   "display_name": "Python 3 (ipykernel)",
   "language": "python",
   "name": "python3"
  },
  "language_info": {
   "codemirror_mode": {
    "name": "ipython",
    "version": 3
   },
   "file_extension": ".py",
   "mimetype": "text/x-python",
   "name": "python",
   "nbconvert_exporter": "python",
   "pygments_lexer": "ipython3",
   "version": "3.9.12"
  },
  "toc": {
   "base_numbering": 1,
   "nav_menu": {},
   "number_sections": true,
   "sideBar": true,
   "skip_h1_title": true,
   "title_cell": "Содержание",
   "title_sidebar": "Contents",
   "toc_cell": true,
   "toc_position": {},
   "toc_section_display": true,
   "toc_window_display": true
  }
 },
 "nbformat": 4,
 "nbformat_minor": 2
}
