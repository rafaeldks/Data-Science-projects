{
 "cells": [
  {
   "cell_type": "markdown",
   "metadata": {},
   "source": [
    "# Исследование данных о продаже игр\n",
    "\n",
    "В нашем распоряжении исторические данные о продажах игр, оценки пользователей и экспертов, жанры и платформы (например, Xbox или PlayStation). Необходимо выявить определяющие успешность игры закономерности. Это позволит сделать ставку на потенциально популярный продукт и спланировать рекламные кампании.\n",
    "\n",
    "Данные собирались до 2016 года включительно. Представим, что сейчас декабрь 2016 г., и мы планируем кампанию на 2017-й.\n",
    "\n",
    "В наборе данных попадается аббревиатура ESRB (Entertainment Software Rating Board) — это ассоциация, определяющая возрастной рейтинг компьютерных игр. ESRB оценивает игровой контент и присваивает ему подходящую возрастную категорию, например, «Для взрослых», «Для детей младшего возраста» или «Для подростков».\n",
    "\n",
    "План работы:\n",
    "- Изучаем общую информацию о данных\n",
    "- Проводим предварительный анализ данных\n",
    "- Проводим исследовательский анализ данных и выявляем закономерности\n",
    "- Составляем портрет пользователя каждого региона\n",
    "- Проверяем гипотезы\n",
    "- Формируем общий вывод"
   ]
  },
  {
   "cell_type": "markdown",
   "metadata": {},
   "source": [
    "### Откроем файл и изучим общую информацию"
   ]
  },
  {
   "cell_type": "code",
   "execution_count": 1,
   "metadata": {},
   "outputs": [],
   "source": [
    "import pandas as pd\n",
    "import numpy as np\n",
    "import matplotlib.pyplot as plt\n",
    "import seaborn as sns\n",
    "from scipy import stats as st"
   ]
  },
  {
   "cell_type": "code",
   "execution_count": 2,
   "metadata": {},
   "outputs": [
    {
     "name": "stdout",
     "output_type": "stream",
     "text": [
      "Датасет загружен успешно\n"
     ]
    }
   ],
   "source": [
    "try:\n",
    "    data = pd.read_csv('datasets/games.csv')\n",
    "except:\n",
    "    print('Ошибка при загрузке датасета', )\n",
    "else:\n",
    "    print('Датасет загружен успешно')"
   ]
  },
  {
   "cell_type": "markdown",
   "metadata": {},
   "source": [
    "Выведем первые 10 строк на экран: "
   ]
  },
  {
   "cell_type": "code",
   "execution_count": 3,
   "metadata": {},
   "outputs": [
    {
     "data": {
      "text/html": [
       "<div>\n",
       "<style scoped>\n",
       "    .dataframe tbody tr th:only-of-type {\n",
       "        vertical-align: middle;\n",
       "    }\n",
       "\n",
       "    .dataframe tbody tr th {\n",
       "        vertical-align: top;\n",
       "    }\n",
       "\n",
       "    .dataframe thead th {\n",
       "        text-align: right;\n",
       "    }\n",
       "</style>\n",
       "<table border=\"1\" class=\"dataframe\">\n",
       "  <thead>\n",
       "    <tr style=\"text-align: right;\">\n",
       "      <th></th>\n",
       "      <th>Name</th>\n",
       "      <th>Platform</th>\n",
       "      <th>Year_of_Release</th>\n",
       "      <th>Genre</th>\n",
       "      <th>NA_sales</th>\n",
       "      <th>EU_sales</th>\n",
       "      <th>JP_sales</th>\n",
       "      <th>Other_sales</th>\n",
       "      <th>Critic_Score</th>\n",
       "      <th>User_Score</th>\n",
       "      <th>Rating</th>\n",
       "    </tr>\n",
       "  </thead>\n",
       "  <tbody>\n",
       "    <tr>\n",
       "      <th>0</th>\n",
       "      <td>Wii Sports</td>\n",
       "      <td>Wii</td>\n",
       "      <td>2006.0</td>\n",
       "      <td>Sports</td>\n",
       "      <td>41.36</td>\n",
       "      <td>28.96</td>\n",
       "      <td>3.77</td>\n",
       "      <td>8.45</td>\n",
       "      <td>76.0</td>\n",
       "      <td>8</td>\n",
       "      <td>E</td>\n",
       "    </tr>\n",
       "    <tr>\n",
       "      <th>1</th>\n",
       "      <td>Super Mario Bros.</td>\n",
       "      <td>NES</td>\n",
       "      <td>1985.0</td>\n",
       "      <td>Platform</td>\n",
       "      <td>29.08</td>\n",
       "      <td>3.58</td>\n",
       "      <td>6.81</td>\n",
       "      <td>0.77</td>\n",
       "      <td>NaN</td>\n",
       "      <td>NaN</td>\n",
       "      <td>NaN</td>\n",
       "    </tr>\n",
       "    <tr>\n",
       "      <th>2</th>\n",
       "      <td>Mario Kart Wii</td>\n",
       "      <td>Wii</td>\n",
       "      <td>2008.0</td>\n",
       "      <td>Racing</td>\n",
       "      <td>15.68</td>\n",
       "      <td>12.76</td>\n",
       "      <td>3.79</td>\n",
       "      <td>3.29</td>\n",
       "      <td>82.0</td>\n",
       "      <td>8.3</td>\n",
       "      <td>E</td>\n",
       "    </tr>\n",
       "    <tr>\n",
       "      <th>3</th>\n",
       "      <td>Wii Sports Resort</td>\n",
       "      <td>Wii</td>\n",
       "      <td>2009.0</td>\n",
       "      <td>Sports</td>\n",
       "      <td>15.61</td>\n",
       "      <td>10.93</td>\n",
       "      <td>3.28</td>\n",
       "      <td>2.95</td>\n",
       "      <td>80.0</td>\n",
       "      <td>8</td>\n",
       "      <td>E</td>\n",
       "    </tr>\n",
       "    <tr>\n",
       "      <th>4</th>\n",
       "      <td>Pokemon Red/Pokemon Blue</td>\n",
       "      <td>GB</td>\n",
       "      <td>1996.0</td>\n",
       "      <td>Role-Playing</td>\n",
       "      <td>11.27</td>\n",
       "      <td>8.89</td>\n",
       "      <td>10.22</td>\n",
       "      <td>1.00</td>\n",
       "      <td>NaN</td>\n",
       "      <td>NaN</td>\n",
       "      <td>NaN</td>\n",
       "    </tr>\n",
       "    <tr>\n",
       "      <th>5</th>\n",
       "      <td>Tetris</td>\n",
       "      <td>GB</td>\n",
       "      <td>1989.0</td>\n",
       "      <td>Puzzle</td>\n",
       "      <td>23.20</td>\n",
       "      <td>2.26</td>\n",
       "      <td>4.22</td>\n",
       "      <td>0.58</td>\n",
       "      <td>NaN</td>\n",
       "      <td>NaN</td>\n",
       "      <td>NaN</td>\n",
       "    </tr>\n",
       "    <tr>\n",
       "      <th>6</th>\n",
       "      <td>New Super Mario Bros.</td>\n",
       "      <td>DS</td>\n",
       "      <td>2006.0</td>\n",
       "      <td>Platform</td>\n",
       "      <td>11.28</td>\n",
       "      <td>9.14</td>\n",
       "      <td>6.50</td>\n",
       "      <td>2.88</td>\n",
       "      <td>89.0</td>\n",
       "      <td>8.5</td>\n",
       "      <td>E</td>\n",
       "    </tr>\n",
       "    <tr>\n",
       "      <th>7</th>\n",
       "      <td>Wii Play</td>\n",
       "      <td>Wii</td>\n",
       "      <td>2006.0</td>\n",
       "      <td>Misc</td>\n",
       "      <td>13.96</td>\n",
       "      <td>9.18</td>\n",
       "      <td>2.93</td>\n",
       "      <td>2.84</td>\n",
       "      <td>58.0</td>\n",
       "      <td>6.6</td>\n",
       "      <td>E</td>\n",
       "    </tr>\n",
       "    <tr>\n",
       "      <th>8</th>\n",
       "      <td>New Super Mario Bros. Wii</td>\n",
       "      <td>Wii</td>\n",
       "      <td>2009.0</td>\n",
       "      <td>Platform</td>\n",
       "      <td>14.44</td>\n",
       "      <td>6.94</td>\n",
       "      <td>4.70</td>\n",
       "      <td>2.24</td>\n",
       "      <td>87.0</td>\n",
       "      <td>8.4</td>\n",
       "      <td>E</td>\n",
       "    </tr>\n",
       "    <tr>\n",
       "      <th>9</th>\n",
       "      <td>Duck Hunt</td>\n",
       "      <td>NES</td>\n",
       "      <td>1984.0</td>\n",
       "      <td>Shooter</td>\n",
       "      <td>26.93</td>\n",
       "      <td>0.63</td>\n",
       "      <td>0.28</td>\n",
       "      <td>0.47</td>\n",
       "      <td>NaN</td>\n",
       "      <td>NaN</td>\n",
       "      <td>NaN</td>\n",
       "    </tr>\n",
       "  </tbody>\n",
       "</table>\n",
       "</div>"
      ],
      "text/plain": [
       "                        Name Platform  Year_of_Release         Genre  \\\n",
       "0                 Wii Sports      Wii           2006.0        Sports   \n",
       "1          Super Mario Bros.      NES           1985.0      Platform   \n",
       "2             Mario Kart Wii      Wii           2008.0        Racing   \n",
       "3          Wii Sports Resort      Wii           2009.0        Sports   \n",
       "4   Pokemon Red/Pokemon Blue       GB           1996.0  Role-Playing   \n",
       "5                     Tetris       GB           1989.0        Puzzle   \n",
       "6      New Super Mario Bros.       DS           2006.0      Platform   \n",
       "7                   Wii Play      Wii           2006.0          Misc   \n",
       "8  New Super Mario Bros. Wii      Wii           2009.0      Platform   \n",
       "9                  Duck Hunt      NES           1984.0       Shooter   \n",
       "\n",
       "   NA_sales  EU_sales  JP_sales  Other_sales  Critic_Score User_Score Rating  \n",
       "0     41.36     28.96      3.77         8.45          76.0          8      E  \n",
       "1     29.08      3.58      6.81         0.77           NaN        NaN    NaN  \n",
       "2     15.68     12.76      3.79         3.29          82.0        8.3      E  \n",
       "3     15.61     10.93      3.28         2.95          80.0          8      E  \n",
       "4     11.27      8.89     10.22         1.00           NaN        NaN    NaN  \n",
       "5     23.20      2.26      4.22         0.58           NaN        NaN    NaN  \n",
       "6     11.28      9.14      6.50         2.88          89.0        8.5      E  \n",
       "7     13.96      9.18      2.93         2.84          58.0        6.6      E  \n",
       "8     14.44      6.94      4.70         2.24          87.0        8.4      E  \n",
       "9     26.93      0.63      0.28         0.47           NaN        NaN    NaN  "
      ]
     },
     "execution_count": 3,
     "metadata": {},
     "output_type": "execute_result"
    }
   ],
   "source": [
    "data.head(10)"
   ]
  },
  {
   "cell_type": "markdown",
   "metadata": {},
   "source": [
    "Выведем общую информацию о датасете:"
   ]
  },
  {
   "cell_type": "code",
   "execution_count": 4,
   "metadata": {
    "scrolled": false
   },
   "outputs": [
    {
     "name": "stdout",
     "output_type": "stream",
     "text": [
      "<class 'pandas.core.frame.DataFrame'>\n",
      "RangeIndex: 16715 entries, 0 to 16714\n",
      "Data columns (total 11 columns):\n",
      " #   Column           Non-Null Count  Dtype  \n",
      "---  ------           --------------  -----  \n",
      " 0   Name             16713 non-null  object \n",
      " 1   Platform         16715 non-null  object \n",
      " 2   Year_of_Release  16446 non-null  float64\n",
      " 3   Genre            16713 non-null  object \n",
      " 4   NA_sales         16715 non-null  float64\n",
      " 5   EU_sales         16715 non-null  float64\n",
      " 6   JP_sales         16715 non-null  float64\n",
      " 7   Other_sales      16715 non-null  float64\n",
      " 8   Critic_Score     8137 non-null   float64\n",
      " 9   User_Score       10014 non-null  object \n",
      " 10  Rating           9949 non-null   object \n",
      "dtypes: float64(6), object(5)\n",
      "memory usage: 1.4+ MB\n"
     ]
    }
   ],
   "source": [
    "data.info()"
   ]
  },
  {
   "cell_type": "markdown",
   "metadata": {},
   "source": [
    "Проверим данные на наличие явных дубликатов:"
   ]
  },
  {
   "cell_type": "code",
   "execution_count": 5,
   "metadata": {
    "scrolled": false
   },
   "outputs": [
    {
     "name": "stdout",
     "output_type": "stream",
     "text": [
      "Количество дубликатов: 0\n"
     ]
    }
   ],
   "source": [
    "print(f'Количество дубликатов: {data.duplicated().sum()}')"
   ]
  },
  {
   "cell_type": "markdown",
   "metadata": {},
   "source": [
    "Отлично, дубликатов нет"
   ]
  },
  {
   "cell_type": "markdown",
   "metadata": {},
   "source": [
    "Изучив общую информацию, мы можем заметить, что: \n",
    "- названия столбцов необходимо привести к нижнему регистру\n",
    "- некоторые столбцы следует привести к нужноми типу данных\n",
    "- в некоторых столбцах имеются пропуски NaN\n",
    "- следует добавить новый столбец с суммарными продажами игры во всех регионах"
   ]
  },
  {
   "cell_type": "markdown",
   "metadata": {},
   "source": [
    "Этим мы и займёмся на следующем этапе"
   ]
  },
  {
   "cell_type": "markdown",
   "metadata": {},
   "source": [
    "### Подготовка данных"
   ]
  },
  {
   "cell_type": "markdown",
   "metadata": {},
   "source": [
    "Заменим названия столбцов, приведя их к нижнему регистру:"
   ]
  },
  {
   "cell_type": "code",
   "execution_count": 6,
   "metadata": {},
   "outputs": [],
   "source": [
    "data.columns = data.columns.str.lower()"
   ]
  },
  {
   "cell_type": "code",
   "execution_count": 7,
   "metadata": {
    "scrolled": true
   },
   "outputs": [
    {
     "data": {
      "text/html": [
       "<div>\n",
       "<style scoped>\n",
       "    .dataframe tbody tr th:only-of-type {\n",
       "        vertical-align: middle;\n",
       "    }\n",
       "\n",
       "    .dataframe tbody tr th {\n",
       "        vertical-align: top;\n",
       "    }\n",
       "\n",
       "    .dataframe thead th {\n",
       "        text-align: right;\n",
       "    }\n",
       "</style>\n",
       "<table border=\"1\" class=\"dataframe\">\n",
       "  <thead>\n",
       "    <tr style=\"text-align: right;\">\n",
       "      <th></th>\n",
       "      <th>name</th>\n",
       "      <th>platform</th>\n",
       "      <th>year_of_release</th>\n",
       "      <th>genre</th>\n",
       "      <th>na_sales</th>\n",
       "      <th>eu_sales</th>\n",
       "      <th>jp_sales</th>\n",
       "      <th>other_sales</th>\n",
       "      <th>critic_score</th>\n",
       "      <th>user_score</th>\n",
       "      <th>rating</th>\n",
       "    </tr>\n",
       "  </thead>\n",
       "  <tbody>\n",
       "    <tr>\n",
       "      <th>0</th>\n",
       "      <td>Wii Sports</td>\n",
       "      <td>Wii</td>\n",
       "      <td>2006.0</td>\n",
       "      <td>Sports</td>\n",
       "      <td>41.36</td>\n",
       "      <td>28.96</td>\n",
       "      <td>3.77</td>\n",
       "      <td>8.45</td>\n",
       "      <td>76.0</td>\n",
       "      <td>8</td>\n",
       "      <td>E</td>\n",
       "    </tr>\n",
       "    <tr>\n",
       "      <th>1</th>\n",
       "      <td>Super Mario Bros.</td>\n",
       "      <td>NES</td>\n",
       "      <td>1985.0</td>\n",
       "      <td>Platform</td>\n",
       "      <td>29.08</td>\n",
       "      <td>3.58</td>\n",
       "      <td>6.81</td>\n",
       "      <td>0.77</td>\n",
       "      <td>NaN</td>\n",
       "      <td>NaN</td>\n",
       "      <td>NaN</td>\n",
       "    </tr>\n",
       "    <tr>\n",
       "      <th>2</th>\n",
       "      <td>Mario Kart Wii</td>\n",
       "      <td>Wii</td>\n",
       "      <td>2008.0</td>\n",
       "      <td>Racing</td>\n",
       "      <td>15.68</td>\n",
       "      <td>12.76</td>\n",
       "      <td>3.79</td>\n",
       "      <td>3.29</td>\n",
       "      <td>82.0</td>\n",
       "      <td>8.3</td>\n",
       "      <td>E</td>\n",
       "    </tr>\n",
       "    <tr>\n",
       "      <th>3</th>\n",
       "      <td>Wii Sports Resort</td>\n",
       "      <td>Wii</td>\n",
       "      <td>2009.0</td>\n",
       "      <td>Sports</td>\n",
       "      <td>15.61</td>\n",
       "      <td>10.93</td>\n",
       "      <td>3.28</td>\n",
       "      <td>2.95</td>\n",
       "      <td>80.0</td>\n",
       "      <td>8</td>\n",
       "      <td>E</td>\n",
       "    </tr>\n",
       "    <tr>\n",
       "      <th>4</th>\n",
       "      <td>Pokemon Red/Pokemon Blue</td>\n",
       "      <td>GB</td>\n",
       "      <td>1996.0</td>\n",
       "      <td>Role-Playing</td>\n",
       "      <td>11.27</td>\n",
       "      <td>8.89</td>\n",
       "      <td>10.22</td>\n",
       "      <td>1.00</td>\n",
       "      <td>NaN</td>\n",
       "      <td>NaN</td>\n",
       "      <td>NaN</td>\n",
       "    </tr>\n",
       "  </tbody>\n",
       "</table>\n",
       "</div>"
      ],
      "text/plain": [
       "                       name platform  year_of_release         genre  na_sales  \\\n",
       "0                Wii Sports      Wii           2006.0        Sports     41.36   \n",
       "1         Super Mario Bros.      NES           1985.0      Platform     29.08   \n",
       "2            Mario Kart Wii      Wii           2008.0        Racing     15.68   \n",
       "3         Wii Sports Resort      Wii           2009.0        Sports     15.61   \n",
       "4  Pokemon Red/Pokemon Blue       GB           1996.0  Role-Playing     11.27   \n",
       "\n",
       "   eu_sales  jp_sales  other_sales  critic_score user_score rating  \n",
       "0     28.96      3.77         8.45          76.0          8      E  \n",
       "1      3.58      6.81         0.77           NaN        NaN    NaN  \n",
       "2     12.76      3.79         3.29          82.0        8.3      E  \n",
       "3     10.93      3.28         2.95          80.0          8      E  \n",
       "4      8.89     10.22         1.00           NaN        NaN    NaN  "
      ]
     },
     "execution_count": 7,
     "metadata": {},
     "output_type": "execute_result"
    }
   ],
   "source": [
    "data.head()"
   ]
  },
  {
   "cell_type": "markdown",
   "metadata": {},
   "source": [
    "Приведём столбцы с годом выпуска и оценкой критиков к целочисленному типу, так как эти признаки могут принимать только целые значения:"
   ]
  },
  {
   "cell_type": "code",
   "execution_count": 8,
   "metadata": {},
   "outputs": [],
   "source": [
    "data['year_of_release'] = data['year_of_release'].astype(dtype='Int64').copy()\n",
    "data['critic_score'] = data['critic_score'].astype(dtype='Int64').copy()"
   ]
  },
  {
   "cell_type": "markdown",
   "metadata": {},
   "source": [
    "Теперь разберёмся со столбцом user_score. Здесь есть ~2400 строк, в которых значение оценки пользователей заполнено строкой \"tbd\", что означает \"to be decided\", то есть оценка подлежит уточнению. Такие значения можно считать пропусками и заполнить их как Nan, чтобы у нас была возможность привести этот столбец к типу float:"
   ]
  },
  {
   "cell_type": "code",
   "execution_count": 9,
   "metadata": {},
   "outputs": [],
   "source": [
    "data['user_score'].replace('tbd', np.NaN, inplace=True)"
   ]
  },
  {
   "cell_type": "markdown",
   "metadata": {},
   "source": [
    "А столбец с оценкой пользователей приведём из типа object в тип float, чтобы у нас была возможность работать с оценкой пользователей как с числом:"
   ]
  },
  {
   "cell_type": "code",
   "execution_count": 10,
   "metadata": {},
   "outputs": [],
   "source": [
    "data['user_score'] = pd.to_numeric(data['user_score'])"
   ]
  },
  {
   "cell_type": "markdown",
   "metadata": {},
   "source": [
    "Теперь посмотрим на количество пропусков:"
   ]
  },
  {
   "cell_type": "code",
   "execution_count": 11,
   "metadata": {
    "scrolled": true
   },
   "outputs": [
    {
     "data": {
      "text/plain": [
       "name                  2\n",
       "platform              0\n",
       "year_of_release     269\n",
       "genre                 2\n",
       "na_sales              0\n",
       "eu_sales              0\n",
       "jp_sales              0\n",
       "other_sales           0\n",
       "critic_score       8578\n",
       "user_score         9125\n",
       "rating             6766\n",
       "dtype: int64"
      ]
     },
     "execution_count": 11,
     "metadata": {},
     "output_type": "execute_result"
    }
   ],
   "source": [
    "data.isna().sum()"
   ]
  },
  {
   "cell_type": "markdown",
   "metadata": {},
   "source": [
    "Посмотрим на те 2 игры, у которых есть пропуск в названии:"
   ]
  },
  {
   "cell_type": "code",
   "execution_count": 12,
   "metadata": {},
   "outputs": [
    {
     "data": {
      "text/html": [
       "<div>\n",
       "<style scoped>\n",
       "    .dataframe tbody tr th:only-of-type {\n",
       "        vertical-align: middle;\n",
       "    }\n",
       "\n",
       "    .dataframe tbody tr th {\n",
       "        vertical-align: top;\n",
       "    }\n",
       "\n",
       "    .dataframe thead th {\n",
       "        text-align: right;\n",
       "    }\n",
       "</style>\n",
       "<table border=\"1\" class=\"dataframe\">\n",
       "  <thead>\n",
       "    <tr style=\"text-align: right;\">\n",
       "      <th></th>\n",
       "      <th>name</th>\n",
       "      <th>platform</th>\n",
       "      <th>year_of_release</th>\n",
       "      <th>genre</th>\n",
       "      <th>na_sales</th>\n",
       "      <th>eu_sales</th>\n",
       "      <th>jp_sales</th>\n",
       "      <th>other_sales</th>\n",
       "      <th>critic_score</th>\n",
       "      <th>user_score</th>\n",
       "      <th>rating</th>\n",
       "    </tr>\n",
       "  </thead>\n",
       "  <tbody>\n",
       "    <tr>\n",
       "      <th>659</th>\n",
       "      <td>NaN</td>\n",
       "      <td>GEN</td>\n",
       "      <td>1993</td>\n",
       "      <td>NaN</td>\n",
       "      <td>1.78</td>\n",
       "      <td>0.53</td>\n",
       "      <td>0.00</td>\n",
       "      <td>0.08</td>\n",
       "      <td>&lt;NA&gt;</td>\n",
       "      <td>NaN</td>\n",
       "      <td>NaN</td>\n",
       "    </tr>\n",
       "    <tr>\n",
       "      <th>14244</th>\n",
       "      <td>NaN</td>\n",
       "      <td>GEN</td>\n",
       "      <td>1993</td>\n",
       "      <td>NaN</td>\n",
       "      <td>0.00</td>\n",
       "      <td>0.00</td>\n",
       "      <td>0.03</td>\n",
       "      <td>0.00</td>\n",
       "      <td>&lt;NA&gt;</td>\n",
       "      <td>NaN</td>\n",
       "      <td>NaN</td>\n",
       "    </tr>\n",
       "  </tbody>\n",
       "</table>\n",
       "</div>"
      ],
      "text/plain": [
       "      name platform  year_of_release genre  na_sales  eu_sales  jp_sales  \\\n",
       "659    NaN      GEN             1993   NaN      1.78      0.53      0.00   \n",
       "14244  NaN      GEN             1993   NaN      0.00      0.00      0.03   \n",
       "\n",
       "       other_sales  critic_score  user_score rating  \n",
       "659           0.08          <NA>         NaN    NaN  \n",
       "14244         0.00          <NA>         NaN    NaN  "
      ]
     },
     "execution_count": 12,
     "metadata": {},
     "output_type": "execute_result"
    }
   ],
   "source": [
    "data[data['name'].isna()].head()"
   ]
  },
  {
   "cell_type": "markdown",
   "metadata": {},
   "source": [
    "Информации о таких играх почти нет, поэтому мы можем смело удалить эти 2 записи:"
   ]
  },
  {
   "cell_type": "code",
   "execution_count": 13,
   "metadata": {},
   "outputs": [],
   "source": [
    "data = data[~data['name'].isna()].copy()"
   ]
  },
  {
   "cell_type": "code",
   "execution_count": 14,
   "metadata": {
    "scrolled": true
   },
   "outputs": [
    {
     "data": {
      "text/plain": [
       "name                  0\n",
       "platform              0\n",
       "year_of_release     269\n",
       "genre                 0\n",
       "na_sales              0\n",
       "eu_sales              0\n",
       "jp_sales              0\n",
       "other_sales           0\n",
       "critic_score       8576\n",
       "user_score         9123\n",
       "rating             6764\n",
       "dtype: int64"
      ]
     },
     "execution_count": 14,
     "metadata": {},
     "output_type": "execute_result"
    }
   ],
   "source": [
    "data.isna().sum()"
   ]
  },
  {
   "cell_type": "markdown",
   "metadata": {},
   "source": [
    "Пропуски в столбце \"year_of_release\" мы заменить не можем, так как от конкретного года выпуска у нас будет зависеть множество дальнейших исследований. <br>"
   ]
  },
  {
   "cell_type": "markdown",
   "metadata": {},
   "source": [
    "Пропуски в оценках критиков и пользователей мы, увы, никак заменить не можем. К тому же, по некоторым играм такая информация и вовсе могла отсутствовать."
   ]
  },
  {
   "cell_type": "markdown",
   "metadata": {},
   "source": [
    "Тем не менее, у нас имеется примерно половина датасета без пропусков в столбцах \"user_score\" и \"critic_score\" - этого объёма должно хватить для исследовательского анализа."
   ]
  },
  {
   "cell_type": "markdown",
   "metadata": {},
   "source": [
    "Теперь перейдём к столбцу \"rating\". Возможно, эти пропуски появились вследствие того, что ассоциация ESRB не определила возрастную категорию для данной игры. Такие пропуски можно заменить на значение \"Unknown\", чтобы было удобнее группировать такие игры без категории в дальнейшем."
   ]
  },
  {
   "cell_type": "code",
   "execution_count": 15,
   "metadata": {},
   "outputs": [],
   "source": [
    "data['rating'].fillna(value='Unknown', inplace=True)"
   ]
  },
  {
   "cell_type": "markdown",
   "metadata": {},
   "source": [
    "Не забудем посчитать суммарные продажи по всем регионам для игры в новом столбце \"total_sales\":"
   ]
  },
  {
   "cell_type": "code",
   "execution_count": 16,
   "metadata": {},
   "outputs": [],
   "source": [
    "data['total_sales'] = data['na_sales'] + data['eu_sales'] + data['jp_sales'] + data['other_sales']"
   ]
  },
  {
   "cell_type": "markdown",
   "metadata": {},
   "source": [
    "### Исследовательский анализ данных"
   ]
  },
  {
   "cell_type": "markdown",
   "metadata": {},
   "source": [
    "Сгруппируем данные по году выпуска и посмотрим на количество выпущенных игр:"
   ]
  },
  {
   "cell_type": "code",
   "execution_count": 17,
   "metadata": {
    "scrolled": true
   },
   "outputs": [
    {
     "data": {
      "image/png": "[encoded data removed]",
      "text/plain": [
       "<Figure size 432x288 with 1 Axes>"
      ]
     },
     "metadata": {
      "needs_background": "light"
     },
     "output_type": "display_data"
    }
   ],
   "source": [
    "data.groupby('year_of_release')['name'].count().plot(kind='bar');\n",
    "plt.ylabel('Количество выпущенных игр');\n",
    "plt.xlabel('Год');"
   ]
  },
  {
   "cell_type": "markdown",
   "metadata": {},
   "source": [
    "Как мы видим, до 1994 года вышло совсем незначительное количество игр. Всплеск gamedev'а приходится на 2005-2011 годы. <br>\n",
    "Следовательно, в исследовании нам не так важно учитывать игры, вышедшие до 1994 года."
   ]
  },
  {
   "cell_type": "markdown",
   "metadata": {},
   "source": [
    "Посмотрим, как менялись продажи по платформам. Отберём 7 платформ с наибольшими суммарными продажами:"
   ]
  },
  {
   "cell_type": "code",
   "execution_count": 18,
   "metadata": {},
   "outputs": [],
   "source": [
    "platforms = data.groupby('platform')['total_sales'].sum().sort_values(ascending=False).index[:7]"
   ]
  },
  {
   "cell_type": "markdown",
   "metadata": {},
   "source": [
    "**Для них построим распределение суммарных продаж по годам:**"
   ]
  },
  {
   "cell_type": "code",
   "execution_count": 19,
   "metadata": {},
   "outputs": [
    {
     "data": {
      "image/png": "[encoded data removed]",
      "text/plain": [
       "<Figure size 504x360 with 1 Axes>"
      ]
     },
     "metadata": {
      "needs_background": "light"
     },
     "output_type": "display_data"
    }
   ],
   "source": [
    "for plaform in platforms:\n",
    "    data[data['platform']==plaform].groupby('year_of_release')['total_sales'].sum().plot(figsize=(7,5));\n",
    "plt.legend(platforms);\n",
    "plt.ylabel('Продажи игр в млн.');\n",
    "plt.xlabel('Год');"
   ]
  },
  {
   "cell_type": "markdown",
   "metadata": {},
   "source": [
    "По такому графику можно заметить, что пик популярности платформы **в среднем длится не более 5 лет**, после чего появляется новая платформа и сменяет предыдущую <br>\n",
    "Теперь посмотрим на средний полный жизненный срок существования консоли:"
   ]
  },
  {
   "cell_type": "code",
   "execution_count": 20,
   "metadata": {
    "scrolled": true
   },
   "outputs": [
    {
     "name": "stdout",
     "output_type": "stream",
     "text": [
      "Средний полный жизненный срок существования консоли: 7.61 лет\n"
     ]
    }
   ],
   "source": [
    "platform = data.groupby('platform')['year_of_release'].agg(['min', 'max'])\n",
    "print(f\"Средний полный жизненный срок существования консоли: {'%.2f'%(platform['max']-platform['min']).mean()} лет\")"
   ]
  },
  {
   "cell_type": "markdown",
   "metadata": {},
   "source": [
    "В качестве актуального периода для прогнозирования на 2017 год можно выбрать **данные за 2013-2016 годы**, так как эти данные всё ещё актуальны (особенно учитывая тот факт, что индустрия компьютерных игр достаточно быстро меняется)"
   ]
  },
  {
   "cell_type": "markdown",
   "metadata": {},
   "source": [
    "**Посмотрим, какие плафтормы лидируют в этом актуальном периоде по продажам:**"
   ]
  },
  {
   "cell_type": "code",
   "execution_count": 21,
   "metadata": {},
   "outputs": [],
   "source": [
    "actual_data = data[data['year_of_release']>=2013]"
   ]
  },
  {
   "cell_type": "code",
   "execution_count": 22,
   "metadata": {},
   "outputs": [
    {
     "data": {
      "image/png": "[encoded data removed]",
      "text/plain": [
       "<Figure size 504x360 with 1 Axes>"
      ]
     },
     "metadata": {
      "needs_background": "light"
     },
     "output_type": "display_data"
    }
   ],
   "source": [
    "for plaform in actual_data['platform'].unique():\n",
    "    actual_data[actual_data['platform']==plaform].groupby('year_of_release')['total_sales'].sum().plot(figsize=(7,5));\n",
    "plt.legend(list(actual_data['platform'].unique()));\n",
    "plt.ylabel('Продажи игр в млн.');\n",
    "plt.xlabel('Год');"
   ]
  },
  {
   "cell_type": "markdown",
   "metadata": {},
   "source": [
    "Как мы видим, по продажам игр сейчас лидируют платформы нового поколения (на 2016 год): это PS4 и Xbox One. Популярные платформы прошлого поколения уже почти упали в продажах по играм. К таким относятся платформы PS3, Xbox 360 и Nintendo 3ds"
   ]
  },
  {
   "cell_type": "markdown",
   "metadata": {},
   "source": [
    "Теперь построим ящик с усами по глобальным продажам игр в разбивке по платформам за актуальный период 2013-2016 годов:"
   ]
  },
  {
   "cell_type": "code",
   "execution_count": 23,
   "metadata": {
    "scrolled": true
   },
   "outputs": [
    {
     "data": {
      "image/png": "[encoded data removed]",
      "text/plain": [
       "<Figure size 842.4x684 with 1 Axes>"
      ]
     },
     "metadata": {},
     "output_type": "display_data"
    }
   ],
   "source": [
    "sns.set(rc={'figure.figsize':(11.7,9.5)})\n",
    "plt.ylim(0, 3);\n",
    "sns.boxplot(x=actual_data[\"platform\"], y=actual_data['total_sales']).\\\n",
    "set(xlabel='Платформа', ylabel='Общий объём продаж игры в млн.');"
   ]
  },
  {
   "cell_type": "markdown",
   "metadata": {},
   "source": [
    "Отсюда мы можем увидеть, какую игру можно считать популярной в зависимости от общего объёма её продаж. <br>\n",
    "Так, например, для платформы PS3 популярными можно считать те игры, суммарный объём продаж которых превысил 1.25 миллиона копий, когда в среднем продаётся примерно 150 тысяч копий игры <br>\n",
    "Для платформ Xbox 360 и PS4 популярными можно считать те игры, суммарный объём продаж которых превысил 1.75 миллиона копий"
   ]
  },
  {
   "cell_type": "markdown",
   "metadata": {},
   "source": [
    "**Теперь посмотрим, как внутри платформы PS4 на продажу игр влияют отзывы критиков и пользователей:**"
   ]
  },
  {
   "cell_type": "code",
   "execution_count": 24,
   "metadata": {},
   "outputs": [],
   "source": [
    "ps4_data = actual_data[(actual_data['platform']=='PS4')]"
   ]
  },
  {
   "cell_type": "code",
   "execution_count": 25,
   "metadata": {
    "scrolled": false
   },
   "outputs": [
    {
     "data": {
      "image/png": "[encoded data removed]",
      "text/plain": [
       "<Figure size 504x504 with 1 Axes>"
      ]
     },
     "metadata": {},
     "output_type": "display_data"
    }
   ],
   "source": [
    "sns.set(rc={'figure.figsize':(7, 7)})\n",
    "ps4_data.plot.scatter(x='critic_score', y=\"total_sales\", alpha=0.25, c='red');\n",
    "plt.ylabel('Продажи игры в млн.');\n",
    "plt.xlabel('Оценка критиков');"
   ]
  },
  {
   "cell_type": "code",
   "execution_count": 26,
   "metadata": {},
   "outputs": [
    {
     "data": {
      "text/plain": [
       "0.40656790206178095"
      ]
     },
     "execution_count": 26,
     "metadata": {},
     "output_type": "execute_result"
    }
   ],
   "source": [
    "ps4_data['critic_score'].astype(dtype='float').corr(ps4_data['total_sales'])"
   ]
  },
  {
   "cell_type": "markdown",
   "metadata": {},
   "source": [
    "Как мы видим, оценка критиков действительно влияет на объём продаж игры. Имеется небольшая линейная связь: как правило, чем выше оценка критиков, тем больше у игры продажи"
   ]
  },
  {
   "cell_type": "code",
   "execution_count": 27,
   "metadata": {},
   "outputs": [
    {
     "data": {
      "image/png": "[encoded data removed]",
      "text/plain": [
       "<Figure size 504x504 with 1 Axes>"
      ]
     },
     "metadata": {},
     "output_type": "display_data"
    }
   ],
   "source": [
    "ps4_data.plot.scatter(x='user_score', y=\"total_sales\", alpha=0.25, c='black');\n",
    "plt.ylabel('Продажи игры в млн.');\n",
    "plt.xlabel('Оценка пользователей');"
   ]
  },
  {
   "cell_type": "code",
   "execution_count": 28,
   "metadata": {},
   "outputs": [
    {
     "data": {
      "text/plain": [
       "-0.031957110204556424"
      ]
     },
     "execution_count": 28,
     "metadata": {},
     "output_type": "execute_result"
    }
   ],
   "source": [
    "ps4_data['user_score'].corr(ps4_data['total_sales'])"
   ]
  },
  {
   "cell_type": "markdown",
   "metadata": {},
   "source": [
    "А вот оценка пользователей, как оказалось, почти не влияет на объёмы продаж самой игры (линейный коэффициент корреляции близок к нулю)"
   ]
  },
  {
   "cell_type": "markdown",
   "metadata": {},
   "source": [
    "**Соотнесём выводы с продажами игр на других платформах:**"
   ]
  },
  {
   "cell_type": "code",
   "execution_count": 29,
   "metadata": {},
   "outputs": [
    {
     "name": "stdout",
     "output_type": "stream",
     "text": [
      "Платформа\t Критики\t\tПользователи \t Количество игр\n",
      "PS3:\t\t 0.33 \t\t0.00 \t\t 345\n",
      "X360:\t\t 0.35 \t\t-0.01 \t\t 186\n",
      "PS4:\t\t 0.41 \t\t-0.03 \t\t 392\n",
      "3DS:\t\t 0.36 \t\t0.24 \t\t 303\n",
      "XOne:\t\t 0.42 \t\t-0.07 \t\t 247\n",
      "WiiU:\t\t 0.38 \t\t0.42 \t\t 115\n",
      "Wii:\t\t nan \t\t0.68 \t\t 23\n",
      "PC:\t\t 0.20 \t\t-0.09 \t\t 189\n",
      "PSV:\t\t 0.25 \t\t0.00 \t\t 358\n",
      "DS:\t\t nan \t\tnan \t\t 8\n",
      "PSP:\t\t nan \t\t-1.00 \t\t 67\n"
     ]
    },
    {
     "name": "stderr",
     "output_type": "stream",
     "text": [
      "/opt/anaconda3/lib/python3.9/site-packages/numpy/lib/function_base.py:2683: RuntimeWarning: Degrees of freedom <= 0 for slice\n",
      "  c = cov(x, y, rowvar, dtype=dtype)\n",
      "/opt/anaconda3/lib/python3.9/site-packages/numpy/lib/function_base.py:2542: RuntimeWarning: divide by zero encountered in true_divide\n",
      "  c *= np.true_divide(1, fact)\n"
     ]
    }
   ],
   "source": [
    "print('Платформа\\t Критики\\t\\tПользователи \\t Количество игр')\n",
    "for platform in actual_data['platform'].unique():\n",
    "    corr_critic = actual_data[(actual_data['platform']==platform) & (~actual_data['critic_score'].isna())]\\\n",
    "    ['critic_score'].astype(dtype='float').\\\n",
    "    corr(actual_data[(actual_data['platform']==platform) & (~actual_data['critic_score'].isna())]['total_sales'])\n",
    "    corr_user = actual_data[(actual_data['platform']==platform) & (~actual_data['user_score'].isna())]['user_score'].\\\n",
    "    corr(actual_data[(actual_data['platform']==platform) & (~actual_data['user_score'].isna())]['total_sales'])\n",
    "    print(f'{platform}:\\t\\t {\"%.2f\"%corr_critic} \\t\\t{\"%.2f\"%corr_user} \\t\\t {actual_data[actual_data[\"platform\"]==platform].shape[0]}')\n",
    "    "
   ]
  },
  {
   "cell_type": "markdown",
   "metadata": {},
   "source": [
    "По платформам Wii, DS и PSP даже не получилось посчитать корреляцию из-за отсутствия хотя бы двух оценок критиков."
   ]
  },
  {
   "cell_type": "markdown",
   "metadata": {},
   "source": [
    "Оказалось, что такая ситуация, как на PS4, наблюдается почти везде, за исключением некоторых платформ, где оценок критиков или пользователей было недостаточно."
   ]
  },
  {
   "cell_type": "markdown",
   "metadata": {},
   "source": [
    "Данные по платформе PS2 учитывать не стоит из-за небольшого количества вышедших игр."
   ]
  },
  {
   "cell_type": "markdown",
   "metadata": {},
   "source": [
    "**Теперь посмотрим на распределение игр по жанрам:**"
   ]
  },
  {
   "cell_type": "code",
   "execution_count": 30,
   "metadata": {},
   "outputs": [
    {
     "data": {
      "image/png": "[encoded data removed]",
      "text/plain": [
       "<Figure size 1008x504 with 1 Axes>"
      ]
     },
     "metadata": {},
     "output_type": "display_data"
    }
   ],
   "source": [
    "sns.set(rc={'figure.figsize':(14, 7)})\n",
    "actual_data['genre'].hist(bins=12);\n",
    "plt.ylabel('Количество игр');\n",
    "plt.xlabel('Жанр');"
   ]
  },
  {
   "cell_type": "markdown",
   "metadata": {},
   "source": [
    "Как мы видим, самым популярным жанром с большим отрывом от других является \"Экшен\""
   ]
  },
  {
   "cell_type": "markdown",
   "metadata": {},
   "source": [
    "**Посмотрим на самые прибыльные жанры:**"
   ]
  },
  {
   "cell_type": "code",
   "execution_count": 31,
   "metadata": {
    "scrolled": true
   },
   "outputs": [
    {
     "data": {
      "image/png": "[encoded data removed]",
      "text/plain": [
       "<Figure size 936x684 with 1 Axes>"
      ]
     },
     "metadata": {},
     "output_type": "display_data"
    }
   ],
   "source": [
    "sns.set(rc={'figure.figsize':(13,9.5)})\n",
    "plt.ylim(0, 4);\n",
    "sns.boxplot(x=actual_data[\"genre\"], y=actual_data['total_sales']).\\\n",
    "set(xlabel='Жанр', ylabel='Общий объём продаж игры в млн.');"
   ]
  },
  {
   "cell_type": "markdown",
   "metadata": {},
   "source": [
    "Оказалось, что самые популярные жанры необязательно приносят самый большой доход в среднем <br>\n",
    "Так, например, несмотря на то, что в жанре Action было выпущено наибольшее количество игр, средние продажи в этом жанре в 5 раз меньше, чем в жанре Shooter <br>\n",
    "Можно выделить явных лидеров по средним продажам:\n",
    "1. Shooter - 500 тысяч копий\n",
    "2. Sports - 300 тысяч копий\n",
    "3. Platform - 250 тысяч копий <br>\n",
    "\n",
    "Таким образом, можно сделать вывод: **большое количество выпущенных игр в определённом жанре необязательно говорит о том, что этот жанр будет наиболее прибыльным**"
   ]
  },
  {
   "cell_type": "markdown",
   "metadata": {},
   "source": [
    "### Составим портрет пользователя каждого региона"
   ]
  },
  {
   "cell_type": "markdown",
   "metadata": {},
   "source": [
    "#### Регион NA\n",
    "**Посмотрим на топ-5 популярных платформ:**"
   ]
  },
  {
   "cell_type": "code",
   "execution_count": 32,
   "metadata": {},
   "outputs": [
    {
     "data": {
      "image/png": "[encoded data removed]",
      "text/plain": [
       "<Figure size 936x684 with 1 Axes>"
      ]
     },
     "metadata": {},
     "output_type": "display_data"
    }
   ],
   "source": [
    "actual_data.groupby('platform')['na_sales'].sum().\\\n",
    "sort_values(ascending=False).head(5).plot.bar();\n",
    "plt.ylabel('Объём продаж в Северной Америке в млн. копий');\n",
    "plt.xlabel('Платформа');"
   ]
  },
  {
   "cell_type": "markdown",
   "metadata": {},
   "source": [
    "В Северной Америке на период 2013-2016 годов самыми популярными платформами ещё являлись платформы прошлого поколения, то есть Xbox 360 и PS3, а весь рынок, можно сказать, разделяют между собой Xbox и PlayStation. Nintendo с платформой 3DS занимает лишь 5-ое место"
   ]
  },
  {
   "cell_type": "markdown",
   "metadata": {},
   "source": [
    "**Топ-5 популярных жанров:**"
   ]
  },
  {
   "cell_type": "code",
   "execution_count": 33,
   "metadata": {
    "scrolled": true
   },
   "outputs": [
    {
     "data": {
      "image/png": "[encoded data removed]",
      "text/plain": [
       "<Figure size 936x684 with 1 Axes>"
      ]
     },
     "metadata": {},
     "output_type": "display_data"
    }
   ],
   "source": [
    "actual_data.groupby('genre')['na_sales'].sum().\\\n",
    "sort_values(ascending=False).head(5).plot.bar();\n",
    "plt.ylabel('Объём продаж в Северной Америке в млн. копий');\n",
    "plt.xlabel('Жанр');"
   ]
  },
  {
   "cell_type": "markdown",
   "metadata": {},
   "source": [
    "В Северной Америке лидируют жанры Action и Shooter с объёмами продаж в 200 млн. копий, затем идут жанры Sports (~100 млн. копий), Role-playing и Miscellaneous (менее 100 млн. копий)"
   ]
  },
  {
   "cell_type": "markdown",
   "metadata": {},
   "source": [
    "**Влияние рейтинга ESRB на продажи:**"
   ]
  },
  {
   "cell_type": "code",
   "execution_count": 34,
   "metadata": {
    "scrolled": false
   },
   "outputs": [
    {
     "data": {
      "image/png": "[encoded data removed]",
      "text/plain": [
       "<Figure size 936x684 with 1 Axes>"
      ]
     },
     "metadata": {},
     "output_type": "display_data"
    }
   ],
   "source": [
    "actual_data.groupby('rating')['na_sales'].sum().sort_values(ascending=False).plot.bar();\n",
    "plt.ylabel('Объём продаж в Северной Америке в млн. копий');\n",
    "plt.xlabel('Рейтинг ESRB');"
   ]
  },
  {
   "cell_type": "markdown",
   "metadata": {},
   "source": [
    "Как мы видим, количество продаж в NA действительно в какой-то степени связано с рейтингом ESRB. Так, самыми продаваемыми являются игры с рейтингом M (17+). Игры с рейтингами E(6+), E10+(10+) и T(13+) и вообще без рейтинга продаются значительно меньше."
   ]
  },
  {
   "cell_type": "markdown",
   "metadata": {},
   "source": [
    "#### Регион EU\n",
    "**Посмотрим на топ-5 популярных платформ:**"
   ]
  },
  {
   "cell_type": "code",
   "execution_count": 35,
   "metadata": {},
   "outputs": [
    {
     "data": {
      "image/png": "[encoded data removed]",
      "text/plain": [
       "<Figure size 936x684 with 1 Axes>"
      ]
     },
     "metadata": {},
     "output_type": "display_data"
    }
   ],
   "source": [
    "actual_data.groupby('platform')['eu_sales'].sum().\\\n",
    "sort_values(ascending=False).head(5).plot.bar();\n",
    "plt.ylabel('Объём продаж в Европе в млн. копий');\n",
    "plt.xlabel('Платформа');"
   ]
  },
  {
   "cell_type": "markdown",
   "metadata": {},
   "source": [
    "В Европе на момент 2016 года самой популярной платформой является PlayStation (PS3 и PS4 продали суммарно 300 млн. копий), когда Xbox360 занимает лишь третье место (а Xbox One и вовсе нет в топе). Также европейские геймеры предпочитают Nintendo 3DS и PC (по ~60 млн. копий)"
   ]
  },
  {
   "cell_type": "markdown",
   "metadata": {},
   "source": [
    "**Топ-5 популярных жанров:**"
   ]
  },
  {
   "cell_type": "code",
   "execution_count": 36,
   "metadata": {},
   "outputs": [
    {
     "data": {
      "image/png": "[encoded data removed]",
      "text/plain": [
       "<Figure size 936x684 with 1 Axes>"
      ]
     },
     "metadata": {},
     "output_type": "display_data"
    }
   ],
   "source": [
    "actual_data.groupby('genre')['eu_sales'].sum().\\\n",
    "sort_values(ascending=False).head(5).plot.bar();\n",
    "plt.ylabel('Объём продаж в Европе в млн. копий');\n",
    "plt.xlabel('Жанр');"
   ]
  },
  {
   "cell_type": "markdown",
   "metadata": {},
   "source": [
    "В Европе лидирующие жанры почти не отличаются от топ-жанров Северной Америки. Единственное отличие в топ-5 заключается в том, что европейцы предпочитают гонки (5-ое место)"
   ]
  },
  {
   "cell_type": "markdown",
   "metadata": {},
   "source": [
    "**Влияние рейтинга ESRB на продажи:**"
   ]
  },
  {
   "cell_type": "code",
   "execution_count": 37,
   "metadata": {},
   "outputs": [
    {
     "data": {
      "image/png": "[encoded data removed]",
      "text/plain": [
       "<Figure size 936x684 with 1 Axes>"
      ]
     },
     "metadata": {},
     "output_type": "display_data"
    }
   ],
   "source": [
    "actual_data.groupby('rating')['eu_sales'].sum().sort_values(ascending=False).plot.bar();\n",
    "plt.ylabel('Объём продаж в Европе в млн. копий');\n",
    "plt.xlabel('Рейтинг ESRB');"
   ]
  },
  {
   "cell_type": "markdown",
   "metadata": {},
   "source": [
    "Рейтинг ESRB влияет на продажи игр почти так же, как и в Северной Америке. Однако стоит отметить, что в Европе чуть чаще продаются игры с рейтингом E(6+)"
   ]
  },
  {
   "cell_type": "markdown",
   "metadata": {},
   "source": [
    "#### Регион JP\n",
    "Посмотрим на топ-5 популярных платформ:"
   ]
  },
  {
   "cell_type": "code",
   "execution_count": 38,
   "metadata": {},
   "outputs": [
    {
     "data": {
      "image/png": "[encoded data removed]",
      "text/plain": [
       "<Figure size 936x684 with 1 Axes>"
      ]
     },
     "metadata": {},
     "output_type": "display_data"
    }
   ],
   "source": [
    "actual_data.groupby('platform')['jp_sales'].sum().\\\n",
    "sort_values(ascending=False).head(5).plot.bar();\n",
    "plt.ylabel('Объём продаж в Японии в млн. копий');\n",
    "plt.xlabel('Платформа');"
   ]
  },
  {
   "cell_type": "markdown",
   "metadata": {},
   "source": [
    "На рынке Японии ситуация сильно отличается: абсолютным лидером рынка на 2016 год является отечественная компания Nintendo с платформой 3DS. Оставшиеся 4 позиции занимает японский производитель PlayStation."
   ]
  },
  {
   "cell_type": "markdown",
   "metadata": {},
   "source": [
    "**Топ-5 популярных жанров:**"
   ]
  },
  {
   "cell_type": "code",
   "execution_count": 39,
   "metadata": {},
   "outputs": [
    {
     "data": {
      "image/png": "[encoded data removed]",
      "text/plain": [
       "<Figure size 936x684 with 1 Axes>"
      ]
     },
     "metadata": {},
     "output_type": "display_data"
    }
   ],
   "source": [
    "actual_data.groupby('genre')['jp_sales'].sum().\\\n",
    "sort_values(ascending=False).head(5).plot.bar();\n",
    "plt.ylabel('Объём продаж в Японии в млн. копий');\n",
    "plt.xlabel('Жанр');"
   ]
  },
  {
   "cell_type": "markdown",
   "metadata": {},
   "source": [
    "Ситуация с жанрами тоже очень сильно изменилась: геймеры Японии предпочитают жанру \"Экшен\" ролевые игры (80 млн. проданных копий), а на оставшихся трёх местах находятся жанры Misc, Fighting и Platform"
   ]
  },
  {
   "cell_type": "markdown",
   "metadata": {},
   "source": [
    "**Влияние рейтинга ESRB на продажи:**"
   ]
  },
  {
   "cell_type": "code",
   "execution_count": 40,
   "metadata": {},
   "outputs": [
    {
     "data": {
      "image/png": "[encoded data removed]",
      "text/plain": [
       "<Figure size 936x684 with 1 Axes>"
      ]
     },
     "metadata": {},
     "output_type": "display_data"
    }
   ],
   "source": [
    "actual_data.groupby('rating')['jp_sales'].sum().sort_values(ascending=False).plot.bar();\n",
    "plt.ylabel('Объём продаж в Японии в млн. копий');\n",
    "plt.xlabel('Рейтинг ESRB');"
   ]
  },
  {
   "cell_type": "markdown",
   "metadata": {},
   "source": [
    "Оказалось, что в Японии любят игры без насилия и грубой жестокости: об этом говорят высокие продажи игр с рейтингом E(6+) и T(13+), на которые приходится примерно 70 млн. проданных копий <br>\n",
    "А ещё больше предпочитают игры, которым вообще не присвоили рейтинг ESRB. Таких игр абсолютное подавляющее большинство."
   ]
  },
  {
   "cell_type": "markdown",
   "metadata": {},
   "source": [
    "### Проверяем гипотезы"
   ]
  },
  {
   "cell_type": "markdown",
   "metadata": {},
   "source": [
    "Первая гипотеза звучит так: **\"Средние пользовательские рейтинги платформ Xbox One и PC одинаковые\"** <br>\n",
    "**Нулевая гипотеза**: Средний пользовательский рейтинг платформы Xbox One равен среднему пользовательскому рейтингу платформы PC <br>\n",
    "**Альтернативная гипотеза**: Средний пользовательский рейтинг платформы Xbox One не равен среднему пользовательскому рейтингу платформы PC"
   ]
  },
  {
   "cell_type": "code",
   "execution_count": 41,
   "metadata": {},
   "outputs": [],
   "source": [
    "xbox = actual_data.query('platform==\"XOne\"')['user_score']\n",
    "pc = actual_data.query('platform==\"PC\"')['user_score']"
   ]
  },
  {
   "cell_type": "markdown",
   "metadata": {},
   "source": [
    "Мы проверяем гипотезу о равенстве средних двух независимых генеральных совокупностей, поэтому используем ttest_ind():"
   ]
  },
  {
   "cell_type": "code",
   "execution_count": 42,
   "metadata": {},
   "outputs": [
    {
     "name": "stdout",
     "output_type": "stream",
     "text": [
      "P-Value = nan\n",
      "Отвергаем нулевую гипотезу\n"
     ]
    }
   ],
   "source": [
    "results = st.ttest_ind(xbox, pc, equal_var=True)\n",
    "alpha = 0.05\n",
    "\n",
    "print(f'P-Value = {results.pvalue}')\n",
    "if results.pvalue>alpha:\n",
    "    print('Не получилось отвергнуть нулевую гипотезу')\n",
    "else:\n",
    "    print('Отвергаем нулевую гипотезу')"
   ]
  },
  {
   "cell_type": "markdown",
   "metadata": {},
   "source": [
    "Так как размеры генеральных совокупностей небольшие, мы могли бы просто сравнить их средние:"
   ]
  },
  {
   "cell_type": "code",
   "execution_count": 43,
   "metadata": {
    "scrolled": true
   },
   "outputs": [
    {
     "name": "stdout",
     "output_type": "stream",
     "text": [
      "Средний пользовательский рейтинг на Xbox One: 6.52\n",
      "Средний пользовательский рейтинг на PC: 6.27\n"
     ]
    }
   ],
   "source": [
    "print(f'Средний пользовательский рейтинг на Xbox One: {\"%.2f\"%xbox.mean()}')\n",
    "print(f'Средний пользовательский рейтинг на PC: {\"%.2f\"%pc.mean()}')"
   ]
  },
  {
   "cell_type": "markdown",
   "metadata": {},
   "source": [
    "Отсюда мы так же можем **подтвердить**, что **средние пользовательские рейтинги платформ Xbox One и PC почти не отличаются, то есть одинаковы**"
   ]
  },
  {
   "cell_type": "markdown",
   "metadata": {},
   "source": [
    "Вторая гипотеза звучит так: **\"Средние пользовательские рейтинги жанров Action и Sports разные\"** <br>\n",
    "**Нулевая гипотеза**: Средний пользовательский рейтинг жанра Action равен среднему пользовательскому рейтингу жанра Sports <br>\n",
    "**Альтернативная гипотеза**: Средний пользовательский рейтинг жанра Action не равен среднему пользовательскому рейтингу жанра Sports"
   ]
  },
  {
   "cell_type": "code",
   "execution_count": 44,
   "metadata": {},
   "outputs": [],
   "source": [
    "action = actual_data.query('genre==\"Action\"')['user_score']\n",
    "sports = actual_data[(actual_data['genre']=='Sports') & (~actual_data['user_score'].isna())]['user_score']"
   ]
  },
  {
   "cell_type": "markdown",
   "metadata": {},
   "source": [
    "Мы проверяем гипотезу о равенстве средних двух генеральных совокупностей, поэтому используем ttest_ind() с параметром equal_var=False, так как дисперсии двух генеральных совокупностей в данном случае могут значительно отличаться:"
   ]
  },
  {
   "cell_type": "code",
   "execution_count": 45,
   "metadata": {
    "scrolled": true
   },
   "outputs": [
    {
     "name": "stdout",
     "output_type": "stream",
     "text": [
      "P-Value = nan\n",
      "Отвергаем нулевую гипотезу\n"
     ]
    }
   ],
   "source": [
    "results = st.ttest_ind(action, sports, equal_var=False)\n",
    "alpha = 0.05\n",
    "\n",
    "print(f'P-Value = {results.pvalue}')\n",
    "if results.pvalue>alpha:\n",
    "    print('Не получилось отвергнуть нулевую гипотезу')\n",
    "else:\n",
    "    print('Отвергаем нулевую гипотезу')"
   ]
  },
  {
   "cell_type": "markdown",
   "metadata": {},
   "source": [
    "Также для проверки мы можем просто посчитать средние двух генеральных совокупностей:"
   ]
  },
  {
   "cell_type": "code",
   "execution_count": 46,
   "metadata": {},
   "outputs": [
    {
     "name": "stdout",
     "output_type": "stream",
     "text": [
      "Средний пользовательский рейтинг жанра Action: 6.84\n",
      "Средний пользовательский рейтинг жанра Sports: 5.24\n"
     ]
    }
   ],
   "source": [
    "print(f'Средний пользовательский рейтинг жанра Action: {\"%.2f\"%action.mean()}')\n",
    "print(f'Средний пользовательский рейтинг жанра Sports: {\"%.2f\"%sports.mean()}')"
   ]
  },
  {
   "cell_type": "markdown",
   "metadata": {},
   "source": [
    "Отсюда мы также можем **подтвердить**, что **средние пользовательские рейтинги жанров Action и Sports разные**"
   ]
  },
  {
   "cell_type": "markdown",
   "metadata": {},
   "source": [
    "### Общий вывод"
   ]
  },
  {
   "cell_type": "markdown",
   "metadata": {},
   "source": [
    "Для того, чтобы выявить факторы, определяющие успех игры в 2017 году, мы предобработали данные о продажах игр и поняли, что следует рассматривать данные за последние 4 года (2013-2016 гг.), чтобы учесть все необходимые тенденции <br>\n",
    "В результате исследования было определено, что:\n",
    "- сейчас (т.е. в 2016) старые платформы Xbox 360, PS3 и 3DS уступают место новым, активно набирающим популярность платформам следующего поколения: PS4 и Xbox One. Именно эти платформы лидируют по общим продажам игр.\n",
    "- Популярными играми на платформах PS4 и Xbox One можно считать те игры, объём продаж копий которых превысил 1.75 миллионов по всему миру\n",
    "- Высокая оценка критиков положительно влияет на продажи игры почти на всех платформах (исключения стоит подробнее посмотреть в соответствующем разделе). Оценка пользователей почти не влияет на продажи игры (возможно, за исключением платформы WiiU)\n",
    "- Самыми популярными и хорошо продаваемыми жанрами являются шутеры, спортивные симуляторы и платформеры\n",
    "- Большое количество выпущенных игр в определённом жанре не всегда говорит о том, что этот жанр будет наиболее прибыльным\n",
    "- На разных рынках (Северная Америка, Европа, Япония) есть характерные особенности, которые нужно обязательно учитывать при планировании рекламных компаний (см. подробнее в п.5)\n",
    "- Предположительно, пользовательский рейтинг игры почти не отличается на разных платформах"
   ]
  },
  {
   "cell_type": "markdown",
   "metadata": {},
   "source": [
    "Данные статистические выводы можно использовать, чтобы планировать рекламную компанию и сделать ставку на потенциально популярный продукт нашего магазина \"Стримчик\"."
   ]
  }
 ],
 "metadata": {
  "ExecuteTimeLog": [
   {
    "duration": 44,
    "start_time": "2022-11-18T18:48:41.185Z"
   },
   {
    "duration": 399,
    "start_time": "2022-11-18T18:48:42.625Z"
   },
   {
    "duration": 250,
    "start_time": "2022-11-18T18:48:43.025Z"
   },
   {
    "duration": 21,
    "start_time": "2022-11-18T18:49:09.728Z"
   },
   {
    "duration": 13,
    "start_time": "2022-11-18T18:50:06.476Z"
   },
   {
    "duration": 3,
    "start_time": "2022-11-18T18:54:03.743Z"
   },
   {
    "duration": 49,
    "start_time": "2022-11-18T18:54:04.003Z"
   },
   {
    "duration": 16,
    "start_time": "2022-11-18T18:54:04.549Z"
   },
   {
    "duration": 13,
    "start_time": "2022-11-18T18:54:05.884Z"
   },
   {
    "duration": 337,
    "start_time": "2022-11-18T19:04:58.748Z"
   },
   {
    "duration": 290,
    "start_time": "2022-11-18T19:06:13.211Z"
   },
   {
    "duration": 3,
    "start_time": "2022-11-18T19:06:40.346Z"
   },
   {
    "duration": 12,
    "start_time": "2022-11-18T19:06:46.297Z"
   },
   {
    "duration": 3,
    "start_time": "2022-11-18T19:07:08.206Z"
   },
   {
    "duration": 14,
    "start_time": "2022-11-18T19:07:14.873Z"
   },
   {
    "duration": 3,
    "start_time": "2022-11-18T19:07:25.290Z"
   },
   {
    "duration": 13,
    "start_time": "2022-11-18T19:07:27.062Z"
   },
   {
    "duration": 6,
    "start_time": "2022-11-18T19:18:34.364Z"
   },
   {
    "duration": 12,
    "start_time": "2022-11-18T19:19:08.660Z"
   },
   {
    "duration": 8,
    "start_time": "2022-11-18T19:19:21.015Z"
   },
   {
    "duration": 14,
    "start_time": "2022-11-18T19:20:47.138Z"
   },
   {
    "duration": 7,
    "start_time": "2022-11-18T19:20:51.790Z"
   },
   {
    "duration": 23,
    "start_time": "2022-11-18T19:20:56.909Z"
   },
   {
    "duration": 7,
    "start_time": "2022-11-18T19:25:10.315Z"
   },
   {
    "duration": 408,
    "start_time": "2022-11-18T21:56:29.974Z"
   },
   {
    "duration": 190,
    "start_time": "2022-11-18T21:56:30.384Z"
   },
   {
    "duration": 30,
    "start_time": "2022-11-18T21:56:30.576Z"
   },
   {
    "duration": 32,
    "start_time": "2022-11-18T21:56:30.611Z"
   },
   {
    "duration": 4,
    "start_time": "2022-11-18T21:56:30.645Z"
   },
   {
    "duration": 27,
    "start_time": "2022-11-18T21:56:30.651Z"
   },
   {
    "duration": 54,
    "start_time": "2022-11-18T21:56:30.681Z"
   },
   {
    "duration": 117,
    "start_time": "2022-11-18T21:56:30.738Z"
   },
   {
    "duration": 16,
    "start_time": "2022-11-18T21:57:46.597Z"
   },
   {
    "duration": 15,
    "start_time": "2022-11-18T21:58:31.534Z"
   },
   {
    "duration": 7,
    "start_time": "2022-11-18T21:59:56.244Z"
   },
   {
    "duration": 497,
    "start_time": "2022-11-18T22:00:24.418Z"
   },
   {
    "duration": 63,
    "start_time": "2022-11-18T22:00:24.917Z"
   },
   {
    "duration": 23,
    "start_time": "2022-11-18T22:00:24.982Z"
   },
   {
    "duration": 17,
    "start_time": "2022-11-18T22:00:25.007Z"
   },
   {
    "duration": 29,
    "start_time": "2022-11-18T22:00:25.026Z"
   },
   {
    "duration": 23,
    "start_time": "2022-11-18T22:00:25.058Z"
   },
   {
    "duration": 8,
    "start_time": "2022-11-18T22:00:25.083Z"
   },
   {
    "duration": 15,
    "start_time": "2022-11-18T22:00:25.093Z"
   },
   {
    "duration": 19,
    "start_time": "2022-11-18T22:00:44.246Z"
   },
   {
    "duration": 24,
    "start_time": "2022-11-18T22:04:45.661Z"
   },
   {
    "duration": 11,
    "start_time": "2022-11-18T22:07:11.873Z"
   },
   {
    "duration": 8,
    "start_time": "2022-11-18T22:07:14.211Z"
   },
   {
    "duration": 10,
    "start_time": "2022-11-18T22:07:17.239Z"
   },
   {
    "duration": 13,
    "start_time": "2022-11-18T22:08:14.405Z"
   },
   {
    "duration": 9,
    "start_time": "2022-11-18T22:09:36.287Z"
   },
   {
    "duration": 16,
    "start_time": "2022-11-18T22:09:45.266Z"
   },
   {
    "duration": 68,
    "start_time": "2022-11-18T22:13:31.544Z"
   },
   {
    "duration": 57,
    "start_time": "2022-11-18T22:15:19.982Z"
   },
   {
    "duration": 95,
    "start_time": "2022-11-18T22:16:17.117Z"
   },
   {
    "duration": 420,
    "start_time": "2022-11-18T22:16:40.280Z"
   },
   {
    "duration": 56,
    "start_time": "2022-11-18T22:16:40.702Z"
   },
   {
    "duration": 29,
    "start_time": "2022-11-18T22:16:40.761Z"
   },
   {
    "duration": 14,
    "start_time": "2022-11-18T22:16:40.791Z"
   },
   {
    "duration": 3,
    "start_time": "2022-11-18T22:16:40.807Z"
   },
   {
    "duration": 19,
    "start_time": "2022-11-18T22:16:40.811Z"
   },
   {
    "duration": 7,
    "start_time": "2022-11-18T22:16:40.852Z"
   },
   {
    "duration": 19,
    "start_time": "2022-11-18T22:16:40.861Z"
   },
   {
    "duration": 13,
    "start_time": "2022-11-18T22:16:40.883Z"
   },
   {
    "duration": 10,
    "start_time": "2022-11-18T22:16:40.898Z"
   },
   {
    "duration": 9,
    "start_time": "2022-11-18T22:16:40.910Z"
   },
   {
    "duration": 56,
    "start_time": "2022-11-18T22:16:40.950Z"
   },
   {
    "duration": 92,
    "start_time": "2022-11-18T22:16:41.007Z"
   },
   {
    "duration": 378,
    "start_time": "2022-11-18T22:20:19.818Z"
   },
   {
    "duration": 23,
    "start_time": "2022-11-18T22:20:29.644Z"
   },
   {
    "duration": 9,
    "start_time": "2022-11-18T22:21:15.774Z"
   },
   {
    "duration": 583,
    "start_time": "2022-11-18T22:21:34.859Z"
   },
   {
    "duration": 471,
    "start_time": "2022-11-18T22:21:58.225Z"
   },
   {
    "duration": 55,
    "start_time": "2022-11-18T22:21:58.698Z"
   },
   {
    "duration": 32,
    "start_time": "2022-11-18T22:21:58.756Z"
   },
   {
    "duration": 14,
    "start_time": "2022-11-18T22:21:58.790Z"
   },
   {
    "duration": 3,
    "start_time": "2022-11-18T22:21:58.805Z"
   },
   {
    "duration": 19,
    "start_time": "2022-11-18T22:21:58.809Z"
   },
   {
    "duration": 9,
    "start_time": "2022-11-18T22:21:58.850Z"
   },
   {
    "duration": 642,
    "start_time": "2022-11-18T22:21:58.861Z"
   },
   {
    "duration": 0,
    "start_time": "2022-11-18T22:21:59.506Z"
   },
   {
    "duration": 0,
    "start_time": "2022-11-18T22:21:59.508Z"
   },
   {
    "duration": 0,
    "start_time": "2022-11-18T22:21:59.509Z"
   },
   {
    "duration": 0,
    "start_time": "2022-11-18T22:21:59.511Z"
   },
   {
    "duration": 0,
    "start_time": "2022-11-18T22:21:59.512Z"
   },
   {
    "duration": 0,
    "start_time": "2022-11-18T22:21:59.513Z"
   },
   {
    "duration": 18,
    "start_time": "2022-11-18T22:22:45.437Z"
   },
   {
    "duration": 15,
    "start_time": "2022-11-18T22:23:02.966Z"
   },
   {
    "duration": 6,
    "start_time": "2022-11-18T22:24:51.441Z"
   },
   {
    "duration": 7,
    "start_time": "2022-11-18T22:24:55.429Z"
   },
   {
    "duration": 366,
    "start_time": "2022-11-18T22:52:03.413Z"
   },
   {
    "duration": 52,
    "start_time": "2022-11-18T22:52:03.781Z"
   },
   {
    "duration": 23,
    "start_time": "2022-11-18T22:52:03.835Z"
   },
   {
    "duration": 22,
    "start_time": "2022-11-18T22:52:03.861Z"
   },
   {
    "duration": 3,
    "start_time": "2022-11-18T22:52:03.885Z"
   },
   {
    "duration": 17,
    "start_time": "2022-11-18T22:52:03.890Z"
   },
   {
    "duration": 7,
    "start_time": "2022-11-18T22:52:03.909Z"
   },
   {
    "duration": 90,
    "start_time": "2022-11-18T22:52:03.918Z"
   },
   {
    "duration": 0,
    "start_time": "2022-11-18T22:52:04.009Z"
   },
   {
    "duration": 0,
    "start_time": "2022-11-18T22:52:04.010Z"
   },
   {
    "duration": 0,
    "start_time": "2022-11-18T22:52:04.011Z"
   },
   {
    "duration": 0,
    "start_time": "2022-11-18T22:52:04.013Z"
   },
   {
    "duration": 0,
    "start_time": "2022-11-18T22:52:04.014Z"
   },
   {
    "duration": 0,
    "start_time": "2022-11-18T22:52:04.015Z"
   },
   {
    "duration": 0,
    "start_time": "2022-11-18T22:52:04.017Z"
   },
   {
    "duration": 0,
    "start_time": "2022-11-18T22:52:04.019Z"
   },
   {
    "duration": 9,
    "start_time": "2022-11-18T22:53:01.382Z"
   },
   {
    "duration": 5,
    "start_time": "2022-11-18T22:53:15.298Z"
   },
   {
    "duration": 468,
    "start_time": "2022-11-18T22:53:23.953Z"
   },
   {
    "duration": 65,
    "start_time": "2022-11-18T22:53:24.423Z"
   },
   {
    "duration": 24,
    "start_time": "2022-11-18T22:53:24.490Z"
   },
   {
    "duration": 15,
    "start_time": "2022-11-18T22:53:24.516Z"
   },
   {
    "duration": 5,
    "start_time": "2022-11-18T22:53:24.552Z"
   },
   {
    "duration": 22,
    "start_time": "2022-11-18T22:53:24.559Z"
   },
   {
    "duration": 16,
    "start_time": "2022-11-18T22:53:24.583Z"
   },
   {
    "duration": 6,
    "start_time": "2022-11-18T22:53:24.601Z"
   },
   {
    "duration": 8,
    "start_time": "2022-11-18T22:53:24.608Z"
   },
   {
    "duration": 37,
    "start_time": "2022-11-18T22:53:24.619Z"
   },
   {
    "duration": 33,
    "start_time": "2022-11-18T22:53:24.659Z"
   },
   {
    "duration": 15,
    "start_time": "2022-11-18T22:53:24.694Z"
   },
   {
    "duration": 7,
    "start_time": "2022-11-18T22:53:24.712Z"
   },
   {
    "duration": 10,
    "start_time": "2022-11-18T22:53:24.722Z"
   },
   {
    "duration": 66,
    "start_time": "2022-11-18T22:53:24.734Z"
   },
   {
    "duration": 58,
    "start_time": "2022-11-18T22:53:24.802Z"
   },
   {
    "duration": 18,
    "start_time": "2022-11-18T22:54:00.600Z"
   },
   {
    "duration": 20,
    "start_time": "2022-11-18T22:54:10.173Z"
   },
   {
    "duration": 15,
    "start_time": "2022-11-18T22:54:49.683Z"
   },
   {
    "duration": 5,
    "start_time": "2022-11-18T22:55:12.922Z"
   },
   {
    "duration": 8,
    "start_time": "2022-11-18T22:55:30.984Z"
   },
   {
    "duration": 387,
    "start_time": "2022-11-18T23:19:00.393Z"
   },
   {
    "duration": 56,
    "start_time": "2022-11-18T23:19:00.782Z"
   },
   {
    "duration": 24,
    "start_time": "2022-11-18T23:19:00.840Z"
   },
   {
    "duration": 20,
    "start_time": "2022-11-18T23:19:00.867Z"
   },
   {
    "duration": 11,
    "start_time": "2022-11-18T23:19:00.890Z"
   },
   {
    "duration": 35,
    "start_time": "2022-11-18T23:19:00.903Z"
   },
   {
    "duration": 24,
    "start_time": "2022-11-18T23:19:00.940Z"
   },
   {
    "duration": 14,
    "start_time": "2022-11-18T23:19:00.966Z"
   },
   {
    "duration": 22,
    "start_time": "2022-11-18T23:19:00.983Z"
   },
   {
    "duration": 33,
    "start_time": "2022-11-18T23:19:01.007Z"
   },
   {
    "duration": 75,
    "start_time": "2022-11-18T23:19:01.042Z"
   },
   {
    "duration": 31,
    "start_time": "2022-11-18T23:19:01.119Z"
   },
   {
    "duration": 25,
    "start_time": "2022-11-18T23:19:01.153Z"
   },
   {
    "duration": 89,
    "start_time": "2022-11-18T23:19:01.182Z"
   },
   {
    "duration": 83,
    "start_time": "2022-11-18T23:19:01.273Z"
   },
   {
    "duration": 12,
    "start_time": "2022-11-18T23:20:56.469Z"
   },
   {
    "duration": 414,
    "start_time": "2022-11-18T23:24:38.103Z"
   },
   {
    "duration": 57,
    "start_time": "2022-11-18T23:24:38.519Z"
   },
   {
    "duration": 24,
    "start_time": "2022-11-18T23:24:38.578Z"
   },
   {
    "duration": 18,
    "start_time": "2022-11-18T23:24:38.604Z"
   },
   {
    "duration": 4,
    "start_time": "2022-11-18T23:24:38.624Z"
   },
   {
    "duration": 35,
    "start_time": "2022-11-18T23:24:38.630Z"
   },
   {
    "duration": 12,
    "start_time": "2022-11-18T23:24:38.667Z"
   },
   {
    "duration": 8,
    "start_time": "2022-11-18T23:24:38.680Z"
   },
   {
    "duration": 13,
    "start_time": "2022-11-18T23:24:38.690Z"
   },
   {
    "duration": 12,
    "start_time": "2022-11-18T23:24:38.705Z"
   },
   {
    "duration": 38,
    "start_time": "2022-11-18T23:24:38.718Z"
   },
   {
    "duration": 12,
    "start_time": "2022-11-18T23:24:38.758Z"
   },
   {
    "duration": 25,
    "start_time": "2022-11-18T23:24:38.772Z"
   },
   {
    "duration": 65,
    "start_time": "2022-11-18T23:24:38.799Z"
   },
   {
    "duration": 51,
    "start_time": "2022-11-18T23:24:38.866Z"
   },
   {
    "duration": 6,
    "start_time": "2022-11-18T23:27:46.169Z"
   },
   {
    "duration": 15,
    "start_time": "2022-11-18T23:27:50.923Z"
   },
   {
    "duration": 28,
    "start_time": "2022-11-18T23:28:11.870Z"
   },
   {
    "duration": 67,
    "start_time": "2022-11-18T23:30:38.075Z"
   },
   {
    "duration": 7,
    "start_time": "2022-11-18T23:30:48.909Z"
   },
   {
    "duration": 455,
    "start_time": "2022-11-18T23:30:58.168Z"
   },
   {
    "duration": 356,
    "start_time": "2022-11-18T23:31:14.356Z"
   },
   {
    "duration": 318,
    "start_time": "2022-11-18T23:31:23.171Z"
   },
   {
    "duration": 370,
    "start_time": "2022-11-18T23:31:35.212Z"
   },
   {
    "duration": 698,
    "start_time": "2022-11-18T23:33:58.635Z"
   },
   {
    "duration": 55,
    "start_time": "2022-11-18T23:33:59.335Z"
   },
   {
    "duration": 19,
    "start_time": "2022-11-18T23:33:59.392Z"
   },
   {
    "duration": 14,
    "start_time": "2022-11-18T23:33:59.413Z"
   },
   {
    "duration": 3,
    "start_time": "2022-11-18T23:33:59.428Z"
   },
   {
    "duration": 27,
    "start_time": "2022-11-18T23:33:59.433Z"
   },
   {
    "duration": 10,
    "start_time": "2022-11-18T23:33:59.462Z"
   },
   {
    "duration": 6,
    "start_time": "2022-11-18T23:33:59.474Z"
   },
   {
    "duration": 9,
    "start_time": "2022-11-18T23:33:59.481Z"
   },
   {
    "duration": 10,
    "start_time": "2022-11-18T23:33:59.492Z"
   },
   {
    "duration": 15,
    "start_time": "2022-11-18T23:33:59.503Z"
   },
   {
    "duration": 40,
    "start_time": "2022-11-18T23:33:59.520Z"
   },
   {
    "duration": 24,
    "start_time": "2022-11-18T23:33:59.563Z"
   },
   {
    "duration": 88,
    "start_time": "2022-11-18T23:33:59.589Z"
   },
   {
    "duration": 56,
    "start_time": "2022-11-18T23:33:59.679Z"
   },
   {
    "duration": 14,
    "start_time": "2022-11-18T23:33:59.737Z"
   },
   {
    "duration": 383,
    "start_time": "2022-11-18T23:33:59.753Z"
   },
   {
    "duration": 276,
    "start_time": "2022-11-18T23:34:28.692Z"
   },
   {
    "duration": 335,
    "start_time": "2022-11-18T23:34:36.258Z"
   },
   {
    "duration": 643,
    "start_time": "2022-11-18T23:38:56.314Z"
   },
   {
    "duration": 55,
    "start_time": "2022-11-18T23:38:56.959Z"
   },
   {
    "duration": 21,
    "start_time": "2022-11-18T23:38:57.016Z"
   },
   {
    "duration": 15,
    "start_time": "2022-11-18T23:38:57.038Z"
   },
   {
    "duration": 3,
    "start_time": "2022-11-18T23:38:57.056Z"
   },
   {
    "duration": 16,
    "start_time": "2022-11-18T23:38:57.060Z"
   },
   {
    "duration": 6,
    "start_time": "2022-11-18T23:38:57.078Z"
   },
   {
    "duration": 4,
    "start_time": "2022-11-18T23:38:57.086Z"
   },
   {
    "duration": 8,
    "start_time": "2022-11-18T23:38:57.092Z"
   },
   {
    "duration": 10,
    "start_time": "2022-11-18T23:38:57.102Z"
   },
   {
    "duration": 47,
    "start_time": "2022-11-18T23:38:57.114Z"
   },
   {
    "duration": 8,
    "start_time": "2022-11-18T23:38:57.162Z"
   },
   {
    "duration": 9,
    "start_time": "2022-11-18T23:38:57.172Z"
   },
   {
    "duration": 71,
    "start_time": "2022-11-18T23:38:57.183Z"
   },
   {
    "duration": 49,
    "start_time": "2022-11-18T23:38:57.255Z"
   },
   {
    "duration": 6,
    "start_time": "2022-11-18T23:38:57.305Z"
   },
   {
    "duration": 321,
    "start_time": "2022-11-18T23:38:57.313Z"
   },
   {
    "duration": 6,
    "start_time": "2022-11-18T23:42:02.149Z"
   },
   {
    "duration": 1179,
    "start_time": "2022-11-18T23:43:57.490Z"
   },
   {
    "duration": 54,
    "start_time": "2022-11-18T23:43:58.672Z"
   },
   {
    "duration": 20,
    "start_time": "2022-11-18T23:43:58.731Z"
   },
   {
    "duration": 15,
    "start_time": "2022-11-18T23:43:58.752Z"
   },
   {
    "duration": 3,
    "start_time": "2022-11-18T23:43:58.768Z"
   },
   {
    "duration": 18,
    "start_time": "2022-11-18T23:43:58.773Z"
   },
   {
    "duration": 7,
    "start_time": "2022-11-18T23:43:58.793Z"
   },
   {
    "duration": 5,
    "start_time": "2022-11-18T23:43:58.801Z"
   },
   {
    "duration": 8,
    "start_time": "2022-11-18T23:43:58.808Z"
   },
   {
    "duration": 34,
    "start_time": "2022-11-18T23:43:58.818Z"
   },
   {
    "duration": 16,
    "start_time": "2022-11-18T23:43:58.853Z"
   },
   {
    "duration": 8,
    "start_time": "2022-11-18T23:43:58.871Z"
   },
   {
    "duration": 9,
    "start_time": "2022-11-18T23:43:58.881Z"
   },
   {
    "duration": 84,
    "start_time": "2022-11-18T23:43:58.892Z"
   },
   {
    "duration": 50,
    "start_time": "2022-11-18T23:43:58.978Z"
   },
   {
    "duration": 21,
    "start_time": "2022-11-18T23:43:59.030Z"
   },
   {
    "duration": 328,
    "start_time": "2022-11-18T23:43:59.052Z"
   },
   {
    "duration": 7,
    "start_time": "2022-11-18T23:43:59.382Z"
   },
   {
    "duration": 1263,
    "start_time": "2022-11-21T01:43:35.899Z"
   },
   {
    "duration": 185,
    "start_time": "2022-11-21T01:43:37.164Z"
   },
   {
    "duration": 21,
    "start_time": "2022-11-21T01:43:37.350Z"
   },
   {
    "duration": 14,
    "start_time": "2022-11-21T01:43:37.373Z"
   },
   {
    "duration": 3,
    "start_time": "2022-11-21T01:43:37.389Z"
   },
   {
    "duration": 15,
    "start_time": "2022-11-21T01:43:37.394Z"
   },
   {
    "duration": 7,
    "start_time": "2022-11-21T01:43:37.411Z"
   },
   {
    "duration": 35,
    "start_time": "2022-11-21T01:43:37.419Z"
   },
   {
    "duration": 7,
    "start_time": "2022-11-21T01:43:37.456Z"
   },
   {
    "duration": 10,
    "start_time": "2022-11-21T01:43:37.465Z"
   },
   {
    "duration": 15,
    "start_time": "2022-11-21T01:43:37.476Z"
   },
   {
    "duration": 6,
    "start_time": "2022-11-21T01:43:37.493Z"
   },
   {
    "duration": 8,
    "start_time": "2022-11-21T01:43:37.501Z"
   },
   {
    "duration": 82,
    "start_time": "2022-11-21T01:43:37.511Z"
   },
   {
    "duration": 55,
    "start_time": "2022-11-21T01:43:37.595Z"
   },
   {
    "duration": 6,
    "start_time": "2022-11-21T01:43:37.652Z"
   },
   {
    "duration": 319,
    "start_time": "2022-11-21T01:43:37.660Z"
   },
   {
    "duration": 5,
    "start_time": "2022-11-21T01:43:37.981Z"
   },
   {
    "duration": 15,
    "start_time": "2022-11-21T01:45:52.233Z"
   },
   {
    "duration": 5,
    "start_time": "2022-11-21T01:46:10.241Z"
   },
   {
    "duration": 18,
    "start_time": "2022-11-21T01:51:33.896Z"
   },
   {
    "duration": 3870,
    "start_time": "2022-11-21T01:51:49.196Z"
   },
   {
    "duration": 20,
    "start_time": "2022-11-21T01:52:16.589Z"
   },
   {
    "duration": 12,
    "start_time": "2022-11-21T01:52:41.042Z"
   },
   {
    "duration": 140,
    "start_time": "2022-11-21T01:54:54.120Z"
   },
   {
    "duration": 3542,
    "start_time": "2022-11-21T01:55:05.494Z"
   },
   {
    "duration": 146,
    "start_time": "2022-11-21T01:55:21.244Z"
   },
   {
    "duration": 164,
    "start_time": "2022-11-21T01:58:45.146Z"
   },
   {
    "duration": 229,
    "start_time": "2022-11-21T02:01:59.093Z"
   },
   {
    "duration": 136,
    "start_time": "2022-11-21T02:02:27.124Z"
   },
   {
    "duration": 159,
    "start_time": "2022-11-21T02:02:55.247Z"
   },
   {
    "duration": 990,
    "start_time": "2022-11-21T02:05:26.192Z"
   },
   {
    "duration": 12,
    "start_time": "2022-11-21T02:06:58.193Z"
   },
   {
    "duration": 132,
    "start_time": "2022-11-21T02:06:58.962Z"
   },
   {
    "duration": 8,
    "start_time": "2022-11-21T02:07:20.809Z"
   },
   {
    "duration": 422,
    "start_time": "2022-11-21T02:12:25.313Z"
   },
   {
    "duration": 903,
    "start_time": "2022-11-21T02:12:40.548Z"
   },
   {
    "duration": 990,
    "start_time": "2022-11-21T02:13:03.123Z"
   },
   {
    "duration": 1129,
    "start_time": "2022-11-21T02:14:29.540Z"
   },
   {
    "duration": 412,
    "start_time": "2022-11-21T02:14:43.186Z"
   },
   {
    "duration": 1123,
    "start_time": "2022-11-21T02:15:18.177Z"
   },
   {
    "duration": 906,
    "start_time": "2022-11-21T02:15:25.514Z"
   },
   {
    "duration": 409,
    "start_time": "2022-11-21T02:15:32.389Z"
   },
   {
    "duration": 513,
    "start_time": "2022-11-21T02:17:49.486Z"
   },
   {
    "duration": 708,
    "start_time": "2022-11-21T02:18:00.630Z"
   },
   {
    "duration": 445,
    "start_time": "2022-11-21T02:18:31.562Z"
   },
   {
    "duration": 401,
    "start_time": "2022-11-21T02:18:48.483Z"
   },
   {
    "duration": 442,
    "start_time": "2022-11-21T02:19:20.131Z"
   },
   {
    "duration": 1212,
    "start_time": "2022-11-21T02:21:56.753Z"
   },
   {
    "duration": 52,
    "start_time": "2022-11-21T02:21:57.967Z"
   },
   {
    "duration": 19,
    "start_time": "2022-11-21T02:21:58.021Z"
   },
   {
    "duration": 15,
    "start_time": "2022-11-21T02:21:58.042Z"
   },
   {
    "duration": 7,
    "start_time": "2022-11-21T02:21:58.058Z"
   },
   {
    "duration": 17,
    "start_time": "2022-11-21T02:21:58.066Z"
   },
   {
    "duration": 7,
    "start_time": "2022-11-21T02:21:58.084Z"
   },
   {
    "duration": 5,
    "start_time": "2022-11-21T02:21:58.092Z"
   },
   {
    "duration": 9,
    "start_time": "2022-11-21T02:21:58.098Z"
   },
   {
    "duration": 9,
    "start_time": "2022-11-21T02:21:58.110Z"
   },
   {
    "duration": 43,
    "start_time": "2022-11-21T02:21:58.121Z"
   },
   {
    "duration": 10,
    "start_time": "2022-11-21T02:21:58.166Z"
   },
   {
    "duration": 14,
    "start_time": "2022-11-21T02:21:58.178Z"
   },
   {
    "duration": 72,
    "start_time": "2022-11-21T02:21:58.194Z"
   },
   {
    "duration": 49,
    "start_time": "2022-11-21T02:21:58.268Z"
   },
   {
    "duration": 6,
    "start_time": "2022-11-21T02:21:58.319Z"
   },
   {
    "duration": 329,
    "start_time": "2022-11-21T02:21:58.327Z"
   },
   {
    "duration": 5,
    "start_time": "2022-11-21T02:21:58.658Z"
   },
   {
    "duration": 763,
    "start_time": "2022-11-21T02:21:58.665Z"
   },
   {
    "duration": 681,
    "start_time": "2022-11-21T02:28:12.657Z"
   },
   {
    "duration": 792,
    "start_time": "2022-11-21T02:28:20.042Z"
   },
   {
    "duration": 896,
    "start_time": "2022-11-21T02:28:35.674Z"
   },
   {
    "duration": 15,
    "start_time": "2022-11-21T02:29:28.634Z"
   },
   {
    "duration": 830,
    "start_time": "2022-11-21T02:29:41.986Z"
   },
   {
    "duration": 288,
    "start_time": "2022-11-21T02:30:46.915Z"
   },
   {
    "duration": 775,
    "start_time": "2022-11-21T02:31:14.531Z"
   },
   {
    "duration": 1147,
    "start_time": "2022-11-21T02:31:26.704Z"
   },
   {
    "duration": 51,
    "start_time": "2022-11-21T02:31:27.853Z"
   },
   {
    "duration": 33,
    "start_time": "2022-11-21T02:31:27.906Z"
   },
   {
    "duration": 15,
    "start_time": "2022-11-21T02:31:27.942Z"
   },
   {
    "duration": 3,
    "start_time": "2022-11-21T02:31:27.959Z"
   },
   {
    "duration": 17,
    "start_time": "2022-11-21T02:31:27.963Z"
   },
   {
    "duration": 8,
    "start_time": "2022-11-21T02:31:27.981Z"
   },
   {
    "duration": 7,
    "start_time": "2022-11-21T02:31:27.992Z"
   },
   {
    "duration": 13,
    "start_time": "2022-11-21T02:31:28.001Z"
   },
   {
    "duration": 38,
    "start_time": "2022-11-21T02:31:28.016Z"
   },
   {
    "duration": 22,
    "start_time": "2022-11-21T02:31:28.057Z"
   },
   {
    "duration": 7,
    "start_time": "2022-11-21T02:31:28.081Z"
   },
   {
    "duration": 9,
    "start_time": "2022-11-21T02:31:28.089Z"
   },
   {
    "duration": 79,
    "start_time": "2022-11-21T02:31:28.101Z"
   },
   {
    "duration": 56,
    "start_time": "2022-11-21T02:31:28.182Z"
   },
   {
    "duration": 14,
    "start_time": "2022-11-21T02:31:28.240Z"
   },
   {
    "duration": 319,
    "start_time": "2022-11-21T02:31:28.256Z"
   },
   {
    "duration": 824,
    "start_time": "2022-11-21T02:31:28.577Z"
   },
   {
    "duration": 1276,
    "start_time": "2022-11-21T02:31:58.650Z"
   },
   {
    "duration": 52,
    "start_time": "2022-11-21T02:31:59.928Z"
   },
   {
    "duration": 22,
    "start_time": "2022-11-21T02:31:59.982Z"
   },
   {
    "duration": 16,
    "start_time": "2022-11-21T02:32:00.005Z"
   },
   {
    "duration": 3,
    "start_time": "2022-11-21T02:32:00.024Z"
   },
   {
    "duration": 14,
    "start_time": "2022-11-21T02:32:00.051Z"
   },
   {
    "duration": 9,
    "start_time": "2022-11-21T02:32:00.067Z"
   },
   {
    "duration": 9,
    "start_time": "2022-11-21T02:32:00.077Z"
   },
   {
    "duration": 10,
    "start_time": "2022-11-21T02:32:00.087Z"
   },
   {
    "duration": 16,
    "start_time": "2022-11-21T02:32:00.099Z"
   },
   {
    "duration": 36,
    "start_time": "2022-11-21T02:32:00.116Z"
   },
   {
    "duration": 8,
    "start_time": "2022-11-21T02:32:00.154Z"
   },
   {
    "duration": 29,
    "start_time": "2022-11-21T02:32:00.164Z"
   },
   {
    "duration": 71,
    "start_time": "2022-11-21T02:32:00.196Z"
   },
   {
    "duration": 51,
    "start_time": "2022-11-21T02:32:00.269Z"
   },
   {
    "duration": 7,
    "start_time": "2022-11-21T02:32:00.322Z"
   },
   {
    "duration": 355,
    "start_time": "2022-11-21T02:32:00.331Z"
   },
   {
    "duration": 825,
    "start_time": "2022-11-21T02:32:00.688Z"
   },
   {
    "duration": 13,
    "start_time": "2022-11-21T02:35:01.121Z"
   },
   {
    "duration": 12,
    "start_time": "2022-11-21T02:35:23.043Z"
   },
   {
    "duration": 12,
    "start_time": "2022-11-21T02:35:29.011Z"
   },
   {
    "duration": 105,
    "start_time": "2022-11-21T02:36:00.982Z"
   },
   {
    "duration": 8,
    "start_time": "2022-11-21T02:36:08.788Z"
   },
   {
    "duration": 7,
    "start_time": "2022-11-21T02:36:23.250Z"
   },
   {
    "duration": 1133,
    "start_time": "2022-11-21T02:37:07.484Z"
   },
   {
    "duration": 52,
    "start_time": "2022-11-21T02:37:08.619Z"
   },
   {
    "duration": 20,
    "start_time": "2022-11-21T02:37:08.672Z"
   },
   {
    "duration": 14,
    "start_time": "2022-11-21T02:37:08.694Z"
   },
   {
    "duration": 2,
    "start_time": "2022-11-21T02:37:08.710Z"
   },
   {
    "duration": 14,
    "start_time": "2022-11-21T02:37:08.715Z"
   },
   {
    "duration": 7,
    "start_time": "2022-11-21T02:37:08.751Z"
   },
   {
    "duration": 5,
    "start_time": "2022-11-21T02:37:08.759Z"
   },
   {
    "duration": 12,
    "start_time": "2022-11-21T02:37:08.765Z"
   },
   {
    "duration": 9,
    "start_time": "2022-11-21T02:37:08.780Z"
   },
   {
    "duration": 17,
    "start_time": "2022-11-21T02:37:08.791Z"
   },
   {
    "duration": 8,
    "start_time": "2022-11-21T02:37:08.810Z"
   },
   {
    "duration": 40,
    "start_time": "2022-11-21T02:37:08.819Z"
   },
   {
    "duration": 55,
    "start_time": "2022-11-21T02:37:08.860Z"
   },
   {
    "duration": 68,
    "start_time": "2022-11-21T02:37:08.916Z"
   },
   {
    "duration": 5,
    "start_time": "2022-11-21T02:37:08.986Z"
   },
   {
    "duration": 328,
    "start_time": "2022-11-21T02:37:08.993Z"
   },
   {
    "duration": 6,
    "start_time": "2022-11-21T02:37:09.323Z"
   },
   {
    "duration": 302,
    "start_time": "2022-11-21T02:37:09.330Z"
   },
   {
    "duration": 243,
    "start_time": "2022-11-21T02:37:29.010Z"
   },
   {
    "duration": 222,
    "start_time": "2022-11-21T02:37:39.158Z"
   },
   {
    "duration": 7,
    "start_time": "2022-11-21T02:38:07.747Z"
   },
   {
    "duration": 356,
    "start_time": "2022-11-21T02:38:09.444Z"
   },
   {
    "duration": 8,
    "start_time": "2022-11-21T02:38:23.587Z"
   },
   {
    "duration": 241,
    "start_time": "2022-11-21T02:38:24.338Z"
   },
   {
    "duration": 6,
    "start_time": "2022-11-21T02:38:49.373Z"
   },
   {
    "duration": 269,
    "start_time": "2022-11-21T02:38:51.585Z"
   },
   {
    "duration": 346,
    "start_time": "2022-11-21T02:41:14.297Z"
   },
   {
    "duration": 1166,
    "start_time": "2022-11-21T02:55:31.503Z"
   },
   {
    "duration": 54,
    "start_time": "2022-11-21T02:55:32.671Z"
   },
   {
    "duration": 19,
    "start_time": "2022-11-21T02:55:32.727Z"
   },
   {
    "duration": 38,
    "start_time": "2022-11-21T02:55:32.748Z"
   },
   {
    "duration": 23,
    "start_time": "2022-11-21T02:55:32.788Z"
   },
   {
    "duration": 48,
    "start_time": "2022-11-21T02:55:32.813Z"
   },
   {
    "duration": 37,
    "start_time": "2022-11-21T02:55:32.863Z"
   },
   {
    "duration": 26,
    "start_time": "2022-11-21T02:55:32.902Z"
   },
   {
    "duration": 33,
    "start_time": "2022-11-21T02:55:32.930Z"
   },
   {
    "duration": 38,
    "start_time": "2022-11-21T02:55:32.966Z"
   },
   {
    "duration": 40,
    "start_time": "2022-11-21T02:55:33.006Z"
   },
   {
    "duration": 21,
    "start_time": "2022-11-21T02:55:33.047Z"
   },
   {
    "duration": 32,
    "start_time": "2022-11-21T02:55:33.069Z"
   },
   {
    "duration": 73,
    "start_time": "2022-11-21T02:55:33.103Z"
   },
   {
    "duration": 49,
    "start_time": "2022-11-21T02:55:33.178Z"
   },
   {
    "duration": 6,
    "start_time": "2022-11-21T02:55:33.229Z"
   },
   {
    "duration": 306,
    "start_time": "2022-11-21T02:55:33.251Z"
   },
   {
    "duration": 6,
    "start_time": "2022-11-21T02:55:33.559Z"
   },
   {
    "duration": 275,
    "start_time": "2022-11-21T02:55:33.567Z"
   },
   {
    "duration": 5,
    "start_time": "2022-11-21T02:55:37.928Z"
   },
   {
    "duration": 215,
    "start_time": "2022-11-21T02:55:38.203Z"
   },
   {
    "duration": 1175,
    "start_time": "2022-11-21T02:55:50.393Z"
   },
   {
    "duration": 57,
    "start_time": "2022-11-21T02:55:51.570Z"
   },
   {
    "duration": 21,
    "start_time": "2022-11-21T02:55:51.629Z"
   },
   {
    "duration": 16,
    "start_time": "2022-11-21T02:55:51.651Z"
   },
   {
    "duration": 4,
    "start_time": "2022-11-21T02:55:51.669Z"
   },
   {
    "duration": 16,
    "start_time": "2022-11-21T02:55:51.675Z"
   },
   {
    "duration": 8,
    "start_time": "2022-11-21T02:55:51.693Z"
   },
   {
    "duration": 5,
    "start_time": "2022-11-21T02:55:51.703Z"
   },
   {
    "duration": 41,
    "start_time": "2022-11-21T02:55:51.710Z"
   },
   {
    "duration": 9,
    "start_time": "2022-11-21T02:55:51.753Z"
   },
   {
    "duration": 15,
    "start_time": "2022-11-21T02:55:51.764Z"
   },
   {
    "duration": 7,
    "start_time": "2022-11-21T02:55:51.780Z"
   },
   {
    "duration": 12,
    "start_time": "2022-11-21T02:55:51.789Z"
   },
   {
    "duration": 84,
    "start_time": "2022-11-21T02:55:51.804Z"
   },
   {
    "duration": 47,
    "start_time": "2022-11-21T02:55:51.890Z"
   },
   {
    "duration": 14,
    "start_time": "2022-11-21T02:55:51.939Z"
   },
   {
    "duration": 316,
    "start_time": "2022-11-21T02:55:51.954Z"
   },
   {
    "duration": 5,
    "start_time": "2022-11-21T02:55:52.271Z"
   },
   {
    "duration": 259,
    "start_time": "2022-11-21T02:55:52.278Z"
   },
   {
    "duration": 6,
    "start_time": "2022-11-21T02:56:07.617Z"
   },
   {
    "duration": 5,
    "start_time": "2022-11-21T02:56:13.370Z"
   },
   {
    "duration": 5,
    "start_time": "2022-11-21T02:56:20.177Z"
   },
   {
    "duration": 1212,
    "start_time": "2022-11-21T02:57:15.385Z"
   },
   {
    "duration": 55,
    "start_time": "2022-11-21T02:57:16.599Z"
   },
   {
    "duration": 27,
    "start_time": "2022-11-21T02:57:16.656Z"
   },
   {
    "duration": 15,
    "start_time": "2022-11-21T02:57:16.685Z"
   },
   {
    "duration": 4,
    "start_time": "2022-11-21T02:57:16.702Z"
   },
   {
    "duration": 18,
    "start_time": "2022-11-21T02:57:16.707Z"
   },
   {
    "duration": 6,
    "start_time": "2022-11-21T02:57:16.751Z"
   },
   {
    "duration": 6,
    "start_time": "2022-11-21T02:57:16.759Z"
   },
   {
    "duration": 13,
    "start_time": "2022-11-21T02:57:16.767Z"
   },
   {
    "duration": 11,
    "start_time": "2022-11-21T02:57:16.782Z"
   },
   {
    "duration": 17,
    "start_time": "2022-11-21T02:57:16.795Z"
   },
   {
    "duration": 8,
    "start_time": "2022-11-21T02:57:16.814Z"
   },
   {
    "duration": 10,
    "start_time": "2022-11-21T02:57:16.850Z"
   },
   {
    "duration": 54,
    "start_time": "2022-11-21T02:57:16.863Z"
   },
   {
    "duration": 72,
    "start_time": "2022-11-21T02:57:16.919Z"
   },
   {
    "duration": 8,
    "start_time": "2022-11-21T02:57:16.993Z"
   },
   {
    "duration": 341,
    "start_time": "2022-11-21T02:57:17.003Z"
   },
   {
    "duration": 6,
    "start_time": "2022-11-21T02:57:17.346Z"
   },
   {
    "duration": 272,
    "start_time": "2022-11-21T02:57:17.354Z"
   },
   {
    "duration": 6,
    "start_time": "2022-11-21T03:09:00.425Z"
   },
   {
    "duration": 329,
    "start_time": "2022-11-21T03:09:28.317Z"
   },
   {
    "duration": 363,
    "start_time": "2022-11-21T03:10:05.964Z"
   },
   {
    "duration": 1213,
    "start_time": "2022-11-21T03:14:37.187Z"
   },
   {
    "duration": 54,
    "start_time": "2022-11-21T03:14:38.401Z"
   },
   {
    "duration": 23,
    "start_time": "2022-11-21T03:14:38.456Z"
   },
   {
    "duration": 29,
    "start_time": "2022-11-21T03:14:38.481Z"
   },
   {
    "duration": 3,
    "start_time": "2022-11-21T03:14:38.512Z"
   },
   {
    "duration": 16,
    "start_time": "2022-11-21T03:14:38.516Z"
   },
   {
    "duration": 9,
    "start_time": "2022-11-21T03:14:38.551Z"
   },
   {
    "duration": 16,
    "start_time": "2022-11-21T03:14:38.562Z"
   },
   {
    "duration": 15,
    "start_time": "2022-11-21T03:14:38.580Z"
   },
   {
    "duration": 11,
    "start_time": "2022-11-21T03:14:38.597Z"
   },
   {
    "duration": 16,
    "start_time": "2022-11-21T03:14:38.609Z"
   },
   {
    "duration": 7,
    "start_time": "2022-11-21T03:14:38.627Z"
   },
   {
    "duration": 23,
    "start_time": "2022-11-21T03:14:38.635Z"
   },
   {
    "duration": 54,
    "start_time": "2022-11-21T03:14:38.660Z"
   },
   {
    "duration": 83,
    "start_time": "2022-11-21T03:14:38.716Z"
   },
   {
    "duration": 7,
    "start_time": "2022-11-21T03:14:38.800Z"
   },
   {
    "duration": 330,
    "start_time": "2022-11-21T03:14:38.808Z"
   },
   {
    "duration": 15,
    "start_time": "2022-11-21T03:14:39.140Z"
   },
   {
    "duration": 294,
    "start_time": "2022-11-21T03:14:39.156Z"
   },
   {
    "duration": 7,
    "start_time": "2022-11-21T03:14:39.453Z"
   },
   {
    "duration": 493,
    "start_time": "2022-11-21T03:14:39.461Z"
   },
   {
    "duration": 263,
    "start_time": "2022-11-21T03:20:48.371Z"
   },
   {
    "duration": 247,
    "start_time": "2022-11-21T03:24:40.862Z"
   },
   {
    "duration": 426,
    "start_time": "2022-11-21T03:25:22.317Z"
   },
   {
    "duration": 344,
    "start_time": "2022-11-21T03:25:37.701Z"
   },
   {
    "duration": 403,
    "start_time": "2022-11-21T03:27:29.488Z"
   },
   {
    "duration": 300,
    "start_time": "2022-11-21T03:28:35.787Z"
   },
   {
    "duration": 333,
    "start_time": "2022-11-21T03:29:25.646Z"
   },
   {
    "duration": 328,
    "start_time": "2022-11-21T03:29:38.971Z"
   },
   {
    "duration": 443,
    "start_time": "2022-11-21T03:29:49.785Z"
   },
   {
    "duration": 371,
    "start_time": "2022-11-21T03:29:55.904Z"
   },
   {
    "duration": 348,
    "start_time": "2022-11-21T03:31:20.270Z"
   },
   {
    "duration": 1158,
    "start_time": "2022-11-21T03:31:25.205Z"
   },
   {
    "duration": 56,
    "start_time": "2022-11-21T03:31:26.365Z"
   },
   {
    "duration": 22,
    "start_time": "2022-11-21T03:31:26.423Z"
   },
   {
    "duration": 16,
    "start_time": "2022-11-21T03:31:26.447Z"
   },
   {
    "duration": 3,
    "start_time": "2022-11-21T03:31:26.465Z"
   },
   {
    "duration": 16,
    "start_time": "2022-11-21T03:31:26.470Z"
   },
   {
    "duration": 10,
    "start_time": "2022-11-21T03:31:26.488Z"
   },
   {
    "duration": 6,
    "start_time": "2022-11-21T03:31:26.500Z"
   },
   {
    "duration": 9,
    "start_time": "2022-11-21T03:31:26.508Z"
   },
   {
    "duration": 33,
    "start_time": "2022-11-21T03:31:26.519Z"
   },
   {
    "duration": 17,
    "start_time": "2022-11-21T03:31:26.554Z"
   },
   {
    "duration": 7,
    "start_time": "2022-11-21T03:31:26.573Z"
   },
   {
    "duration": 9,
    "start_time": "2022-11-21T03:31:26.582Z"
   },
   {
    "duration": 75,
    "start_time": "2022-11-21T03:31:26.594Z"
   },
   {
    "duration": 50,
    "start_time": "2022-11-21T03:31:26.671Z"
   },
   {
    "duration": 5,
    "start_time": "2022-11-21T03:31:26.723Z"
   },
   {
    "duration": 323,
    "start_time": "2022-11-21T03:31:26.730Z"
   },
   {
    "duration": 6,
    "start_time": "2022-11-21T03:31:27.055Z"
   },
   {
    "duration": 262,
    "start_time": "2022-11-21T03:31:27.063Z"
   },
   {
    "duration": 6,
    "start_time": "2022-11-21T03:31:27.326Z"
   },
   {
    "duration": 364,
    "start_time": "2022-11-21T03:31:27.333Z"
   },
   {
    "duration": 326,
    "start_time": "2022-11-21T03:31:27.699Z"
   },
   {
    "duration": 1203,
    "start_time": "2022-11-21T03:31:52.498Z"
   },
   {
    "duration": 56,
    "start_time": "2022-11-21T03:31:53.703Z"
   },
   {
    "duration": 23,
    "start_time": "2022-11-21T03:31:53.761Z"
   },
   {
    "duration": 15,
    "start_time": "2022-11-21T03:31:53.786Z"
   },
   {
    "duration": 3,
    "start_time": "2022-11-21T03:31:53.804Z"
   },
   {
    "duration": 15,
    "start_time": "2022-11-21T03:31:53.808Z"
   },
   {
    "duration": 31,
    "start_time": "2022-11-21T03:31:53.825Z"
   },
   {
    "duration": 6,
    "start_time": "2022-11-21T03:31:53.858Z"
   },
   {
    "duration": 12,
    "start_time": "2022-11-21T03:31:53.866Z"
   },
   {
    "duration": 13,
    "start_time": "2022-11-21T03:31:53.881Z"
   },
   {
    "duration": 22,
    "start_time": "2022-11-21T03:31:53.896Z"
   },
   {
    "duration": 37,
    "start_time": "2022-11-21T03:31:53.920Z"
   },
   {
    "duration": 13,
    "start_time": "2022-11-21T03:31:53.960Z"
   },
   {
    "duration": 83,
    "start_time": "2022-11-21T03:31:53.977Z"
   },
   {
    "duration": 52,
    "start_time": "2022-11-21T03:31:54.061Z"
   },
   {
    "duration": 6,
    "start_time": "2022-11-21T03:31:54.114Z"
   },
   {
    "duration": 356,
    "start_time": "2022-11-21T03:31:54.121Z"
   },
   {
    "duration": 6,
    "start_time": "2022-11-21T03:31:54.479Z"
   },
   {
    "duration": 275,
    "start_time": "2022-11-21T03:31:54.487Z"
   },
   {
    "duration": 6,
    "start_time": "2022-11-21T03:31:54.764Z"
   },
   {
    "duration": 370,
    "start_time": "2022-11-21T03:31:54.772Z"
   },
   {
    "duration": 325,
    "start_time": "2022-11-21T03:31:55.150Z"
   },
   {
    "duration": 1215,
    "start_time": "2022-11-21T03:39:13.471Z"
   },
   {
    "duration": 55,
    "start_time": "2022-11-21T03:39:14.688Z"
   },
   {
    "duration": 20,
    "start_time": "2022-11-21T03:39:14.745Z"
   },
   {
    "duration": 16,
    "start_time": "2022-11-21T03:39:14.767Z"
   },
   {
    "duration": 4,
    "start_time": "2022-11-21T03:39:14.785Z"
   },
   {
    "duration": 17,
    "start_time": "2022-11-21T03:39:14.791Z"
   },
   {
    "duration": 8,
    "start_time": "2022-11-21T03:39:14.810Z"
   },
   {
    "duration": 33,
    "start_time": "2022-11-21T03:39:14.819Z"
   },
   {
    "duration": 14,
    "start_time": "2022-11-21T03:39:14.854Z"
   },
   {
    "duration": 14,
    "start_time": "2022-11-21T03:39:14.870Z"
   },
   {
    "duration": 17,
    "start_time": "2022-11-21T03:39:14.885Z"
   },
   {
    "duration": 8,
    "start_time": "2022-11-21T03:39:14.904Z"
   },
   {
    "duration": 39,
    "start_time": "2022-11-21T03:39:14.913Z"
   },
   {
    "duration": 54,
    "start_time": "2022-11-21T03:39:14.955Z"
   },
   {
    "duration": 73,
    "start_time": "2022-11-21T03:39:15.011Z"
   },
   {
    "duration": 6,
    "start_time": "2022-11-21T03:39:15.085Z"
   },
   {
    "duration": 338,
    "start_time": "2022-11-21T03:39:15.093Z"
   },
   {
    "duration": 7,
    "start_time": "2022-11-21T03:39:15.433Z"
   },
   {
    "duration": 299,
    "start_time": "2022-11-21T03:39:15.451Z"
   },
   {
    "duration": 6,
    "start_time": "2022-11-21T03:39:15.753Z"
   },
   {
    "duration": 400,
    "start_time": "2022-11-21T03:39:15.761Z"
   },
   {
    "duration": 360,
    "start_time": "2022-11-21T03:39:16.164Z"
   },
   {
    "duration": 1194,
    "start_time": "2022-11-21T03:58:40.974Z"
   },
   {
    "duration": 57,
    "start_time": "2022-11-21T03:58:42.169Z"
   },
   {
    "duration": 20,
    "start_time": "2022-11-21T03:58:42.228Z"
   },
   {
    "duration": 15,
    "start_time": "2022-11-21T03:58:42.249Z"
   },
   {
    "duration": 3,
    "start_time": "2022-11-21T03:58:42.266Z"
   },
   {
    "duration": 16,
    "start_time": "2022-11-21T03:58:42.270Z"
   },
   {
    "duration": 8,
    "start_time": "2022-11-21T03:58:42.288Z"
   },
   {
    "duration": 6,
    "start_time": "2022-11-21T03:58:42.297Z"
   },
   {
    "duration": 10,
    "start_time": "2022-11-21T03:58:42.305Z"
   },
   {
    "duration": 36,
    "start_time": "2022-11-21T03:58:42.316Z"
   },
   {
    "duration": 14,
    "start_time": "2022-11-21T03:58:42.354Z"
   },
   {
    "duration": 8,
    "start_time": "2022-11-21T03:58:42.369Z"
   },
   {
    "duration": 11,
    "start_time": "2022-11-21T03:58:42.378Z"
   },
   {
    "duration": 76,
    "start_time": "2022-11-21T03:58:42.393Z"
   },
   {
    "duration": 49,
    "start_time": "2022-11-21T03:58:42.470Z"
   },
   {
    "duration": 7,
    "start_time": "2022-11-21T03:58:42.520Z"
   },
   {
    "duration": 328,
    "start_time": "2022-11-21T03:58:42.529Z"
   },
   {
    "duration": 6,
    "start_time": "2022-11-21T03:58:42.858Z"
   },
   {
    "duration": 264,
    "start_time": "2022-11-21T03:58:42.865Z"
   },
   {
    "duration": 5,
    "start_time": "2022-11-21T03:58:43.131Z"
   },
   {
    "duration": 377,
    "start_time": "2022-11-21T03:58:43.137Z"
   },
   {
    "duration": 340,
    "start_time": "2022-11-21T03:58:43.515Z"
   },
   {
    "duration": 5,
    "start_time": "2022-11-21T03:58:43.857Z"
   },
   {
    "duration": 67,
    "start_time": "2022-11-21T03:58:43.864Z"
   },
   {
    "duration": 227,
    "start_time": "2022-11-21T04:00:06.574Z"
   },
   {
    "duration": 1216,
    "start_time": "2022-11-21T04:00:54.652Z"
   },
   {
    "duration": 52,
    "start_time": "2022-11-21T04:00:55.870Z"
   },
   {
    "duration": 20,
    "start_time": "2022-11-21T04:00:55.924Z"
   },
   {
    "duration": 17,
    "start_time": "2022-11-21T04:00:55.945Z"
   },
   {
    "duration": 2,
    "start_time": "2022-11-21T04:00:55.965Z"
   },
   {
    "duration": 19,
    "start_time": "2022-11-21T04:00:55.969Z"
   },
   {
    "duration": 7,
    "start_time": "2022-11-21T04:00:55.990Z"
   },
   {
    "duration": 6,
    "start_time": "2022-11-21T04:00:55.999Z"
   },
   {
    "duration": 11,
    "start_time": "2022-11-21T04:00:56.006Z"
   },
   {
    "duration": 35,
    "start_time": "2022-11-21T04:00:56.018Z"
   },
   {
    "duration": 16,
    "start_time": "2022-11-21T04:00:56.055Z"
   },
   {
    "duration": 9,
    "start_time": "2022-11-21T04:00:56.073Z"
   },
   {
    "duration": 10,
    "start_time": "2022-11-21T04:00:56.084Z"
   },
   {
    "duration": 95,
    "start_time": "2022-11-21T04:00:56.098Z"
   },
   {
    "duration": 68,
    "start_time": "2022-11-21T04:00:56.196Z"
   },
   {
    "duration": 8,
    "start_time": "2022-11-21T04:00:56.265Z"
   },
   {
    "duration": 323,
    "start_time": "2022-11-21T04:00:56.275Z"
   },
   {
    "duration": 6,
    "start_time": "2022-11-21T04:00:56.600Z"
   },
   {
    "duration": 258,
    "start_time": "2022-11-21T04:00:56.608Z"
   },
   {
    "duration": 5,
    "start_time": "2022-11-21T04:00:56.868Z"
   },
   {
    "duration": 373,
    "start_time": "2022-11-21T04:00:56.874Z"
   },
   {
    "duration": 350,
    "start_time": "2022-11-21T04:00:57.251Z"
   },
   {
    "duration": 5,
    "start_time": "2022-11-21T04:00:57.603Z"
   },
   {
    "duration": 246,
    "start_time": "2022-11-21T04:00:57.609Z"
   },
   {
    "duration": 242,
    "start_time": "2022-11-21T04:02:50.609Z"
   },
   {
    "duration": 258,
    "start_time": "2022-11-21T04:03:34.120Z"
   },
   {
    "duration": 163,
    "start_time": "2022-11-21T04:03:42.194Z"
   },
   {
    "duration": 185,
    "start_time": "2022-11-21T04:03:49.976Z"
   },
   {
    "duration": 208,
    "start_time": "2022-11-21T04:04:51.545Z"
   },
   {
    "duration": 191,
    "start_time": "2022-11-21T04:05:05.531Z"
   },
   {
    "duration": 195,
    "start_time": "2022-11-21T04:05:27.762Z"
   },
   {
    "duration": 190,
    "start_time": "2022-11-21T04:05:39.963Z"
   },
   {
    "duration": 220,
    "start_time": "2022-11-21T04:07:06.250Z"
   },
   {
    "duration": 192,
    "start_time": "2022-11-21T04:07:12.010Z"
   },
   {
    "duration": 208,
    "start_time": "2022-11-21T04:07:21.146Z"
   },
   {
    "duration": 188,
    "start_time": "2022-11-21T04:07:28.778Z"
   },
   {
    "duration": 213,
    "start_time": "2022-11-21T04:07:44.313Z"
   },
   {
    "duration": 282,
    "start_time": "2022-11-21T04:07:47.721Z"
   },
   {
    "duration": 336,
    "start_time": "2022-11-21T04:09:39.896Z"
   },
   {
    "duration": 64,
    "start_time": "2022-11-21T04:11:35.348Z"
   },
   {
    "duration": 6,
    "start_time": "2022-11-21T04:11:39.765Z"
   },
   {
    "duration": 188,
    "start_time": "2022-11-21T04:11:40.990Z"
   },
   {
    "duration": 269,
    "start_time": "2022-11-21T04:11:49.141Z"
   },
   {
    "duration": 11,
    "start_time": "2022-11-21T04:15:22.784Z"
   },
   {
    "duration": 5,
    "start_time": "2022-11-21T04:15:39.459Z"
   },
   {
    "duration": 258,
    "start_time": "2022-11-21T04:15:52.420Z"
   },
   {
    "duration": 11,
    "start_time": "2022-11-21T04:16:02.024Z"
   },
   {
    "duration": 6,
    "start_time": "2022-11-21T04:16:58.076Z"
   },
   {
    "duration": 4,
    "start_time": "2022-11-21T04:17:26.159Z"
   },
   {
    "duration": 195,
    "start_time": "2022-11-21T04:17:26.680Z"
   },
   {
    "duration": 6,
    "start_time": "2022-11-21T04:17:27.851Z"
   },
   {
    "duration": 1242,
    "start_time": "2022-11-21T04:17:32.832Z"
   },
   {
    "duration": 53,
    "start_time": "2022-11-21T04:17:34.077Z"
   },
   {
    "duration": 21,
    "start_time": "2022-11-21T04:17:34.132Z"
   },
   {
    "duration": 15,
    "start_time": "2022-11-21T04:17:34.155Z"
   },
   {
    "duration": 3,
    "start_time": "2022-11-21T04:17:34.172Z"
   },
   {
    "duration": 41,
    "start_time": "2022-11-21T04:17:34.177Z"
   },
   {
    "duration": 14,
    "start_time": "2022-11-21T04:17:34.219Z"
   },
   {
    "duration": 16,
    "start_time": "2022-11-21T04:17:34.235Z"
   },
   {
    "duration": 10,
    "start_time": "2022-11-21T04:17:34.253Z"
   },
   {
    "duration": 13,
    "start_time": "2022-11-21T04:17:34.266Z"
   },
   {
    "duration": 15,
    "start_time": "2022-11-21T04:17:34.281Z"
   },
   {
    "duration": 7,
    "start_time": "2022-11-21T04:17:34.298Z"
   },
   {
    "duration": 9,
    "start_time": "2022-11-21T04:17:34.307Z"
   },
   {
    "duration": 79,
    "start_time": "2022-11-21T04:17:34.318Z"
   },
   {
    "duration": 60,
    "start_time": "2022-11-21T04:17:34.399Z"
   },
   {
    "duration": 5,
    "start_time": "2022-11-21T04:17:34.461Z"
   },
   {
    "duration": 316,
    "start_time": "2022-11-21T04:17:34.468Z"
   },
   {
    "duration": 6,
    "start_time": "2022-11-21T04:17:34.786Z"
   },
   {
    "duration": 265,
    "start_time": "2022-11-21T04:17:34.794Z"
   },
   {
    "duration": 4,
    "start_time": "2022-11-21T04:17:35.061Z"
   },
   {
    "duration": 377,
    "start_time": "2022-11-21T04:17:35.066Z"
   },
   {
    "duration": 323,
    "start_time": "2022-11-21T04:17:35.445Z"
   },
   {
    "duration": 5,
    "start_time": "2022-11-21T04:17:35.769Z"
   },
   {
    "duration": 209,
    "start_time": "2022-11-21T04:17:35.776Z"
   },
   {
    "duration": 6,
    "start_time": "2022-11-21T04:17:35.986Z"
   },
   {
    "duration": 210,
    "start_time": "2022-11-21T04:17:35.994Z"
   },
   {
    "duration": 6,
    "start_time": "2022-11-21T04:19:16.570Z"
   },
   {
    "duration": 1244,
    "start_time": "2022-11-21T04:26:14.040Z"
   },
   {
    "duration": 154,
    "start_time": "2022-11-21T04:26:39.188Z"
   },
   {
    "duration": 73,
    "start_time": "2022-11-21T04:27:01.835Z"
   },
   {
    "duration": 1148,
    "start_time": "2022-11-21T04:37:47.233Z"
   },
   {
    "duration": 60,
    "start_time": "2022-11-21T04:37:48.383Z"
   },
   {
    "duration": 23,
    "start_time": "2022-11-21T04:37:48.445Z"
   },
   {
    "duration": 16,
    "start_time": "2022-11-21T04:37:48.469Z"
   },
   {
    "duration": 3,
    "start_time": "2022-11-21T04:37:48.488Z"
   },
   {
    "duration": 17,
    "start_time": "2022-11-21T04:37:48.492Z"
   },
   {
    "duration": 9,
    "start_time": "2022-11-21T04:37:48.511Z"
   },
   {
    "duration": 4,
    "start_time": "2022-11-21T04:37:48.522Z"
   },
   {
    "duration": 10,
    "start_time": "2022-11-21T04:37:48.551Z"
   },
   {
    "duration": 17,
    "start_time": "2022-11-21T04:37:48.563Z"
   },
   {
    "duration": 20,
    "start_time": "2022-11-21T04:37:48.582Z"
   },
   {
    "duration": 9,
    "start_time": "2022-11-21T04:37:48.604Z"
   },
   {
    "duration": 17,
    "start_time": "2022-11-21T04:37:48.615Z"
   },
   {
    "duration": 52,
    "start_time": "2022-11-21T04:37:48.652Z"
   },
   {
    "duration": 58,
    "start_time": "2022-11-21T04:37:48.706Z"
   },
   {
    "duration": 6,
    "start_time": "2022-11-21T04:37:48.766Z"
   },
   {
    "duration": 316,
    "start_time": "2022-11-21T04:37:48.773Z"
   },
   {
    "duration": 6,
    "start_time": "2022-11-21T04:37:49.090Z"
   },
   {
    "duration": 294,
    "start_time": "2022-11-21T04:37:49.098Z"
   },
   {
    "duration": 6,
    "start_time": "2022-11-21T04:37:49.394Z"
   },
   {
    "duration": 412,
    "start_time": "2022-11-21T04:37:49.402Z"
   },
   {
    "duration": 338,
    "start_time": "2022-11-21T04:37:49.816Z"
   },
   {
    "duration": 5,
    "start_time": "2022-11-21T04:37:50.156Z"
   },
   {
    "duration": 216,
    "start_time": "2022-11-21T04:37:50.163Z"
   },
   {
    "duration": 6,
    "start_time": "2022-11-21T04:37:50.381Z"
   },
   {
    "duration": 206,
    "start_time": "2022-11-21T04:37:50.388Z"
   },
   {
    "duration": 6,
    "start_time": "2022-11-21T04:37:50.596Z"
   },
   {
    "duration": 83,
    "start_time": "2022-11-21T04:37:50.604Z"
   },
   {
    "duration": 75,
    "start_time": "2022-11-21T04:39:58.336Z"
   },
   {
    "duration": 70,
    "start_time": "2022-11-21T04:40:11.184Z"
   },
   {
    "duration": 66,
    "start_time": "2022-11-21T04:40:25.604Z"
   },
   {
    "duration": 77,
    "start_time": "2022-11-21T04:40:44.783Z"
   },
   {
    "duration": 146,
    "start_time": "2022-11-21T04:41:20.289Z"
   },
   {
    "duration": 65,
    "start_time": "2022-11-21T04:41:34.870Z"
   },
   {
    "duration": 67,
    "start_time": "2022-11-21T04:42:19.365Z"
   },
   {
    "duration": 77,
    "start_time": "2022-11-21T04:42:42.848Z"
   },
   {
    "duration": 76,
    "start_time": "2022-11-21T04:42:49.785Z"
   },
   {
    "duration": 129,
    "start_time": "2022-11-21T04:56:27.965Z"
   },
   {
    "duration": 27,
    "start_time": "2022-11-21T04:56:40.065Z"
   },
   {
    "duration": 8,
    "start_time": "2022-11-21T04:56:47.929Z"
   },
   {
    "duration": 8,
    "start_time": "2022-11-21T04:56:56.534Z"
   },
   {
    "duration": 78,
    "start_time": "2022-11-21T04:58:11.790Z"
   },
   {
    "duration": 76,
    "start_time": "2022-11-21T04:58:21.318Z"
   },
   {
    "duration": 84,
    "start_time": "2022-11-21T04:58:37.872Z"
   },
   {
    "duration": 92,
    "start_time": "2022-11-21T04:58:49.018Z"
   },
   {
    "duration": 1242,
    "start_time": "2022-11-21T05:00:06.765Z"
   },
   {
    "duration": 56,
    "start_time": "2022-11-21T05:00:08.009Z"
   },
   {
    "duration": 22,
    "start_time": "2022-11-21T05:00:08.067Z"
   },
   {
    "duration": 17,
    "start_time": "2022-11-21T05:00:08.091Z"
   },
   {
    "duration": 11,
    "start_time": "2022-11-21T05:00:08.111Z"
   },
   {
    "duration": 38,
    "start_time": "2022-11-21T05:00:08.124Z"
   },
   {
    "duration": 12,
    "start_time": "2022-11-21T05:00:08.171Z"
   },
   {
    "duration": 15,
    "start_time": "2022-11-21T05:00:08.186Z"
   },
   {
    "duration": 19,
    "start_time": "2022-11-21T05:00:08.203Z"
   },
   {
    "duration": 27,
    "start_time": "2022-11-21T05:00:08.225Z"
   },
   {
    "duration": 25,
    "start_time": "2022-11-21T05:00:08.255Z"
   },
   {
    "duration": 8,
    "start_time": "2022-11-21T05:00:08.282Z"
   },
   {
    "duration": 17,
    "start_time": "2022-11-21T05:00:08.291Z"
   },
   {
    "duration": 76,
    "start_time": "2022-11-21T05:00:08.309Z"
   },
   {
    "duration": 51,
    "start_time": "2022-11-21T05:00:08.387Z"
   },
   {
    "duration": 14,
    "start_time": "2022-11-21T05:00:08.440Z"
   },
   {
    "duration": 353,
    "start_time": "2022-11-21T05:00:08.456Z"
   },
   {
    "duration": 5,
    "start_time": "2022-11-21T05:00:08.811Z"
   },
   {
    "duration": 282,
    "start_time": "2022-11-21T05:00:08.818Z"
   },
   {
    "duration": 5,
    "start_time": "2022-11-21T05:00:09.102Z"
   },
   {
    "duration": 407,
    "start_time": "2022-11-21T05:00:09.108Z"
   },
   {
    "duration": 458,
    "start_time": "2022-11-21T05:00:09.517Z"
   },
   {
    "duration": 5,
    "start_time": "2022-11-21T05:00:09.977Z"
   },
   {
    "duration": 225,
    "start_time": "2022-11-21T05:00:09.984Z"
   },
   {
    "duration": 7,
    "start_time": "2022-11-21T05:00:10.211Z"
   },
   {
    "duration": 206,
    "start_time": "2022-11-21T05:00:10.220Z"
   },
   {
    "duration": 6,
    "start_time": "2022-11-21T05:00:10.428Z"
   },
   {
    "duration": 80,
    "start_time": "2022-11-21T05:00:10.450Z"
   },
   {
    "duration": 87,
    "start_time": "2022-11-21T05:00:48.712Z"
   },
   {
    "duration": 1179,
    "start_time": "2022-11-21T05:00:54.381Z"
   },
   {
    "duration": 55,
    "start_time": "2022-11-21T05:00:55.562Z"
   },
   {
    "duration": 21,
    "start_time": "2022-11-21T05:00:55.619Z"
   },
   {
    "duration": 14,
    "start_time": "2022-11-21T05:00:55.642Z"
   },
   {
    "duration": 3,
    "start_time": "2022-11-21T05:00:55.658Z"
   },
   {
    "duration": 16,
    "start_time": "2022-11-21T05:00:55.662Z"
   },
   {
    "duration": 6,
    "start_time": "2022-11-21T05:00:55.680Z"
   },
   {
    "duration": 4,
    "start_time": "2022-11-21T05:00:55.688Z"
   },
   {
    "duration": 11,
    "start_time": "2022-11-21T05:00:55.694Z"
   },
   {
    "duration": 14,
    "start_time": "2022-11-21T05:00:55.707Z"
   },
   {
    "duration": 36,
    "start_time": "2022-11-21T05:00:55.722Z"
   },
   {
    "duration": 8,
    "start_time": "2022-11-21T05:00:55.759Z"
   },
   {
    "duration": 9,
    "start_time": "2022-11-21T05:00:55.769Z"
   },
   {
    "duration": 70,
    "start_time": "2022-11-21T05:00:55.781Z"
   },
   {
    "duration": 49,
    "start_time": "2022-11-21T05:00:55.853Z"
   },
   {
    "duration": 5,
    "start_time": "2022-11-21T05:00:55.904Z"
   },
   {
    "duration": 328,
    "start_time": "2022-11-21T05:00:55.911Z"
   },
   {
    "duration": 10,
    "start_time": "2022-11-21T05:00:56.240Z"
   },
   {
    "duration": 256,
    "start_time": "2022-11-21T05:00:56.252Z"
   },
   {
    "duration": 5,
    "start_time": "2022-11-21T05:00:56.509Z"
   },
   {
    "duration": 352,
    "start_time": "2022-11-21T05:00:56.515Z"
   },
   {
    "duration": 312,
    "start_time": "2022-11-21T05:00:56.868Z"
   },
   {
    "duration": 5,
    "start_time": "2022-11-21T05:00:57.181Z"
   },
   {
    "duration": 209,
    "start_time": "2022-11-21T05:00:57.187Z"
   },
   {
    "duration": 6,
    "start_time": "2022-11-21T05:00:57.398Z"
   },
   {
    "duration": 197,
    "start_time": "2022-11-21T05:00:57.406Z"
   },
   {
    "duration": 5,
    "start_time": "2022-11-21T05:00:57.605Z"
   },
   {
    "duration": 87,
    "start_time": "2022-11-21T05:00:57.611Z"
   },
   {
    "duration": 79,
    "start_time": "2022-11-21T05:01:19.372Z"
   },
   {
    "duration": 76,
    "start_time": "2022-11-21T05:01:30.394Z"
   },
   {
    "duration": 159,
    "start_time": "2022-11-21T05:01:39.294Z"
   },
   {
    "duration": 74,
    "start_time": "2022-11-21T05:01:48.954Z"
   },
   {
    "duration": 75,
    "start_time": "2022-11-21T05:01:53.359Z"
   },
   {
    "duration": 1165,
    "start_time": "2022-11-21T05:02:50.908Z"
   },
   {
    "duration": 55,
    "start_time": "2022-11-21T05:02:52.075Z"
   },
   {
    "duration": 23,
    "start_time": "2022-11-21T05:02:52.131Z"
   },
   {
    "duration": 17,
    "start_time": "2022-11-21T05:02:52.156Z"
   },
   {
    "duration": 3,
    "start_time": "2022-11-21T05:02:52.175Z"
   },
   {
    "duration": 23,
    "start_time": "2022-11-21T05:02:52.180Z"
   },
   {
    "duration": 11,
    "start_time": "2022-11-21T05:02:52.205Z"
   },
   {
    "duration": 5,
    "start_time": "2022-11-21T05:02:52.218Z"
   },
   {
    "duration": 28,
    "start_time": "2022-11-21T05:02:52.225Z"
   },
   {
    "duration": 10,
    "start_time": "2022-11-21T05:02:52.256Z"
   },
   {
    "duration": 15,
    "start_time": "2022-11-21T05:02:52.268Z"
   },
   {
    "duration": 8,
    "start_time": "2022-11-21T05:02:52.285Z"
   },
   {
    "duration": 11,
    "start_time": "2022-11-21T05:02:52.295Z"
   },
   {
    "duration": 89,
    "start_time": "2022-11-21T05:02:52.308Z"
   },
   {
    "duration": 60,
    "start_time": "2022-11-21T05:02:52.399Z"
   },
   {
    "duration": 7,
    "start_time": "2022-11-21T05:02:52.461Z"
   },
   {
    "duration": 345,
    "start_time": "2022-11-21T05:02:52.470Z"
   },
   {
    "duration": 6,
    "start_time": "2022-11-21T05:02:52.816Z"
   },
   {
    "duration": 277,
    "start_time": "2022-11-21T05:02:52.824Z"
   },
   {
    "duration": 5,
    "start_time": "2022-11-21T05:02:53.103Z"
   },
   {
    "duration": 375,
    "start_time": "2022-11-21T05:02:53.110Z"
   },
   {
    "duration": 337,
    "start_time": "2022-11-21T05:02:53.487Z"
   },
   {
    "duration": 5,
    "start_time": "2022-11-21T05:02:53.826Z"
   },
   {
    "duration": 235,
    "start_time": "2022-11-21T05:02:53.833Z"
   },
   {
    "duration": 7,
    "start_time": "2022-11-21T05:02:54.069Z"
   },
   {
    "duration": 213,
    "start_time": "2022-11-21T05:02:54.078Z"
   },
   {
    "duration": 5,
    "start_time": "2022-11-21T05:02:54.293Z"
   },
   {
    "duration": 89,
    "start_time": "2022-11-21T05:02:54.301Z"
   },
   {
    "duration": 1494,
    "start_time": "2022-11-22T03:47:17.928Z"
   },
   {
    "duration": 205,
    "start_time": "2022-11-22T03:47:19.425Z"
   },
   {
    "duration": 28,
    "start_time": "2022-11-22T03:47:19.632Z"
   },
   {
    "duration": 19,
    "start_time": "2022-11-22T03:47:19.664Z"
   },
   {
    "duration": 4,
    "start_time": "2022-11-22T03:47:19.685Z"
   },
   {
    "duration": 39,
    "start_time": "2022-11-22T03:47:19.691Z"
   },
   {
    "duration": 19,
    "start_time": "2022-11-22T03:47:19.731Z"
   },
   {
    "duration": 14,
    "start_time": "2022-11-22T03:47:19.753Z"
   },
   {
    "duration": 11,
    "start_time": "2022-11-22T03:47:19.769Z"
   },
   {
    "duration": 19,
    "start_time": "2022-11-22T03:47:19.784Z"
   },
   {
    "duration": 24,
    "start_time": "2022-11-22T03:47:19.805Z"
   },
   {
    "duration": 20,
    "start_time": "2022-11-22T03:47:19.831Z"
   },
   {
    "duration": 17,
    "start_time": "2022-11-22T03:47:19.854Z"
   },
   {
    "duration": 85,
    "start_time": "2022-11-22T03:47:19.874Z"
   },
   {
    "duration": 67,
    "start_time": "2022-11-22T03:47:19.961Z"
   },
   {
    "duration": 22,
    "start_time": "2022-11-22T03:47:20.029Z"
   },
   {
    "duration": 317,
    "start_time": "2022-11-22T03:47:20.053Z"
   },
   {
    "duration": 6,
    "start_time": "2022-11-22T03:47:20.371Z"
   },
   {
    "duration": 290,
    "start_time": "2022-11-22T03:47:20.379Z"
   },
   {
    "duration": 6,
    "start_time": "2022-11-22T03:47:20.672Z"
   },
   {
    "duration": 389,
    "start_time": "2022-11-22T03:47:20.680Z"
   },
   {
    "duration": 335,
    "start_time": "2022-11-22T03:47:21.071Z"
   },
   {
    "duration": 5,
    "start_time": "2022-11-22T03:47:21.409Z"
   },
   {
    "duration": 213,
    "start_time": "2022-11-22T03:47:21.416Z"
   },
   {
    "duration": 7,
    "start_time": "2022-11-22T03:47:21.630Z"
   },
   {
    "duration": 228,
    "start_time": "2022-11-22T03:47:21.638Z"
   },
   {
    "duration": 7,
    "start_time": "2022-11-22T03:47:21.868Z"
   },
   {
    "duration": 117,
    "start_time": "2022-11-22T03:47:21.879Z"
   },
   {
    "duration": 313,
    "start_time": "2022-11-22T03:48:20.052Z"
   },
   {
    "duration": 212,
    "start_time": "2022-11-22T03:48:43.313Z"
   },
   {
    "duration": 221,
    "start_time": "2022-11-22T03:49:01.464Z"
   },
   {
    "duration": 6,
    "start_time": "2022-11-22T03:49:28.401Z"
   },
   {
    "duration": 206,
    "start_time": "2022-11-22T03:49:32.527Z"
   },
   {
    "duration": 225,
    "start_time": "2022-11-22T03:50:15.741Z"
   },
   {
    "duration": 7,
    "start_time": "2022-11-22T03:51:58.332Z"
   },
   {
    "duration": 8,
    "start_time": "2022-11-22T03:52:08.000Z"
   },
   {
    "duration": 8,
    "start_time": "2022-11-22T03:52:14.558Z"
   },
   {
    "duration": 349,
    "start_time": "2022-11-22T03:52:45.048Z"
   },
   {
    "duration": 1215,
    "start_time": "2022-11-22T03:53:34.558Z"
   },
   {
    "duration": 53,
    "start_time": "2022-11-22T03:53:35.775Z"
   },
   {
    "duration": 21,
    "start_time": "2022-11-22T03:53:35.830Z"
   },
   {
    "duration": 17,
    "start_time": "2022-11-22T03:53:35.853Z"
   },
   {
    "duration": 4,
    "start_time": "2022-11-22T03:53:35.873Z"
   },
   {
    "duration": 19,
    "start_time": "2022-11-22T03:53:35.879Z"
   },
   {
    "duration": 7,
    "start_time": "2022-11-22T03:53:35.900Z"
   },
   {
    "duration": 7,
    "start_time": "2022-11-22T03:53:35.909Z"
   },
   {
    "duration": 35,
    "start_time": "2022-11-22T03:53:35.917Z"
   },
   {
    "duration": 11,
    "start_time": "2022-11-22T03:53:35.954Z"
   },
   {
    "duration": 20,
    "start_time": "2022-11-22T03:53:35.967Z"
   },
   {
    "duration": 9,
    "start_time": "2022-11-22T03:53:35.989Z"
   },
   {
    "duration": 22,
    "start_time": "2022-11-22T03:53:36.000Z"
   },
   {
    "duration": 77,
    "start_time": "2022-11-22T03:53:36.026Z"
   },
   {
    "duration": 69,
    "start_time": "2022-11-22T03:53:36.104Z"
   },
   {
    "duration": 6,
    "start_time": "2022-11-22T03:53:36.176Z"
   },
   {
    "duration": 343,
    "start_time": "2022-11-22T03:53:36.184Z"
   },
   {
    "duration": 22,
    "start_time": "2022-11-22T03:53:36.529Z"
   },
   {
    "duration": 265,
    "start_time": "2022-11-22T03:53:36.552Z"
   },
   {
    "duration": 5,
    "start_time": "2022-11-22T03:53:36.819Z"
   },
   {
    "duration": 386,
    "start_time": "2022-11-22T03:53:36.825Z"
   },
   {
    "duration": 363,
    "start_time": "2022-11-22T03:53:37.213Z"
   },
   {
    "duration": 4,
    "start_time": "2022-11-22T03:53:37.578Z"
   },
   {
    "duration": 210,
    "start_time": "2022-11-22T03:53:37.584Z"
   },
   {
    "duration": 6,
    "start_time": "2022-11-22T03:53:37.796Z"
   },
   {
    "duration": 208,
    "start_time": "2022-11-22T03:53:37.803Z"
   },
   {
    "duration": 6,
    "start_time": "2022-11-22T03:53:38.012Z"
   },
   {
    "duration": 91,
    "start_time": "2022-11-22T03:53:38.020Z"
   },
   {
    "duration": 311,
    "start_time": "2022-11-22T03:53:38.113Z"
   },
   {
    "duration": 206,
    "start_time": "2022-11-22T03:53:38.427Z"
   },
   {
    "duration": 171,
    "start_time": "2022-11-22T03:53:59.312Z"
   },
   {
    "duration": 8,
    "start_time": "2022-11-22T03:54:06.371Z"
   },
   {
    "duration": 228,
    "start_time": "2022-11-22T03:54:17.777Z"
   },
   {
    "duration": 223,
    "start_time": "2022-11-22T03:54:25.241Z"
   },
   {
    "duration": 1270,
    "start_time": "2022-11-22T04:00:05.409Z"
   },
   {
    "duration": 58,
    "start_time": "2022-11-22T04:00:06.681Z"
   },
   {
    "duration": 23,
    "start_time": "2022-11-22T04:00:06.740Z"
   },
   {
    "duration": 19,
    "start_time": "2022-11-22T04:00:06.765Z"
   },
   {
    "duration": 4,
    "start_time": "2022-11-22T04:00:06.787Z"
   },
   {
    "duration": 30,
    "start_time": "2022-11-22T04:00:06.793Z"
   },
   {
    "duration": 29,
    "start_time": "2022-11-22T04:00:06.825Z"
   },
   {
    "duration": 7,
    "start_time": "2022-11-22T04:00:06.856Z"
   },
   {
    "duration": 12,
    "start_time": "2022-11-22T04:00:06.865Z"
   },
   {
    "duration": 21,
    "start_time": "2022-11-22T04:00:06.880Z"
   },
   {
    "duration": 23,
    "start_time": "2022-11-22T04:00:06.903Z"
   },
   {
    "duration": 29,
    "start_time": "2022-11-22T04:00:06.929Z"
   },
   {
    "duration": 21,
    "start_time": "2022-11-22T04:00:06.960Z"
   },
   {
    "duration": 79,
    "start_time": "2022-11-22T04:00:06.984Z"
   },
   {
    "duration": 76,
    "start_time": "2022-11-22T04:00:07.065Z"
   },
   {
    "duration": 7,
    "start_time": "2022-11-22T04:00:07.151Z"
   },
   {
    "duration": 345,
    "start_time": "2022-11-22T04:00:07.161Z"
   },
   {
    "duration": 7,
    "start_time": "2022-11-22T04:00:07.507Z"
   },
   {
    "duration": 291,
    "start_time": "2022-11-22T04:00:07.516Z"
   },
   {
    "duration": 7,
    "start_time": "2022-11-22T04:00:07.809Z"
   },
   {
    "duration": 411,
    "start_time": "2022-11-22T04:00:07.818Z"
   },
   {
    "duration": 344,
    "start_time": "2022-11-22T04:00:08.231Z"
   },
   {
    "duration": 5,
    "start_time": "2022-11-22T04:00:08.577Z"
   },
   {
    "duration": 229,
    "start_time": "2022-11-22T04:00:08.584Z"
   },
   {
    "duration": 7,
    "start_time": "2022-11-22T04:00:08.815Z"
   },
   {
    "duration": 216,
    "start_time": "2022-11-22T04:00:08.823Z"
   },
   {
    "duration": 13,
    "start_time": "2022-11-22T04:00:09.041Z"
   },
   {
    "duration": 111,
    "start_time": "2022-11-22T04:00:09.056Z"
   },
   {
    "duration": 362,
    "start_time": "2022-11-22T04:00:09.171Z"
   },
   {
    "duration": 336,
    "start_time": "2022-11-22T04:00:09.535Z"
   },
   {
    "duration": 203,
    "start_time": "2022-11-22T04:02:54.167Z"
   },
   {
    "duration": 152,
    "start_time": "2022-11-22T04:03:24.638Z"
   },
   {
    "duration": 151,
    "start_time": "2022-11-22T04:04:04.434Z"
   },
   {
    "duration": 160,
    "start_time": "2022-11-22T04:04:43.395Z"
   },
   {
    "duration": 1236,
    "start_time": "2022-11-22T04:04:56.324Z"
   },
   {
    "duration": 55,
    "start_time": "2022-11-22T04:04:57.563Z"
   },
   {
    "duration": 22,
    "start_time": "2022-11-22T04:04:57.619Z"
   },
   {
    "duration": 15,
    "start_time": "2022-11-22T04:04:57.642Z"
   },
   {
    "duration": 3,
    "start_time": "2022-11-22T04:04:57.659Z"
   },
   {
    "duration": 17,
    "start_time": "2022-11-22T04:04:57.663Z"
   },
   {
    "duration": 9,
    "start_time": "2022-11-22T04:04:57.681Z"
   },
   {
    "duration": 6,
    "start_time": "2022-11-22T04:04:57.691Z"
   },
   {
    "duration": 8,
    "start_time": "2022-11-22T04:04:57.699Z"
   },
   {
    "duration": 11,
    "start_time": "2022-11-22T04:04:57.709Z"
   },
   {
    "duration": 40,
    "start_time": "2022-11-22T04:04:57.721Z"
   },
   {
    "duration": 8,
    "start_time": "2022-11-22T04:04:57.763Z"
   },
   {
    "duration": 10,
    "start_time": "2022-11-22T04:04:57.773Z"
   },
   {
    "duration": 81,
    "start_time": "2022-11-22T04:04:57.787Z"
   },
   {
    "duration": 48,
    "start_time": "2022-11-22T04:04:57.870Z"
   },
   {
    "duration": 5,
    "start_time": "2022-11-22T04:04:57.920Z"
   },
   {
    "duration": 324,
    "start_time": "2022-11-22T04:04:57.926Z"
   },
   {
    "duration": 6,
    "start_time": "2022-11-22T04:04:58.252Z"
   },
   {
    "duration": 259,
    "start_time": "2022-11-22T04:04:58.260Z"
   },
   {
    "duration": 5,
    "start_time": "2022-11-22T04:04:58.521Z"
   },
   {
    "duration": 381,
    "start_time": "2022-11-22T04:04:58.527Z"
   },
   {
    "duration": 348,
    "start_time": "2022-11-22T04:04:58.910Z"
   },
   {
    "duration": 5,
    "start_time": "2022-11-22T04:04:59.260Z"
   },
   {
    "duration": 215,
    "start_time": "2022-11-22T04:04:59.266Z"
   },
   {
    "duration": 6,
    "start_time": "2022-11-22T04:04:59.483Z"
   },
   {
    "duration": 257,
    "start_time": "2022-11-22T04:04:59.491Z"
   },
   {
    "duration": 7,
    "start_time": "2022-11-22T04:04:59.750Z"
   },
   {
    "duration": 121,
    "start_time": "2022-11-22T04:04:59.759Z"
   },
   {
    "duration": 321,
    "start_time": "2022-11-22T04:04:59.882Z"
   },
   {
    "duration": 258,
    "start_time": "2022-11-22T04:05:00.205Z"
   },
   {
    "duration": 188,
    "start_time": "2022-11-22T04:05:00.465Z"
   },
   {
    "duration": 178,
    "start_time": "2022-11-22T04:08:36.961Z"
   },
   {
    "duration": 1179,
    "start_time": "2022-11-22T04:12:32.100Z"
   },
   {
    "duration": 56,
    "start_time": "2022-11-22T04:12:33.281Z"
   },
   {
    "duration": 21,
    "start_time": "2022-11-22T04:12:33.339Z"
   },
   {
    "duration": 23,
    "start_time": "2022-11-22T04:12:33.362Z"
   },
   {
    "duration": 3,
    "start_time": "2022-11-22T04:12:33.387Z"
   },
   {
    "duration": 20,
    "start_time": "2022-11-22T04:12:33.391Z"
   },
   {
    "duration": 7,
    "start_time": "2022-11-22T04:12:33.413Z"
   },
   {
    "duration": 5,
    "start_time": "2022-11-22T04:12:33.422Z"
   },
   {
    "duration": 28,
    "start_time": "2022-11-22T04:12:33.428Z"
   },
   {
    "duration": 9,
    "start_time": "2022-11-22T04:12:33.460Z"
   },
   {
    "duration": 16,
    "start_time": "2022-11-22T04:12:33.470Z"
   },
   {
    "duration": 7,
    "start_time": "2022-11-22T04:12:33.488Z"
   },
   {
    "duration": 10,
    "start_time": "2022-11-22T04:12:33.496Z"
   },
   {
    "duration": 84,
    "start_time": "2022-11-22T04:12:33.508Z"
   },
   {
    "duration": 58,
    "start_time": "2022-11-22T04:12:33.594Z"
   },
   {
    "duration": 7,
    "start_time": "2022-11-22T04:12:33.653Z"
   },
   {
    "duration": 324,
    "start_time": "2022-11-22T04:12:33.662Z"
   },
   {
    "duration": 6,
    "start_time": "2022-11-22T04:12:33.988Z"
   },
   {
    "duration": 272,
    "start_time": "2022-11-22T04:12:33.996Z"
   },
   {
    "duration": 6,
    "start_time": "2022-11-22T04:12:34.270Z"
   },
   {
    "duration": 368,
    "start_time": "2022-11-22T04:12:34.278Z"
   },
   {
    "duration": 323,
    "start_time": "2022-11-22T04:12:34.651Z"
   },
   {
    "duration": 5,
    "start_time": "2022-11-22T04:12:34.976Z"
   },
   {
    "duration": 213,
    "start_time": "2022-11-22T04:12:34.982Z"
   },
   {
    "duration": 9,
    "start_time": "2022-11-22T04:12:35.197Z"
   },
   {
    "duration": 207,
    "start_time": "2022-11-22T04:12:35.207Z"
   },
   {
    "duration": 5,
    "start_time": "2022-11-22T04:12:35.415Z"
   },
   {
    "duration": 86,
    "start_time": "2022-11-22T04:12:35.423Z"
   },
   {
    "duration": 298,
    "start_time": "2022-11-22T04:12:35.510Z"
   },
   {
    "duration": 225,
    "start_time": "2022-11-22T04:12:35.810Z"
   },
   {
    "duration": 185,
    "start_time": "2022-11-22T04:12:36.038Z"
   },
   {
    "duration": 179,
    "start_time": "2022-11-22T04:12:36.224Z"
   },
   {
    "duration": 17975,
    "start_time": "2022-11-22T04:22:10.732Z"
   },
   {
    "duration": 172,
    "start_time": "2022-11-22T04:22:37.066Z"
   },
   {
    "duration": 220,
    "start_time": "2022-11-22T04:23:19.677Z"
   },
   {
    "duration": 189,
    "start_time": "2022-11-22T04:23:41.325Z"
   },
   {
    "duration": 1334,
    "start_time": "2022-11-22T04:28:54.721Z"
   },
   {
    "duration": 55,
    "start_time": "2022-11-22T04:28:56.057Z"
   },
   {
    "duration": 22,
    "start_time": "2022-11-22T04:28:56.114Z"
   },
   {
    "duration": 17,
    "start_time": "2022-11-22T04:28:56.138Z"
   },
   {
    "duration": 4,
    "start_time": "2022-11-22T04:28:56.158Z"
   },
   {
    "duration": 24,
    "start_time": "2022-11-22T04:28:56.164Z"
   },
   {
    "duration": 14,
    "start_time": "2022-11-22T04:28:56.190Z"
   },
   {
    "duration": 10,
    "start_time": "2022-11-22T04:28:56.206Z"
   },
   {
    "duration": 14,
    "start_time": "2022-11-22T04:28:56.218Z"
   },
   {
    "duration": 27,
    "start_time": "2022-11-22T04:28:56.234Z"
   },
   {
    "duration": 16,
    "start_time": "2022-11-22T04:28:56.263Z"
   },
   {
    "duration": 8,
    "start_time": "2022-11-22T04:28:56.281Z"
   },
   {
    "duration": 9,
    "start_time": "2022-11-22T04:28:56.291Z"
   },
   {
    "duration": 90,
    "start_time": "2022-11-22T04:28:56.304Z"
   },
   {
    "duration": 62,
    "start_time": "2022-11-22T04:28:56.396Z"
   },
   {
    "duration": 7,
    "start_time": "2022-11-22T04:28:56.460Z"
   },
   {
    "duration": 366,
    "start_time": "2022-11-22T04:28:56.468Z"
   },
   {
    "duration": 6,
    "start_time": "2022-11-22T04:28:56.836Z"
   },
   {
    "duration": 283,
    "start_time": "2022-11-22T04:28:56.850Z"
   },
   {
    "duration": 18,
    "start_time": "2022-11-22T04:28:57.134Z"
   },
   {
    "duration": 375,
    "start_time": "2022-11-22T04:28:57.154Z"
   },
   {
    "duration": 348,
    "start_time": "2022-11-22T04:28:57.531Z"
   },
   {
    "duration": 5,
    "start_time": "2022-11-22T04:28:57.881Z"
   },
   {
    "duration": 220,
    "start_time": "2022-11-22T04:28:57.888Z"
   },
   {
    "duration": 7,
    "start_time": "2022-11-22T04:28:58.110Z"
   },
   {
    "duration": 225,
    "start_time": "2022-11-22T04:28:58.119Z"
   },
   {
    "duration": 10,
    "start_time": "2022-11-22T04:28:58.346Z"
   },
   {
    "duration": 99,
    "start_time": "2022-11-22T04:28:58.358Z"
   },
   {
    "duration": 321,
    "start_time": "2022-11-22T04:28:58.459Z"
   },
   {
    "duration": 243,
    "start_time": "2022-11-22T04:28:58.781Z"
   },
   {
    "duration": 192,
    "start_time": "2022-11-22T04:28:59.025Z"
   },
   {
    "duration": 191,
    "start_time": "2022-11-22T04:28:59.219Z"
   },
   {
    "duration": 211,
    "start_time": "2022-11-22T04:28:59.412Z"
   },
   {
    "duration": 182,
    "start_time": "2022-11-22T04:30:12.600Z"
   },
   {
    "duration": 183,
    "start_time": "2022-11-22T04:33:50.209Z"
   },
   {
    "duration": 1350,
    "start_time": "2022-11-22T04:36:59.470Z"
   },
   {
    "duration": 57,
    "start_time": "2022-11-22T04:37:00.822Z"
   },
   {
    "duration": 21,
    "start_time": "2022-11-22T04:37:00.880Z"
   },
   {
    "duration": 18,
    "start_time": "2022-11-22T04:37:00.903Z"
   },
   {
    "duration": 5,
    "start_time": "2022-11-22T04:37:00.923Z"
   },
   {
    "duration": 35,
    "start_time": "2022-11-22T04:37:00.929Z"
   },
   {
    "duration": 30,
    "start_time": "2022-11-22T04:37:00.966Z"
   },
   {
    "duration": 10,
    "start_time": "2022-11-22T04:37:00.998Z"
   },
   {
    "duration": 22,
    "start_time": "2022-11-22T04:37:01.010Z"
   },
   {
    "duration": 25,
    "start_time": "2022-11-22T04:37:01.034Z"
   },
   {
    "duration": 19,
    "start_time": "2022-11-22T04:37:01.061Z"
   },
   {
    "duration": 11,
    "start_time": "2022-11-22T04:37:01.082Z"
   },
   {
    "duration": 15,
    "start_time": "2022-11-22T04:37:01.094Z"
   },
   {
    "duration": 96,
    "start_time": "2022-11-22T04:37:01.112Z"
   },
   {
    "duration": 55,
    "start_time": "2022-11-22T04:37:01.210Z"
   },
   {
    "duration": 5,
    "start_time": "2022-11-22T04:37:01.267Z"
   },
   {
    "duration": 334,
    "start_time": "2022-11-22T04:37:01.274Z"
   },
   {
    "duration": 7,
    "start_time": "2022-11-22T04:37:01.610Z"
   },
   {
    "duration": 270,
    "start_time": "2022-11-22T04:37:01.618Z"
   },
   {
    "duration": 6,
    "start_time": "2022-11-22T04:37:01.890Z"
   },
   {
    "duration": 394,
    "start_time": "2022-11-22T04:37:01.898Z"
   },
   {
    "duration": 340,
    "start_time": "2022-11-22T04:37:02.297Z"
   },
   {
    "duration": 13,
    "start_time": "2022-11-22T04:37:02.638Z"
   },
   {
    "duration": 207,
    "start_time": "2022-11-22T04:37:02.653Z"
   },
   {
    "duration": 7,
    "start_time": "2022-11-22T04:37:02.862Z"
   },
   {
    "duration": 213,
    "start_time": "2022-11-22T04:37:02.871Z"
   },
   {
    "duration": 6,
    "start_time": "2022-11-22T04:37:03.085Z"
   },
   {
    "duration": 95,
    "start_time": "2022-11-22T04:37:03.093Z"
   },
   {
    "duration": 315,
    "start_time": "2022-11-22T04:37:03.190Z"
   },
   {
    "duration": 238,
    "start_time": "2022-11-22T04:37:03.506Z"
   },
   {
    "duration": 186,
    "start_time": "2022-11-22T04:37:03.746Z"
   },
   {
    "duration": 190,
    "start_time": "2022-11-22T04:37:03.934Z"
   },
   {
    "duration": 187,
    "start_time": "2022-11-22T04:37:04.125Z"
   },
   {
    "duration": 191,
    "start_time": "2022-11-22T04:37:04.314Z"
   },
   {
    "duration": 197,
    "start_time": "2022-11-22T04:37:04.507Z"
   },
   {
    "duration": 191,
    "start_time": "2022-11-22T04:37:04.706Z"
   },
   {
    "duration": 1251,
    "start_time": "2022-11-22T04:40:12.923Z"
   },
   {
    "duration": 77,
    "start_time": "2022-11-22T04:40:14.177Z"
   },
   {
    "duration": 22,
    "start_time": "2022-11-22T04:40:14.256Z"
   },
   {
    "duration": 15,
    "start_time": "2022-11-22T04:40:14.280Z"
   },
   {
    "duration": 5,
    "start_time": "2022-11-22T04:40:14.298Z"
   },
   {
    "duration": 18,
    "start_time": "2022-11-22T04:40:14.305Z"
   },
   {
    "duration": 29,
    "start_time": "2022-11-22T04:40:14.325Z"
   },
   {
    "duration": 4,
    "start_time": "2022-11-22T04:40:14.356Z"
   },
   {
    "duration": 19,
    "start_time": "2022-11-22T04:40:14.362Z"
   },
   {
    "duration": 14,
    "start_time": "2022-11-22T04:40:14.383Z"
   },
   {
    "duration": 19,
    "start_time": "2022-11-22T04:40:14.399Z"
   },
   {
    "duration": 8,
    "start_time": "2022-11-22T04:40:14.419Z"
   },
   {
    "duration": 29,
    "start_time": "2022-11-22T04:40:14.429Z"
   },
   {
    "duration": 56,
    "start_time": "2022-11-22T04:40:14.462Z"
   },
   {
    "duration": 66,
    "start_time": "2022-11-22T04:40:14.520Z"
   },
   {
    "duration": 6,
    "start_time": "2022-11-22T04:40:14.588Z"
   },
   {
    "duration": 329,
    "start_time": "2022-11-22T04:40:14.596Z"
   },
   {
    "duration": 6,
    "start_time": "2022-11-22T04:40:14.928Z"
   },
   {
    "duration": 288,
    "start_time": "2022-11-22T04:40:14.935Z"
   },
   {
    "duration": 5,
    "start_time": "2022-11-22T04:40:15.225Z"
   },
   {
    "duration": 387,
    "start_time": "2022-11-22T04:40:15.232Z"
   },
   {
    "duration": 337,
    "start_time": "2022-11-22T04:40:15.621Z"
   },
   {
    "duration": 5,
    "start_time": "2022-11-22T04:40:15.960Z"
   },
   {
    "duration": 228,
    "start_time": "2022-11-22T04:40:15.966Z"
   },
   {
    "duration": 6,
    "start_time": "2022-11-22T04:40:16.196Z"
   },
   {
    "duration": 213,
    "start_time": "2022-11-22T04:40:16.203Z"
   },
   {
    "duration": 6,
    "start_time": "2022-11-22T04:40:16.418Z"
   },
   {
    "duration": 95,
    "start_time": "2022-11-22T04:40:16.425Z"
   },
   {
    "duration": 320,
    "start_time": "2022-11-22T04:40:16.521Z"
   },
   {
    "duration": 244,
    "start_time": "2022-11-22T04:40:16.843Z"
   },
   {
    "duration": 186,
    "start_time": "2022-11-22T04:40:17.089Z"
   },
   {
    "duration": 213,
    "start_time": "2022-11-22T04:40:17.277Z"
   },
   {
    "duration": 209,
    "start_time": "2022-11-22T04:40:17.491Z"
   },
   {
    "duration": 208,
    "start_time": "2022-11-22T04:40:17.701Z"
   },
   {
    "duration": 201,
    "start_time": "2022-11-22T04:40:17.911Z"
   },
   {
    "duration": 201,
    "start_time": "2022-11-22T04:40:18.114Z"
   },
   {
    "duration": 178,
    "start_time": "2022-11-22T04:40:18.316Z"
   },
   {
    "duration": 197,
    "start_time": "2022-11-22T04:40:18.495Z"
   },
   {
    "duration": 195,
    "start_time": "2022-11-22T04:40:18.695Z"
   },
   {
    "duration": 1268,
    "start_time": "2022-11-22T04:48:44.652Z"
   },
   {
    "duration": 59,
    "start_time": "2022-11-22T04:48:45.922Z"
   },
   {
    "duration": 22,
    "start_time": "2022-11-22T04:48:45.983Z"
   },
   {
    "duration": 24,
    "start_time": "2022-11-22T04:48:46.006Z"
   },
   {
    "duration": 10,
    "start_time": "2022-11-22T04:48:46.032Z"
   },
   {
    "duration": 32,
    "start_time": "2022-11-22T04:48:46.043Z"
   },
   {
    "duration": 43,
    "start_time": "2022-11-22T04:48:46.076Z"
   },
   {
    "duration": 18,
    "start_time": "2022-11-22T04:48:46.121Z"
   },
   {
    "duration": 18,
    "start_time": "2022-11-22T04:48:46.141Z"
   },
   {
    "duration": 25,
    "start_time": "2022-11-22T04:48:46.161Z"
   },
   {
    "duration": 43,
    "start_time": "2022-11-22T04:48:46.188Z"
   },
   {
    "duration": 12,
    "start_time": "2022-11-22T04:48:46.233Z"
   },
   {
    "duration": 28,
    "start_time": "2022-11-22T04:48:46.247Z"
   },
   {
    "duration": 77,
    "start_time": "2022-11-22T04:48:46.279Z"
   },
   {
    "duration": 53,
    "start_time": "2022-11-22T04:48:46.358Z"
   },
   {
    "duration": 7,
    "start_time": "2022-11-22T04:48:46.413Z"
   },
   {
    "duration": 359,
    "start_time": "2022-11-22T04:48:46.422Z"
   },
   {
    "duration": 7,
    "start_time": "2022-11-22T04:48:46.783Z"
   },
   {
    "duration": 293,
    "start_time": "2022-11-22T04:48:46.791Z"
   },
   {
    "duration": 6,
    "start_time": "2022-11-22T04:48:47.086Z"
   },
   {
    "duration": 406,
    "start_time": "2022-11-22T04:48:47.094Z"
   },
   {
    "duration": 363,
    "start_time": "2022-11-22T04:48:47.502Z"
   },
   {
    "duration": 5,
    "start_time": "2022-11-22T04:48:47.867Z"
   },
   {
    "duration": 225,
    "start_time": "2022-11-22T04:48:47.873Z"
   },
   {
    "duration": 6,
    "start_time": "2022-11-22T04:48:48.100Z"
   },
   {
    "duration": 239,
    "start_time": "2022-11-22T04:48:48.107Z"
   },
   {
    "duration": 5,
    "start_time": "2022-11-22T04:48:48.350Z"
   },
   {
    "duration": 94,
    "start_time": "2022-11-22T04:48:48.357Z"
   },
   {
    "duration": 325,
    "start_time": "2022-11-22T04:48:48.453Z"
   },
   {
    "duration": 244,
    "start_time": "2022-11-22T04:48:48.780Z"
   },
   {
    "duration": 214,
    "start_time": "2022-11-22T04:48:49.026Z"
   },
   {
    "duration": 199,
    "start_time": "2022-11-22T04:48:49.242Z"
   },
   {
    "duration": 221,
    "start_time": "2022-11-22T04:48:49.443Z"
   },
   {
    "duration": 235,
    "start_time": "2022-11-22T04:48:49.666Z"
   },
   {
    "duration": 232,
    "start_time": "2022-11-22T04:48:49.903Z"
   },
   {
    "duration": 196,
    "start_time": "2022-11-22T04:48:50.136Z"
   },
   {
    "duration": 180,
    "start_time": "2022-11-22T04:48:50.334Z"
   },
   {
    "duration": 213,
    "start_time": "2022-11-22T04:48:50.516Z"
   },
   {
    "duration": 204,
    "start_time": "2022-11-22T04:48:50.730Z"
   },
   {
    "duration": 253,
    "start_time": "2022-11-22T05:11:26.136Z"
   },
   {
    "duration": 159,
    "start_time": "2022-11-22T05:11:44.730Z"
   },
   {
    "duration": 173,
    "start_time": "2022-11-22T05:12:11.225Z"
   },
   {
    "duration": 168,
    "start_time": "2022-11-22T05:12:15.206Z"
   },
   {
    "duration": 204,
    "start_time": "2022-11-22T05:12:19.004Z"
   },
   {
    "duration": 169,
    "start_time": "2022-11-22T05:12:22.808Z"
   },
   {
    "duration": 168,
    "start_time": "2022-11-22T05:12:45.487Z"
   },
   {
    "duration": 1223,
    "start_time": "2022-11-22T05:15:41.170Z"
   },
   {
    "duration": 55,
    "start_time": "2022-11-22T05:15:42.395Z"
   },
   {
    "duration": 21,
    "start_time": "2022-11-22T05:15:42.452Z"
   },
   {
    "duration": 27,
    "start_time": "2022-11-22T05:15:42.475Z"
   },
   {
    "duration": 13,
    "start_time": "2022-11-22T05:15:42.504Z"
   },
   {
    "duration": 30,
    "start_time": "2022-11-22T05:15:42.519Z"
   },
   {
    "duration": 29,
    "start_time": "2022-11-22T05:15:42.551Z"
   },
   {
    "duration": 26,
    "start_time": "2022-11-22T05:15:42.582Z"
   },
   {
    "duration": 17,
    "start_time": "2022-11-22T05:15:42.610Z"
   },
   {
    "duration": 34,
    "start_time": "2022-11-22T05:15:42.631Z"
   },
   {
    "duration": 26,
    "start_time": "2022-11-22T05:15:42.667Z"
   },
   {
    "duration": 21,
    "start_time": "2022-11-22T05:15:42.695Z"
   },
   {
    "duration": 19,
    "start_time": "2022-11-22T05:15:42.718Z"
   },
   {
    "duration": 69,
    "start_time": "2022-11-22T05:15:42.738Z"
   },
   {
    "duration": 55,
    "start_time": "2022-11-22T05:15:42.809Z"
   },
   {
    "duration": 7,
    "start_time": "2022-11-22T05:15:42.866Z"
   },
   {
    "duration": 334,
    "start_time": "2022-11-22T05:15:42.874Z"
   },
   {
    "duration": 6,
    "start_time": "2022-11-22T05:15:43.209Z"
   },
   {
    "duration": 275,
    "start_time": "2022-11-22T05:15:43.217Z"
   },
   {
    "duration": 5,
    "start_time": "2022-11-22T05:15:43.493Z"
   },
   {
    "duration": 381,
    "start_time": "2022-11-22T05:15:43.500Z"
   },
   {
    "duration": 356,
    "start_time": "2022-11-22T05:15:43.882Z"
   },
   {
    "duration": 10,
    "start_time": "2022-11-22T05:15:44.240Z"
   },
   {
    "duration": 208,
    "start_time": "2022-11-22T05:15:44.252Z"
   },
   {
    "duration": 6,
    "start_time": "2022-11-22T05:15:44.462Z"
   },
   {
    "duration": 210,
    "start_time": "2022-11-22T05:15:44.469Z"
   },
   {
    "duration": 5,
    "start_time": "2022-11-22T05:15:44.681Z"
   },
   {
    "duration": 93,
    "start_time": "2022-11-22T05:15:44.689Z"
   },
   {
    "duration": 294,
    "start_time": "2022-11-22T05:15:44.784Z"
   },
   {
    "duration": 224,
    "start_time": "2022-11-22T05:15:45.080Z"
   },
   {
    "duration": 162,
    "start_time": "2022-11-22T05:15:45.306Z"
   },
   {
    "duration": 173,
    "start_time": "2022-11-22T05:15:45.470Z"
   },
   {
    "duration": 180,
    "start_time": "2022-11-22T05:15:45.644Z"
   },
   {
    "duration": 184,
    "start_time": "2022-11-22T05:15:45.825Z"
   },
   {
    "duration": 198,
    "start_time": "2022-11-22T05:15:46.011Z"
   },
   {
    "duration": 165,
    "start_time": "2022-11-22T05:15:46.211Z"
   },
   {
    "duration": 172,
    "start_time": "2022-11-22T05:15:46.378Z"
   },
   {
    "duration": 193,
    "start_time": "2022-11-22T05:15:46.552Z"
   },
   {
    "duration": 170,
    "start_time": "2022-11-22T05:15:46.751Z"
   },
   {
    "duration": 1202,
    "start_time": "2022-11-22T05:16:37.276Z"
   },
   {
    "duration": 54,
    "start_time": "2022-11-22T05:16:38.480Z"
   },
   {
    "duration": 22,
    "start_time": "2022-11-22T05:16:38.536Z"
   },
   {
    "duration": 22,
    "start_time": "2022-11-22T05:16:38.560Z"
   },
   {
    "duration": 3,
    "start_time": "2022-11-22T05:16:38.584Z"
   },
   {
    "duration": 19,
    "start_time": "2022-11-22T05:16:38.589Z"
   },
   {
    "duration": 8,
    "start_time": "2022-11-22T05:16:38.609Z"
   },
   {
    "duration": 5,
    "start_time": "2022-11-22T05:16:38.619Z"
   },
   {
    "duration": 27,
    "start_time": "2022-11-22T05:16:38.626Z"
   },
   {
    "duration": 12,
    "start_time": "2022-11-22T05:16:38.655Z"
   },
   {
    "duration": 17,
    "start_time": "2022-11-22T05:16:38.668Z"
   },
   {
    "duration": 8,
    "start_time": "2022-11-22T05:16:38.687Z"
   },
   {
    "duration": 10,
    "start_time": "2022-11-22T05:16:38.697Z"
   },
   {
    "duration": 86,
    "start_time": "2022-11-22T05:16:38.710Z"
   },
   {
    "duration": 68,
    "start_time": "2022-11-22T05:16:38.799Z"
   },
   {
    "duration": 5,
    "start_time": "2022-11-22T05:16:38.869Z"
   },
   {
    "duration": 324,
    "start_time": "2022-11-22T05:16:38.876Z"
   },
   {
    "duration": 6,
    "start_time": "2022-11-22T05:16:39.202Z"
   },
   {
    "duration": 270,
    "start_time": "2022-11-22T05:16:39.210Z"
   },
   {
    "duration": 5,
    "start_time": "2022-11-22T05:16:39.482Z"
   },
   {
    "duration": 452,
    "start_time": "2022-11-22T05:16:39.489Z"
   },
   {
    "duration": 363,
    "start_time": "2022-11-22T05:16:39.950Z"
   },
   {
    "duration": 4,
    "start_time": "2022-11-22T05:16:40.315Z"
   },
   {
    "duration": 220,
    "start_time": "2022-11-22T05:16:40.321Z"
   },
   {
    "duration": 11,
    "start_time": "2022-11-22T05:16:40.543Z"
   },
   {
    "duration": 232,
    "start_time": "2022-11-22T05:16:40.555Z"
   },
   {
    "duration": 6,
    "start_time": "2022-11-22T05:16:40.788Z"
   },
   {
    "duration": 98,
    "start_time": "2022-11-22T05:16:40.795Z"
   },
   {
    "duration": 321,
    "start_time": "2022-11-22T05:16:40.895Z"
   },
   {
    "duration": 227,
    "start_time": "2022-11-22T05:16:41.218Z"
   },
   {
    "duration": 168,
    "start_time": "2022-11-22T05:16:41.447Z"
   },
   {
    "duration": 244,
    "start_time": "2022-11-22T05:16:41.616Z"
   },
   {
    "duration": 171,
    "start_time": "2022-11-22T05:16:41.862Z"
   },
   {
    "duration": 283,
    "start_time": "2022-11-22T05:16:42.035Z"
   },
   {
    "duration": 183,
    "start_time": "2022-11-22T05:16:42.320Z"
   },
   {
    "duration": 168,
    "start_time": "2022-11-22T05:16:42.504Z"
   },
   {
    "duration": 178,
    "start_time": "2022-11-22T05:16:42.674Z"
   },
   {
    "duration": 191,
    "start_time": "2022-11-22T05:16:42.854Z"
   },
   {
    "duration": 173,
    "start_time": "2022-11-22T05:16:43.047Z"
   },
   {
    "duration": 1182,
    "start_time": "2022-11-22T06:04:43.692Z"
   },
   {
    "duration": 56,
    "start_time": "2022-11-22T06:04:44.876Z"
   },
   {
    "duration": 21,
    "start_time": "2022-11-22T06:04:44.934Z"
   },
   {
    "duration": 15,
    "start_time": "2022-11-22T06:04:44.956Z"
   },
   {
    "duration": 3,
    "start_time": "2022-11-22T06:04:44.973Z"
   },
   {
    "duration": 17,
    "start_time": "2022-11-22T06:04:44.977Z"
   },
   {
    "duration": 23,
    "start_time": "2022-11-22T06:04:44.996Z"
   },
   {
    "duration": 29,
    "start_time": "2022-11-22T06:04:45.021Z"
   },
   {
    "duration": 23,
    "start_time": "2022-11-22T06:04:45.051Z"
   },
   {
    "duration": 15,
    "start_time": "2022-11-22T06:04:45.077Z"
   },
   {
    "duration": 24,
    "start_time": "2022-11-22T06:04:45.094Z"
   },
   {
    "duration": 8,
    "start_time": "2022-11-22T06:04:45.120Z"
   },
   {
    "duration": 17,
    "start_time": "2022-11-22T06:04:45.130Z"
   },
   {
    "duration": 63,
    "start_time": "2022-11-22T06:04:45.149Z"
   },
   {
    "duration": 63,
    "start_time": "2022-11-22T06:04:45.213Z"
   },
   {
    "duration": 6,
    "start_time": "2022-11-22T06:04:45.278Z"
   },
   {
    "duration": 352,
    "start_time": "2022-11-22T06:04:45.286Z"
   },
   {
    "duration": 14,
    "start_time": "2022-11-22T06:04:45.640Z"
   },
   {
    "duration": 278,
    "start_time": "2022-11-22T06:04:45.655Z"
   },
   {
    "duration": 15,
    "start_time": "2022-11-22T06:04:45.935Z"
   },
   {
    "duration": 396,
    "start_time": "2022-11-22T06:04:45.952Z"
   },
   {
    "duration": 340,
    "start_time": "2022-11-22T06:04:46.350Z"
   },
   {
    "duration": 6,
    "start_time": "2022-11-22T06:04:46.692Z"
   },
   {
    "duration": 231,
    "start_time": "2022-11-22T06:04:46.700Z"
   },
   {
    "duration": 19,
    "start_time": "2022-11-22T06:04:46.933Z"
   },
   {
    "duration": 208,
    "start_time": "2022-11-22T06:04:46.954Z"
   },
   {
    "duration": 5,
    "start_time": "2022-11-22T06:04:47.164Z"
   },
   {
    "duration": 94,
    "start_time": "2022-11-22T06:04:47.172Z"
   },
   {
    "duration": 304,
    "start_time": "2022-11-22T06:04:47.268Z"
   },
   {
    "duration": 239,
    "start_time": "2022-11-22T06:04:47.574Z"
   },
   {
    "duration": 188,
    "start_time": "2022-11-22T06:04:47.815Z"
   },
   {
    "duration": 175,
    "start_time": "2022-11-22T06:04:48.005Z"
   },
   {
    "duration": 202,
    "start_time": "2022-11-22T06:04:48.181Z"
   },
   {
    "duration": 182,
    "start_time": "2022-11-22T06:04:48.384Z"
   },
   {
    "duration": 189,
    "start_time": "2022-11-22T06:04:48.568Z"
   },
   {
    "duration": 174,
    "start_time": "2022-11-22T06:04:48.759Z"
   },
   {
    "duration": 184,
    "start_time": "2022-11-22T06:04:48.936Z"
   },
   {
    "duration": 219,
    "start_time": "2022-11-22T06:04:49.122Z"
   },
   {
    "duration": 175,
    "start_time": "2022-11-22T06:04:49.343Z"
   },
   {
    "duration": 7,
    "start_time": "2022-11-22T06:09:35.826Z"
   },
   {
    "duration": 16,
    "start_time": "2022-11-22T06:09:41.283Z"
   },
   {
    "duration": 100,
    "start_time": "2022-11-22T06:14:54.217Z"
   },
   {
    "duration": 98,
    "start_time": "2022-11-22T06:14:56.971Z"
   },
   {
    "duration": 15,
    "start_time": "2022-11-22T06:14:57.366Z"
   },
   {
    "duration": 9,
    "start_time": "2022-11-22T06:17:46.736Z"
   },
   {
    "duration": 5,
    "start_time": "2022-11-22T06:17:46.901Z"
   },
   {
    "duration": 6,
    "start_time": "2022-11-22T06:18:19.585Z"
   },
   {
    "duration": 4,
    "start_time": "2022-11-22T06:18:24.089Z"
   },
   {
    "duration": 5,
    "start_time": "2022-11-22T06:18:50.337Z"
   },
   {
    "duration": 5,
    "start_time": "2022-11-22T06:29:19.414Z"
   },
   {
    "duration": 4,
    "start_time": "2022-11-22T06:31:20.979Z"
   },
   {
    "duration": 4,
    "start_time": "2022-11-22T06:31:36.728Z"
   },
   {
    "duration": 4,
    "start_time": "2022-11-22T06:31:41.052Z"
   },
   {
    "duration": 9,
    "start_time": "2022-11-22T06:31:42.457Z"
   },
   {
    "duration": 4,
    "start_time": "2022-11-22T06:31:48.378Z"
   },
   {
    "duration": 4,
    "start_time": "2022-11-22T06:32:04.088Z"
   },
   {
    "duration": 4,
    "start_time": "2022-11-22T06:32:11.433Z"
   },
   {
    "duration": 1286,
    "start_time": "2022-11-22T06:32:18.970Z"
   },
   {
    "duration": 56,
    "start_time": "2022-11-22T06:32:20.258Z"
   },
   {
    "duration": 23,
    "start_time": "2022-11-22T06:32:20.316Z"
   },
   {
    "duration": 15,
    "start_time": "2022-11-22T06:32:20.341Z"
   },
   {
    "duration": 5,
    "start_time": "2022-11-22T06:32:20.358Z"
   },
   {
    "duration": 20,
    "start_time": "2022-11-22T06:32:20.365Z"
   },
   {
    "duration": 16,
    "start_time": "2022-11-22T06:32:20.386Z"
   },
   {
    "duration": 11,
    "start_time": "2022-11-22T06:32:20.404Z"
   },
   {
    "duration": 16,
    "start_time": "2022-11-22T06:32:20.416Z"
   },
   {
    "duration": 21,
    "start_time": "2022-11-22T06:32:20.435Z"
   },
   {
    "duration": 19,
    "start_time": "2022-11-22T06:32:20.457Z"
   },
   {
    "duration": 8,
    "start_time": "2022-11-22T06:32:20.478Z"
   },
   {
    "duration": 15,
    "start_time": "2022-11-22T06:32:20.487Z"
   },
   {
    "duration": 70,
    "start_time": "2022-11-22T06:32:20.503Z"
   },
   {
    "duration": 57,
    "start_time": "2022-11-22T06:32:20.575Z"
   },
   {
    "duration": 17,
    "start_time": "2022-11-22T06:32:20.634Z"
   },
   {
    "duration": 322,
    "start_time": "2022-11-22T06:32:20.653Z"
   },
   {
    "duration": 6,
    "start_time": "2022-11-22T06:32:20.976Z"
   },
   {
    "duration": 269,
    "start_time": "2022-11-22T06:32:20.984Z"
   },
   {
    "duration": 5,
    "start_time": "2022-11-22T06:32:21.254Z"
   },
   {
    "duration": 376,
    "start_time": "2022-11-22T06:32:21.261Z"
   },
   {
    "duration": 327,
    "start_time": "2022-11-22T06:32:21.638Z"
   },
   {
    "duration": 5,
    "start_time": "2022-11-22T06:32:21.966Z"
   },
   {
    "duration": 225,
    "start_time": "2022-11-22T06:32:21.973Z"
   },
   {
    "duration": 12,
    "start_time": "2022-11-22T06:32:22.200Z"
   },
   {
    "duration": 214,
    "start_time": "2022-11-22T06:32:22.215Z"
   },
   {
    "duration": 5,
    "start_time": "2022-11-22T06:32:22.431Z"
   },
   {
    "duration": 111,
    "start_time": "2022-11-22T06:32:22.439Z"
   },
   {
    "duration": 315,
    "start_time": "2022-11-22T06:32:22.552Z"
   },
   {
    "duration": 229,
    "start_time": "2022-11-22T06:32:22.869Z"
   },
   {
    "duration": 175,
    "start_time": "2022-11-22T06:32:23.099Z"
   },
   {
    "duration": 176,
    "start_time": "2022-11-22T06:32:23.276Z"
   },
   {
    "duration": 179,
    "start_time": "2022-11-22T06:32:23.453Z"
   },
   {
    "duration": 196,
    "start_time": "2022-11-22T06:32:23.633Z"
   },
   {
    "duration": 188,
    "start_time": "2022-11-22T06:32:23.831Z"
   },
   {
    "duration": 174,
    "start_time": "2022-11-22T06:32:24.020Z"
   },
   {
    "duration": 168,
    "start_time": "2022-11-22T06:32:24.196Z"
   },
   {
    "duration": 178,
    "start_time": "2022-11-22T06:32:24.366Z"
   },
   {
    "duration": 175,
    "start_time": "2022-11-22T06:32:24.550Z"
   },
   {
    "duration": 8,
    "start_time": "2022-11-22T06:32:24.727Z"
   },
   {
    "duration": 17,
    "start_time": "2022-11-22T06:32:24.736Z"
   },
   {
    "duration": 7,
    "start_time": "2022-11-22T06:32:24.755Z"
   },
   {
    "duration": 112,
    "start_time": "2022-11-22T06:32:24.764Z"
   },
   {
    "duration": 10,
    "start_time": "2022-11-22T06:37:57.977Z"
   },
   {
    "duration": 6,
    "start_time": "2022-11-22T06:42:02.256Z"
   },
   {
    "duration": 1270,
    "start_time": "2022-11-22T07:18:07.568Z"
   },
   {
    "duration": 58,
    "start_time": "2022-11-22T07:18:08.841Z"
   },
   {
    "duration": 22,
    "start_time": "2022-11-22T07:18:08.900Z"
   },
   {
    "duration": 16,
    "start_time": "2022-11-22T07:18:08.923Z"
   },
   {
    "duration": 3,
    "start_time": "2022-11-22T07:18:08.941Z"
   },
   {
    "duration": 16,
    "start_time": "2022-11-22T07:18:08.950Z"
   },
   {
    "duration": 9,
    "start_time": "2022-11-22T07:18:08.967Z"
   },
   {
    "duration": 9,
    "start_time": "2022-11-22T07:18:08.978Z"
   },
   {
    "duration": 9,
    "start_time": "2022-11-22T07:18:08.988Z"
   },
   {
    "duration": 12,
    "start_time": "2022-11-22T07:18:08.999Z"
   },
   {
    "duration": 15,
    "start_time": "2022-11-22T07:18:09.013Z"
   },
   {
    "duration": 29,
    "start_time": "2022-11-22T07:18:09.030Z"
   },
   {
    "duration": 11,
    "start_time": "2022-11-22T07:18:09.060Z"
   },
   {
    "duration": 53,
    "start_time": "2022-11-22T07:18:09.074Z"
   },
   {
    "duration": 58,
    "start_time": "2022-11-22T07:18:09.150Z"
   },
   {
    "duration": 7,
    "start_time": "2022-11-22T07:18:09.210Z"
   },
   {
    "duration": 342,
    "start_time": "2022-11-22T07:18:09.219Z"
   },
   {
    "duration": 5,
    "start_time": "2022-11-22T07:18:09.563Z"
   },
   {
    "duration": 351,
    "start_time": "2022-11-22T07:18:09.583Z"
   },
   {
    "duration": 6,
    "start_time": "2022-11-22T07:18:09.935Z"
   },
   {
    "duration": 390,
    "start_time": "2022-11-22T07:18:09.943Z"
   },
   {
    "duration": 341,
    "start_time": "2022-11-22T07:18:10.335Z"
   },
   {
    "duration": 6,
    "start_time": "2022-11-22T07:18:10.678Z"
   },
   {
    "duration": 221,
    "start_time": "2022-11-22T07:18:10.687Z"
   },
   {
    "duration": 6,
    "start_time": "2022-11-22T07:18:10.909Z"
   },
   {
    "duration": 217,
    "start_time": "2022-11-22T07:18:10.917Z"
   },
   {
    "duration": 6,
    "start_time": "2022-11-22T07:18:11.135Z"
   },
   {
    "duration": 86,
    "start_time": "2022-11-22T07:18:11.142Z"
   },
   {
    "duration": 338,
    "start_time": "2022-11-22T07:18:11.230Z"
   },
   {
    "duration": 238,
    "start_time": "2022-11-22T07:18:11.570Z"
   },
   {
    "duration": 175,
    "start_time": "2022-11-22T07:18:11.810Z"
   },
   {
    "duration": 183,
    "start_time": "2022-11-22T07:18:11.987Z"
   },
   {
    "duration": 183,
    "start_time": "2022-11-22T07:18:12.172Z"
   },
   {
    "duration": 196,
    "start_time": "2022-11-22T07:18:12.357Z"
   },
   {
    "duration": 198,
    "start_time": "2022-11-22T07:18:12.555Z"
   },
   {
    "duration": 183,
    "start_time": "2022-11-22T07:18:12.755Z"
   },
   {
    "duration": 173,
    "start_time": "2022-11-22T07:18:12.940Z"
   },
   {
    "duration": 206,
    "start_time": "2022-11-22T07:18:13.115Z"
   },
   {
    "duration": 180,
    "start_time": "2022-11-22T07:18:13.323Z"
   },
   {
    "duration": 10,
    "start_time": "2022-11-22T07:18:13.505Z"
   },
   {
    "duration": 5,
    "start_time": "2022-11-22T07:18:13.519Z"
   },
   {
    "duration": 27,
    "start_time": "2022-11-22T07:18:13.526Z"
   },
   {
    "duration": 15,
    "start_time": "2022-11-22T07:18:13.554Z"
   },
   {
    "duration": 6,
    "start_time": "2022-11-22T07:18:13.570Z"
   },
   {
    "duration": 4,
    "start_time": "2022-11-22T07:19:51.893Z"
   },
   {
    "duration": 125,
    "start_time": "2022-11-22T07:20:51.806Z"
   },
   {
    "duration": 9,
    "start_time": "2022-11-22T07:21:52.001Z"
   },
   {
    "duration": 5,
    "start_time": "2022-11-22T07:21:54.426Z"
   },
   {
    "duration": 5,
    "start_time": "2022-11-22T07:21:57.007Z"
   },
   {
    "duration": 8,
    "start_time": "2022-11-22T07:22:30.924Z"
   },
   {
    "duration": 5,
    "start_time": "2022-11-22T07:22:31.959Z"
   },
   {
    "duration": 4,
    "start_time": "2022-11-22T07:22:34.092Z"
   },
   {
    "duration": 5,
    "start_time": "2022-11-22T07:22:40.275Z"
   },
   {
    "duration": 4,
    "start_time": "2022-11-22T07:22:55.418Z"
   },
   {
    "duration": 5,
    "start_time": "2022-11-22T07:23:03.435Z"
   },
   {
    "duration": 4,
    "start_time": "2022-11-22T07:23:09.035Z"
   },
   {
    "duration": 1233,
    "start_time": "2022-11-22T07:28:41.108Z"
   },
   {
    "duration": 54,
    "start_time": "2022-11-22T07:28:42.343Z"
   },
   {
    "duration": 21,
    "start_time": "2022-11-22T07:28:42.399Z"
   },
   {
    "duration": 15,
    "start_time": "2022-11-22T07:28:42.422Z"
   },
   {
    "duration": 4,
    "start_time": "2022-11-22T07:28:42.439Z"
   },
   {
    "duration": 22,
    "start_time": "2022-11-22T07:28:42.445Z"
   },
   {
    "duration": 7,
    "start_time": "2022-11-22T07:28:42.469Z"
   },
   {
    "duration": 5,
    "start_time": "2022-11-22T07:28:42.478Z"
   },
   {
    "duration": 10,
    "start_time": "2022-11-22T07:28:42.484Z"
   },
   {
    "duration": 12,
    "start_time": "2022-11-22T07:28:42.495Z"
   },
   {
    "duration": 43,
    "start_time": "2022-11-22T07:28:42.508Z"
   },
   {
    "duration": 8,
    "start_time": "2022-11-22T07:28:42.553Z"
   },
   {
    "duration": 11,
    "start_time": "2022-11-22T07:28:42.563Z"
   },
   {
    "duration": 73,
    "start_time": "2022-11-22T07:28:42.578Z"
   },
   {
    "duration": 51,
    "start_time": "2022-11-22T07:28:42.653Z"
   },
   {
    "duration": 6,
    "start_time": "2022-11-22T07:28:42.706Z"
   },
   {
    "duration": 322,
    "start_time": "2022-11-22T07:28:42.714Z"
   },
   {
    "duration": 12,
    "start_time": "2022-11-22T07:28:43.038Z"
   },
   {
    "duration": 258,
    "start_time": "2022-11-22T07:28:43.052Z"
   },
   {
    "duration": 5,
    "start_time": "2022-11-22T07:28:43.312Z"
   },
   {
    "duration": 372,
    "start_time": "2022-11-22T07:28:43.319Z"
   },
   {
    "duration": 342,
    "start_time": "2022-11-22T07:28:43.692Z"
   },
   {
    "duration": 4,
    "start_time": "2022-11-22T07:28:44.036Z"
   },
   {
    "duration": 221,
    "start_time": "2022-11-22T07:28:44.051Z"
   },
   {
    "duration": 7,
    "start_time": "2022-11-22T07:28:44.274Z"
   },
   {
    "duration": 221,
    "start_time": "2022-11-22T07:28:44.283Z"
   },
   {
    "duration": 6,
    "start_time": "2022-11-22T07:28:44.506Z"
   },
   {
    "duration": 92,
    "start_time": "2022-11-22T07:28:44.513Z"
   },
   {
    "duration": 317,
    "start_time": "2022-11-22T07:28:44.607Z"
   },
   {
    "duration": 234,
    "start_time": "2022-11-22T07:28:44.926Z"
   },
   {
    "duration": 189,
    "start_time": "2022-11-22T07:28:45.162Z"
   },
   {
    "duration": 179,
    "start_time": "2022-11-22T07:28:45.353Z"
   },
   {
    "duration": 184,
    "start_time": "2022-11-22T07:28:45.534Z"
   },
   {
    "duration": 190,
    "start_time": "2022-11-22T07:28:45.720Z"
   },
   {
    "duration": 211,
    "start_time": "2022-11-22T07:28:45.913Z"
   },
   {
    "duration": 178,
    "start_time": "2022-11-22T07:28:46.126Z"
   },
   {
    "duration": 179,
    "start_time": "2022-11-22T07:28:46.306Z"
   },
   {
    "duration": 198,
    "start_time": "2022-11-22T07:28:46.487Z"
   },
   {
    "duration": 182,
    "start_time": "2022-11-22T07:28:46.687Z"
   },
   {
    "duration": 9,
    "start_time": "2022-11-22T07:28:46.871Z"
   },
   {
    "duration": 46,
    "start_time": "2022-11-22T07:28:46.884Z"
   },
   {
    "duration": 39,
    "start_time": "2022-11-22T07:28:46.932Z"
   },
   {
    "duration": 47,
    "start_time": "2022-11-22T07:28:46.973Z"
   },
   {
    "duration": 18,
    "start_time": "2022-11-22T07:28:47.022Z"
   },
   {
    "duration": 29,
    "start_time": "2022-11-22T07:28:47.043Z"
   },
   {
    "duration": 5,
    "start_time": "2022-11-22T07:29:11.564Z"
   },
   {
    "duration": 5,
    "start_time": "2022-11-22T07:29:16.220Z"
   },
   {
    "duration": 5,
    "start_time": "2022-11-22T07:29:23.412Z"
   },
   {
    "duration": 6,
    "start_time": "2022-11-22T07:30:22.580Z"
   },
   {
    "duration": 1216,
    "start_time": "2022-11-22T07:30:26.080Z"
   },
   {
    "duration": 56,
    "start_time": "2022-11-22T07:30:27.299Z"
   },
   {
    "duration": 21,
    "start_time": "2022-11-22T07:30:27.356Z"
   },
   {
    "duration": 31,
    "start_time": "2022-11-22T07:30:27.379Z"
   },
   {
    "duration": 23,
    "start_time": "2022-11-22T07:30:27.413Z"
   },
   {
    "duration": 24,
    "start_time": "2022-11-22T07:30:27.438Z"
   },
   {
    "duration": 13,
    "start_time": "2022-11-22T07:30:27.464Z"
   },
   {
    "duration": 18,
    "start_time": "2022-11-22T07:30:27.479Z"
   },
   {
    "duration": 30,
    "start_time": "2022-11-22T07:30:27.499Z"
   },
   {
    "duration": 31,
    "start_time": "2022-11-22T07:30:27.531Z"
   },
   {
    "duration": 16,
    "start_time": "2022-11-22T07:30:27.563Z"
   },
   {
    "duration": 8,
    "start_time": "2022-11-22T07:30:27.581Z"
   },
   {
    "duration": 9,
    "start_time": "2022-11-22T07:30:27.591Z"
   },
   {
    "duration": 85,
    "start_time": "2022-11-22T07:30:27.604Z"
   },
   {
    "duration": 59,
    "start_time": "2022-11-22T07:30:27.691Z"
   },
   {
    "duration": 6,
    "start_time": "2022-11-22T07:30:27.752Z"
   },
   {
    "duration": 343,
    "start_time": "2022-11-22T07:30:27.760Z"
   },
   {
    "duration": 7,
    "start_time": "2022-11-22T07:30:28.105Z"
   },
   {
    "duration": 303,
    "start_time": "2022-11-22T07:30:28.114Z"
   },
   {
    "duration": 5,
    "start_time": "2022-11-22T07:30:28.419Z"
   },
   {
    "duration": 380,
    "start_time": "2022-11-22T07:30:28.426Z"
   },
   {
    "duration": 342,
    "start_time": "2022-11-22T07:30:28.808Z"
   },
   {
    "duration": 5,
    "start_time": "2022-11-22T07:30:29.155Z"
   },
   {
    "duration": 220,
    "start_time": "2022-11-22T07:30:29.162Z"
   },
   {
    "duration": 6,
    "start_time": "2022-11-22T07:30:29.384Z"
   },
   {
    "duration": 203,
    "start_time": "2022-11-22T07:30:29.392Z"
   },
   {
    "duration": 5,
    "start_time": "2022-11-22T07:30:29.597Z"
   },
   {
    "duration": 99,
    "start_time": "2022-11-22T07:30:29.603Z"
   },
   {
    "duration": 329,
    "start_time": "2022-11-22T07:30:29.704Z"
   },
   {
    "duration": 323,
    "start_time": "2022-11-22T07:30:30.035Z"
   },
   {
    "duration": 198,
    "start_time": "2022-11-22T07:30:30.360Z"
   },
   {
    "duration": 221,
    "start_time": "2022-11-22T07:30:30.560Z"
   },
   {
    "duration": 188,
    "start_time": "2022-11-22T07:30:30.783Z"
   },
   {
    "duration": 211,
    "start_time": "2022-11-22T07:30:30.974Z"
   },
   {
    "duration": 202,
    "start_time": "2022-11-22T07:30:31.188Z"
   },
   {
    "duration": 174,
    "start_time": "2022-11-22T07:30:31.392Z"
   },
   {
    "duration": 189,
    "start_time": "2022-11-22T07:30:31.567Z"
   },
   {
    "duration": 198,
    "start_time": "2022-11-22T07:30:31.758Z"
   },
   {
    "duration": 179,
    "start_time": "2022-11-22T07:30:31.957Z"
   },
   {
    "duration": 14,
    "start_time": "2022-11-22T07:30:32.138Z"
   },
   {
    "duration": 24,
    "start_time": "2022-11-22T07:30:32.157Z"
   },
   {
    "duration": 9,
    "start_time": "2022-11-22T07:30:32.183Z"
   },
   {
    "duration": 10,
    "start_time": "2022-11-22T07:30:32.194Z"
   },
   {
    "duration": 5,
    "start_time": "2022-11-22T07:30:32.207Z"
   },
   {
    "duration": 9,
    "start_time": "2022-11-22T07:30:32.214Z"
   },
   {
    "duration": 1223,
    "start_time": "2022-11-22T08:26:55.153Z"
   },
   {
    "duration": 59,
    "start_time": "2022-11-22T08:26:56.379Z"
   },
   {
    "duration": 27,
    "start_time": "2022-11-22T08:26:56.439Z"
   },
   {
    "duration": 21,
    "start_time": "2022-11-22T08:26:56.468Z"
   },
   {
    "duration": 21,
    "start_time": "2022-11-22T08:26:56.491Z"
   },
   {
    "duration": 56,
    "start_time": "2022-11-22T08:26:56.514Z"
   },
   {
    "duration": 32,
    "start_time": "2022-11-22T08:26:56.573Z"
   },
   {
    "duration": 25,
    "start_time": "2022-11-22T08:26:56.607Z"
   },
   {
    "duration": 29,
    "start_time": "2022-11-22T08:26:56.634Z"
   },
   {
    "duration": 45,
    "start_time": "2022-11-22T08:26:56.665Z"
   },
   {
    "duration": 50,
    "start_time": "2022-11-22T08:26:56.712Z"
   },
   {
    "duration": 12,
    "start_time": "2022-11-22T08:26:56.764Z"
   },
   {
    "duration": 51,
    "start_time": "2022-11-22T08:26:56.777Z"
   },
   {
    "duration": 72,
    "start_time": "2022-11-22T08:26:56.831Z"
   },
   {
    "duration": 79,
    "start_time": "2022-11-22T08:26:56.905Z"
   },
   {
    "duration": 6,
    "start_time": "2022-11-22T08:26:56.986Z"
   },
   {
    "duration": 381,
    "start_time": "2022-11-22T08:26:56.994Z"
   },
   {
    "duration": 5,
    "start_time": "2022-11-22T08:26:57.377Z"
   },
   {
    "duration": 282,
    "start_time": "2022-11-22T08:26:57.384Z"
   },
   {
    "duration": 5,
    "start_time": "2022-11-22T08:26:57.668Z"
   },
   {
    "duration": 395,
    "start_time": "2022-11-22T08:26:57.675Z"
   },
   {
    "duration": 335,
    "start_time": "2022-11-22T08:26:58.072Z"
   },
   {
    "duration": 4,
    "start_time": "2022-11-22T08:26:58.409Z"
   },
   {
    "duration": 209,
    "start_time": "2022-11-22T08:26:58.415Z"
   },
   {
    "duration": 5,
    "start_time": "2022-11-22T08:26:58.626Z"
   },
   {
    "duration": 204,
    "start_time": "2022-11-22T08:26:58.633Z"
   },
   {
    "duration": 12,
    "start_time": "2022-11-22T08:26:58.839Z"
   },
   {
    "duration": 78,
    "start_time": "2022-11-22T08:26:58.853Z"
   },
   {
    "duration": 330,
    "start_time": "2022-11-22T08:26:58.933Z"
   },
   {
    "duration": 225,
    "start_time": "2022-11-22T08:26:59.266Z"
   },
   {
    "duration": 198,
    "start_time": "2022-11-22T08:26:59.493Z"
   },
   {
    "duration": 219,
    "start_time": "2022-11-22T08:26:59.693Z"
   },
   {
    "duration": 211,
    "start_time": "2022-11-22T08:26:59.914Z"
   },
   {
    "duration": 199,
    "start_time": "2022-11-22T08:27:00.127Z"
   },
   {
    "duration": 201,
    "start_time": "2022-11-22T08:27:00.327Z"
   },
   {
    "duration": 180,
    "start_time": "2022-11-22T08:27:00.530Z"
   },
   {
    "duration": 173,
    "start_time": "2022-11-22T08:27:00.711Z"
   },
   {
    "duration": 205,
    "start_time": "2022-11-22T08:27:00.885Z"
   },
   {
    "duration": 172,
    "start_time": "2022-11-22T08:27:01.093Z"
   },
   {
    "duration": 10,
    "start_time": "2022-11-22T08:27:01.267Z"
   },
   {
    "duration": 13,
    "start_time": "2022-11-22T08:27:01.281Z"
   },
   {
    "duration": 14,
    "start_time": "2022-11-22T08:27:01.296Z"
   },
   {
    "duration": 21,
    "start_time": "2022-11-22T08:27:01.311Z"
   },
   {
    "duration": 5,
    "start_time": "2022-11-22T08:27:01.334Z"
   },
   {
    "duration": 40,
    "start_time": "2022-11-22T08:27:01.341Z"
   },
   {
    "duration": 1423,
    "start_time": "2022-11-22T14:29:56.831Z"
   },
   {
    "duration": 57,
    "start_time": "2022-11-22T14:29:58.257Z"
   },
   {
    "duration": 24,
    "start_time": "2022-11-22T14:29:58.316Z"
   },
   {
    "duration": 20,
    "start_time": "2022-11-22T14:29:58.342Z"
   },
   {
    "duration": 4,
    "start_time": "2022-11-22T14:29:58.364Z"
   },
   {
    "duration": 24,
    "start_time": "2022-11-22T14:29:58.370Z"
   },
   {
    "duration": 12,
    "start_time": "2022-11-22T14:29:58.396Z"
   },
   {
    "duration": 9,
    "start_time": "2022-11-22T14:29:58.410Z"
   },
   {
    "duration": 37,
    "start_time": "2022-11-22T14:29:58.420Z"
   },
   {
    "duration": 17,
    "start_time": "2022-11-22T14:29:58.462Z"
   },
   {
    "duration": 34,
    "start_time": "2022-11-22T14:29:58.481Z"
   },
   {
    "duration": 12,
    "start_time": "2022-11-22T14:29:58.518Z"
   },
   {
    "duration": 29,
    "start_time": "2022-11-22T14:29:58.533Z"
   },
   {
    "duration": 102,
    "start_time": "2022-11-22T14:29:58.568Z"
   },
   {
    "duration": 93,
    "start_time": "2022-11-22T14:29:58.673Z"
   },
   {
    "duration": 8,
    "start_time": "2022-11-22T14:29:58.769Z"
   },
   {
    "duration": 549,
    "start_time": "2022-11-22T14:29:58.780Z"
   },
   {
    "duration": 7,
    "start_time": "2022-11-22T14:29:59.332Z"
   },
   {
    "duration": 323,
    "start_time": "2022-11-22T14:29:59.351Z"
   },
   {
    "duration": 6,
    "start_time": "2022-11-22T14:29:59.677Z"
   },
   {
    "duration": 534,
    "start_time": "2022-11-22T14:29:59.688Z"
   },
   {
    "duration": 461,
    "start_time": "2022-11-22T14:30:00.224Z"
   },
   {
    "duration": 16,
    "start_time": "2022-11-22T14:30:00.687Z"
   },
   {
    "duration": 272,
    "start_time": "2022-11-22T14:30:00.706Z"
   },
   {
    "duration": 7,
    "start_time": "2022-11-22T14:30:00.980Z"
   },
   {
    "duration": 249,
    "start_time": "2022-11-22T14:30:00.989Z"
   },
   {
    "duration": 12,
    "start_time": "2022-11-22T14:30:01.240Z"
   },
   {
    "duration": 104,
    "start_time": "2022-11-22T14:30:01.258Z"
   },
   {
    "duration": 424,
    "start_time": "2022-11-22T14:30:01.364Z"
   },
   {
    "duration": 247,
    "start_time": "2022-11-22T14:30:01.791Z"
   },
   {
    "duration": 196,
    "start_time": "2022-11-22T14:30:02.040Z"
   },
   {
    "duration": 184,
    "start_time": "2022-11-22T14:30:02.240Z"
   },
   {
    "duration": 181,
    "start_time": "2022-11-22T14:30:02.426Z"
   },
   {
    "duration": 207,
    "start_time": "2022-11-22T14:30:02.609Z"
   },
   {
    "duration": 197,
    "start_time": "2022-11-22T14:30:02.818Z"
   },
   {
    "duration": 175,
    "start_time": "2022-11-22T14:30:03.016Z"
   },
   {
    "duration": 179,
    "start_time": "2022-11-22T14:30:03.193Z"
   },
   {
    "duration": 191,
    "start_time": "2022-11-22T14:30:03.374Z"
   },
   {
    "duration": 179,
    "start_time": "2022-11-22T14:30:03.567Z"
   },
   {
    "duration": 12,
    "start_time": "2022-11-22T14:30:03.752Z"
   },
   {
    "duration": 12,
    "start_time": "2022-11-22T14:30:03.766Z"
   },
   {
    "duration": 15,
    "start_time": "2022-11-22T14:30:03.780Z"
   },
   {
    "duration": 35,
    "start_time": "2022-11-22T14:30:03.797Z"
   },
   {
    "duration": 8,
    "start_time": "2022-11-22T14:30:03.835Z"
   },
   {
    "duration": 9,
    "start_time": "2022-11-22T14:30:03.845Z"
   },
   {
    "duration": 1161,
    "start_time": "2022-11-22T23:13:17.147Z"
   },
   {
    "duration": 103,
    "start_time": "2022-11-22T23:13:19.043Z"
   },
   {
    "duration": 18,
    "start_time": "2022-11-22T23:23:31.429Z"
   },
   {
    "duration": 14,
    "start_time": "2022-11-22T23:23:37.626Z"
   },
   {
    "duration": 14,
    "start_time": "2022-11-22T23:23:59.919Z"
   },
   {
    "duration": 3,
    "start_time": "2022-11-22T23:37:54.796Z"
   },
   {
    "duration": 15,
    "start_time": "2022-11-22T23:37:57.824Z"
   },
   {
    "duration": 1028,
    "start_time": "2022-11-22T23:38:55.066Z"
   },
   {
    "duration": 51,
    "start_time": "2022-11-22T23:38:56.096Z"
   },
   {
    "duration": 18,
    "start_time": "2022-11-22T23:38:56.149Z"
   },
   {
    "duration": 15,
    "start_time": "2022-11-22T23:38:56.168Z"
   },
   {
    "duration": 14,
    "start_time": "2022-11-22T23:38:56.184Z"
   },
   {
    "duration": 21,
    "start_time": "2022-11-22T23:38:56.200Z"
   },
   {
    "duration": 12,
    "start_time": "2022-11-22T23:38:56.223Z"
   },
   {
    "duration": 7,
    "start_time": "2022-11-22T23:38:56.237Z"
   },
   {
    "duration": 7,
    "start_time": "2022-11-22T23:38:56.246Z"
   },
   {
    "duration": 11,
    "start_time": "2022-11-22T23:38:56.255Z"
   },
   {
    "duration": 10,
    "start_time": "2022-11-22T23:38:56.268Z"
   },
   {
    "duration": 12,
    "start_time": "2022-11-22T23:38:56.279Z"
   },
   {
    "duration": 6,
    "start_time": "2022-11-22T23:38:56.293Z"
   },
   {
    "duration": 8,
    "start_time": "2022-11-22T23:38:56.320Z"
   },
   {
    "duration": 45,
    "start_time": "2022-11-22T23:38:56.329Z"
   },
   {
    "duration": 56,
    "start_time": "2022-11-22T23:38:56.376Z"
   },
   {
    "duration": 5,
    "start_time": "2022-11-22T23:38:56.434Z"
   },
   {
    "duration": 282,
    "start_time": "2022-11-22T23:38:56.440Z"
   },
   {
    "duration": 5,
    "start_time": "2022-11-22T23:38:56.724Z"
   },
   {
    "duration": 222,
    "start_time": "2022-11-22T23:38:56.730Z"
   },
   {
    "duration": 5,
    "start_time": "2022-11-22T23:38:56.953Z"
   },
   {
    "duration": 318,
    "start_time": "2022-11-22T23:38:56.959Z"
   },
   {
    "duration": 283,
    "start_time": "2022-11-22T23:38:57.278Z"
   },
   {
    "duration": 4,
    "start_time": "2022-11-22T23:38:57.562Z"
   },
   {
    "duration": 177,
    "start_time": "2022-11-22T23:38:57.568Z"
   },
   {
    "duration": 5,
    "start_time": "2022-11-22T23:38:57.746Z"
   },
   {
    "duration": 181,
    "start_time": "2022-11-22T23:38:57.753Z"
   },
   {
    "duration": 5,
    "start_time": "2022-11-22T23:38:57.937Z"
   },
   {
    "duration": 82,
    "start_time": "2022-11-22T23:38:57.943Z"
   },
   {
    "duration": 258,
    "start_time": "2022-11-22T23:38:58.027Z"
   },
   {
    "duration": 199,
    "start_time": "2022-11-22T23:38:58.286Z"
   },
   {
    "duration": 150,
    "start_time": "2022-11-22T23:38:58.486Z"
   },
   {
    "duration": 152,
    "start_time": "2022-11-22T23:38:58.637Z"
   },
   {
    "duration": 148,
    "start_time": "2022-11-22T23:38:58.791Z"
   },
   {
    "duration": 156,
    "start_time": "2022-11-22T23:38:58.941Z"
   },
   {
    "duration": 172,
    "start_time": "2022-11-22T23:38:59.099Z"
   },
   {
    "duration": 153,
    "start_time": "2022-11-22T23:38:59.273Z"
   },
   {
    "duration": 150,
    "start_time": "2022-11-22T23:38:59.427Z"
   },
   {
    "duration": 172,
    "start_time": "2022-11-22T23:38:59.579Z"
   },
   {
    "duration": 158,
    "start_time": "2022-11-22T23:38:59.753Z"
   },
   {
    "duration": 12,
    "start_time": "2022-11-22T23:38:59.912Z"
   },
   {
    "duration": 9,
    "start_time": "2022-11-22T23:38:59.925Z"
   },
   {
    "duration": 6,
    "start_time": "2022-11-22T23:38:59.935Z"
   },
   {
    "duration": 8,
    "start_time": "2022-11-22T23:38:59.942Z"
   },
   {
    "duration": 6,
    "start_time": "2022-11-22T23:38:59.952Z"
   },
   {
    "duration": 7,
    "start_time": "2022-11-22T23:38:59.960Z"
   },
   {
    "duration": 13,
    "start_time": "2022-11-22T23:40:15.173Z"
   },
   {
    "duration": 9,
    "start_time": "2022-11-22T23:40:25.823Z"
   },
   {
    "duration": 1026,
    "start_time": "2022-11-22T23:40:30.768Z"
   },
   {
    "duration": 53,
    "start_time": "2022-11-22T23:40:31.795Z"
   },
   {
    "duration": 17,
    "start_time": "2022-11-22T23:40:31.849Z"
   },
   {
    "duration": 33,
    "start_time": "2022-11-22T23:40:31.868Z"
   },
   {
    "duration": 24,
    "start_time": "2022-11-22T23:40:31.902Z"
   },
   {
    "duration": 8,
    "start_time": "2022-11-22T23:40:31.927Z"
   },
   {
    "duration": 28,
    "start_time": "2022-11-22T23:40:31.936Z"
   },
   {
    "duration": 29,
    "start_time": "2022-11-22T23:40:31.965Z"
   },
   {
    "duration": 21,
    "start_time": "2022-11-22T23:40:31.996Z"
   },
   {
    "duration": 25,
    "start_time": "2022-11-22T23:40:32.019Z"
   },
   {
    "duration": 33,
    "start_time": "2022-11-22T23:40:32.045Z"
   },
   {
    "duration": 23,
    "start_time": "2022-11-22T23:40:32.079Z"
   },
   {
    "duration": 24,
    "start_time": "2022-11-22T23:40:32.104Z"
   },
   {
    "duration": 28,
    "start_time": "2022-11-22T23:40:32.129Z"
   },
   {
    "duration": 56,
    "start_time": "2022-11-22T23:40:32.159Z"
   },
   {
    "duration": 47,
    "start_time": "2022-11-22T23:40:32.217Z"
   },
   {
    "duration": 5,
    "start_time": "2022-11-22T23:40:32.266Z"
   },
   {
    "duration": 276,
    "start_time": "2022-11-22T23:40:32.272Z"
   },
   {
    "duration": 5,
    "start_time": "2022-11-22T23:40:32.549Z"
   },
   {
    "duration": 234,
    "start_time": "2022-11-22T23:40:32.556Z"
   },
   {
    "duration": 5,
    "start_time": "2022-11-22T23:40:32.792Z"
   },
   {
    "duration": 330,
    "start_time": "2022-11-22T23:40:32.799Z"
   },
   {
    "duration": 289,
    "start_time": "2022-11-22T23:40:33.130Z"
   },
   {
    "duration": 4,
    "start_time": "2022-11-22T23:40:33.421Z"
   },
   {
    "duration": 192,
    "start_time": "2022-11-22T23:40:33.426Z"
   },
   {
    "duration": 5,
    "start_time": "2022-11-22T23:40:33.620Z"
   },
   {
    "duration": 176,
    "start_time": "2022-11-22T23:40:33.626Z"
   },
   {
    "duration": 4,
    "start_time": "2022-11-22T23:40:33.805Z"
   },
   {
    "duration": 96,
    "start_time": "2022-11-22T23:40:33.810Z"
   },
   {
    "duration": 261,
    "start_time": "2022-11-22T23:40:33.908Z"
   },
   {
    "duration": 199,
    "start_time": "2022-11-22T23:40:34.171Z"
   },
   {
    "duration": 156,
    "start_time": "2022-11-22T23:40:34.371Z"
   },
   {
    "duration": 163,
    "start_time": "2022-11-22T23:40:34.529Z"
   },
   {
    "duration": 149,
    "start_time": "2022-11-22T23:40:34.694Z"
   },
   {
    "duration": 159,
    "start_time": "2022-11-22T23:40:34.844Z"
   },
   {
    "duration": 167,
    "start_time": "2022-11-22T23:40:35.005Z"
   },
   {
    "duration": 177,
    "start_time": "2022-11-22T23:40:35.174Z"
   },
   {
    "duration": 154,
    "start_time": "2022-11-22T23:40:35.353Z"
   },
   {
    "duration": 171,
    "start_time": "2022-11-22T23:40:35.509Z"
   },
   {
    "duration": 158,
    "start_time": "2022-11-22T23:40:35.681Z"
   },
   {
    "duration": 8,
    "start_time": "2022-11-22T23:40:35.841Z"
   },
   {
    "duration": 29,
    "start_time": "2022-11-22T23:40:35.850Z"
   },
   {
    "duration": 25,
    "start_time": "2022-11-22T23:40:35.880Z"
   },
   {
    "duration": 25,
    "start_time": "2022-11-22T23:40:35.906Z"
   },
   {
    "duration": 21,
    "start_time": "2022-11-22T23:40:35.932Z"
   },
   {
    "duration": 37,
    "start_time": "2022-11-22T23:40:35.955Z"
   },
   {
    "duration": 1288,
    "start_time": "2022-11-23T01:50:24.563Z"
   },
   {
    "duration": 96,
    "start_time": "2022-11-23T01:50:25.853Z"
   },
   {
    "duration": 20,
    "start_time": "2022-11-23T01:50:25.950Z"
   },
   {
    "duration": 15,
    "start_time": "2022-11-23T01:50:25.972Z"
   },
   {
    "duration": 18,
    "start_time": "2022-11-23T01:50:25.989Z"
   },
   {
    "duration": 3,
    "start_time": "2022-11-23T01:50:26.009Z"
   },
   {
    "duration": 29,
    "start_time": "2022-11-23T01:50:26.014Z"
   },
   {
    "duration": 9,
    "start_time": "2022-11-23T01:50:26.044Z"
   },
   {
    "duration": 8,
    "start_time": "2022-11-23T01:50:26.055Z"
   },
   {
    "duration": 16,
    "start_time": "2022-11-23T01:50:26.066Z"
   },
   {
    "duration": 12,
    "start_time": "2022-11-23T01:50:26.084Z"
   },
   {
    "duration": 17,
    "start_time": "2022-11-23T01:50:26.097Z"
   },
   {
    "duration": 7,
    "start_time": "2022-11-23T01:50:26.116Z"
   },
   {
    "duration": 10,
    "start_time": "2022-11-23T01:50:26.134Z"
   },
   {
    "duration": 4,
    "start_time": "2022-11-23T01:50:26.146Z"
   },
   {
    "duration": 11,
    "start_time": "2022-11-23T01:50:26.152Z"
   },
   {
    "duration": 11,
    "start_time": "2022-11-23T01:50:26.164Z"
   },
   {
    "duration": 19,
    "start_time": "2022-11-23T01:50:26.177Z"
   },
   {
    "duration": 283,
    "start_time": "2022-11-23T01:50:26.198Z"
   },
   {
    "duration": 7,
    "start_time": "2022-11-23T01:50:26.483Z"
   },
   {
    "duration": 259,
    "start_time": "2022-11-23T01:50:26.492Z"
   },
   {
    "duration": 6,
    "start_time": "2022-11-23T01:50:26.754Z"
   },
   {
    "duration": 368,
    "start_time": "2022-11-23T01:50:26.762Z"
   },
   {
    "duration": 318,
    "start_time": "2022-11-23T01:50:27.135Z"
   },
   {
    "duration": 5,
    "start_time": "2022-11-23T01:50:27.455Z"
   },
   {
    "duration": 209,
    "start_time": "2022-11-23T01:50:27.461Z"
   },
   {
    "duration": 6,
    "start_time": "2022-11-23T01:50:27.672Z"
   },
   {
    "duration": 198,
    "start_time": "2022-11-23T01:50:27.681Z"
   },
   {
    "duration": 5,
    "start_time": "2022-11-23T01:50:27.880Z"
   },
   {
    "duration": 87,
    "start_time": "2022-11-23T01:50:27.887Z"
   },
   {
    "duration": 302,
    "start_time": "2022-11-23T01:50:27.976Z"
   },
   {
    "duration": 219,
    "start_time": "2022-11-23T01:50:28.280Z"
   },
   {
    "duration": 170,
    "start_time": "2022-11-23T01:50:28.502Z"
   },
   {
    "duration": 188,
    "start_time": "2022-11-23T01:50:28.674Z"
   },
   {
    "duration": 164,
    "start_time": "2022-11-23T01:50:28.864Z"
   },
   {
    "duration": 184,
    "start_time": "2022-11-23T01:50:29.029Z"
   },
   {
    "duration": 173,
    "start_time": "2022-11-23T01:50:29.215Z"
   },
   {
    "duration": 161,
    "start_time": "2022-11-23T01:50:29.390Z"
   },
   {
    "duration": 178,
    "start_time": "2022-11-23T01:50:29.553Z"
   },
   {
    "duration": 202,
    "start_time": "2022-11-23T01:50:29.735Z"
   },
   {
    "duration": 161,
    "start_time": "2022-11-23T01:50:29.939Z"
   },
   {
    "duration": 8,
    "start_time": "2022-11-23T01:50:30.102Z"
   },
   {
    "duration": 10,
    "start_time": "2022-11-23T01:50:30.111Z"
   },
   {
    "duration": 15,
    "start_time": "2022-11-23T01:50:30.123Z"
   },
   {
    "duration": 18,
    "start_time": "2022-11-23T01:50:30.139Z"
   },
   {
    "duration": 9,
    "start_time": "2022-11-23T01:50:30.159Z"
   },
   {
    "duration": 10,
    "start_time": "2022-11-23T01:50:30.170Z"
   },
   {
    "duration": 7,
    "start_time": "2022-11-23T01:55:52.743Z"
   },
   {
    "duration": 98,
    "start_time": "2022-11-23T01:56:10.293Z"
   },
   {
    "duration": 9,
    "start_time": "2022-11-23T01:56:20.797Z"
   },
   {
    "duration": 8,
    "start_time": "2022-11-23T01:56:27.857Z"
   },
   {
    "duration": 10,
    "start_time": "2022-11-23T01:58:12.941Z"
   },
   {
    "duration": 12,
    "start_time": "2022-11-23T01:58:17.702Z"
   },
   {
    "duration": 18,
    "start_time": "2022-11-23T01:58:33.980Z"
   },
   {
    "duration": 4,
    "start_time": "2022-11-23T01:58:45.506Z"
   },
   {
    "duration": 10,
    "start_time": "2022-11-23T01:58:50.603Z"
   },
   {
    "duration": 11,
    "start_time": "2022-11-23T02:00:00.475Z"
   },
   {
    "duration": 7,
    "start_time": "2022-11-23T02:00:31.673Z"
   },
   {
    "duration": 9,
    "start_time": "2022-11-23T02:00:47.439Z"
   },
   {
    "duration": 9,
    "start_time": "2022-11-23T02:00:54.951Z"
   },
   {
    "duration": 9,
    "start_time": "2022-11-23T02:01:15.012Z"
   },
   {
    "duration": 49,
    "start_time": "2022-11-23T02:02:45.861Z"
   },
   {
    "duration": 10,
    "start_time": "2022-11-23T02:02:54.896Z"
   },
   {
    "duration": 9,
    "start_time": "2022-11-23T02:03:16.862Z"
   },
   {
    "duration": 8,
    "start_time": "2022-11-23T02:03:20.281Z"
   },
   {
    "duration": 8,
    "start_time": "2022-11-23T02:03:28.518Z"
   },
   {
    "duration": 1049,
    "start_time": "2022-11-23T02:04:26.778Z"
   },
   {
    "duration": 54,
    "start_time": "2022-11-23T02:04:27.829Z"
   },
   {
    "duration": 19,
    "start_time": "2022-11-23T02:04:27.885Z"
   },
   {
    "duration": 18,
    "start_time": "2022-11-23T02:04:27.906Z"
   },
   {
    "duration": 14,
    "start_time": "2022-11-23T02:04:27.926Z"
   },
   {
    "duration": 2,
    "start_time": "2022-11-23T02:04:27.942Z"
   },
   {
    "duration": 21,
    "start_time": "2022-11-23T02:04:27.945Z"
   },
   {
    "duration": 7,
    "start_time": "2022-11-23T02:04:27.967Z"
   },
   {
    "duration": 6,
    "start_time": "2022-11-23T02:04:27.976Z"
   },
   {
    "duration": 9,
    "start_time": "2022-11-23T02:04:27.985Z"
   },
   {
    "duration": 21,
    "start_time": "2022-11-23T02:04:27.996Z"
   },
   {
    "duration": 24,
    "start_time": "2022-11-23T02:04:28.018Z"
   },
   {
    "duration": 7,
    "start_time": "2022-11-23T02:04:28.043Z"
   },
   {
    "duration": 18,
    "start_time": "2022-11-23T02:04:28.052Z"
   },
   {
    "duration": 3,
    "start_time": "2022-11-23T02:04:28.071Z"
   },
   {
    "duration": 5,
    "start_time": "2022-11-23T02:04:28.076Z"
   },
   {
    "duration": 10,
    "start_time": "2022-11-23T02:04:28.082Z"
   },
   {
    "duration": 16,
    "start_time": "2022-11-23T02:04:28.094Z"
   },
   {
    "duration": 278,
    "start_time": "2022-11-23T02:04:28.112Z"
   },
   {
    "duration": 5,
    "start_time": "2022-11-23T02:04:28.392Z"
   },
   {
    "duration": 233,
    "start_time": "2022-11-23T02:04:28.399Z"
   },
   {
    "duration": 8,
    "start_time": "2022-11-23T02:04:28.634Z"
   },
   {
    "duration": 8,
    "start_time": "2022-11-23T02:04:28.643Z"
   },
   {
    "duration": 339,
    "start_time": "2022-11-23T02:04:28.652Z"
   },
   {
    "duration": 309,
    "start_time": "2022-11-23T02:04:28.993Z"
   },
   {
    "duration": 4,
    "start_time": "2022-11-23T02:04:29.304Z"
   },
   {
    "duration": 188,
    "start_time": "2022-11-23T02:04:29.309Z"
   },
   {
    "duration": 5,
    "start_time": "2022-11-23T02:04:29.500Z"
   },
   {
    "duration": 199,
    "start_time": "2022-11-23T02:04:29.507Z"
   },
   {
    "duration": 5,
    "start_time": "2022-11-23T02:04:29.707Z"
   },
   {
    "duration": 81,
    "start_time": "2022-11-23T02:04:29.713Z"
   },
   {
    "duration": 268,
    "start_time": "2022-11-23T02:04:29.796Z"
   },
   {
    "duration": 207,
    "start_time": "2022-11-23T02:04:30.065Z"
   },
   {
    "duration": 156,
    "start_time": "2022-11-23T02:04:30.273Z"
   },
   {
    "duration": 157,
    "start_time": "2022-11-23T02:04:30.434Z"
   },
   {
    "duration": 173,
    "start_time": "2022-11-23T02:04:30.592Z"
   },
   {
    "duration": 173,
    "start_time": "2022-11-23T02:04:30.767Z"
   },
   {
    "duration": 168,
    "start_time": "2022-11-23T02:04:30.941Z"
   },
   {
    "duration": 150,
    "start_time": "2022-11-23T02:04:31.112Z"
   },
   {
    "duration": 151,
    "start_time": "2022-11-23T02:04:31.264Z"
   },
   {
    "duration": 175,
    "start_time": "2022-11-23T02:04:31.416Z"
   },
   {
    "duration": 153,
    "start_time": "2022-11-23T02:04:31.592Z"
   },
   {
    "duration": 8,
    "start_time": "2022-11-23T02:04:31.746Z"
   },
   {
    "duration": 28,
    "start_time": "2022-11-23T02:04:31.755Z"
   },
   {
    "duration": 25,
    "start_time": "2022-11-23T02:04:31.784Z"
   },
   {
    "duration": 24,
    "start_time": "2022-11-23T02:04:31.810Z"
   },
   {
    "duration": 25,
    "start_time": "2022-11-23T02:04:31.835Z"
   },
   {
    "duration": 37,
    "start_time": "2022-11-23T02:04:31.861Z"
   },
   {
    "duration": 51,
    "start_time": "2022-11-23T02:09:04.574Z"
   },
   {
    "duration": 1081,
    "start_time": "2022-11-23T02:09:57.352Z"
   },
   {
    "duration": 54,
    "start_time": "2022-11-23T02:09:58.435Z"
   },
   {
    "duration": 20,
    "start_time": "2022-11-23T02:09:58.490Z"
   },
   {
    "duration": 13,
    "start_time": "2022-11-23T02:09:58.512Z"
   },
   {
    "duration": 17,
    "start_time": "2022-11-23T02:09:58.527Z"
   },
   {
    "duration": 3,
    "start_time": "2022-11-23T02:09:58.545Z"
   },
   {
    "duration": 20,
    "start_time": "2022-11-23T02:09:58.550Z"
   },
   {
    "duration": 10,
    "start_time": "2022-11-23T02:09:58.572Z"
   },
   {
    "duration": 7,
    "start_time": "2022-11-23T02:09:58.583Z"
   },
   {
    "duration": 12,
    "start_time": "2022-11-23T02:09:58.593Z"
   },
   {
    "duration": 18,
    "start_time": "2022-11-23T02:09:58.607Z"
   },
   {
    "duration": 17,
    "start_time": "2022-11-23T02:09:58.627Z"
   },
   {
    "duration": 8,
    "start_time": "2022-11-23T02:09:58.646Z"
   },
   {
    "duration": 16,
    "start_time": "2022-11-23T02:09:58.655Z"
   },
   {
    "duration": 10,
    "start_time": "2022-11-23T02:09:58.673Z"
   },
   {
    "duration": 6,
    "start_time": "2022-11-23T02:09:58.684Z"
   },
   {
    "duration": 11,
    "start_time": "2022-11-23T02:09:58.692Z"
   },
   {
    "duration": 19,
    "start_time": "2022-11-23T02:09:58.704Z"
   },
   {
    "duration": 287,
    "start_time": "2022-11-23T02:09:58.725Z"
   },
   {
    "duration": 5,
    "start_time": "2022-11-23T02:09:59.013Z"
   },
   {
    "duration": 242,
    "start_time": "2022-11-23T02:09:59.020Z"
   },
   {
    "duration": 8,
    "start_time": "2022-11-23T02:09:59.264Z"
   },
   {
    "duration": 7,
    "start_time": "2022-11-23T02:09:59.274Z"
   },
   {
    "duration": 331,
    "start_time": "2022-11-23T02:09:59.283Z"
   },
   {
    "duration": 286,
    "start_time": "2022-11-23T02:09:59.616Z"
   },
   {
    "duration": 4,
    "start_time": "2022-11-23T02:09:59.903Z"
   },
   {
    "duration": 194,
    "start_time": "2022-11-23T02:09:59.909Z"
   },
   {
    "duration": 5,
    "start_time": "2022-11-23T02:10:00.107Z"
   },
   {
    "duration": 194,
    "start_time": "2022-11-23T02:10:00.113Z"
   },
   {
    "duration": 4,
    "start_time": "2022-11-23T02:10:00.309Z"
   },
   {
    "duration": 76,
    "start_time": "2022-11-23T02:10:00.315Z"
   },
   {
    "duration": 294,
    "start_time": "2022-11-23T02:10:00.392Z"
   },
   {
    "duration": 216,
    "start_time": "2022-11-23T02:10:00.688Z"
   },
   {
    "duration": 154,
    "start_time": "2022-11-23T02:10:00.906Z"
   },
   {
    "duration": 277,
    "start_time": "2022-11-23T02:10:01.061Z"
   },
   {
    "duration": 160,
    "start_time": "2022-11-23T02:10:01.339Z"
   },
   {
    "duration": 168,
    "start_time": "2022-11-23T02:10:01.501Z"
   },
   {
    "duration": 171,
    "start_time": "2022-11-23T02:10:01.671Z"
   },
   {
    "duration": 175,
    "start_time": "2022-11-23T02:10:01.844Z"
   },
   {
    "duration": 186,
    "start_time": "2022-11-23T02:10:02.021Z"
   },
   {
    "duration": 175,
    "start_time": "2022-11-23T02:10:02.208Z"
   },
   {
    "duration": 214,
    "start_time": "2022-11-23T02:10:02.385Z"
   },
   {
    "duration": 9,
    "start_time": "2022-11-23T02:10:02.601Z"
   },
   {
    "duration": 22,
    "start_time": "2022-11-23T02:10:02.611Z"
   },
   {
    "duration": 11,
    "start_time": "2022-11-23T02:10:02.634Z"
   },
   {
    "duration": 23,
    "start_time": "2022-11-23T02:10:02.646Z"
   },
   {
    "duration": 30,
    "start_time": "2022-11-23T02:10:02.671Z"
   },
   {
    "duration": 51,
    "start_time": "2022-11-23T02:10:02.703Z"
   },
   {
    "duration": 268,
    "start_time": "2022-11-23T02:16:00.899Z"
   },
   {
    "duration": 6,
    "start_time": "2022-11-23T02:16:03.958Z"
   },
   {
    "duration": 178,
    "start_time": "2022-11-23T02:16:14.044Z"
   },
   {
    "duration": 65,
    "start_time": "2022-11-23T02:19:13.519Z"
   },
   {
    "duration": 70,
    "start_time": "2022-11-23T02:19:43.511Z"
   },
   {
    "duration": 68,
    "start_time": "2022-11-23T02:22:43.186Z"
   },
   {
    "duration": 74,
    "start_time": "2022-11-23T02:23:43.946Z"
   },
   {
    "duration": 68,
    "start_time": "2022-11-23T02:24:29.194Z"
   },
   {
    "duration": 1217,
    "start_time": "2022-11-23T02:24:32.218Z"
   },
   {
    "duration": 56,
    "start_time": "2022-11-23T02:24:33.437Z"
   },
   {
    "duration": 20,
    "start_time": "2022-11-23T02:24:33.495Z"
   },
   {
    "duration": 24,
    "start_time": "2022-11-23T02:24:33.518Z"
   },
   {
    "duration": 21,
    "start_time": "2022-11-23T02:24:33.543Z"
   },
   {
    "duration": 5,
    "start_time": "2022-11-23T02:24:33.566Z"
   },
   {
    "duration": 44,
    "start_time": "2022-11-23T02:24:33.573Z"
   },
   {
    "duration": 16,
    "start_time": "2022-11-23T02:24:33.618Z"
   },
   {
    "duration": 8,
    "start_time": "2022-11-23T02:24:33.636Z"
   },
   {
    "duration": 16,
    "start_time": "2022-11-23T02:24:33.647Z"
   },
   {
    "duration": 19,
    "start_time": "2022-11-23T02:24:33.665Z"
   },
   {
    "duration": 14,
    "start_time": "2022-11-23T02:24:33.686Z"
   },
   {
    "duration": 8,
    "start_time": "2022-11-23T02:24:33.701Z"
   },
   {
    "duration": 13,
    "start_time": "2022-11-23T02:24:33.711Z"
   },
   {
    "duration": 6,
    "start_time": "2022-11-23T02:24:33.725Z"
   },
   {
    "duration": 9,
    "start_time": "2022-11-23T02:24:33.735Z"
   },
   {
    "duration": 6,
    "start_time": "2022-11-23T02:24:33.745Z"
   },
   {
    "duration": 15,
    "start_time": "2022-11-23T02:24:33.753Z"
   },
   {
    "duration": 312,
    "start_time": "2022-11-23T02:24:33.770Z"
   },
   {
    "duration": 6,
    "start_time": "2022-11-23T02:24:34.084Z"
   },
   {
    "duration": 265,
    "start_time": "2022-11-23T02:24:34.091Z"
   },
   {
    "duration": 8,
    "start_time": "2022-11-23T02:24:34.358Z"
   },
   {
    "duration": 9,
    "start_time": "2022-11-23T02:24:34.368Z"
   },
   {
    "duration": 338,
    "start_time": "2022-11-23T02:24:34.378Z"
   },
   {
    "duration": 292,
    "start_time": "2022-11-23T02:24:34.717Z"
   },
   {
    "duration": 4,
    "start_time": "2022-11-23T02:24:35.011Z"
   },
   {
    "duration": 198,
    "start_time": "2022-11-23T02:24:35.016Z"
   },
   {
    "duration": 6,
    "start_time": "2022-11-23T02:24:35.217Z"
   },
   {
    "duration": 213,
    "start_time": "2022-11-23T02:24:35.225Z"
   },
   {
    "duration": 6,
    "start_time": "2022-11-23T02:24:35.440Z"
   },
   {
    "duration": 172,
    "start_time": "2022-11-23T02:24:35.447Z"
   },
   {
    "duration": 225,
    "start_time": "2022-11-23T02:24:35.621Z"
   },
   {
    "duration": 223,
    "start_time": "2022-11-23T02:24:35.847Z"
   },
   {
    "duration": 170,
    "start_time": "2022-11-23T02:24:36.071Z"
   },
   {
    "duration": 168,
    "start_time": "2022-11-23T02:24:36.243Z"
   },
   {
    "duration": 167,
    "start_time": "2022-11-23T02:24:36.413Z"
   },
   {
    "duration": 192,
    "start_time": "2022-11-23T02:24:36.582Z"
   },
   {
    "duration": 189,
    "start_time": "2022-11-23T02:24:36.777Z"
   },
   {
    "duration": 163,
    "start_time": "2022-11-23T02:24:36.968Z"
   },
   {
    "duration": 158,
    "start_time": "2022-11-23T02:24:37.136Z"
   },
   {
    "duration": 169,
    "start_time": "2022-11-23T02:24:37.296Z"
   },
   {
    "duration": 171,
    "start_time": "2022-11-23T02:24:37.466Z"
   },
   {
    "duration": 8,
    "start_time": "2022-11-23T02:24:37.638Z"
   },
   {
    "duration": 16,
    "start_time": "2022-11-23T02:24:37.647Z"
   },
   {
    "duration": 10,
    "start_time": "2022-11-23T02:24:37.664Z"
   },
   {
    "duration": 11,
    "start_time": "2022-11-23T02:24:37.676Z"
   },
   {
    "duration": 18,
    "start_time": "2022-11-23T02:24:37.689Z"
   },
   {
    "duration": 5,
    "start_time": "2022-11-23T02:24:37.708Z"
   },
   {
    "duration": 1113,
    "start_time": "2022-11-23T02:36:52.355Z"
   },
   {
    "duration": 54,
    "start_time": "2022-11-23T02:36:53.470Z"
   },
   {
    "duration": 24,
    "start_time": "2022-11-23T02:36:53.526Z"
   },
   {
    "duration": 28,
    "start_time": "2022-11-23T02:36:53.552Z"
   },
   {
    "duration": 16,
    "start_time": "2022-11-23T02:36:53.581Z"
   },
   {
    "duration": 3,
    "start_time": "2022-11-23T02:36:53.598Z"
   },
   {
    "duration": 20,
    "start_time": "2022-11-23T02:36:53.603Z"
   },
   {
    "duration": 34,
    "start_time": "2022-11-23T02:36:53.625Z"
   },
   {
    "duration": 12,
    "start_time": "2022-11-23T02:36:53.661Z"
   },
   {
    "duration": 8,
    "start_time": "2022-11-23T02:36:53.676Z"
   },
   {
    "duration": 12,
    "start_time": "2022-11-23T02:36:53.686Z"
   },
   {
    "duration": 14,
    "start_time": "2022-11-23T02:36:53.700Z"
   },
   {
    "duration": 6,
    "start_time": "2022-11-23T02:36:53.716Z"
   },
   {
    "duration": 10,
    "start_time": "2022-11-23T02:36:53.723Z"
   },
   {
    "duration": 17,
    "start_time": "2022-11-23T02:36:53.734Z"
   },
   {
    "duration": 16,
    "start_time": "2022-11-23T02:36:53.753Z"
   },
   {
    "duration": 15,
    "start_time": "2022-11-23T02:36:53.770Z"
   },
   {
    "duration": 10,
    "start_time": "2022-11-23T02:36:53.787Z"
   },
   {
    "duration": 300,
    "start_time": "2022-11-23T02:36:53.799Z"
   },
   {
    "duration": 6,
    "start_time": "2022-11-23T02:36:54.100Z"
   },
   {
    "duration": 268,
    "start_time": "2022-11-23T02:36:54.107Z"
   },
   {
    "duration": 8,
    "start_time": "2022-11-23T02:36:54.377Z"
   },
   {
    "duration": 12,
    "start_time": "2022-11-23T02:36:54.387Z"
   },
   {
    "duration": 331,
    "start_time": "2022-11-23T02:36:54.401Z"
   },
   {
    "duration": 318,
    "start_time": "2022-11-23T02:36:54.734Z"
   },
   {
    "duration": 5,
    "start_time": "2022-11-23T02:36:55.054Z"
   },
   {
    "duration": 215,
    "start_time": "2022-11-23T02:36:55.060Z"
   },
   {
    "duration": 5,
    "start_time": "2022-11-23T02:36:55.279Z"
   },
   {
    "duration": 204,
    "start_time": "2022-11-23T02:36:55.286Z"
   },
   {
    "duration": 5,
    "start_time": "2022-11-23T02:36:55.492Z"
   },
   {
    "duration": 172,
    "start_time": "2022-11-23T02:36:55.498Z"
   },
   {
    "duration": 17,
    "start_time": "2022-11-23T02:36:55.671Z"
   },
   {
    "duration": 108,
    "start_time": "2022-11-23T02:36:55.690Z"
   },
   {
    "duration": 0,
    "start_time": "2022-11-23T02:36:55.799Z"
   },
   {
    "duration": 0,
    "start_time": "2022-11-23T02:36:55.800Z"
   },
   {
    "duration": 0,
    "start_time": "2022-11-23T02:36:55.802Z"
   },
   {
    "duration": 0,
    "start_time": "2022-11-23T02:36:55.802Z"
   },
   {
    "duration": 0,
    "start_time": "2022-11-23T02:36:55.803Z"
   },
   {
    "duration": 0,
    "start_time": "2022-11-23T02:36:55.805Z"
   },
   {
    "duration": 0,
    "start_time": "2022-11-23T02:36:55.806Z"
   },
   {
    "duration": 0,
    "start_time": "2022-11-23T02:36:55.807Z"
   },
   {
    "duration": 0,
    "start_time": "2022-11-23T02:36:55.808Z"
   },
   {
    "duration": 0,
    "start_time": "2022-11-23T02:36:55.809Z"
   },
   {
    "duration": 0,
    "start_time": "2022-11-23T02:36:55.810Z"
   },
   {
    "duration": 0,
    "start_time": "2022-11-23T02:36:55.811Z"
   },
   {
    "duration": 0,
    "start_time": "2022-11-23T02:36:55.811Z"
   },
   {
    "duration": 0,
    "start_time": "2022-11-23T02:36:55.812Z"
   },
   {
    "duration": 0,
    "start_time": "2022-11-23T02:36:55.837Z"
   },
   {
    "duration": 0,
    "start_time": "2022-11-23T02:36:55.837Z"
   },
   {
    "duration": 0,
    "start_time": "2022-11-23T02:36:55.838Z"
   },
   {
    "duration": 71,
    "start_time": "2022-11-23T02:42:17.845Z"
   },
   {
    "duration": 70,
    "start_time": "2022-11-23T02:42:58.414Z"
   },
   {
    "duration": 1122,
    "start_time": "2022-11-23T02:43:04.063Z"
   },
   {
    "duration": 55,
    "start_time": "2022-11-23T02:43:05.186Z"
   },
   {
    "duration": 18,
    "start_time": "2022-11-23T02:43:05.243Z"
   },
   {
    "duration": 20,
    "start_time": "2022-11-23T02:43:05.263Z"
   },
   {
    "duration": 16,
    "start_time": "2022-11-23T02:43:05.285Z"
   },
   {
    "duration": 8,
    "start_time": "2022-11-23T02:43:05.304Z"
   },
   {
    "duration": 34,
    "start_time": "2022-11-23T02:43:05.314Z"
   },
   {
    "duration": 8,
    "start_time": "2022-11-23T02:43:05.350Z"
   },
   {
    "duration": 6,
    "start_time": "2022-11-23T02:43:05.359Z"
   },
   {
    "duration": 13,
    "start_time": "2022-11-23T02:43:05.368Z"
   },
   {
    "duration": 11,
    "start_time": "2022-11-23T02:43:05.382Z"
   },
   {
    "duration": 19,
    "start_time": "2022-11-23T02:43:05.395Z"
   },
   {
    "duration": 22,
    "start_time": "2022-11-23T02:43:05.416Z"
   },
   {
    "duration": 8,
    "start_time": "2022-11-23T02:43:05.440Z"
   },
   {
    "duration": 7,
    "start_time": "2022-11-23T02:43:05.450Z"
   },
   {
    "duration": 9,
    "start_time": "2022-11-23T02:43:05.458Z"
   },
   {
    "duration": 31,
    "start_time": "2022-11-23T02:43:05.469Z"
   },
   {
    "duration": 22,
    "start_time": "2022-11-23T02:43:05.501Z"
   },
   {
    "duration": 325,
    "start_time": "2022-11-23T02:43:05.525Z"
   },
   {
    "duration": 5,
    "start_time": "2022-11-23T02:43:05.852Z"
   },
   {
    "duration": 267,
    "start_time": "2022-11-23T02:43:05.859Z"
   },
   {
    "duration": 14,
    "start_time": "2022-11-23T02:43:06.128Z"
   },
   {
    "duration": 16,
    "start_time": "2022-11-23T02:43:06.143Z"
   },
   {
    "duration": 322,
    "start_time": "2022-11-23T02:43:06.161Z"
   },
   {
    "duration": 334,
    "start_time": "2022-11-23T02:43:06.484Z"
   },
   {
    "duration": 4,
    "start_time": "2022-11-23T02:43:06.820Z"
   },
   {
    "duration": 201,
    "start_time": "2022-11-23T02:43:06.835Z"
   },
   {
    "duration": 6,
    "start_time": "2022-11-23T02:43:07.039Z"
   },
   {
    "duration": 198,
    "start_time": "2022-11-23T02:43:07.046Z"
   },
   {
    "duration": 6,
    "start_time": "2022-11-23T02:43:07.245Z"
   },
   {
    "duration": 169,
    "start_time": "2022-11-23T02:43:07.252Z"
   },
   {
    "duration": 27,
    "start_time": "2022-11-23T02:43:07.423Z"
   },
   {
    "duration": 108,
    "start_time": "2022-11-23T02:43:07.452Z"
   },
   {
    "duration": 0,
    "start_time": "2022-11-23T02:43:07.562Z"
   },
   {
    "duration": 0,
    "start_time": "2022-11-23T02:43:07.563Z"
   },
   {
    "duration": 0,
    "start_time": "2022-11-23T02:43:07.564Z"
   },
   {
    "duration": 0,
    "start_time": "2022-11-23T02:43:07.565Z"
   },
   {
    "duration": 0,
    "start_time": "2022-11-23T02:43:07.567Z"
   },
   {
    "duration": 0,
    "start_time": "2022-11-23T02:43:07.568Z"
   },
   {
    "duration": 0,
    "start_time": "2022-11-23T02:43:07.569Z"
   },
   {
    "duration": 0,
    "start_time": "2022-11-23T02:43:07.570Z"
   },
   {
    "duration": 0,
    "start_time": "2022-11-23T02:43:07.571Z"
   },
   {
    "duration": 0,
    "start_time": "2022-11-23T02:43:07.572Z"
   },
   {
    "duration": 0,
    "start_time": "2022-11-23T02:43:07.573Z"
   },
   {
    "duration": 0,
    "start_time": "2022-11-23T02:43:07.574Z"
   },
   {
    "duration": 0,
    "start_time": "2022-11-23T02:43:07.575Z"
   },
   {
    "duration": 0,
    "start_time": "2022-11-23T02:43:07.576Z"
   },
   {
    "duration": 0,
    "start_time": "2022-11-23T02:43:07.577Z"
   },
   {
    "duration": 0,
    "start_time": "2022-11-23T02:43:07.578Z"
   },
   {
    "duration": 0,
    "start_time": "2022-11-23T02:43:07.579Z"
   },
   {
    "duration": 24,
    "start_time": "2022-11-23T02:44:30.447Z"
   },
   {
    "duration": 29,
    "start_time": "2022-11-23T02:44:42.558Z"
   },
   {
    "duration": 1038,
    "start_time": "2022-11-23T02:48:25.191Z"
   },
   {
    "duration": 55,
    "start_time": "2022-11-23T02:48:26.231Z"
   },
   {
    "duration": 18,
    "start_time": "2022-11-23T02:48:26.287Z"
   },
   {
    "duration": 14,
    "start_time": "2022-11-23T02:48:26.308Z"
   },
   {
    "duration": 14,
    "start_time": "2022-11-23T02:48:26.323Z"
   },
   {
    "duration": 3,
    "start_time": "2022-11-23T02:48:26.338Z"
   },
   {
    "duration": 15,
    "start_time": "2022-11-23T02:48:26.343Z"
   },
   {
    "duration": 7,
    "start_time": "2022-11-23T02:48:26.360Z"
   },
   {
    "duration": 5,
    "start_time": "2022-11-23T02:48:26.369Z"
   },
   {
    "duration": 6,
    "start_time": "2022-11-23T02:48:26.377Z"
   },
   {
    "duration": 12,
    "start_time": "2022-11-23T02:48:26.385Z"
   },
   {
    "duration": 16,
    "start_time": "2022-11-23T02:48:26.398Z"
   },
   {
    "duration": 23,
    "start_time": "2022-11-23T02:48:26.416Z"
   },
   {
    "duration": 8,
    "start_time": "2022-11-23T02:48:26.440Z"
   },
   {
    "duration": 2,
    "start_time": "2022-11-23T02:48:26.450Z"
   },
   {
    "duration": 5,
    "start_time": "2022-11-23T02:48:26.454Z"
   },
   {
    "duration": 12,
    "start_time": "2022-11-23T02:48:26.460Z"
   },
   {
    "duration": 7,
    "start_time": "2022-11-23T02:48:26.473Z"
   },
   {
    "duration": 307,
    "start_time": "2022-11-23T02:48:26.482Z"
   },
   {
    "duration": 6,
    "start_time": "2022-11-23T02:48:26.790Z"
   },
   {
    "duration": 245,
    "start_time": "2022-11-23T02:48:26.797Z"
   },
   {
    "duration": 9,
    "start_time": "2022-11-23T02:48:27.044Z"
   },
   {
    "duration": 4,
    "start_time": "2022-11-23T02:48:27.054Z"
   },
   {
    "duration": 311,
    "start_time": "2022-11-23T02:48:27.060Z"
   },
   {
    "duration": 275,
    "start_time": "2022-11-23T02:48:27.373Z"
   },
   {
    "duration": 4,
    "start_time": "2022-11-23T02:48:27.650Z"
   },
   {
    "duration": 189,
    "start_time": "2022-11-23T02:48:27.656Z"
   },
   {
    "duration": 5,
    "start_time": "2022-11-23T02:48:27.850Z"
   },
   {
    "duration": 186,
    "start_time": "2022-11-23T02:48:27.857Z"
   },
   {
    "duration": 5,
    "start_time": "2022-11-23T02:48:28.046Z"
   },
   {
    "duration": 156,
    "start_time": "2022-11-23T02:48:28.053Z"
   },
   {
    "duration": 193,
    "start_time": "2022-11-23T02:48:28.211Z"
   },
   {
    "duration": 230,
    "start_time": "2022-11-23T02:48:28.405Z"
   },
   {
    "duration": 171,
    "start_time": "2022-11-23T02:48:28.637Z"
   },
   {
    "duration": 164,
    "start_time": "2022-11-23T02:48:28.809Z"
   },
   {
    "duration": 178,
    "start_time": "2022-11-23T02:48:28.975Z"
   },
   {
    "duration": 167,
    "start_time": "2022-11-23T02:48:29.155Z"
   },
   {
    "duration": 168,
    "start_time": "2022-11-23T02:48:29.324Z"
   },
   {
    "duration": 173,
    "start_time": "2022-11-23T02:48:29.494Z"
   },
   {
    "duration": 166,
    "start_time": "2022-11-23T02:48:29.669Z"
   },
   {
    "duration": 165,
    "start_time": "2022-11-23T02:48:29.837Z"
   },
   {
    "duration": 176,
    "start_time": "2022-11-23T02:48:30.004Z"
   },
   {
    "duration": 8,
    "start_time": "2022-11-23T02:48:30.182Z"
   },
   {
    "duration": 17,
    "start_time": "2022-11-23T02:48:30.191Z"
   },
   {
    "duration": 17,
    "start_time": "2022-11-23T02:48:30.210Z"
   },
   {
    "duration": 16,
    "start_time": "2022-11-23T02:48:30.229Z"
   },
   {
    "duration": 37,
    "start_time": "2022-11-23T02:48:30.246Z"
   },
   {
    "duration": 56,
    "start_time": "2022-11-23T02:48:30.285Z"
   },
   {
    "duration": 1295,
    "start_time": "2022-11-23T14:38:19.833Z"
   },
   {
    "duration": 196,
    "start_time": "2022-11-23T14:38:21.130Z"
   },
   {
    "duration": 19,
    "start_time": "2022-11-23T14:38:21.328Z"
   },
   {
    "duration": 13,
    "start_time": "2022-11-23T14:38:21.349Z"
   },
   {
    "duration": 14,
    "start_time": "2022-11-23T14:38:21.363Z"
   },
   {
    "duration": 3,
    "start_time": "2022-11-23T14:38:21.379Z"
   },
   {
    "duration": 39,
    "start_time": "2022-11-23T14:38:21.384Z"
   },
   {
    "duration": 12,
    "start_time": "2022-11-23T14:38:21.426Z"
   },
   {
    "duration": 5,
    "start_time": "2022-11-23T14:38:21.440Z"
   },
   {
    "duration": 11,
    "start_time": "2022-11-23T14:38:21.448Z"
   },
   {
    "duration": 13,
    "start_time": "2022-11-23T14:38:21.461Z"
   },
   {
    "duration": 19,
    "start_time": "2022-11-23T14:38:21.476Z"
   },
   {
    "duration": 23,
    "start_time": "2022-11-23T14:38:21.496Z"
   },
   {
    "duration": 13,
    "start_time": "2022-11-23T14:38:21.524Z"
   },
   {
    "duration": 3,
    "start_time": "2022-11-23T14:38:21.538Z"
   },
   {
    "duration": 5,
    "start_time": "2022-11-23T14:38:21.542Z"
   },
   {
    "duration": 6,
    "start_time": "2022-11-23T14:38:21.548Z"
   },
   {
    "duration": 8,
    "start_time": "2022-11-23T14:38:21.556Z"
   },
   {
    "duration": 300,
    "start_time": "2022-11-23T14:38:21.565Z"
   },
   {
    "duration": 6,
    "start_time": "2022-11-23T14:38:21.866Z"
   },
   {
    "duration": 259,
    "start_time": "2022-11-23T14:38:21.873Z"
   },
   {
    "duration": 8,
    "start_time": "2022-11-23T14:38:22.133Z"
   },
   {
    "duration": 5,
    "start_time": "2022-11-23T14:38:22.143Z"
   },
   {
    "duration": 333,
    "start_time": "2022-11-23T14:38:22.149Z"
   },
   {
    "duration": 296,
    "start_time": "2022-11-23T14:38:22.484Z"
   },
   {
    "duration": 4,
    "start_time": "2022-11-23T14:38:22.781Z"
   },
   {
    "duration": 200,
    "start_time": "2022-11-23T14:38:22.786Z"
   },
   {
    "duration": 5,
    "start_time": "2022-11-23T14:38:22.989Z"
   },
   {
    "duration": 199,
    "start_time": "2022-11-23T14:38:22.996Z"
   },
   {
    "duration": 4,
    "start_time": "2022-11-23T14:38:23.197Z"
   },
   {
    "duration": 159,
    "start_time": "2022-11-23T14:38:23.203Z"
   },
   {
    "duration": 219,
    "start_time": "2022-11-23T14:38:23.364Z"
   },
   {
    "duration": 214,
    "start_time": "2022-11-23T14:38:23.585Z"
   },
   {
    "duration": 166,
    "start_time": "2022-11-23T14:38:23.800Z"
   },
   {
    "duration": 171,
    "start_time": "2022-11-23T14:38:23.968Z"
   },
   {
    "duration": 167,
    "start_time": "2022-11-23T14:38:24.141Z"
   },
   {
    "duration": 172,
    "start_time": "2022-11-23T14:38:24.310Z"
   },
   {
    "duration": 169,
    "start_time": "2022-11-23T14:38:24.484Z"
   },
   {
    "duration": 178,
    "start_time": "2022-11-23T14:38:24.655Z"
   },
   {
    "duration": 169,
    "start_time": "2022-11-23T14:38:24.834Z"
   },
   {
    "duration": 164,
    "start_time": "2022-11-23T14:38:25.014Z"
   },
   {
    "duration": 168,
    "start_time": "2022-11-23T14:38:25.179Z"
   },
   {
    "duration": 8,
    "start_time": "2022-11-23T14:38:25.349Z"
   },
   {
    "duration": 7,
    "start_time": "2022-11-23T14:38:25.358Z"
   },
   {
    "duration": 6,
    "start_time": "2022-11-23T14:38:25.366Z"
   },
   {
    "duration": 10,
    "start_time": "2022-11-23T14:38:25.373Z"
   },
   {
    "duration": 5,
    "start_time": "2022-11-23T14:38:25.384Z"
   },
   {
    "duration": 15,
    "start_time": "2022-11-23T14:38:25.412Z"
   },
   {
    "duration": 6,
    "start_time": "2022-11-23T15:21:52.630Z"
   },
   {
    "duration": 7,
    "start_time": "2022-11-23T15:21:59.598Z"
   },
   {
    "duration": 9,
    "start_time": "2022-11-23T15:22:02.204Z"
   },
   {
    "duration": 360,
    "start_time": "2022-11-23T15:28:50.668Z"
   },
   {
    "duration": 288,
    "start_time": "2022-11-23T15:29:00.842Z"
   },
   {
    "duration": 329,
    "start_time": "2022-11-23T15:29:04.598Z"
   },
   {
    "duration": 290,
    "start_time": "2022-11-23T15:33:29.159Z"
   },
   {
    "duration": 285,
    "start_time": "2022-11-23T15:33:55.775Z"
   },
   {
    "duration": 387,
    "start_time": "2022-11-23T15:35:51.573Z"
   },
   {
    "duration": 352,
    "start_time": "2022-11-23T15:36:10.152Z"
   },
   {
    "duration": 173,
    "start_time": "2022-11-23T15:47:54.898Z"
   },
   {
    "duration": 173,
    "start_time": "2022-11-23T15:48:02.208Z"
   },
   {
    "duration": 181,
    "start_time": "2022-11-23T15:48:12.593Z"
   },
   {
    "duration": 176,
    "start_time": "2022-11-23T15:48:19.466Z"
   },
   {
    "duration": 168,
    "start_time": "2022-11-23T15:49:02.007Z"
   },
   {
    "duration": 210,
    "start_time": "2022-11-23T15:49:11.019Z"
   },
   {
    "duration": 162,
    "start_time": "2022-11-23T15:49:18.129Z"
   },
   {
    "duration": 168,
    "start_time": "2022-11-23T15:49:32.547Z"
   },
   {
    "duration": 1103,
    "start_time": "2022-11-23T15:53:05.800Z"
   },
   {
    "duration": 61,
    "start_time": "2022-11-23T15:53:06.905Z"
   },
   {
    "duration": 20,
    "start_time": "2022-11-23T15:53:06.967Z"
   },
   {
    "duration": 14,
    "start_time": "2022-11-23T15:53:06.990Z"
   },
   {
    "duration": 16,
    "start_time": "2022-11-23T15:53:07.005Z"
   },
   {
    "duration": 3,
    "start_time": "2022-11-23T15:53:07.022Z"
   },
   {
    "duration": 16,
    "start_time": "2022-11-23T15:53:07.027Z"
   },
   {
    "duration": 7,
    "start_time": "2022-11-23T15:53:07.045Z"
   },
   {
    "duration": 5,
    "start_time": "2022-11-23T15:53:07.053Z"
   },
   {
    "duration": 9,
    "start_time": "2022-11-23T15:53:07.062Z"
   },
   {
    "duration": 46,
    "start_time": "2022-11-23T15:53:07.073Z"
   },
   {
    "duration": 21,
    "start_time": "2022-11-23T15:53:07.121Z"
   },
   {
    "duration": 10,
    "start_time": "2022-11-23T15:53:07.144Z"
   },
   {
    "duration": 12,
    "start_time": "2022-11-23T15:53:07.156Z"
   },
   {
    "duration": 2,
    "start_time": "2022-11-23T15:53:07.170Z"
   },
   {
    "duration": 8,
    "start_time": "2022-11-23T15:53:07.174Z"
   },
   {
    "duration": 29,
    "start_time": "2022-11-23T15:53:07.184Z"
   },
   {
    "duration": 10,
    "start_time": "2022-11-23T15:53:07.215Z"
   },
   {
    "duration": 294,
    "start_time": "2022-11-23T15:53:07.227Z"
   },
   {
    "duration": 6,
    "start_time": "2022-11-23T15:53:07.522Z"
   },
   {
    "duration": 255,
    "start_time": "2022-11-23T15:53:07.530Z"
   },
   {
    "duration": 9,
    "start_time": "2022-11-23T15:53:07.786Z"
   },
   {
    "duration": 16,
    "start_time": "2022-11-23T15:53:07.797Z"
   },
   {
    "duration": 316,
    "start_time": "2022-11-23T15:53:07.815Z"
   },
   {
    "duration": 293,
    "start_time": "2022-11-23T15:53:08.132Z"
   },
   {
    "duration": 5,
    "start_time": "2022-11-23T15:53:08.427Z"
   },
   {
    "duration": 212,
    "start_time": "2022-11-23T15:53:08.434Z"
   },
   {
    "duration": 5,
    "start_time": "2022-11-23T15:53:08.650Z"
   },
   {
    "duration": 183,
    "start_time": "2022-11-23T15:53:08.656Z"
   },
   {
    "duration": 4,
    "start_time": "2022-11-23T15:53:08.841Z"
   },
   {
    "duration": 169,
    "start_time": "2022-11-23T15:53:08.847Z"
   },
   {
    "duration": 202,
    "start_time": "2022-11-23T15:53:09.017Z"
   },
   {
    "duration": 317,
    "start_time": "2022-11-23T15:53:09.220Z"
   },
   {
    "duration": 164,
    "start_time": "2022-11-23T15:53:09.539Z"
   },
   {
    "duration": 166,
    "start_time": "2022-11-23T15:53:09.713Z"
   },
   {
    "duration": 183,
    "start_time": "2022-11-23T15:53:09.880Z"
   },
   {
    "duration": 177,
    "start_time": "2022-11-23T15:53:10.065Z"
   },
   {
    "duration": 215,
    "start_time": "2022-11-23T15:53:10.243Z"
   },
   {
    "duration": 181,
    "start_time": "2022-11-23T15:53:10.460Z"
   },
   {
    "duration": 172,
    "start_time": "2022-11-23T15:53:10.642Z"
   },
   {
    "duration": 171,
    "start_time": "2022-11-23T15:53:10.816Z"
   },
   {
    "duration": 263,
    "start_time": "2022-11-23T15:53:10.989Z"
   },
   {
    "duration": 8,
    "start_time": "2022-11-23T15:53:11.253Z"
   },
   {
    "duration": 8,
    "start_time": "2022-11-23T15:53:11.263Z"
   },
   {
    "duration": 5,
    "start_time": "2022-11-23T15:53:11.273Z"
   },
   {
    "duration": 12,
    "start_time": "2022-11-23T15:53:11.280Z"
   },
   {
    "duration": 6,
    "start_time": "2022-11-23T15:53:11.312Z"
   },
   {
    "duration": 5,
    "start_time": "2022-11-23T15:53:11.320Z"
   },
   {
    "duration": 1078,
    "start_time": "2022-11-23T16:08:09.123Z"
   },
   {
    "duration": 66,
    "start_time": "2022-11-23T16:08:10.204Z"
   },
   {
    "duration": 29,
    "start_time": "2022-11-23T16:08:10.273Z"
   },
   {
    "duration": 17,
    "start_time": "2022-11-23T16:08:10.305Z"
   },
   {
    "duration": 22,
    "start_time": "2022-11-23T16:08:10.324Z"
   },
   {
    "duration": 5,
    "start_time": "2022-11-23T16:08:10.348Z"
   },
   {
    "duration": 26,
    "start_time": "2022-11-23T16:08:10.355Z"
   },
   {
    "duration": 30,
    "start_time": "2022-11-23T16:08:10.383Z"
   },
   {
    "duration": 7,
    "start_time": "2022-11-23T16:08:10.415Z"
   },
   {
    "duration": 16,
    "start_time": "2022-11-23T16:08:10.426Z"
   },
   {
    "duration": 20,
    "start_time": "2022-11-23T16:08:10.444Z"
   },
   {
    "duration": 22,
    "start_time": "2022-11-23T16:08:10.466Z"
   },
   {
    "duration": 24,
    "start_time": "2022-11-23T16:08:10.490Z"
   },
   {
    "duration": 10,
    "start_time": "2022-11-23T16:08:10.516Z"
   },
   {
    "duration": 4,
    "start_time": "2022-11-23T16:08:10.528Z"
   },
   {
    "duration": 7,
    "start_time": "2022-11-23T16:08:10.534Z"
   },
   {
    "duration": 8,
    "start_time": "2022-11-23T16:08:10.542Z"
   },
   {
    "duration": 8,
    "start_time": "2022-11-23T16:08:10.552Z"
   },
   {
    "duration": 301,
    "start_time": "2022-11-23T16:08:10.562Z"
   },
   {
    "duration": 6,
    "start_time": "2022-11-23T16:08:10.864Z"
   },
   {
    "duration": 270,
    "start_time": "2022-11-23T16:08:10.871Z"
   },
   {
    "duration": 11,
    "start_time": "2022-11-23T16:08:11.142Z"
   },
   {
    "duration": 5,
    "start_time": "2022-11-23T16:08:11.155Z"
   },
   {
    "duration": 355,
    "start_time": "2022-11-23T16:08:11.161Z"
   },
   {
    "duration": 292,
    "start_time": "2022-11-23T16:08:11.518Z"
   },
   {
    "duration": 4,
    "start_time": "2022-11-23T16:08:11.812Z"
   },
   {
    "duration": 186,
    "start_time": "2022-11-23T16:08:11.817Z"
   },
   {
    "duration": 7,
    "start_time": "2022-11-23T16:08:12.013Z"
   },
   {
    "duration": 185,
    "start_time": "2022-11-23T16:08:12.021Z"
   },
   {
    "duration": 5,
    "start_time": "2022-11-23T16:08:12.212Z"
   },
   {
    "duration": 168,
    "start_time": "2022-11-23T16:08:12.219Z"
   },
   {
    "duration": 202,
    "start_time": "2022-11-23T16:08:12.389Z"
   },
   {
    "duration": 331,
    "start_time": "2022-11-23T16:08:12.593Z"
   },
   {
    "duration": 191,
    "start_time": "2022-11-23T16:08:12.926Z"
   },
   {
    "duration": 174,
    "start_time": "2022-11-23T16:08:13.118Z"
   },
   {
    "duration": 191,
    "start_time": "2022-11-23T16:08:13.294Z"
   },
   {
    "duration": 182,
    "start_time": "2022-11-23T16:08:13.487Z"
   },
   {
    "duration": 176,
    "start_time": "2022-11-23T16:08:13.671Z"
   },
   {
    "duration": 188,
    "start_time": "2022-11-23T16:08:13.848Z"
   },
   {
    "duration": 189,
    "start_time": "2022-11-23T16:08:14.038Z"
   },
   {
    "duration": 193,
    "start_time": "2022-11-23T16:08:14.229Z"
   },
   {
    "duration": 376,
    "start_time": "2022-11-23T16:08:14.423Z"
   },
   {
    "duration": 13,
    "start_time": "2022-11-23T16:08:14.801Z"
   },
   {
    "duration": 7,
    "start_time": "2022-11-23T16:08:14.816Z"
   },
   {
    "duration": 39,
    "start_time": "2022-11-23T16:08:14.825Z"
   },
   {
    "duration": 20,
    "start_time": "2022-11-23T16:08:14.866Z"
   },
   {
    "duration": 6,
    "start_time": "2022-11-23T16:08:14.888Z"
   },
   {
    "duration": 6,
    "start_time": "2022-11-23T16:08:14.896Z"
   },
   {
    "duration": 1139,
    "start_time": "2022-11-23T16:11:26.179Z"
   },
   {
    "duration": 51,
    "start_time": "2022-11-23T16:11:27.320Z"
   },
   {
    "duration": 18,
    "start_time": "2022-11-23T16:11:27.373Z"
   },
   {
    "duration": 15,
    "start_time": "2022-11-23T16:11:27.393Z"
   },
   {
    "duration": 13,
    "start_time": "2022-11-23T16:11:27.410Z"
   },
   {
    "duration": 3,
    "start_time": "2022-11-23T16:11:27.425Z"
   },
   {
    "duration": 19,
    "start_time": "2022-11-23T16:11:27.429Z"
   },
   {
    "duration": 8,
    "start_time": "2022-11-23T16:11:27.449Z"
   },
   {
    "duration": 5,
    "start_time": "2022-11-23T16:11:27.458Z"
   },
   {
    "duration": 7,
    "start_time": "2022-11-23T16:11:27.466Z"
   },
   {
    "duration": 9,
    "start_time": "2022-11-23T16:11:27.475Z"
   },
   {
    "duration": 29,
    "start_time": "2022-11-23T16:11:27.485Z"
   },
   {
    "duration": 7,
    "start_time": "2022-11-23T16:11:27.516Z"
   },
   {
    "duration": 9,
    "start_time": "2022-11-23T16:11:27.525Z"
   },
   {
    "duration": 4,
    "start_time": "2022-11-23T16:11:27.535Z"
   },
   {
    "duration": 7,
    "start_time": "2022-11-23T16:11:27.541Z"
   },
   {
    "duration": 305,
    "start_time": "2022-11-23T16:11:27.550Z"
   },
   {
    "duration": 6,
    "start_time": "2022-11-23T16:11:27.856Z"
   },
   {
    "duration": 250,
    "start_time": "2022-11-23T16:11:27.863Z"
   },
   {
    "duration": 9,
    "start_time": "2022-11-23T16:11:28.115Z"
   },
   {
    "duration": 5,
    "start_time": "2022-11-23T16:11:28.126Z"
   },
   {
    "duration": 316,
    "start_time": "2022-11-23T16:11:28.132Z"
   },
   {
    "duration": 301,
    "start_time": "2022-11-23T16:11:28.450Z"
   },
   {
    "duration": 4,
    "start_time": "2022-11-23T16:11:28.753Z"
   },
   {
    "duration": 204,
    "start_time": "2022-11-23T16:11:28.759Z"
   },
   {
    "duration": 6,
    "start_time": "2022-11-23T16:11:28.965Z"
   },
   {
    "duration": 202,
    "start_time": "2022-11-23T16:11:28.972Z"
   },
   {
    "duration": 6,
    "start_time": "2022-11-23T16:11:29.177Z"
   },
   {
    "duration": 161,
    "start_time": "2022-11-23T16:11:29.184Z"
   },
   {
    "duration": 209,
    "start_time": "2022-11-23T16:11:29.346Z"
   },
   {
    "duration": 312,
    "start_time": "2022-11-23T16:11:29.558Z"
   },
   {
    "duration": 170,
    "start_time": "2022-11-23T16:11:29.872Z"
   },
   {
    "duration": 175,
    "start_time": "2022-11-23T16:11:30.044Z"
   },
   {
    "duration": 215,
    "start_time": "2022-11-23T16:11:30.221Z"
   },
   {
    "duration": 201,
    "start_time": "2022-11-23T16:11:30.438Z"
   },
   {
    "duration": 181,
    "start_time": "2022-11-23T16:11:30.641Z"
   },
   {
    "duration": 189,
    "start_time": "2022-11-23T16:11:30.824Z"
   },
   {
    "duration": 177,
    "start_time": "2022-11-23T16:11:31.015Z"
   },
   {
    "duration": 193,
    "start_time": "2022-11-23T16:11:31.194Z"
   },
   {
    "duration": 278,
    "start_time": "2022-11-23T16:11:31.389Z"
   },
   {
    "duration": 9,
    "start_time": "2022-11-23T16:11:31.669Z"
   },
   {
    "duration": 8,
    "start_time": "2022-11-23T16:11:31.679Z"
   },
   {
    "duration": 5,
    "start_time": "2022-11-23T16:11:31.689Z"
   },
   {
    "duration": 22,
    "start_time": "2022-11-23T16:11:31.696Z"
   },
   {
    "duration": 6,
    "start_time": "2022-11-23T16:11:31.720Z"
   },
   {
    "duration": 6,
    "start_time": "2022-11-23T16:11:31.728Z"
   }
  ],
  "kernelspec": {
   "display_name": "Python 3 (ipykernel)",
   "language": "python",
   "name": "python3"
  },
  "language_info": {
   "codemirror_mode": {
    "name": "ipython",
    "version": 3
   },
   "file_extension": ".py",
   "mimetype": "text/x-python",
   "name": "python",
   "nbconvert_exporter": "python",
   "pygments_lexer": "ipython3",
   "version": "3.9.12"
  },
  "toc": {
   "base_numbering": 1,
   "nav_menu": {
    "height": "221px",
    "width": "451px"
   },
   "number_sections": true,
   "sideBar": true,
   "skip_h1_title": true,
   "title_cell": "Table of Contents",
   "title_sidebar": "Contents",
   "toc_cell": false,
   "toc_position": {},
   "toc_section_display": true,
   "toc_window_display": false
  }
 },
 "nbformat": 4,
 "nbformat_minor": 2
}
